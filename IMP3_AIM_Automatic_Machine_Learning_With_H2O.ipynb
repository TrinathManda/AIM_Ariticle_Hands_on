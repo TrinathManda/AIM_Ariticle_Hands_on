{
  "nbformat": 4,
  "nbformat_minor": 0,
  "metadata": {
    "colab": {
      "name": "AIM_Automatic Machine Learning With H2O.ipynb",
      "provenance": [],
      "collapsed_sections": []
    },
    "kernelspec": {
      "name": "python3",
      "display_name": "Python 3"
    }
  },
  "cells": [
    {
      "cell_type": "code",
      "metadata": {
        "id": "gp0Dng5IuP7c",
        "colab_type": "code",
        "colab": {
          "base_uri": "https://localhost:8080/",
          "height": 406
        },
        "outputId": "b4e6f2e4-2057-4bee-9aa9-64530e9e7c95"
      },
      "source": [
        "#https://analyticsindiamag.com/hands-on-tutorial-on-automatic-machine-learning-with-h2o-ai-and-automl/\n",
        "#!pip install -f http://h2o-release.s3.amazonaws.com/h2o/latest_stable_Py.html h2o"
      ],
      "execution_count": 59,
      "outputs": [
        {
          "output_type": "stream",
          "text": [
            "Looking in links: http://h2o-release.s3.amazonaws.com/h2o/latest_stable_Py.html\n",
            "\u001b[33mWARNING: The repository located at h2o-release.s3.amazonaws.com is not a trusted or secure host and is being ignored. If this repository is available via HTTPS we recommend you use HTTPS instead, otherwise you may silence this warning and allow it anyway with '--trusted-host h2o-release.s3.amazonaws.com'.\u001b[0m\n",
            "Collecting h2o\n",
            "\u001b[?25l  Downloading https://files.pythonhosted.org/packages/b0/e7/b7057e4a6832f3bec0cb36fda4913bf84a6dc610c92a2d3543442f4154a1/h2o-3.30.1.1.tar.gz (129.3MB)\n",
            "\u001b[K     |████████████████████████████████| 129.3MB 84kB/s \n",
            "\u001b[?25hRequirement already satisfied: requests in /usr/local/lib/python3.6/dist-packages (from h2o) (2.23.0)\n",
            "Requirement already satisfied: tabulate in /usr/local/lib/python3.6/dist-packages (from h2o) (0.8.7)\n",
            "Requirement already satisfied: future in /usr/local/lib/python3.6/dist-packages (from h2o) (0.16.0)\n",
            "\u001b[33mWARNING: The repository located at h2o-release.s3.amazonaws.com is not a trusted or secure host and is being ignored. If this repository is available via HTTPS we recommend you use HTTPS instead, otherwise you may silence this warning and allow it anyway with '--trusted-host h2o-release.s3.amazonaws.com'.\u001b[0m\n",
            "Collecting colorama>=0.3.8\n",
            "  Downloading https://files.pythonhosted.org/packages/c9/dc/45cdef1b4d119eb96316b3117e6d5708a08029992b2fee2c143c7a0a5cc5/colorama-0.4.3-py2.py3-none-any.whl\n",
            "Requirement already satisfied: certifi>=2017.4.17 in /usr/local/lib/python3.6/dist-packages (from requests->h2o) (2020.6.20)\n",
            "Requirement already satisfied: urllib3!=1.25.0,!=1.25.1,<1.26,>=1.21.1 in /usr/local/lib/python3.6/dist-packages (from requests->h2o) (1.24.3)\n",
            "Requirement already satisfied: chardet<4,>=3.0.2 in /usr/local/lib/python3.6/dist-packages (from requests->h2o) (3.0.4)\n",
            "Requirement already satisfied: idna<3,>=2.5 in /usr/local/lib/python3.6/dist-packages (from requests->h2o) (2.10)\n",
            "Building wheels for collected packages: h2o\n",
            "  Building wheel for h2o (setup.py) ... \u001b[?25l\u001b[?25hdone\n",
            "  Created wheel for h2o: filename=h2o-3.30.1.1-py2.py3-none-any.whl size=129358602 sha256=f69c541ef189feef09b61eed24686b1e42859fc4de3abc14f4b577b31793a866\n",
            "  Stored in directory: /root/.cache/pip/wheels/33/ac/52/165c35d747abdb629c3c9fb7e087f360c662d8cb58824caed8\n",
            "Successfully built h2o\n",
            "Installing collected packages: colorama, h2o\n",
            "Successfully installed colorama-0.4.3 h2o-3.30.1.1\n"
          ],
          "name": "stdout"
        }
      ]
    },
    {
      "cell_type": "code",
      "metadata": {
        "id": "mk1CmDPuuP__",
        "colab_type": "code",
        "colab": {
          "base_uri": "https://localhost:8080/",
          "height": 457
        },
        "outputId": "6b5a3fa8-dfa5-4495-b177-03914af56789"
      },
      "source": [
        "import h2o\n",
        "h2o.init()"
      ],
      "execution_count": 60,
      "outputs": [
        {
          "output_type": "stream",
          "text": [
            "Checking whether there is an H2O instance running at http://localhost:54321 ..... not found.\n",
            "Attempting to start a local H2O server...\n",
            "  Java Version: openjdk version \"11.0.8\" 2020-07-14; OpenJDK Runtime Environment (build 11.0.8+10-post-Ubuntu-0ubuntu118.04.1); OpenJDK 64-Bit Server VM (build 11.0.8+10-post-Ubuntu-0ubuntu118.04.1, mixed mode, sharing)\n",
            "  Starting server from /usr/local/lib/python3.6/dist-packages/h2o/backend/bin/h2o.jar\n",
            "  Ice root: /tmp/tmpfqi92sfd\n",
            "  JVM stdout: /tmp/tmpfqi92sfd/h2o_unknownUser_started_from_python.out\n",
            "  JVM stderr: /tmp/tmpfqi92sfd/h2o_unknownUser_started_from_python.err\n",
            "  Server is running at http://127.0.0.1:54321\n",
            "Connecting to H2O server at http://127.0.0.1:54321 ... successful.\n"
          ],
          "name": "stdout"
        },
        {
          "output_type": "display_data",
          "data": {
            "text/html": [
              "<div style=\"overflow:auto\"><table style=\"width:50%\"><tr><td>H2O_cluster_uptime:</td>\n",
              "<td>02 secs</td></tr>\n",
              "<tr><td>H2O_cluster_timezone:</td>\n",
              "<td>Etc/UTC</td></tr>\n",
              "<tr><td>H2O_data_parsing_timezone:</td>\n",
              "<td>UTC</td></tr>\n",
              "<tr><td>H2O_cluster_version:</td>\n",
              "<td>3.30.1.1</td></tr>\n",
              "<tr><td>H2O_cluster_version_age:</td>\n",
              "<td>20 days </td></tr>\n",
              "<tr><td>H2O_cluster_name:</td>\n",
              "<td>H2O_from_python_unknownUser_xmriap</td></tr>\n",
              "<tr><td>H2O_cluster_total_nodes:</td>\n",
              "<td>1</td></tr>\n",
              "<tr><td>H2O_cluster_free_memory:</td>\n",
              "<td>3.180 Gb</td></tr>\n",
              "<tr><td>H2O_cluster_total_cores:</td>\n",
              "<td>2</td></tr>\n",
              "<tr><td>H2O_cluster_allowed_cores:</td>\n",
              "<td>2</td></tr>\n",
              "<tr><td>H2O_cluster_status:</td>\n",
              "<td>accepting new members, healthy</td></tr>\n",
              "<tr><td>H2O_connection_url:</td>\n",
              "<td>http://127.0.0.1:54321</td></tr>\n",
              "<tr><td>H2O_connection_proxy:</td>\n",
              "<td>{\"http\": null, \"https\": null}</td></tr>\n",
              "<tr><td>H2O_internal_security:</td>\n",
              "<td>False</td></tr>\n",
              "<tr><td>H2O_API_Extensions:</td>\n",
              "<td>Amazon S3, XGBoost, Algos, AutoML, Core V3, TargetEncoder, Core V4</td></tr>\n",
              "<tr><td>Python_version:</td>\n",
              "<td>3.6.9 final</td></tr></table></div>"
            ],
            "text/plain": [
              "--------------------------  ------------------------------------------------------------------\n",
              "H2O_cluster_uptime:         02 secs\n",
              "H2O_cluster_timezone:       Etc/UTC\n",
              "H2O_data_parsing_timezone:  UTC\n",
              "H2O_cluster_version:        3.30.1.1\n",
              "H2O_cluster_version_age:    20 days\n",
              "H2O_cluster_name:           H2O_from_python_unknownUser_xmriap\n",
              "H2O_cluster_total_nodes:    1\n",
              "H2O_cluster_free_memory:    3.180 Gb\n",
              "H2O_cluster_total_cores:    2\n",
              "H2O_cluster_allowed_cores:  2\n",
              "H2O_cluster_status:         accepting new members, healthy\n",
              "H2O_connection_url:         http://127.0.0.1:54321\n",
              "H2O_connection_proxy:       {\"http\": null, \"https\": null}\n",
              "H2O_internal_security:      False\n",
              "H2O_API_Extensions:         Amazon S3, XGBoost, Algos, AutoML, Core V3, TargetEncoder, Core V4\n",
              "Python_version:             3.6.9 final\n",
              "--------------------------  ------------------------------------------------------------------"
            ]
          },
          "metadata": {
            "tags": []
          }
        }
      ]
    },
    {
      "cell_type": "code",
      "metadata": {
        "id": "-ytASUnouQIC",
        "colab_type": "code",
        "colab": {
          "base_uri": "https://localhost:8080/",
          "height": 232
        },
        "outputId": "44340faf-7960-46a1-bc0a-116118e9888c"
      },
      "source": [
        "diabetes_data = h2o.import_file(\"diabetes.csv\")\n",
        "diabetes_data.head()"
      ],
      "execution_count": 85,
      "outputs": [
        {
          "output_type": "stream",
          "text": [
            "Parse progress: |█████████████████████████████████████████████████████████| 100%\n"
          ],
          "name": "stdout"
        },
        {
          "output_type": "display_data",
          "data": {
            "text/html": [
              "<table>\n",
              "<thead>\n",
              "<tr><th style=\"text-align: right;\">  id</th><th style=\"text-align: right;\">  chol</th><th style=\"text-align: right;\">  stab.glu</th><th style=\"text-align: right;\">  hdl</th><th style=\"text-align: right;\">  ratio</th><th style=\"text-align: right;\">  glyhb</th><th>location  </th><th style=\"text-align: right;\">  age</th><th>gender  </th><th style=\"text-align: right;\">  height</th><th style=\"text-align: right;\">  weight</th><th>frame  </th><th style=\"text-align: right;\">  bp.1s</th><th style=\"text-align: right;\">  bp.1d</th><th style=\"text-align: right;\">  bp.2s</th><th style=\"text-align: right;\">  bp.2d</th><th style=\"text-align: right;\">  waist</th><th style=\"text-align: right;\">  hip</th><th style=\"text-align: right;\">  time.ppn</th><th>diagnosis   </th><th style=\"text-align: right;\">  result</th></tr>\n",
              "</thead>\n",
              "<tbody>\n",
              "<tr><td style=\"text-align: right;\">1000</td><td style=\"text-align: right;\">   203</td><td style=\"text-align: right;\">        82</td><td style=\"text-align: right;\">   56</td><td style=\"text-align: right;\">    3.6</td><td style=\"text-align: right;\">    4.3</td><td>Buckingham</td><td style=\"text-align: right;\">   46</td><td>female  </td><td style=\"text-align: right;\">      62</td><td style=\"text-align: right;\">     121</td><td>medium </td><td style=\"text-align: right;\">    118</td><td style=\"text-align: right;\">     59</td><td style=\"text-align: right;\">    nan</td><td style=\"text-align: right;\">    nan</td><td style=\"text-align: right;\">     29</td><td style=\"text-align: right;\">   38</td><td style=\"text-align: right;\">       720</td><td>Non-Diabetic</td><td style=\"text-align: right;\">       0</td></tr>\n",
              "<tr><td style=\"text-align: right;\">1001</td><td style=\"text-align: right;\">   165</td><td style=\"text-align: right;\">        97</td><td style=\"text-align: right;\">   24</td><td style=\"text-align: right;\">    6.9</td><td style=\"text-align: right;\">    4.4</td><td>Buckingham</td><td style=\"text-align: right;\">   29</td><td>female  </td><td style=\"text-align: right;\">      64</td><td style=\"text-align: right;\">     218</td><td>large  </td><td style=\"text-align: right;\">    112</td><td style=\"text-align: right;\">     68</td><td style=\"text-align: right;\">    nan</td><td style=\"text-align: right;\">    nan</td><td style=\"text-align: right;\">     46</td><td style=\"text-align: right;\">   48</td><td style=\"text-align: right;\">       360</td><td>Non-Diabetic</td><td style=\"text-align: right;\">       0</td></tr>\n",
              "<tr><td style=\"text-align: right;\">1002</td><td style=\"text-align: right;\">   228</td><td style=\"text-align: right;\">        92</td><td style=\"text-align: right;\">   37</td><td style=\"text-align: right;\">    6.2</td><td style=\"text-align: right;\">    4.6</td><td>Buckingham</td><td style=\"text-align: right;\">   58</td><td>female  </td><td style=\"text-align: right;\">      61</td><td style=\"text-align: right;\">     256</td><td>large  </td><td style=\"text-align: right;\">    190</td><td style=\"text-align: right;\">     92</td><td style=\"text-align: right;\">    185</td><td style=\"text-align: right;\">     92</td><td style=\"text-align: right;\">     49</td><td style=\"text-align: right;\">   57</td><td style=\"text-align: right;\">       180</td><td>Non-Diabetic</td><td style=\"text-align: right;\">       0</td></tr>\n",
              "<tr><td style=\"text-align: right;\">1003</td><td style=\"text-align: right;\">    78</td><td style=\"text-align: right;\">        93</td><td style=\"text-align: right;\">   12</td><td style=\"text-align: right;\">    6.5</td><td style=\"text-align: right;\">    4.6</td><td>Buckingham</td><td style=\"text-align: right;\">   67</td><td>male    </td><td style=\"text-align: right;\">      67</td><td style=\"text-align: right;\">     119</td><td>large  </td><td style=\"text-align: right;\">    110</td><td style=\"text-align: right;\">     50</td><td style=\"text-align: right;\">    nan</td><td style=\"text-align: right;\">    nan</td><td style=\"text-align: right;\">     33</td><td style=\"text-align: right;\">   38</td><td style=\"text-align: right;\">       480</td><td>Non-Diabetic</td><td style=\"text-align: right;\">       0</td></tr>\n",
              "<tr><td style=\"text-align: right;\">1005</td><td style=\"text-align: right;\">   249</td><td style=\"text-align: right;\">        90</td><td style=\"text-align: right;\">   28</td><td style=\"text-align: right;\">    8.9</td><td style=\"text-align: right;\">    7.7</td><td>Buckingham</td><td style=\"text-align: right;\">   64</td><td>male    </td><td style=\"text-align: right;\">      68</td><td style=\"text-align: right;\">     183</td><td>medium </td><td style=\"text-align: right;\">    138</td><td style=\"text-align: right;\">     80</td><td style=\"text-align: right;\">    nan</td><td style=\"text-align: right;\">    nan</td><td style=\"text-align: right;\">     44</td><td style=\"text-align: right;\">   41</td><td style=\"text-align: right;\">       300</td><td>Diabetic    </td><td style=\"text-align: right;\">       1</td></tr>\n",
              "<tr><td style=\"text-align: right;\">1008</td><td style=\"text-align: right;\">   248</td><td style=\"text-align: right;\">        94</td><td style=\"text-align: right;\">   69</td><td style=\"text-align: right;\">    3.6</td><td style=\"text-align: right;\">    4.8</td><td>Buckingham</td><td style=\"text-align: right;\">   34</td><td>male    </td><td style=\"text-align: right;\">      71</td><td style=\"text-align: right;\">     190</td><td>large  </td><td style=\"text-align: right;\">    132</td><td style=\"text-align: right;\">     86</td><td style=\"text-align: right;\">    nan</td><td style=\"text-align: right;\">    nan</td><td style=\"text-align: right;\">     36</td><td style=\"text-align: right;\">   42</td><td style=\"text-align: right;\">       195</td><td>Non-Diabetic</td><td style=\"text-align: right;\">       0</td></tr>\n",
              "<tr><td style=\"text-align: right;\">1011</td><td style=\"text-align: right;\">   195</td><td style=\"text-align: right;\">        92</td><td style=\"text-align: right;\">   41</td><td style=\"text-align: right;\">    4.8</td><td style=\"text-align: right;\">    4.8</td><td>Buckingham</td><td style=\"text-align: right;\">   30</td><td>male    </td><td style=\"text-align: right;\">      69</td><td style=\"text-align: right;\">     191</td><td>medium </td><td style=\"text-align: right;\">    161</td><td style=\"text-align: right;\">    112</td><td style=\"text-align: right;\">    161</td><td style=\"text-align: right;\">    112</td><td style=\"text-align: right;\">     46</td><td style=\"text-align: right;\">   49</td><td style=\"text-align: right;\">       720</td><td>Non-Diabetic</td><td style=\"text-align: right;\">       0</td></tr>\n",
              "<tr><td style=\"text-align: right;\">1015</td><td style=\"text-align: right;\">   227</td><td style=\"text-align: right;\">        75</td><td style=\"text-align: right;\">   44</td><td style=\"text-align: right;\">    5.2</td><td style=\"text-align: right;\">    3.9</td><td>Buckingham</td><td style=\"text-align: right;\">   37</td><td>male    </td><td style=\"text-align: right;\">      59</td><td style=\"text-align: right;\">     170</td><td>medium </td><td style=\"text-align: right;\">    nan</td><td style=\"text-align: right;\">    nan</td><td style=\"text-align: right;\">    nan</td><td style=\"text-align: right;\">    nan</td><td style=\"text-align: right;\">     34</td><td style=\"text-align: right;\">   39</td><td style=\"text-align: right;\">      1020</td><td>Non-Diabetic</td><td style=\"text-align: right;\">       0</td></tr>\n",
              "<tr><td style=\"text-align: right;\">1016</td><td style=\"text-align: right;\">   177</td><td style=\"text-align: right;\">        87</td><td style=\"text-align: right;\">   49</td><td style=\"text-align: right;\">    3.6</td><td style=\"text-align: right;\">    4.8</td><td>Buckingham</td><td style=\"text-align: right;\">   45</td><td>male    </td><td style=\"text-align: right;\">      69</td><td style=\"text-align: right;\">     166</td><td>large  </td><td style=\"text-align: right;\">    160</td><td style=\"text-align: right;\">     80</td><td style=\"text-align: right;\">    128</td><td style=\"text-align: right;\">     86</td><td style=\"text-align: right;\">     34</td><td style=\"text-align: right;\">   40</td><td style=\"text-align: right;\">       300</td><td>Non-Diabetic</td><td style=\"text-align: right;\">       0</td></tr>\n",
              "<tr><td style=\"text-align: right;\">1022</td><td style=\"text-align: right;\">   263</td><td style=\"text-align: right;\">        89</td><td style=\"text-align: right;\">   40</td><td style=\"text-align: right;\">    6.6</td><td style=\"text-align: right;\">    5.8</td><td>Buckingham</td><td style=\"text-align: right;\">   55</td><td>female  </td><td style=\"text-align: right;\">      63</td><td style=\"text-align: right;\">     202</td><td>small  </td><td style=\"text-align: right;\">    108</td><td style=\"text-align: right;\">     72</td><td style=\"text-align: right;\">    nan</td><td style=\"text-align: right;\">    nan</td><td style=\"text-align: right;\">     45</td><td style=\"text-align: right;\">   50</td><td style=\"text-align: right;\">       240</td><td>Pre-Diabetes</td><td style=\"text-align: right;\">       1</td></tr>\n",
              "</tbody>\n",
              "</table>"
            ]
          },
          "metadata": {
            "tags": []
          }
        },
        {
          "output_type": "execute_result",
          "data": {
            "text/plain": [
              ""
            ]
          },
          "metadata": {
            "tags": []
          },
          "execution_count": 85
        }
      ]
    },
    {
      "cell_type": "code",
      "metadata": {
        "id": "RM6cjPNxuQPn",
        "colab_type": "code",
        "colab": {
          "base_uri": "https://localhost:8080/",
          "height": 580
        },
        "outputId": "90bab5d0-da0b-4e12-fa4d-536bbe2eebbd"
      },
      "source": [
        "diabetes_data.describe()"
      ],
      "execution_count": 86,
      "outputs": [
        {
          "output_type": "stream",
          "text": [
            "Rows:403\n",
            "Cols:21\n",
            "\n",
            "\n"
          ],
          "name": "stdout"
        },
        {
          "output_type": "display_data",
          "data": {
            "text/html": [
              "<table>\n",
              "<thead>\n",
              "<tr><th>       </th><th>id                </th><th>chol              </th><th>stab.glu          </th><th>hdl               </th><th>ratio            </th><th>glyhb            </th><th>location  </th><th>age               </th><th>gender  </th><th>height            </th><th>weight            </th><th>frame  </th><th>bp.1s            </th><th>bp.1d             </th><th>bp.2s             </th><th>bp.2d             </th><th>waist            </th><th>hip               </th><th>time.ppn         </th><th>diagnosis   </th><th>result            </th></tr>\n",
              "</thead>\n",
              "<tbody>\n",
              "<tr><td>type   </td><td>int               </td><td>int               </td><td>int               </td><td>int               </td><td>real             </td><td>real             </td><td>enum      </td><td>int               </td><td>enum    </td><td>int               </td><td>int               </td><td>enum   </td><td>int              </td><td>int               </td><td>int               </td><td>int               </td><td>int              </td><td>int               </td><td>int              </td><td>enum        </td><td>int               </td></tr>\n",
              "<tr><td>mins   </td><td>1000.0            </td><td>78.0              </td><td>48.0              </td><td>12.0              </td><td>1.5              </td><td>2.7              </td><td>          </td><td>19.0              </td><td>        </td><td>52.0              </td><td>99.0              </td><td>       </td><td>90.0             </td><td>48.0              </td><td>110.0             </td><td>60.0              </td><td>26.0             </td><td>30.0              </td><td>5.0              </td><td>            </td><td>0.0               </td></tr>\n",
              "<tr><td>mean   </td><td>15978.310173697262</td><td>207.84577114427844</td><td>106.67245657568233</td><td>50.44527363184079 </td><td>4.521641791495025</td><td>5.591282051282058</td><td>          </td><td>46.851116625310176</td><td>        </td><td>66.02010050251259 </td><td>177.59203980099497</td><td>       </td><td>136.9045226130653</td><td>83.32160804020097 </td><td>152.38297872340422</td><td>92.52482269503545 </td><td>37.90024937655858</td><td>43.039900249376586</td><td>341.2500000000003</td><td>            </td><td>0.2717948717948718</td></tr>\n",
              "<tr><td>maxs   </td><td>41756.0           </td><td>443.0             </td><td>385.0             </td><td>120.0             </td><td>19.29999924      </td><td>16.1             </td><td>          </td><td>92.0              </td><td>        </td><td>76.0              </td><td>325.0             </td><td>       </td><td>250.0            </td><td>124.0             </td><td>238.0             </td><td>124.0             </td><td>56.0             </td><td>64.0              </td><td>1560.0           </td><td>            </td><td>1.0               </td></tr>\n",
              "<tr><td>sigma  </td><td>11881.122123813308</td><td>44.44555743365575 </td><td>53.076654513994974</td><td>17.262625653088076</td><td>1.727886067949843</td><td>2.24366022507634 </td><td>          </td><td>16.31233295581871 </td><td>        </td><td>3.9185148564284047</td><td>40.34066574854483 </td><td>       </td><td>22.74103315740597</td><td>13.589226931344276</td><td>21.71295188672554 </td><td>11.555197692741498</td><td>5.729312780574641</td><td>5.656713179048847 </td><td>309.5409528701484</td><td>            </td><td>0.4454561902750412</td></tr>\n",
              "<tr><td>zeros  </td><td>0                 </td><td>0                 </td><td>0                 </td><td>0                 </td><td>0                </td><td>0                </td><td>          </td><td>0                 </td><td>        </td><td>0                 </td><td>0                 </td><td>       </td><td>0                </td><td>0                 </td><td>0                 </td><td>0                 </td><td>0                </td><td>0                 </td><td>0                </td><td>            </td><td>284               </td></tr>\n",
              "<tr><td>missing</td><td>0                 </td><td>1                 </td><td>0                 </td><td>1                 </td><td>1                </td><td>13               </td><td>0         </td><td>0                 </td><td>0       </td><td>5                 </td><td>1                 </td><td>0      </td><td>5                </td><td>5                 </td><td>262               </td><td>262               </td><td>2                </td><td>2                 </td><td>3                </td><td>13          </td><td>13                </td></tr>\n",
              "<tr><td>0      </td><td>1000.0            </td><td>203.0             </td><td>82.0              </td><td>56.0              </td><td>3.599999905      </td><td>4.3              </td><td>Buckingham</td><td>46.0              </td><td>female  </td><td>62.0              </td><td>121.0             </td><td>medium </td><td>118.0            </td><td>59.0              </td><td>nan               </td><td>nan               </td><td>29.0             </td><td>38.0              </td><td>720.0            </td><td>Non-Diabetic</td><td>0.0               </td></tr>\n",
              "<tr><td>1      </td><td>1001.0            </td><td>165.0             </td><td>97.0              </td><td>24.0              </td><td>6.900000095      </td><td>4.4              </td><td>Buckingham</td><td>29.0              </td><td>female  </td><td>64.0              </td><td>218.0             </td><td>large  </td><td>112.0            </td><td>68.0              </td><td>nan               </td><td>nan               </td><td>46.0             </td><td>48.0              </td><td>360.0            </td><td>Non-Diabetic</td><td>0.0               </td></tr>\n",
              "<tr><td>2      </td><td>1002.0            </td><td>228.0             </td><td>92.0              </td><td>37.0              </td><td>6.199999809      </td><td>4.6              </td><td>Buckingham</td><td>58.0              </td><td>female  </td><td>61.0              </td><td>256.0             </td><td>large  </td><td>190.0            </td><td>92.0              </td><td>185.0             </td><td>92.0              </td><td>49.0             </td><td>57.0              </td><td>180.0            </td><td>Non-Diabetic</td><td>0.0               </td></tr>\n",
              "<tr><td>3      </td><td>1003.0            </td><td>78.0              </td><td>93.0              </td><td>12.0              </td><td>6.5              </td><td>4.6              </td><td>Buckingham</td><td>67.0              </td><td>male    </td><td>67.0              </td><td>119.0             </td><td>large  </td><td>110.0            </td><td>50.0              </td><td>nan               </td><td>nan               </td><td>33.0             </td><td>38.0              </td><td>480.0            </td><td>Non-Diabetic</td><td>0.0               </td></tr>\n",
              "<tr><td>4      </td><td>1005.0            </td><td>249.0             </td><td>90.0              </td><td>28.0              </td><td>8.899999619      </td><td>7.7              </td><td>Buckingham</td><td>64.0              </td><td>male    </td><td>68.0              </td><td>183.0             </td><td>medium </td><td>138.0            </td><td>80.0              </td><td>nan               </td><td>nan               </td><td>44.0             </td><td>41.0              </td><td>300.0            </td><td>Diabetic    </td><td>1.0               </td></tr>\n",
              "<tr><td>5      </td><td>1008.0            </td><td>248.0             </td><td>94.0              </td><td>69.0              </td><td>3.599999905      </td><td>4.8              </td><td>Buckingham</td><td>34.0              </td><td>male    </td><td>71.0              </td><td>190.0             </td><td>large  </td><td>132.0            </td><td>86.0              </td><td>nan               </td><td>nan               </td><td>36.0             </td><td>42.0              </td><td>195.0            </td><td>Non-Diabetic</td><td>0.0               </td></tr>\n",
              "<tr><td>6      </td><td>1011.0            </td><td>195.0             </td><td>92.0              </td><td>41.0              </td><td>4.800000191      </td><td>4.8              </td><td>Buckingham</td><td>30.0              </td><td>male    </td><td>69.0              </td><td>191.0             </td><td>medium </td><td>161.0            </td><td>112.0             </td><td>161.0             </td><td>112.0             </td><td>46.0             </td><td>49.0              </td><td>720.0            </td><td>Non-Diabetic</td><td>0.0               </td></tr>\n",
              "<tr><td>7      </td><td>1015.0            </td><td>227.0             </td><td>75.0              </td><td>44.0              </td><td>5.199999809      </td><td>3.9              </td><td>Buckingham</td><td>37.0              </td><td>male    </td><td>59.0              </td><td>170.0             </td><td>medium </td><td>nan              </td><td>nan               </td><td>nan               </td><td>nan               </td><td>34.0             </td><td>39.0              </td><td>1020.0           </td><td>Non-Diabetic</td><td>0.0               </td></tr>\n",
              "<tr><td>8      </td><td>1016.0            </td><td>177.0             </td><td>87.0              </td><td>49.0              </td><td>3.599999905      </td><td>4.8              </td><td>Buckingham</td><td>45.0              </td><td>male    </td><td>69.0              </td><td>166.0             </td><td>large  </td><td>160.0            </td><td>80.0              </td><td>128.0             </td><td>86.0              </td><td>34.0             </td><td>40.0              </td><td>300.0            </td><td>Non-Diabetic</td><td>0.0               </td></tr>\n",
              "<tr><td>9      </td><td>1022.0            </td><td>263.0             </td><td>89.0              </td><td>40.0              </td><td>6.599999905      </td><td>5.8              </td><td>Buckingham</td><td>55.0              </td><td>female  </td><td>63.0              </td><td>202.0             </td><td>small  </td><td>108.0            </td><td>72.0              </td><td>nan               </td><td>nan               </td><td>45.0             </td><td>50.0              </td><td>240.0            </td><td>Pre-Diabetes</td><td>1.0               </td></tr>\n",
              "</tbody>\n",
              "</table>"
            ]
          },
          "metadata": {
            "tags": []
          }
        }
      ]
    },
    {
      "cell_type": "code",
      "metadata": {
        "id": "lFQIMfSluQSp",
        "colab_type": "code",
        "colab": {}
      },
      "source": [
        "#diabetes_data['result'] = diabetes_data['result'].asfactor()"
      ],
      "execution_count": 71,
      "outputs": []
    },
    {
      "cell_type": "code",
      "metadata": {
        "id": "byUhrMQMuQZ1",
        "colab_type": "code",
        "colab": {}
      },
      "source": [
        "diabetes_split = diabetes_data.split_frame(ratios = [0.8])\n",
        "db_train = diabetes_split[0] \n",
        "db_test = diabetes_split[1] "
      ],
      "execution_count": 87,
      "outputs": []
    },
    {
      "cell_type": "code",
      "metadata": {
        "id": "rQv5KKytuQe7",
        "colab_type": "code",
        "colab": {}
      },
      "source": [
        "#print(diabetes_data.columns)\n",
        "x=['id', 'chol', 'stab.glu', 'hdl', 'ratio', 'glyhb', 'location', 'age', 'gender', 'height', 'weight', 'frame', 'bp.1s', 'bp.1d', 'bp.2s', 'bp.2d', 'waist', 'hip', 'time.ppn', 'diagnosis']\n",
        "y='result'"
      ],
      "execution_count": 89,
      "outputs": []
    },
    {
      "cell_type": "code",
      "metadata": {
        "id": "Jt94RfveuQjv",
        "colab_type": "code",
        "colab": {}
      },
      "source": [
        "from h2o.automl import H2OAutoML\n",
        "automl = H2OAutoML(max_models = 30, max_runtime_secs=300, seed = 1)"
      ],
      "execution_count": 83,
      "outputs": []
    },
    {
      "cell_type": "code",
      "metadata": {
        "id": "daDZAko3uQiF",
        "colab_type": "code",
        "colab": {
          "base_uri": "https://localhost:8080/",
          "height": 742
        },
        "outputId": "973ae54b-3ada-4837-bbd8-e14dae5cc161"
      },
      "source": [
        "automl.train(x = x, y = y, training_frame = db_train)\n",
        "leader = automl.leaderboard\n",
        "leader.head(rows=leader.nrows)\n",
        "\n"
      ],
      "execution_count": 90,
      "outputs": [
        {
          "output_type": "stream",
          "text": [
            "AutoML progress: |\n",
            "15:15:36.959: XGBoost_1_AutoML_20200830_151535 [XGBoost def_1] failed: water.exceptions.H2OModelBuilderIllegalArgumentException: Illegal argument(s) for XGBoost model: XGBoost_1_AutoML_20200830_151535_cv_1.  Details: ERRR on field: _response_column: Response contains missing values (NAs) - not supported by XGBoost.\n",
            "\n",
            "\n",
            "█\n",
            "15:15:37.969: XGBoost_2_AutoML_20200830_151535 [XGBoost def_2] failed: water.exceptions.H2OModelBuilderIllegalArgumentException: Illegal argument(s) for XGBoost model: XGBoost_2_AutoML_20200830_151535_cv_1.  Details: ERRR on field: _response_column: Response contains missing values (NAs) - not supported by XGBoost.\n",
            "\n",
            "\n",
            "\n",
            "15:15:38.977: XGBoost_3_AutoML_20200830_151535 [XGBoost def_3] failed: water.exceptions.H2OModelBuilderIllegalArgumentException: Illegal argument(s) for XGBoost model: XGBoost_3_AutoML_20200830_151535_cv_1.  Details: ERRR on field: _response_column: Response contains missing values (NAs) - not supported by XGBoost.\n",
            "\n",
            "\n",
            "███████████████████████████████████████████████████████| 100%\n"
          ],
          "name": "stdout"
        },
        {
          "output_type": "display_data",
          "data": {
            "text/html": [
              "<table>\n",
              "<thead>\n",
              "<tr><th>model_id                                           </th><th style=\"text-align: right;\">  mean_residual_deviance</th><th style=\"text-align: right;\">      rmse</th><th style=\"text-align: right;\">        mse</th><th style=\"text-align: right;\">       mae</th><th style=\"text-align: right;\">     rmsle</th></tr>\n",
              "</thead>\n",
              "<tbody>\n",
              "<tr><td>StackedEnsemble_BestOfFamily_AutoML_20200830_151535</td><td style=\"text-align: right;\">             5.4719e-05 </td><td style=\"text-align: right;\">0.00739723</td><td style=\"text-align: right;\">5.4719e-05 </td><td style=\"text-align: right;\">0.00498399</td><td style=\"text-align: right;\">0.00575661</td></tr>\n",
              "<tr><td>GBM_2_AutoML_20200830_151535                       </td><td style=\"text-align: right;\">             5.94582e-05</td><td style=\"text-align: right;\">0.00771091</td><td style=\"text-align: right;\">5.94582e-05</td><td style=\"text-align: right;\">0.00473514</td><td style=\"text-align: right;\">0.00640793</td></tr>\n",
              "<tr><td>GBM_1_AutoML_20200830_151535                       </td><td style=\"text-align: right;\">             0.000178339</td><td style=\"text-align: right;\">0.0133544 </td><td style=\"text-align: right;\">0.000178339</td><td style=\"text-align: right;\">0.00321698</td><td style=\"text-align: right;\">0.0114207 </td></tr>\n",
              "<tr><td>GBM_grid__1_AutoML_20200830_151535_model_1         </td><td style=\"text-align: right;\">             0.000268221</td><td style=\"text-align: right;\">0.0163775 </td><td style=\"text-align: right;\">0.000268221</td><td style=\"text-align: right;\">0.00412084</td><td style=\"text-align: right;\">0.0146984 </td></tr>\n",
              "<tr><td>GLM_1_AutoML_20200830_151535                       </td><td style=\"text-align: right;\">             0.000278928</td><td style=\"text-align: right;\">0.0167011 </td><td style=\"text-align: right;\">0.000278928</td><td style=\"text-align: right;\">0.0124234 </td><td style=\"text-align: right;\">0.0113532 </td></tr>\n",
              "<tr><td>GBM_3_AutoML_20200830_151535                       </td><td style=\"text-align: right;\">             0.000336706</td><td style=\"text-align: right;\">0.0183495 </td><td style=\"text-align: right;\">0.000336706</td><td style=\"text-align: right;\">0.0108673 </td><td style=\"text-align: right;\">0.0155565 </td></tr>\n",
              "<tr><td>DRF_1_AutoML_20200830_151535                       </td><td style=\"text-align: right;\">             0.000649816</td><td style=\"text-align: right;\">0.0254915 </td><td style=\"text-align: right;\">0.000649816</td><td style=\"text-align: right;\">0.0130946 </td><td style=\"text-align: right;\">0.0207285 </td></tr>\n",
              "<tr><td>GBM_4_AutoML_20200830_151535                       </td><td style=\"text-align: right;\">             0.000653474</td><td style=\"text-align: right;\">0.0255631 </td><td style=\"text-align: right;\">0.000653474</td><td style=\"text-align: right;\">0.00723128</td><td style=\"text-align: right;\">0.0227338 </td></tr>\n",
              "<tr><td>GBM_grid__1_AutoML_20200830_151535_model_2         </td><td style=\"text-align: right;\">             0.00103714 </td><td style=\"text-align: right;\">0.0322047 </td><td style=\"text-align: right;\">0.00103714 </td><td style=\"text-align: right;\">0.018573  </td><td style=\"text-align: right;\">0.0274761 </td></tr>\n",
              "<tr><td>GBM_grid__1_AutoML_20200830_151535_model_9         </td><td style=\"text-align: right;\">             0.00124992 </td><td style=\"text-align: right;\">0.0353542 </td><td style=\"text-align: right;\">0.00124992 </td><td style=\"text-align: right;\">0.0254696 </td><td style=\"text-align: right;\">0.0272087 </td></tr>\n",
              "<tr><td>GBM_grid__1_AutoML_20200830_151535_model_6         </td><td style=\"text-align: right;\">             0.0012837  </td><td style=\"text-align: right;\">0.0358288 </td><td style=\"text-align: right;\">0.0012837  </td><td style=\"text-align: right;\">0.0221618 </td><td style=\"text-align: right;\">0.0300614 </td></tr>\n",
              "<tr><td>XRT_1_AutoML_20200830_151535                       </td><td style=\"text-align: right;\">             0.00167248 </td><td style=\"text-align: right;\">0.040896  </td><td style=\"text-align: right;\">0.00167248 </td><td style=\"text-align: right;\">0.0206994 </td><td style=\"text-align: right;\">0.0329038 </td></tr>\n",
              "<tr><td>GBM_grid__1_AutoML_20200830_151535_model_10        </td><td style=\"text-align: right;\">             0.00201967 </td><td style=\"text-align: right;\">0.0449407 </td><td style=\"text-align: right;\">0.00201967 </td><td style=\"text-align: right;\">0.0281963 </td><td style=\"text-align: right;\">0.0346306 </td></tr>\n",
              "<tr><td>DeepLearning_grid__2_AutoML_20200830_151535_model_1</td><td style=\"text-align: right;\">             0.00390964 </td><td style=\"text-align: right;\">0.0625271 </td><td style=\"text-align: right;\">0.00390964 </td><td style=\"text-align: right;\">0.038375  </td><td style=\"text-align: right;\">0.0388332 </td></tr>\n",
              "<tr><td>GBM_grid__1_AutoML_20200830_151535_model_11        </td><td style=\"text-align: right;\">             0.0039158  </td><td style=\"text-align: right;\">0.0625763 </td><td style=\"text-align: right;\">0.0039158  </td><td style=\"text-align: right;\">0.0423876 </td><td style=\"text-align: right;\">0.0486226 </td></tr>\n",
              "<tr><td>StackedEnsemble_AllModels_AutoML_20200830_151535   </td><td style=\"text-align: right;\">             0.003991   </td><td style=\"text-align: right;\">0.0631744 </td><td style=\"text-align: right;\">0.003991   </td><td style=\"text-align: right;\">0.0539782 </td><td style=\"text-align: right;\">0.042602  </td></tr>\n",
              "<tr><td>DeepLearning_grid__1_AutoML_20200830_151535_model_1</td><td style=\"text-align: right;\">             0.00421015 </td><td style=\"text-align: right;\">0.0648857 </td><td style=\"text-align: right;\">0.00421015 </td><td style=\"text-align: right;\">0.0413267 </td><td style=\"text-align: right;\">0.0389137 </td></tr>\n",
              "<tr><td>GBM_grid__1_AutoML_20200830_151535_model_4         </td><td style=\"text-align: right;\">             0.00657215 </td><td style=\"text-align: right;\">0.0810688 </td><td style=\"text-align: right;\">0.00657215 </td><td style=\"text-align: right;\">0.0566905 </td><td style=\"text-align: right;\">0.0605823 </td></tr>\n",
              "<tr><td>GBM_grid__1_AutoML_20200830_151535_model_7         </td><td style=\"text-align: right;\">             0.00701426 </td><td style=\"text-align: right;\">0.0837512 </td><td style=\"text-align: right;\">0.00701426 </td><td style=\"text-align: right;\">0.0624147 </td><td style=\"text-align: right;\">0.0623038 </td></tr>\n",
              "<tr><td>DeepLearning_grid__1_AutoML_20200830_151535_model_2</td><td style=\"text-align: right;\">             0.0107879  </td><td style=\"text-align: right;\">0.103865  </td><td style=\"text-align: right;\">0.0107879  </td><td style=\"text-align: right;\">0.0788054 </td><td style=\"text-align: right;\">0.0783882 </td></tr>\n",
              "<tr><td>DeepLearning_1_AutoML_20200830_151535              </td><td style=\"text-align: right;\">             0.0659425  </td><td style=\"text-align: right;\">0.256793  </td><td style=\"text-align: right;\">0.0659425  </td><td style=\"text-align: right;\">0.187299  </td><td style=\"text-align: right;\">0.181138  </td></tr>\n",
              "<tr><td>GBM_grid__1_AutoML_20200830_151535_model_5         </td><td style=\"text-align: right;\">             0.07273    </td><td style=\"text-align: right;\">0.269685  </td><td style=\"text-align: right;\">0.07273    </td><td style=\"text-align: right;\">0.18925   </td><td style=\"text-align: right;\">0.191973  </td></tr>\n",
              "<tr><td>GBM_grid__1_AutoML_20200830_151535_model_8         </td><td style=\"text-align: right;\">             0.0729995  </td><td style=\"text-align: right;\">0.270184  </td><td style=\"text-align: right;\">0.0729995  </td><td style=\"text-align: right;\">0.198139  </td><td style=\"text-align: right;\">0.193249  </td></tr>\n",
              "<tr><td>GBM_5_AutoML_20200830_151535                       </td><td style=\"text-align: right;\">             0.0740997  </td><td style=\"text-align: right;\">0.272213  </td><td style=\"text-align: right;\">0.0740997  </td><td style=\"text-align: right;\">0.190582  </td><td style=\"text-align: right;\">0.193485  </td></tr>\n",
              "<tr><td>GBM_grid__1_AutoML_20200830_151535_model_3         </td><td style=\"text-align: right;\">             0.0815111  </td><td style=\"text-align: right;\">0.285502  </td><td style=\"text-align: right;\">0.0815111  </td><td style=\"text-align: right;\">0.219412  </td><td style=\"text-align: right;\">0.203088  </td></tr>\n",
              "<tr><td>DeepLearning_grid__3_AutoML_20200830_151535_model_1</td><td style=\"text-align: right;\">             0.152242   </td><td style=\"text-align: right;\">0.390182  </td><td style=\"text-align: right;\">0.152242   </td><td style=\"text-align: right;\">0.326434  </td><td style=\"text-align: right;\">0.472568  </td></tr>\n",
              "</tbody>\n",
              "</table>"
            ]
          },
          "metadata": {
            "tags": []
          }
        },
        {
          "output_type": "execute_result",
          "data": {
            "text/plain": [
              ""
            ]
          },
          "metadata": {
            "tags": []
          },
          "execution_count": 90
        }
      ]
    },
    {
      "cell_type": "code",
      "metadata": {
        "id": "QU5-48VuuQc1",
        "colab_type": "code",
        "colab": {
          "base_uri": "https://localhost:8080/",
          "height": 67
        },
        "outputId": "e9bdaa78-c559-4c3e-c9be-b1bbe76c60e9"
      },
      "source": [
        "predictions = automl.predict(db_test[:-1])\n",
        "\n",
        "(predictions['predict']==db_test['result']).as_data_frame(use_pandas=True).mean()"
      ],
      "execution_count": 91,
      "outputs": [
        {
          "output_type": "stream",
          "text": [
            "stackedensemble prediction progress: |████████████████████████████████████| 100%\n"
          ],
          "name": "stdout"
        },
        {
          "output_type": "execute_result",
          "data": {
            "text/plain": [
              "predict    0.0\n",
              "dtype: float64"
            ]
          },
          "metadata": {
            "tags": []
          },
          "execution_count": 91
        }
      ]
    },
    {
      "cell_type": "code",
      "metadata": {
        "id": "VvlhDNwAuQXr",
        "colab_type": "code",
        "colab": {
          "base_uri": "https://localhost:8080/",
          "height": 34
        },
        "outputId": "e6c01a71-21d5-4a3b-ceca-b4e937d8a4c3"
      },
      "source": [
        "h2o.save_model(automl.leader, path = \"/content/\")\n"
      ],
      "execution_count": 92,
      "outputs": [
        {
          "output_type": "execute_result",
          "data": {
            "application/vnd.google.colaboratory.intrinsic+json": {
              "type": "string"
            },
            "text/plain": [
              "'/content/StackedEnsemble_BestOfFamily_AutoML_20200830_151535'"
            ]
          },
          "metadata": {
            "tags": []
          },
          "execution_count": 92
        }
      ]
    },
    {
      "cell_type": "code",
      "metadata": {
        "id": "FEWmalQDuQVT",
        "colab_type": "code",
        "colab": {
          "base_uri": "https://localhost:8080/",
          "height": 100
        },
        "outputId": "a0845e0c-7c47-4653-abe3-fd1741e112d3"
      },
      "source": [
        "h2o.shutdown()"
      ],
      "execution_count": 93,
      "outputs": [
        {
          "output_type": "stream",
          "text": [
            "/usr/local/lib/python3.6/dist-packages/ipykernel_launcher.py:1: DeprecationWarning:\n",
            "\n",
            "Deprecated, use ``h2o.cluster().shutdown()``.\n",
            "\n"
          ],
          "name": "stderr"
        },
        {
          "output_type": "stream",
          "text": [
            "H2O session _sid_a90c closed.\n"
          ],
          "name": "stdout"
        }
      ]
    },
    {
      "cell_type": "code",
      "metadata": {
        "id": "XAHkd2dZuQNB",
        "colab_type": "code",
        "colab": {}
      },
      "source": [
        ""
      ],
      "execution_count": null,
      "outputs": []
    },
    {
      "cell_type": "code",
      "metadata": {
        "id": "vNPjDhyruQLA",
        "colab_type": "code",
        "colab": {}
      },
      "source": [
        ""
      ],
      "execution_count": null,
      "outputs": []
    },
    {
      "cell_type": "code",
      "metadata": {
        "id": "ZKoGI-mYuQFJ",
        "colab_type": "code",
        "colab": {}
      },
      "source": [
        ""
      ],
      "execution_count": null,
      "outputs": []
    },
    {
      "cell_type": "code",
      "metadata": {
        "id": "e6qhShoBuQC5",
        "colab_type": "code",
        "colab": {}
      },
      "source": [
        ""
      ],
      "execution_count": null,
      "outputs": []
    },
    {
      "cell_type": "code",
      "metadata": {
        "id": "zcjrS6UWuP-D",
        "colab_type": "code",
        "colab": {}
      },
      "source": [
        ""
      ],
      "execution_count": null,
      "outputs": []
    },
    {
      "cell_type": "code",
      "metadata": {
        "id": "o9YDZtqCuP5k",
        "colab_type": "code",
        "colab": {}
      },
      "source": [
        ""
      ],
      "execution_count": null,
      "outputs": []
    },
    {
      "cell_type": "code",
      "metadata": {
        "id": "mzSpgBOhuP0Q",
        "colab_type": "code",
        "colab": {}
      },
      "source": [
        ""
      ],
      "execution_count": null,
      "outputs": []
    },
    {
      "cell_type": "code",
      "metadata": {
        "id": "7L9D_m3yuPvb",
        "colab_type": "code",
        "colab": {}
      },
      "source": [
        ""
      ],
      "execution_count": null,
      "outputs": []
    }
  ]
}