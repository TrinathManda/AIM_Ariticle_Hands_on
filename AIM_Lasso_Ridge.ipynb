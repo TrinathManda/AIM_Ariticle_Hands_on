{
 "cells": [
  {
   "cell_type": "code",
   "execution_count": 1,
   "metadata": {},
   "outputs": [],
   "source": [
    "import pandas as pd\n",
    "import numpy as np\n",
    "from sklearn.linear_model import LinearRegression\n",
    "from sklearn.linear_model import Ridge\n",
    "from sklearn.linear_model import Lasso"
   ]
  },
  {
   "cell_type": "code",
   "execution_count": 3,
   "metadata": {},
   "outputs": [],
   "source": [
    "df = pd.read_csv('Boston.csv')"
   ]
  },
  {
   "cell_type": "code",
   "execution_count": 4,
   "metadata": {},
   "outputs": [
    {
     "data": {
      "text/plain": [
       "(506, 15)"
      ]
     },
     "execution_count": 4,
     "metadata": {},
     "output_type": "execute_result"
    }
   ],
   "source": [
    "df.shape"
   ]
  },
  {
   "cell_type": "code",
   "execution_count": 5,
   "metadata": {},
   "outputs": [
    {
     "data": {
      "text/plain": [
       "Unnamed: 0    0\n",
       "crim          0\n",
       "zn            0\n",
       "indus         0\n",
       "chas          0\n",
       "nox           0\n",
       "rm            0\n",
       "age           0\n",
       "dis           0\n",
       "rad           0\n",
       "tax           0\n",
       "ptratio       0\n",
       "black         0\n",
       "lstat         0\n",
       "medv          0\n",
       "dtype: int64"
      ]
     },
     "execution_count": 5,
     "metadata": {},
     "output_type": "execute_result"
    }
   ],
   "source": [
    "df.isnull().sum()"
   ]
  },
  {
   "cell_type": "code",
   "execution_count": 6,
   "metadata": {},
   "outputs": [],
   "source": [
    "X = df.drop('medv', axis=1)\n",
    "y = df['medv']"
   ]
  },
  {
   "cell_type": "code",
   "execution_count": 7,
   "metadata": {},
   "outputs": [],
   "source": [
    "from sklearn import preprocessing\n",
    "X = preprocessing.scale(X)\n",
    "y = preprocessing.scale(y)"
   ]
  },
  {
   "cell_type": "code",
   "execution_count": 9,
   "metadata": {},
   "outputs": [],
   "source": [
    "from sklearn.model_selection import train_test_split\n",
    "X_train, X_test, y_train, y_test = train_test_split(X,y, test_size=0.30, random_state=1)"
   ]
  },
  {
   "cell_type": "code",
   "execution_count": 10,
   "metadata": {},
   "outputs": [
    {
     "name": "stdout",
     "output_type": "stream",
     "text": [
      "(354, 14)\n",
      "(152, 14)\n",
      "(152,)\n",
      "(354,)\n"
     ]
    }
   ],
   "source": [
    "print(X_train.shape)\n",
    "print(X_test.shape)\n",
    "print(y_test.shape)\n",
    "print(y_train.shape)"
   ]
  },
  {
   "cell_type": "code",
   "execution_count": 11,
   "metadata": {},
   "outputs": [
    {
     "data": {
      "text/plain": [
       "LinearRegression()"
      ]
     },
     "execution_count": 11,
     "metadata": {},
     "output_type": "execute_result"
    }
   ],
   "source": [
    "lrm = LinearRegression()\n",
    "lrm.fit(X_train,y_train)"
   ]
  },
  {
   "cell_type": "code",
   "execution_count": 12,
   "metadata": {},
   "outputs": [
    {
     "name": "stdout",
     "output_type": "stream",
     "text": [
      "Ridge mode: [-0.05135123 -0.09226996  0.16056243  0.04598095  0.0690311  -0.26812781\n",
      "  0.21497795  0.0013175  -0.35090429  0.3187932  -0.19431198 -0.23653337\n",
      "  0.06387053 -0.44283557]\n"
     ]
    }
   ],
   "source": [
    "ridge = Ridge(alpha=0.3)\n",
    "ridge.fit(X_train,y_train)\n",
    "print(\"Ridge mode:\", (ridge.coef_))"
   ]
  },
  {
   "cell_type": "code",
   "execution_count": 13,
   "metadata": {},
   "outputs": [
    {
     "name": "stdout",
     "output_type": "stream",
     "text": [
      "Lasso model: [-0.         -0.          0.         -0.          0.0156829  -0.\n",
      "  0.21429179 -0.         -0.         -0.         -0.         -0.15184534\n",
      "  0.         -0.43149431]\n"
     ]
    }
   ],
   "source": [
    "lasso = Lasso(alpha=0.1)\n",
    "lasso.fit(X_train,y_train)\n",
    "print(\"Lasso model:\", (lasso.coef_))"
   ]
  },
  {
   "cell_type": "code",
   "execution_count": 15,
   "metadata": {},
   "outputs": [
    {
     "name": "stdout",
     "output_type": "stream",
     "text": [
      "Linear Regression Model Training Score: 0.7116100546281016\n",
      "Linear Regression Model Testing Score 0.7824411556743827\n"
     ]
    }
   ],
   "source": [
    "print(\"Linear Regression Model Training Score:\", lrm.score(X_train, y_train))\n",
    "print(\"Linear Regression Model Testing Score\",lrm.score(X_test, y_test))"
   ]
  },
  {
   "cell_type": "code",
   "execution_count": 16,
   "metadata": {},
   "outputs": [
    {
     "name": "stdout",
     "output_type": "stream",
     "text": [
      "Ridge Regression Model Training Score:  0.7116067385450231\n",
      "Ridge Regression Model Testing Score:  0.7825825295502499\n"
     ]
    }
   ],
   "source": [
    "print(\"Ridge Regression Model Training Score: \",ridge.score(X_train, y_train))\n",
    "print(\"Ridge Regression Model Testing Score: \",ridge.score(X_test, y_test))"
   ]
  },
  {
   "cell_type": "code",
   "execution_count": 17,
   "metadata": {},
   "outputs": [
    {
     "name": "stdout",
     "output_type": "stream",
     "text": [
      "Lasso Regression Model Training Score:  0.6370759999380619\n",
      "Lasso Regression Model Testing Score:  0.6795163267537485\n"
     ]
    }
   ],
   "source": [
    "print(\"Lasso Regression Model Training Score: \",lasso.score(X_train, y_train))\n",
    "print(\"Lasso Regression Model Testing Score: \",lasso.score(X_test, y_test))"
   ]
  },
  {
   "cell_type": "code",
   "execution_count": 18,
   "metadata": {},
   "outputs": [
    {
     "name": "stdout",
     "output_type": "stream",
     "text": [
      "6.655236391147569e-14\n"
     ]
    }
   ],
   "source": [
    "from sklearn.preprocessing import PolynomialFeatures\n",
    "poly = PolynomialFeatures(degree = 2, interaction_only=True)\n",
    "X_poly = poly.fit_transform(X)\n",
    "X_train, X_test, y_train, y_test = train_test_split(X_poly, y, test_size=0.30, random_state=1)\n",
    "lrm.fit(X_train, y_train)\n",
    "print(lrm.coef_[0])"
   ]
  },
  {
   "cell_type": "code",
   "execution_count": 19,
   "metadata": {},
   "outputs": [
    {
     "name": "stdout",
     "output_type": "stream",
     "text": [
      "Ridge model: [ 0.00000000e+00  6.60918855e-02 -1.16286015e-01  1.03600396e-01\n",
      " -2.59769925e-02  1.87435915e-01 -5.47499485e-02  3.93777562e-01\n",
      " -2.80049696e-01 -3.84588032e-01 -5.80417193e-02 -1.22047393e-01\n",
      "  9.38253790e-04  6.34199536e-02 -3.34794182e-01  5.13225106e-01\n",
      " -2.36462350e-02 -1.09763094e-01  3.27541691e-02  7.64955289e-02\n",
      "  7.05254589e-02 -6.88154106e-02 -3.07193081e-02 -1.26644891e-01\n",
      " -1.52257755e-01 -1.81525982e-02 -9.97299753e-02  1.98662665e-01\n",
      "  1.02795914e-01 -6.18584432e-02  5.16639144e-01 -1.50577417e-01\n",
      "  2.20209578e-01 -1.58971973e-01 -6.26084508e-01 -4.46385118e-01\n",
      " -2.37374402e-01  3.54385016e-01 -3.11747391e-02  2.06031358e-01\n",
      "  7.06594315e-02 -5.60298073e-02  5.94840221e-02 -1.64892844e-02\n",
      "  3.16296906e-02  7.38024826e-02  3.24672029e-02  1.83718403e-01\n",
      " -2.19467054e-02 -7.56243800e-02 -2.51595506e-01 -4.97196324e-02\n",
      "  2.44668430e-01  1.52229472e-01 -2.00772295e-02 -2.06324290e-02\n",
      " -3.68908186e-01  2.40597155e-01 -1.07659317e-01 -4.23165950e-02\n",
      " -2.58597504e-02 -1.58683322e-01 -1.13488146e-01  1.06786754e-02\n",
      "  1.62787663e-02 -1.97328498e-01  2.59404018e-01 -7.22953849e-02\n",
      "  2.80802946e-02 -6.73700793e-02  9.70075059e-02 -2.84340408e-01\n",
      "  1.20653409e-01 -2.36973936e-01  2.12027930e-02 -5.81311586e-02\n",
      "  1.49050313e-02  1.36230370e-01 -1.82257723e-01  3.93696580e-02\n",
      " -1.15745494e-01 -3.30935857e-01 -6.81132241e-02 -3.17983713e-02\n",
      " -1.81819574e-01 -1.19586919e-01  3.79539762e-01 -9.38658820e-02\n",
      " -3.91548657e-02 -1.39072063e-01 -7.93935800e-02 -1.61003467e-01\n",
      "  5.93282251e-03  1.75026904e-04 -8.23041841e-02  2.37800316e-01\n",
      "  5.14762216e-01 -2.08898416e-02 -1.52110386e-01 -3.09848388e-01\n",
      "  2.25873233e-01  2.88614857e-01 -2.19004839e-01  1.19441106e-02\n",
      "  4.11029410e-02 -5.53715134e-02]\n",
      "Lasso model: [ 0.         -0.0644778  -0.         -0.          0.          0.12159071\n",
      " -0.07894917  0.34781859 -0.17011308 -0.28517379  0.06151768 -0.1306584\n",
      " -0.10874202  0.1127284  -0.36658535 -0.         -0.01297356 -0.11327076\n",
      "  0.         -0.          0.         -0.         -0.0216416  -0.\n",
      " -0.         -0.         -0.01775688  0.06625345  0.         -0.\n",
      "  0.32177881 -0.08024392  0.12935547 -0.         -0.         -0.\n",
      " -0.          0.         -0.00990666  0.08952002  0.         -0.\n",
      "  0.          0.          0.00219402  0.016417    0.0082966   0.06648868\n",
      "  0.03523209 -0.         -0.08447284  0.00294935  0.03287365  0.08342697\n",
      "  0.         -0.06591986 -0.          0.10144715 -0.08163565  0.\n",
      " -0.01505025 -0.125311   -0.09647067  0.04029397 -0.0111106  -0.\n",
      "  0.04295252 -0.02497464  0.         -0.07348464  0.         -0.12493645\n",
      "  0.         -0.12530304  0.         -0.00385895  0.00368953  0.\n",
      " -0.12869426  0.         -0.10208638 -0.18685047 -0.10071444 -0.04207221\n",
      " -0.18080552 -0.02329641  0.17920036  0.         -0.01120357 -0.\n",
      " -0.06430069 -0.09273097 -0.02532882 -0.         -0.          0.08038385\n",
      "  0.09416133  0.         -0.         -0.18631739  0.15165207 -0.\n",
      " -0.17558761 -0.         -0.         -0.09309922]\n"
     ]
    }
   ],
   "source": [
    "ridge = Ridge(alpha=.3)\n",
    "ridge.fit(X_train,y_train)\n",
    "print (\"Ridge model:\", (ridge.coef_))\n",
    "\n",
    "\n",
    "lasso = Lasso(alpha=0.003)\n",
    "lasso.fit(X_train,y_train)\n",
    "print (\"Lasso model:\", (lasso.coef_))"
   ]
  },
  {
   "cell_type": "code",
   "execution_count": 21,
   "metadata": {},
   "outputs": [
    {
     "name": "stdout",
     "output_type": "stream",
     "text": [
      "Linear Regression Model Training Score:  0.9263719310541093\n",
      "Linear Regression Model Testing Score:  0.9018557502734034\n",
      "Ridge Regression Model Training Score:  0.9234349080112618\n",
      "Ridge Regression Model Testing Score:  0.9062907487611614\n",
      "Lasso Regression Model Training Score:  0.9066257036765483\n",
      "Lasso Regression Model Testing Score:  0.9046202921789491\n"
     ]
    }
   ],
   "source": [
    "print(\"Linear Regression Model Training Score: \", lrm.score(X_train, y_train))\n",
    "print(\"Linear Regression Model Testing Score: \",lrm.score(X_test, y_test))\n",
    "      \n",
    "      \n",
    "print(\"Ridge Regression Model Training Score: \",ridge.score(X_train, y_train))\n",
    "print(\"Ridge Regression Model Testing Score: \",ridge.score(X_test, y_test))\n",
    "      \n",
    "      \n",
    "      \n",
    "print(\"Lasso Regression Model Training Score: \",lasso.score(X_train, y_train))\n",
    "print(\"Lasso Regression Model Testing Score: \",lasso.score(X_test, y_test))"
   ]
  },
  {
   "cell_type": "code",
   "execution_count": null,
   "metadata": {},
   "outputs": [],
   "source": [
    "#https://analyticsindiamag.com/hands-on-implementation-of-lasso-and-ridge-regression/"
   ]
  },
  {
   "cell_type": "code",
   "execution_count": null,
   "metadata": {},
   "outputs": [],
   "source": []
  }
 ],
 "metadata": {
  "kernelspec": {
   "display_name": "Python 3",
   "language": "python",
   "name": "python3"
  },
  "language_info": {
   "codemirror_mode": {
    "name": "ipython",
    "version": 3
   },
   "file_extension": ".py",
   "mimetype": "text/x-python",
   "name": "python",
   "nbconvert_exporter": "python",
   "pygments_lexer": "ipython3",
   "version": "3.7.3"
  }
 },
 "nbformat": 4,
 "nbformat_minor": 2
}
