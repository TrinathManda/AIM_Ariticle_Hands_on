{
  "nbformat": 4,
  "nbformat_minor": 0,
  "metadata": {
    "colab": {
      "name": "AIM-perform-set-operations-on-pandas",
      "provenance": [],
      "collapsed_sections": []
    },
    "kernelspec": {
      "name": "python3",
      "display_name": "Python 3"
    }
  },
  "cells": [
    {
      "cell_type": "code",
      "metadata": {
        "id": "5j7Fw_rZbncd",
        "colab_type": "code",
        "colab": {}
      },
      "source": [
        "#https://analyticsindiamag.com/how-to-perform-set-operations-on-pandas-dataframes-analytics-india-magazine/\n",
        "import pandas as pd\n",
        "\n",
        "ML_df = pd.DataFrame ({\"Name\":[\"Rohit\",\"Arpit\",\"Chiranjeev\",\"Piyush\"],\n",
        "        \"Student_ID\":[\"101\",\"102\",\"103\",\"104\"]})\n",
        "NLP_df = pd.DataFrame ({\"Name\":[\"Rohit\",\"Aman\",\"Ayush\",\"Piyush\"],\n",
        "        \"Student_ID\":[\"101\",\"105\",\"106\",\"104\"]})\n",
        "CV_df = pd.DataFrame ({\"Name\":[\"Rohit\",\"Arpit\",\"Pawan\",\"Ayush\"],\n",
        "        \"Student_ID\":[\"101\",\"102\",\"107\",\"106\"]})"
      ],
      "execution_count": 13,
      "outputs": []
    },
    {
      "cell_type": "code",
      "metadata": {
        "id": "YsmPODuSnRzD",
        "colab_type": "code",
        "colab": {
          "base_uri": "https://localhost:8080/",
          "height": 151
        },
        "outputId": "acb7d37f-86e6-44bb-fb40-3bdc22ba26d0"
      },
      "source": [
        "#Union\n",
        "\n",
        "all_students = pd.concat([ML_df,NLP_df,CV_df], ignore_index = True)\n",
        "all_students = all_students.drop_duplicates()\n",
        "print(all_students)\n",
        "\n"
      ],
      "execution_count": 15,
      "outputs": [
        {
          "output_type": "stream",
          "text": [
            "          Name Student_ID\n",
            "0        Rohit        101\n",
            "1        Arpit        102\n",
            "2   Chiranjeev        103\n",
            "3       Piyush        104\n",
            "5         Aman        105\n",
            "6        Ayush        106\n",
            "10       Pawan        107\n"
          ],
          "name": "stdout"
        }
      ]
    },
    {
      "cell_type": "code",
      "metadata": {
        "id": "C3GUkkZKnR1y",
        "colab_type": "code",
        "colab": {
          "base_uri": "https://localhost:8080/",
          "height": 67
        },
        "outputId": "cb663b20-2c1e-4772-e9dd-5539f4e2616d"
      },
      "source": [
        "#Intersection\n",
        "Common_ML_NLP = ML_df.merge(NLP_df)\n",
        "print(Common_ML_NLP)\n",
        "Common_ML_CV = ML_df.merge(CV_df)\n",
        "print(Common_ML_CV)"
      ],
      "execution_count": 16,
      "outputs": [
        {
          "output_type": "stream",
          "text": [
            "     Name Student_ID\n",
            "0   Rohit        101\n",
            "1  Piyush        104\n"
          ],
          "name": "stdout"
        }
      ]
    },
    {
      "cell_type": "code",
      "metadata": {
        "id": "fPKrCD5bnR6j",
        "colab_type": "code",
        "colab": {
          "base_uri": "https://localhost:8080/",
          "height": 67
        },
        "outputId": "a4835afe-67ec-4580-c966-29f4904edf5f"
      },
      "source": [
        "ML_NLP = ML_df[ML_df.Student_ID.isin(NLP_df.Student_ID) == False]\n",
        "print(ML_NLP) "
      ],
      "execution_count": 17,
      "outputs": [
        {
          "output_type": "stream",
          "text": [
            "    Name Student_ID\n",
            "0  Rohit        101\n",
            "1  Arpit        102\n"
          ],
          "name": "stdout"
        }
      ]
    },
    {
      "cell_type": "code",
      "metadata": {
        "id": "PDQQSusUbnfs",
        "colab_type": "code",
        "colab": {
          "base_uri": "https://localhost:8080/",
          "height": 67
        },
        "outputId": "4d2b3ede-465e-4000-e9dd-146d69787840"
      },
      "source": [
        "ML_NLP = ML_df[ML_df.Student_ID.isin(NLP_df.Student_ID) == True]\n",
        "print(ML_NLP) "
      ],
      "execution_count": 19,
      "outputs": [
        {
          "output_type": "stream",
          "text": [
            "     Name Student_ID\n",
            "0   Rohit        101\n",
            "3  Piyush        104\n"
          ],
          "name": "stdout"
        }
      ]
    },
    {
      "cell_type": "code",
      "metadata": {
        "id": "1Wj5cIHCsjiO",
        "colab_type": "code",
        "colab": {
          "base_uri": "https://localhost:8080/",
          "height": 67
        },
        "outputId": "eb7d04c3-126d-4d92-b699-e9b54cc7b1d4"
      },
      "source": [
        "ML_CV = ML_df[ML_df.Student_ID.isin(CV_df.Student_ID) == False]\n",
        "\n",
        "print(ML_CV)"
      ],
      "execution_count": 20,
      "outputs": [
        {
          "output_type": "stream",
          "text": [
            "         Name Student_ID\n",
            "2  Chiranjeev        103\n",
            "3      Piyush        104\n"
          ],
          "name": "stdout"
        }
      ]
    },
    {
      "cell_type": "code",
      "metadata": {
        "id": "KUzCTVjGoXlY",
        "colab_type": "code",
        "colab": {}
      },
      "source": [
        ""
      ],
      "execution_count": null,
      "outputs": []
    },
    {
      "cell_type": "code",
      "metadata": {
        "id": "rhUrn1YnoXoS",
        "colab_type": "code",
        "colab": {}
      },
      "source": [
        ""
      ],
      "execution_count": null,
      "outputs": []
    },
    {
      "cell_type": "code",
      "metadata": {
        "id": "xAG5va-4oXqn",
        "colab_type": "code",
        "colab": {}
      },
      "source": [
        ""
      ],
      "execution_count": null,
      "outputs": []
    },
    {
      "cell_type": "code",
      "metadata": {
        "id": "qrrWdYLhoXs-",
        "colab_type": "code",
        "colab": {}
      },
      "source": [
        ""
      ],
      "execution_count": null,
      "outputs": []
    },
    {
      "cell_type": "code",
      "metadata": {
        "id": "URcKJk1voXvl",
        "colab_type": "code",
        "colab": {}
      },
      "source": [
        "  "
      ],
      "execution_count": null,
      "outputs": []
    }
  ]
}