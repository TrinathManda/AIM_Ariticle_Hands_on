{
  "nbformat": 4,
  "nbformat_minor": 0,
  "metadata": {
    "colab": {
      "name": "AIM_NLP using RNN using Pytorch.ipynb",
      "provenance": [],
      "collapsed_sections": []
    },
    "kernelspec": {
      "name": "python3",
      "display_name": "Python 3"
    }
  },
  "cells": [
    {
      "cell_type": "code",
      "metadata": {
        "id": "fk64Uvep__m8",
        "colab_type": "code",
        "colab": {}
      },
      "source": [
        "#https://analyticsindiamag.com/name-language-prediction-using-recurrent-neural-network-in-pytorch/"
      ],
      "execution_count": 25,
      "outputs": []
    },
    {
      "cell_type": "code",
      "metadata": {
        "id": "oZ6qK0QZVdpR",
        "colab_type": "code",
        "colab": {
          "base_uri": "https://localhost:8080/",
          "height": 33
        },
        "outputId": "e5096712-716f-405c-ec98-34de958ad46f"
      },
      "source": [
        "from zipfile import ZipFile\n",
        "file_name = \"/content/Languages.zip\"\n",
        "with ZipFile(file_name, 'r') as zip:\n",
        "  zip.extractall()\n",
        "  print(\"Done\")\n",
        "\n"
      ],
      "execution_count": 36,
      "outputs": [
        {
          "output_type": "stream",
          "text": [
            "Done\n"
          ],
          "name": "stdout"
        }
      ]
    },
    {
      "cell_type": "code",
      "metadata": {
        "id": "Fd-CRls_nK6r",
        "colab_type": "code",
        "colab": {
          "base_uri": "https://localhost:8080/",
          "height": 319
        },
        "outputId": "004ebe36-059e-432a-f723-19ea1dc27546"
      },
      "source": [
        "from __future__ import unicode_literals, print_function, division\n",
        "from io import open\n",
        "import glob\n",
        "import os\n",
        "\n",
        "def printFiles(path):\n",
        "  return glob.glob(path)\n",
        "\n",
        "printFiles('/content/*.txt')"
      ],
      "execution_count": 45,
      "outputs": [
        {
          "output_type": "execute_result",
          "data": {
            "text/plain": [
              "['/content/Scottish.txt',\n",
              " '/content/French.txt',\n",
              " '/content/Spanish.txt',\n",
              " '/content/Vietnamese.txt',\n",
              " '/content/Russian.txt',\n",
              " '/content/English.txt',\n",
              " '/content/Japanese.txt',\n",
              " '/content/Portuguese.txt',\n",
              " '/content/Italian.txt',\n",
              " '/content/Arabic.txt',\n",
              " '/content/Polish.txt',\n",
              " '/content/Chinese.txt',\n",
              " '/content/Irish.txt',\n",
              " '/content/Czech.txt',\n",
              " '/content/Korean.txt',\n",
              " '/content/German.txt',\n",
              " '/content/Dutch.txt',\n",
              " '/content/Greek.txt']"
            ]
          },
          "metadata": {
            "tags": []
          },
          "execution_count": 45
        }
      ]
    },
    {
      "cell_type": "code",
      "metadata": {
        "id": "UZI73qdWVdt3",
        "colab_type": "code",
        "colab": {}
      },
      "source": [
        "import unicodedata\n",
        "import string\n",
        "\n",
        "all_let = string.ascii_letters + \" .,;'\"\n",
        "n_let = len(all_let)\n",
        "\n",
        "\n",
        "def unicodeToAscii(s):\n",
        "  return ''.join(\n",
        "      c for c in unicodedata.normalize('NFD', s)\n",
        "      if unicodedata.category(c) != 'Mn'\n",
        "      and c in all_let\n",
        "  )"
      ],
      "execution_count": 52,
      "outputs": []
    },
    {
      "cell_type": "code",
      "metadata": {
        "id": "D7YCnppFoL-t",
        "colab_type": "code",
        "colab": {}
      },
      "source": [
        "cat_line = {}\n",
        "all_cats = []\n",
        "\n",
        "# Read a file and split into lines\n",
        "def readLines(filename):\n",
        "  lines = open(filename, encoding='utf-8').read().strip().split('\\n')\n",
        "  return [unicodeToAscii(line) for line in lines]\n",
        "\n",
        "for filename in printFiles('/content/*.txt'):\n",
        "  category = os.path.splitext(os.path.basename(filename))[0]\n",
        "  all_cats.append(category)\n",
        "  lines = readLines(filename)\n",
        "  cat_line[category] = lines\n",
        "  \n",
        "n_categories = len(all_cats)\n",
        "\n"
      ],
      "execution_count": 54,
      "outputs": []
    },
    {
      "cell_type": "code",
      "metadata": {
        "id": "gDPeO3FuoMBl",
        "colab_type": "code",
        "colab": {
          "base_uri": "https://localhost:8080/",
          "height": 33
        },
        "outputId": "45ed1c2b-03af-4171-fadd-35bea9352980"
      },
      "source": [
        "#Check names in a category\n",
        "print(cat_line['Japanese'][:4])"
      ],
      "execution_count": 61,
      "outputs": [
        {
          "output_type": "stream",
          "text": [
            "['Abe', 'Abukara', 'Adachi', 'Aida']\n"
          ],
          "name": "stdout"
        }
      ]
    },
    {
      "cell_type": "code",
      "metadata": {
        "id": "ub7sBJ2HoMET",
        "colab_type": "code",
        "colab": {}
      },
      "source": [
        "import torch\n",
        "\n",
        "# Find letter index from all_let, e.g. \"a\" = 0\n",
        "def letterToIndex(letter):\n",
        "  return all_let.find(letter)\n",
        "\n",
        "\n",
        "# Turn a letter into a <1 x n_let> Tensor\n",
        "def letterToTensor(letter):\n",
        "  tensor = torch.zeros(1, n_let)\n",
        "  tensor[0][letterToIndex(letter)] = 1\n",
        "  return tensor\n",
        "\n",
        "\n",
        "# Turn a line into a <line_length x 1 x n_let>,\n",
        "# or an array of one-hot letter vectors\n",
        "def lineToTensor(line):\n",
        "    tensor = torch.zeros(len(line), 1, n_let)\n",
        "    for li, letter in enumerate(line):\n",
        "        tensor[li][0][letterToIndex(letter)] = 1\n",
        "    return tensor\n"
      ],
      "execution_count": 62,
      "outputs": []
    },
    {
      "cell_type": "code",
      "metadata": {
        "id": "t7CCp1dwoMHF",
        "colab_type": "code",
        "colab": {
          "base_uri": "https://localhost:8080/",
          "height": 100
        },
        "outputId": "9190ded3-dfad-45ed-ef83-7861f9eecd5d"
      },
      "source": [
        "print(letterToTensor('K'))\n",
        "print(lineToTensor('Kakinomoto').size())"
      ],
      "execution_count": 63,
      "outputs": [
        {
          "output_type": "stream",
          "text": [
            "tensor([[0., 0., 0., 0., 0., 0., 0., 0., 0., 0., 0., 0., 0., 0., 0., 0., 0., 0.,\n",
            "         0., 0., 0., 0., 0., 0., 0., 0., 0., 0., 0., 0., 0., 0., 0., 0., 0., 0.,\n",
            "         1., 0., 0., 0., 0., 0., 0., 0., 0., 0., 0., 0., 0., 0., 0., 0., 0., 0.,\n",
            "         0., 0., 0.]])\n",
            "torch.Size([10, 1, 57])\n"
          ],
          "name": "stdout"
        }
      ]
    },
    {
      "cell_type": "code",
      "metadata": {
        "id": "TbvLogcMoMLw",
        "colab_type": "code",
        "colab": {}
      },
      "source": [
        "import torch.nn as nn\n",
        "\n",
        "class RNN(nn.Module):\n",
        "  def __init__(self, input_size, hidden_size, output_size):\n",
        "    super(RNN, self).__init__()\n",
        "    self.hidden_size = hidden_size\n",
        "    self.i2h = nn.Linear(input_size + hidden_size, hidden_size)\n",
        "    self.i2o = nn.Linear(input_size + hidden_size, output_size)\n",
        "    self.softmax = nn.LogSoftmax(dim=1)\n",
        "  \n",
        "  def forward(self, input, hidden):\n",
        "    combined = torch.cat((input, hidden), 1)\n",
        "    hidden = self.i2h(combined)\n",
        "    output = self.i2o(combined)\n",
        "    output = self.softmax(output)\n",
        "    return output, hidden\n",
        "  \n",
        "  def initHidden(self):\n",
        "    return torch.zeros(1, self.hidden_size)\n",
        "\n",
        "n_hidden = 128\n",
        "#Binding model\n",
        "rnn = RNN(n_let, n_hidden, n_categories)\n",
        "                      \n"
      ],
      "execution_count": 64,
      "outputs": []
    },
    {
      "cell_type": "code",
      "metadata": {
        "id": "ju-xyIsUoMOP",
        "colab_type": "code",
        "colab": {
          "base_uri": "https://localhost:8080/",
          "height": 67
        },
        "outputId": "2e5d60e6-d237-485d-dfda-e6c704c2b25f"
      },
      "source": [
        "input = lineToTensor('Aalsburg')\n",
        "hidden = torch.zeros(1, n_hidden)\n",
        "output, next_hidden = rnn(input[0], hidden)\n",
        "print(output)"
      ],
      "execution_count": 65,
      "outputs": [
        {
          "output_type": "stream",
          "text": [
            "tensor([[-3.0082, -2.9556, -2.8121, -2.8742, -2.9702, -2.9675, -2.8645, -2.8558,\n",
            "         -2.9136, -2.8908, -2.8187, -2.8789, -2.7877, -2.8580, -2.9500, -2.9210,\n",
            "         -2.8393, -2.8922]], grad_fn=<LogSoftmaxBackward>)\n"
          ],
          "name": "stdout"
        }
      ]
    },
    {
      "cell_type": "code",
      "metadata": {
        "id": "-w5BxFLeoMKB",
        "colab_type": "code",
        "colab": {
          "base_uri": "https://localhost:8080/",
          "height": 184
        },
        "outputId": "709fef0c-0159-4d03-95a6-bde5bf1066b0"
      },
      "source": [
        "import random\n",
        "\n",
        "def randomChoice(l):\n",
        "    return l[random.randint(0, len(l) - 1)]\n",
        "\n",
        "def randomTrainingExample():\n",
        "    category = randomChoice(all_cats)\n",
        "    line = randomChoice(cat_line[category])\n",
        "    category_tensor = torch.tensor([all_cats.index(category)], dtype=torch.long)\n",
        "    line_tensor = lineToTensor(line)\n",
        "    return category, line, category_tensor, line_tensor\n",
        "\n",
        "#Check on a random sample\n",
        "for i in range(10):\n",
        "    category, line, category_tensor, line_tensor = randomTrainingExample()\n",
        "    print('category =', category, '/ line =', line)"
      ],
      "execution_count": 66,
      "outputs": [
        {
          "output_type": "stream",
          "text": [
            "category = Portuguese / line = Pereira\n",
            "category = Vietnamese / line = Quach\n",
            "category = Polish / line = Zawisza\n",
            "category = Portuguese / line = Magalhaes\n",
            "category = German / line = Hoch\n",
            "category = German / line = Tobias\n",
            "category = English / line = Gold\n",
            "category = Irish / line = Mahoney\n",
            "category = Czech / line = Riedel\n",
            "category = French / line = Lachance\n"
          ],
          "name": "stdout"
        }
      ]
    },
    {
      "cell_type": "code",
      "metadata": {
        "id": "RcH8mbOIVdxN",
        "colab_type": "code",
        "colab": {
          "base_uri": "https://localhost:8080/",
          "height": 33
        },
        "outputId": "7867911c-ba55-453a-96ef-10bcc8306277"
      },
      "source": [
        "def categoryFromOutput(output):\n",
        "    top_n, top_i = output.topk(1)\n",
        "    category_i = top_i[0].item()\n",
        "    return all_cats[category_i], category_i\n",
        "#Check category for an output\n",
        "print(categoryFromOutput(output))"
      ],
      "execution_count": 67,
      "outputs": [
        {
          "output_type": "stream",
          "text": [
            "('Irish', 12)\n"
          ],
          "name": "stdout"
        }
      ]
    },
    {
      "cell_type": "code",
      "metadata": {
        "id": "bJfMfL1Zrv_o",
        "colab_type": "code",
        "colab": {
          "base_uri": "https://localhost:8080/",
          "height": 352
        },
        "outputId": "f546a2e4-fa9d-44e5-fbe5-79f8b5d0e051"
      },
      "source": [
        "learning_rate = 0.005 \n",
        "\n",
        "criterion = nn.NLLLoss()\n",
        "\n",
        "def train(category_tensor, line_tensor):\n",
        "    hidden = rnn.initHidden()\n",
        "\n",
        "    rnn.zero_grad()\n",
        "\n",
        "    for i in range(line_tensor.size()[0]):\n",
        "        output, hidden = rnn(line_tensor[i], hidden)\n",
        "\n",
        "    loss = criterion(output, category_tensor)\n",
        "    loss.backward()\n",
        "\n",
        "    # Add parameters' gradients to their values, multiplied by learning rate\n",
        "    for p in rnn.parameters():\n",
        "        p.data.add_(p.grad.data, alpha=-learning_rate)\n",
        "\n",
        "    return output, loss.item()\n",
        "\n",
        "\n",
        "import time\n",
        "import math\n",
        "\n",
        "n_iters = 100000\n",
        "print_every = 5000\n",
        "plot_every = 1000\n",
        "\n",
        "# Keep track of losses for plotting\n",
        "current_loss = 0\n",
        "all_losses = []\n",
        "\n",
        "def timeSince(since):\n",
        "    now = time.time()\n",
        "    s = now - since\n",
        "    m = math.floor(s / 60)\n",
        "    s -= m * 60\n",
        "    return '%dm %ds' % (m, s)\n",
        "\n",
        "\n",
        "start = time.time()\n",
        "\n",
        "for iter in range(1, n_iters + 1):\n",
        "    category, line, category_tensor, line_tensor = randomTrainingExample()\n",
        "    output, loss = train(category_tensor, line_tensor)\n",
        "    current_loss += loss\n",
        "\n",
        "    # Print iter number, loss, name and guess\n",
        "    if iter % print_every == 0:\n",
        "      guess, guess_i = categoryFromOutput(output)\n",
        "      correct = '✓' if guess == category else '✗ (%s)' % category\n",
        "      print('%d %d%% (%s) %.4f %s / %s %s' % (iter, iter / n_iters * 100, timeSince(start), loss, line, guess, correct))\n",
        "\n",
        "    # Add current loss avg to list of losses\n",
        "    if iter % plot_every == 0:\n",
        "      all_losses.append(current_loss / plot_every)\n",
        "      current_loss = 0\n"
      ],
      "execution_count": 70,
      "outputs": [
        {
          "output_type": "stream",
          "text": [
            "5000 5% (0m 6s) 2.6651 Kubo / Portuguese ✗ (Japanese)\n",
            "10000 10% (0m 12s) 2.1036 Duarte / Portuguese ✓\n",
            "15000 15% (0m 18s) 2.8463 Elizondo / Italian ✗ (Spanish)\n",
            "20000 20% (0m 24s) 0.1243 Dzhanumov / Russian ✓\n",
            "25000 25% (0m 30s) 3.8354 Stolarz / Spanish ✗ (Polish)\n",
            "30000 30% (0m 36s) 0.1105 Kowalczyk / Polish ✓\n",
            "35000 35% (0m 42s) 2.3562 Parris / Portuguese ✗ (French)\n",
            "40000 40% (0m 48s) 1.0007 Luu / Chinese ✗ (Vietnamese)\n",
            "45000 45% (0m 55s) 0.5474 Seo / Korean ✓\n",
            "50000 50% (1m 1s) 0.6913 Szewc / Polish ✓\n",
            "55000 55% (1m 7s) 1.8949 Janutka / Polish ✗ (Czech)\n",
            "60000 60% (1m 13s) 1.8175 Steinmann / Dutch ✗ (German)\n",
            "65000 65% (1m 19s) 0.8747 Stamatas / Greek ✓\n",
            "70000 70% (1m 25s) 0.8226 Vuong / Vietnamese ✓\n",
            "75000 75% (1m 31s) 0.8528 Torres / Portuguese ✓\n",
            "80000 80% (1m 37s) 0.9571 Delgado / Spanish ✓\n",
            "85000 85% (1m 44s) 3.2923 Konig / Chinese ✗ (German)\n",
            "90000 90% (1m 50s) 0.6503 Camfrlova / Czech ✓\n",
            "95000 95% (1m 56s) 2.3023 Lane / Chinese ✗ (French)\n",
            "100000 100% (2m 4s) 1.1163 Krivolavy / Czech ✓\n"
          ],
          "name": "stdout"
        }
      ]
    },
    {
      "cell_type": "code",
      "metadata": {
        "id": "QJzLacP_rwCW",
        "colab_type": "code",
        "colab": {
          "base_uri": "https://localhost:8080/",
          "height": 282
        },
        "outputId": "9accba89-bac1-441b-f343-96a871cbfdb5"
      },
      "source": [
        "import matplotlib.pyplot as plt\n",
        "import matplotlib.ticker as ticker\n",
        "\n",
        "plt.figure()\n",
        "plt.plot(all_losses)"
      ],
      "execution_count": 71,
      "outputs": [
        {
          "output_type": "execute_result",
          "data": {
            "text/plain": [
              "[<matplotlib.lines.Line2D at 0x7fbafe53c160>]"
            ]
          },
          "metadata": {
            "tags": []
          },
          "execution_count": 71
        },
        {
          "output_type": "display_data",
          "data": {
            "image/png": "[encoded data removed]",
            "text/plain": [
              "<Figure size 432x288 with 1 Axes>"
            ]
          },
          "metadata": {
            "tags": [],
            "needs_background": "light"
          }
        }
      ]
    },
    {
      "cell_type": "code",
      "metadata": {
        "id": "D11bN-SQrwFl",
        "colab_type": "code",
        "colab": {
          "base_uri": "https://localhost:8080/",
          "height": 597
        },
        "outputId": "ff5a2250-7714-4a87-c067-6ec74b02c8a5"
      },
      "source": [
        "# Keep track of correct guesses in a confusion matrix\n",
        "confusion = torch.zeros(n_categories, n_categories)\n",
        "n_confusion = 10000\n",
        "\n",
        "\n",
        "# Just return an output given a line\n",
        "def evaluate(line_tensor):\n",
        "    hidden = rnn.initHidden()\n",
        "\n",
        "    for i in range(line_tensor.size()[0]):\n",
        "        output, hidden = rnn(line_tensor[i], hidden)\n",
        "\n",
        "    return output\n",
        "\n",
        "\n",
        "\n",
        "# Go through a bunch of examples and record which are correctly guessed\n",
        "for i in range(n_confusion):\n",
        "    category, line, category_tensor, line_tensor = randomTrainingExample()\n",
        "    output = evaluate(line_tensor)\n",
        "    guess, guess_i = categoryFromOutput(output)\n",
        "    category_i = all_cats.index(category)\n",
        "    confusion[category_i][guess_i] += 1\n",
        "\n",
        "\n",
        "# Normalize by dividing every row by its sum\n",
        "for i in range(n_categories):\n",
        "    confusion[i] = confusion[i] / confusion[i].sum()\n",
        "\n",
        "\n",
        "\n",
        "# Set up plot\n",
        "figsize = (10, 10)\n",
        "fig = plt.figure(figsize=figsize)\n",
        "ax = fig.add_subplot(111)\n",
        "cax = ax.matshow(confusion.numpy())\n",
        "fig.colorbar(cax)\n",
        "\n",
        "# Set up axes\n",
        "ax.set_xticklabels([''] + all_cats, rotation=90)\n",
        "ax.set_yticklabels([''] + all_cats)\n",
        "\n",
        "# Force label at every tick\n",
        "ax.xaxis.set_major_locator(ticker.MultipleLocator(1))\n",
        "ax.yaxis.set_major_locator(ticker.MultipleLocator(1))\n",
        "\n",
        "# sphinx_gallery_thumbnail_number = 2\n",
        "plt.show()"
      ],
      "execution_count": 73,
      "outputs": [
        {
          "output_type": "display_data",
          "data": {
            "image/png": "[encoded data removed]",
            "text/plain": [
              "<Figure size 720x720 with 2 Axes>"
            ]
          },
          "metadata": {
            "tags": [],
            "needs_background": "light"
          }
        }
      ]
    },
    {
      "cell_type": "code",
      "metadata": {
        "id": "hZFaYJslVdsQ",
        "colab_type": "code",
        "colab": {}
      },
      "source": [
        "def predict(input_line, n_predictions=3):\n",
        "    print('\\n> %s' % input_line)\n",
        "    with torch.no_grad():\n",
        "        output = evaluate(lineToTensor(input_line))\n",
        "\n",
        "        # Get top N categories\n",
        "        topv, topi = output.topk(n_predictions, 1, True)\n",
        "        predictions = []\n",
        "\n",
        "        for i in range(n_predictions):\n",
        "            value = topv[0][i].item()\n",
        "            category_index = topi[0][i].item()\n",
        "            print('(%.2f) %s' % (value, all_cats[category_index]))\n",
        "            predictions.append([value, all_cats[category_index]])"
      ],
      "execution_count": 74,
      "outputs": []
    },
    {
      "cell_type": "code",
      "metadata": {
        "id": "WXQpG3rVtzUp",
        "colab_type": "code",
        "colab": {
          "base_uri": "https://localhost:8080/",
          "height": 352
        },
        "outputId": "4461ff5c-2ab4-4c7e-8928-09a3b1e1c8f0"
      },
      "source": [
        "predict('Aggelen')\n",
        "predict('Accardo')\n",
        "predict('Ferreiro')\n",
        "predict('Abukara')"
      ],
      "execution_count": 76,
      "outputs": [
        {
          "output_type": "stream",
          "text": [
            "\n",
            "> Aggelen\n",
            "(-1.05) Dutch\n",
            "(-1.51) English\n",
            "(-1.97) Irish\n",
            "\n",
            "> Accardo\n",
            "(-0.23) Italian\n",
            "(-2.22) Spanish\n",
            "(-2.57) Portuguese\n",
            "\n",
            "> Ferreiro\n",
            "(-0.15) Portuguese\n",
            "(-2.87) Italian\n",
            "(-3.12) Spanish\n",
            "\n",
            "> Abukara\n",
            "(-1.31) Spanish\n",
            "(-1.69) Japanese\n",
            "(-1.76) Dutch\n"
          ],
          "name": "stdout"
        }
      ]
    },
    {
      "cell_type": "code",
      "metadata": {
        "id": "PoI0nE6CtzXv",
        "colab_type": "code",
        "colab": {}
      },
      "source": [
        ""
      ],
      "execution_count": null,
      "outputs": []
    },
    {
      "cell_type": "code",
      "metadata": {
        "id": "TqwF7Y__tza0",
        "colab_type": "code",
        "colab": {}
      },
      "source": [
        ""
      ],
      "execution_count": null,
      "outputs": []
    },
    {
      "cell_type": "code",
      "metadata": {
        "id": "PjTQRKN8tzdD",
        "colab_type": "code",
        "colab": {}
      },
      "source": [
        ""
      ],
      "execution_count": null,
      "outputs": []
    },
    {
      "cell_type": "code",
      "metadata": {
        "id": "pdntMmNatzff",
        "colab_type": "code",
        "colab": {}
      },
      "source": [
        ""
      ],
      "execution_count": null,
      "outputs": []
    }
  ]
}