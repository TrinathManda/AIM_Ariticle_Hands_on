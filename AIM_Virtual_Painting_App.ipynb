{
  "nbformat": 4,
  "nbformat_minor": 0,
  "metadata": {
    "colab": {
      "name": "AIM_Virtual Painting App",
      "provenance": [],
      "collapsed_sections": []
    },
    "kernelspec": {
      "name": "python3",
      "display_name": "Python 3"
    }
  },
  "cells": [
    {
      "cell_type": "code",
      "metadata": {
        "id": "6_2QZTVxMPeV",
        "colab_type": "code",
        "colab": {}
      },
      "source": [
        "#https://analyticsindiamag.com/how-to-create-a-virtual-painting-app-using-opencv/"
      ],
      "execution_count": 1,
      "outputs": []
    },
    {
      "cell_type": "code",
      "metadata": {
        "id": "mkHcVbFUMPc8",
        "colab_type": "code",
        "colab": {}
      },
      "source": [
        "import numpy as np\n",
        "import cv2\n",
        "from collections import deque"
      ],
      "execution_count": 2,
      "outputs": []
    },
    {
      "cell_type": "code",
      "metadata": {
        "id": "zo71yMn3MPYI",
        "colab_type": "code",
        "colab": {}
      },
      "source": [
        "Lower_red = np.array([161, 155, 84])\n",
        "Upper_red = np.array([179,255,255])"
      ],
      "execution_count": 3,
      "outputs": []
    },
    {
      "cell_type": "code",
      "metadata": {
        "id": "GsQ7lf-tMPVh",
        "colab_type": "code",
        "colab": {}
      },
      "source": [
        "bpoints = [deque(maxlen=512)]\n",
        "gpoints = [deque(maxlen=512)]\n",
        "rpoints = [deque(maxlen=512)]\n",
        "ypoints = [deque(maxlen=512)]\n",
        "bindex = 0\n",
        "gindex = 0\n",
        "rindex = 0\n",
        "yindex = 0\n",
        "colors = [(255, 0, 0), (0, 255, 0), (0, 0, 255), (0, 255, 255)]\n",
        "colorIndex = 0"
      ],
      "execution_count": 4,
      "outputs": []
    },
    {
      "cell_type": "code",
      "metadata": {
        "id": "yKB1KUzWKx8R",
        "colab_type": "code",
        "colab": {}
      },
      "source": [
        "paintWindow = np.zeros((471,636,3)) + 255\n",
        "Window1 =cv2.rectangle(paintWindow, (40,1), (140,65), (0,0,0), 2)\n",
        "Window2 = cv2.rectangle(paintWindow, (160,1), (255,65), colors[0], -1)\n",
        "Window3 = cv2.rectangle(paintWindow, (275,1), (370,65), colors[1], -1)\n",
        "Window4 = cv2.rectangle(paintWindow, (390,1), (485,65), colors[2], -1)\n",
        "Window5= cv2.rectangle(paintWindow, (505,1), (600,65), colors[3], -1)"
      ],
      "execution_count": 5,
      "outputs": []
    },
    {
      "cell_type": "code",
      "metadata": {
        "id": "x0SwyiMqKx-1",
        "colab_type": "code",
        "colab": {}
      },
      "source": [
        "cv2.putText(Window1, \"CLEAR ALL\", (49, 33), cv2.FONT_HERSHEY_SIMPLEX, 0.5, (0, 0, 0), 2, cv2.LINE_AA)\n",
        "cv2.putText(Window2, \"BLUE\", (185, 33), cv2.FONT_HERSHEY_SIMPLEX, 0.5, (255, 255, 255), 2, cv2.LINE_AA)\n",
        "cv2.putText(Window3, \"GREEN\", (298, 33), cv2.FONT_HERSHEY_SIMPLEX, 0.5, (255, 255, 255), 2, cv2.LINE_AA)\n",
        "cv2.putText(Window4, \"RED\", (420, 33), cv2.FONT_HERSHEY_SIMPLEX, 0.5, (255, 255, 255), 2, cv2.LINE_AA)\n",
        "cv2.putText(Window5, \"YELLOW\", (520, 33), cv2.FONT_HERSHEY_SIMPLEX, 0.5, (150,150,150), 2, cv2.LINE_AA)\n",
        "cv2.namedWindow('Paint', cv2.WINDOW_AUTOSIZE)"
      ],
      "execution_count": null,
      "outputs": []
    },
    {
      "cell_type": "code",
      "metadata": {
        "id": "Zh8cD4UQKyBa",
        "colab_type": "code",
        "colab": {}
      },
      "source": [
        "camera = cv2.VideoCapture(0)\n"
      ],
      "execution_count": null,
      "outputs": []
    },
    {
      "cell_type": "code",
      "metadata": {
        "id": "DSJAFa7BKyDw",
        "colab_type": "code",
        "colab": {}
      },
      "source": [
        "while True:\n",
        "  (grabbed, frame) = camera.read()\n",
        "  frame = cv2.flip(frame, 1)\n",
        "  hsv = cv2.cvtColor(frame, cv2.COLOR_BGR2HSV)\n",
        "  if not grabbed:\n",
        "    break;"
      ],
      "execution_count": null,
      "outputs": []
    },
    {
      "cell_type": "code",
      "metadata": {
        "id": "7OGmFthOKyGV",
        "colab_type": "code",
        "colab": {}
      },
      "source": [
        "kernel = np.ones((5, 5), np.uint8)\n",
        "\n",
        "Mask = cv2.inRange(hsv, Lower_red, Upper_red)\n",
        "Mask = cv2.erode(Mask, kernel, iterations=2)\n",
        "Mask = cv2.morphologyEx(Mask, cv2.MORPH_OPEN, kernel)\n",
        "Mask = cv2.dilate(Mask, kernel, iterations=1)\n"
      ],
      "execution_count": null,
      "outputs": []
    },
    {
      "cell_type": "code",
      "metadata": {
        "id": "aUEGgv90MPQ8",
        "colab_type": "code",
        "colab": {}
      },
      "source": [
        "(cnts, _) = cv2.findContours(Mask.copy(), cv2.RETR_EXTERNAL,cv2.CHAIN_APPROX_SIMPLE)\n",
        "center = None"
      ],
      "execution_count": null,
      "outputs": []
    },
    {
      "cell_type": "code",
      "metadata": {
        "id": "0QJ9p7twdN2U",
        "colab_type": "code",
        "colab": {}
      },
      "source": [
        "if len(cnts) > 0:\n",
        "  cnt = sorted(cnts, key = cv2.contourArea, reverse = True)[0]\n",
        "  ((x, y), radius) = cv2.minEnclosingCircle(cnt)\n",
        "  cv2.circle(frame, (int(x), int(y)), int(radius), (0, 255, 255), 2)\n",
        "  M = cv2.moments(cnt)\n",
        "  center = (int(M['m10'] / M['m00']), int(M['m01'] / M['m00'])"
      ],
      "execution_count": null,
      "outputs": []
    },
    {
      "cell_type": "code",
      "metadata": {
        "id": "ROeIykYrdN49",
        "colab_type": "code",
        "colab": {}
      },
      "source": [
        "if center[1] <= 65:\n",
        "  if 40 <= center[0] <= 140: \n",
        "    # Clear All\n",
        "    bpoints = [deque(maxlen=512)]\n",
        "    gpoints = [deque(maxlen=512)]\n",
        "    rpoints = [deque(maxlen=512)]\n",
        "    ypoints = [deque(maxlen=512)]\n",
        "    bindex = 0, gindex = 0, rindex = 0,yindex = 0\n",
        "    paintWindow[67:,:,:] = 255\n",
        "  elif 160 <= center[0] <= 255:\n",
        "    colorIndex = 0\n",
        "  elif 275 <= center[0] <= 370:\n",
        "    colorIndex = 1\n",
        "  elif 390 <= center[0] <= 485:\n",
        "    colorIndex = 2\n",
        "  elif 505 <= center[0] <= 600:\n",
        "    colorIndex = 3\n",
        "  else :\n",
        "    if colorIndex == 0:\n",
        "      bpoints[bindex].appendleft(center)\n",
        "    elif colorIndex == 1:\n",
        "      gpoints[gindex].appendleft(center)\n",
        "    elif colorIndex == 2:\n",
        "      rpoints[rindex].appendleft(center)\n",
        "    elif colorIndex == 3:\n",
        "      ypoints[yindex].appendleft(center)"
      ],
      "execution_count": null,
      "outputs": []
    },
    {
      "cell_type": "code",
      "metadata": {
        "id": "vkrBg0qYdN7p",
        "colab_type": "code",
        "colab": {}
      },
      "source": [
        "points = [bpoints, gpoints, rpoints, ypoints]\n",
        "for i in range(len(points)):\n",
        "  for j in range(len(points[i])):\n",
        "    for k in range(1, len(points[i][j])):\n",
        "      if points[i][j][k - 1] is None or points[i][j][k] is None:\n",
        "        continue\n",
        "      cv2.line(frame, points[i][j][k - 1], points[i][j][k], colors[i], 2)\n",
        "      cv2.line(paintWindow, points[i][j][k - 1], points[i][j][k], colors[i], 2)"
      ],
      "execution_count": null,
      "outputs": []
    },
    {
      "cell_type": "code",
      "metadata": {
        "id": "2YHgxRjVdN-H",
        "colab_type": "code",
        "colab": {}
      },
      "source": [
        "cv2.imshow(\"Web_cam_video\", frame)\n",
        "cv2.imshow(\"Paint\", paintWindow)"
      ],
      "execution_count": null,
      "outputs": []
    },
    {
      "cell_type": "code",
      "metadata": {
        "id": "Jzchu-SpdOAd",
        "colab_type": "code",
        "colab": {}
      },
      "source": [
        ""
      ],
      "execution_count": null,
      "outputs": []
    },
    {
      "cell_type": "code",
      "metadata": {
        "id": "O0pFnuLYdOEX",
        "colab_type": "code",
        "colab": {}
      },
      "source": [
        ""
      ],
      "execution_count": null,
      "outputs": []
    },
    {
      "cell_type": "code",
      "metadata": {
        "id": "rSuMMibUdOCn",
        "colab_type": "code",
        "colab": {}
      },
      "source": [
        ""
      ],
      "execution_count": null,
      "outputs": []
    }
  ]
}