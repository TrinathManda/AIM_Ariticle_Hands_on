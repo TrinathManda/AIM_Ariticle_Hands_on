{
  "nbformat": 4,
  "nbformat_minor": 0,
  "metadata": {
    "colab": {
      "name": "AIM_MXNET for DeepLearning",
      "provenance": [],
      "collapsed_sections": []
    },
    "kernelspec": {
      "name": "python3",
      "display_name": "Python 3"
    }
  },
  "cells": [
    {
      "cell_type": "code",
      "metadata": {
        "id": "6_2QZTVxMPeV",
        "colab_type": "code",
        "colab": {
          "base_uri": "https://localhost:8080/",
          "height": 302
        },
        "outputId": "07aa2eb8-6018-4c2c-a4e1-f8ec64922c0f"
      },
      "source": [
        "#https://analyticsindiamag.com/mxnet-tutorial-complete-guide-with-hands-on-implementation-of-deep-learning-framework/\n",
        "#!pip install mxnet"
      ],
      "execution_count": null,
      "outputs": [
        {
          "output_type": "stream",
          "text": [
            "Collecting mxnet\n",
            "  Downloading mxnet-1.7.0.post1-py2.py3-none-manylinux2014_x86_64.whl (55.0 MB)\n",
            "\u001b[K     |████████████████████████████████| 55.0 MB 27 kB/s \n",
            "\u001b[?25hRequirement already satisfied: requests<3,>=2.20.0 in /usr/local/lib/python3.6/dist-packages (from mxnet) (2.23.0)\n",
            "Requirement already satisfied: numpy<2.0.0,>1.16.0 in /usr/local/lib/python3.6/dist-packages (from mxnet) (1.18.5)\n",
            "Collecting graphviz<0.9.0,>=0.8.1\n",
            "  Downloading graphviz-0.8.4-py2.py3-none-any.whl (16 kB)\n",
            "Requirement already satisfied: urllib3!=1.25.0,!=1.25.1,<1.26,>=1.21.1 in /usr/local/lib/python3.6/dist-packages (from requests<3,>=2.20.0->mxnet) (1.24.3)\n",
            "Requirement already satisfied: idna<3,>=2.5 in /usr/local/lib/python3.6/dist-packages (from requests<3,>=2.20.0->mxnet) (2.10)\n",
            "Requirement already satisfied: certifi>=2017.4.17 in /usr/local/lib/python3.6/dist-packages (from requests<3,>=2.20.0->mxnet) (2020.6.20)\n",
            "Requirement already satisfied: chardet<4,>=3.0.2 in /usr/local/lib/python3.6/dist-packages (from requests<3,>=2.20.0->mxnet) (3.0.4)\n",
            "Installing collected packages: graphviz, mxnet\n",
            "  Attempting uninstall: graphviz\n",
            "    Found existing installation: graphviz 0.10.1\n",
            "    Uninstalling graphviz-0.10.1:\n",
            "      Successfully uninstalled graphviz-0.10.1\n",
            "Successfully installed graphviz-0.8.4 mxnet-1.7.0.post1\n"
          ],
          "name": "stdout"
        }
      ]
    },
    {
      "cell_type": "code",
      "metadata": {
        "id": "O0pFnuLYdOEX",
        "colab_type": "code",
        "colab": {}
      },
      "source": [
        "import mxnet as mx\n",
        "import numpy as np\n",
        "custom_data=1000\n",
        "trainset=800\n",
        "testset = custom_data-trainset\n",
        "features_size=100\n",
        "targets_size=10\n",
        "batch=10\n",
        "\n",
        "ft = mx.nd.uniform(low=0, high=1,shape=(custom_data, features_size))\n"
      ],
      "execution_count": null,
      "outputs": []
    },
    {
      "cell_type": "code",
      "metadata": {
        "id": "Lr7C4EaWtFSP",
        "colab_type": "code",
        "colab": {
          "base_uri": "https://localhost:8080/",
          "height": 33
        },
        "outputId": "742d6413-9302-4656-dee7-6d13bd25d4c9"
      },
      "source": [
        "ft.shape"
      ],
      "execution_count": null,
      "outputs": [
        {
          "output_type": "execute_result",
          "data": {
            "text/plain": [
              "(1000, 100)"
            ]
          },
          "metadata": {
            "tags": []
          },
          "execution_count": 7
        }
      ]
    },
    {
      "cell_type": "code",
      "metadata": {
        "id": "g6l2yMmMrhQQ",
        "colab_type": "code",
        "colab": {}
      },
      "source": [
        "target = mx.nd.empty((custom_data,))\n",
        "for i in range(0,custom_data-1):\n",
        "  target[i] = np.random.randint(0,targets_size)"
      ],
      "execution_count": null,
      "outputs": []
    },
    {
      "cell_type": "code",
      "metadata": {
        "id": "TCB19yz_rhSz",
        "colab_type": "code",
        "colab": {
          "base_uri": "https://localhost:8080/",
          "height": 33
        },
        "outputId": "1ddf5c12-3427-49c1-c0b3-93adc61f7e5d"
      },
      "source": [
        "target.shape"
      ],
      "execution_count": null,
      "outputs": [
        {
          "output_type": "execute_result",
          "data": {
            "text/plain": [
              "(1000,)"
            ]
          },
          "metadata": {
            "tags": []
          },
          "execution_count": 6
        }
      ]
    },
    {
      "cell_type": "code",
      "metadata": {
        "id": "0QTOwPstrhVe",
        "colab_type": "code",
        "colab": {}
      },
      "source": [
        "xtrain = mx.nd.crop(ft, begin=(0,0), end=(trainset,features_size-1))"
      ],
      "execution_count": null,
      "outputs": []
    },
    {
      "cell_type": "code",
      "metadata": {
        "id": "F7omrimyuEvL",
        "colab_type": "code",
        "colab": {
          "base_uri": "https://localhost:8080/",
          "height": 33
        },
        "outputId": "b3c9ab41-dd75-44c9-f534-69524bc5a837"
      },
      "source": [
        "xtrain.shape"
      ],
      "execution_count": null,
      "outputs": [
        {
          "output_type": "execute_result",
          "data": {
            "text/plain": [
              "(800, 99)"
            ]
          },
          "metadata": {
            "tags": []
          },
          "execution_count": 13
        }
      ]
    },
    {
      "cell_type": "code",
      "metadata": {
        "id": "Vq2QD1gSrhX5",
        "colab_type": "code",
        "colab": {}
      },
      "source": [
        "xtest = mx.nd.crop(ft, begin=(trainset,0), end=(custom_data,features_size-1))"
      ],
      "execution_count": null,
      "outputs": []
    },
    {
      "cell_type": "code",
      "metadata": {
        "id": "Jk42dP7frhaX",
        "colab_type": "code",
        "colab": {
          "base_uri": "https://localhost:8080/",
          "height": 33
        },
        "outputId": "9b24b194-fa60-4dd5-b142-481f05dbf7d1"
      },
      "source": [
        "xtrain.shape"
      ],
      "execution_count": null,
      "outputs": [
        {
          "output_type": "execute_result",
          "data": {
            "text/plain": [
              "(800, 99)"
            ]
          },
          "metadata": {
            "tags": []
          },
          "execution_count": 14
        }
      ]
    },
    {
      "cell_type": "code",
      "metadata": {
        "id": "a59otYahurSS",
        "colab_type": "code",
        "colab": {}
      },
      "source": [
        "ytrain = target[0:trainset]\n",
        "ytest = target[trainset:custom_data]"
      ],
      "execution_count": null,
      "outputs": []
    },
    {
      "cell_type": "code",
      "metadata": {
        "id": "EOdrXoMyrhcu",
        "colab_type": "code",
        "colab": {}
      },
      "source": [
        "data = mx.sym.Variable('data')\n",
        "#Now that we have assigned a symbol for data, let us build the model.\n",
        "layer1 = mx.sym.FullyConnected(data, name='layer1', num_hidden=64)\n",
        "relu1 = mx.sym.Activation(layer1, name='relu1', act_type=\"relu\")\n",
        "layer2 = mx.sym.FullyConnected(relu1, name='layer2', num_hidden=targets_size)\n",
        "output = mx.sym.SoftmaxOutput(layer2, name='softmax')\n",
        "model = mx.mod.Module(output)\n",
        "train_iteration = mx.io.NDArrayIter(data=xtrain,label=ytrain,batch_size=batch)"
      ],
      "execution_count": null,
      "outputs": []
    },
    {
      "cell_type": "code",
      "metadata": {
        "id": "n02iZK95rhfJ",
        "colab_type": "code",
        "colab": {}
      },
      "source": [
        "model.bind(data_shapes=train_iteration.provide_data, label_shapes=train_iteration.provide_label)"
      ],
      "execution_count": null,
      "outputs": []
    },
    {
      "cell_type": "code",
      "metadata": {
        "id": "W173JUzSrhho",
        "colab_type": "code",
        "colab": {
          "base_uri": "https://localhost:8080/",
          "height": 84
        },
        "outputId": "5434d32e-5b71-4c0a-df3b-aaaa6c07ff48"
      },
      "source": [
        "model.init_optimizer(optimizer='sgd', optimizer_params=(('learning_rate', 0.1), ), force_init=True)\n",
        "model.fit(train_iteration, num_epoch=50)"
      ],
      "execution_count": null,
      "outputs": [
        {
          "output_type": "stream",
          "text": [
            "WARNING:root:Already bound, ignoring bind()\n",
            "/usr/local/lib/python3.6/dist-packages/mxnet/module/base_module.py:502: UserWarning: Parameters already initialized and force_init=False. init_params call ignored.\n",
            "  allow_missing=allow_missing, force_init=force_init)\n",
            "WARNING:root:optimizer already initialized, ignoring...\n"
          ],
          "name": "stderr"
        }
      ]
    },
    {
      "cell_type": "code",
      "metadata": {
        "id": "tRZC5SY7rhmK",
        "colab_type": "code",
        "colab": {}
      },
      "source": [
        ""
      ],
      "execution_count": null,
      "outputs": []
    },
    {
      "cell_type": "code",
      "metadata": {
        "id": "AjFhJLXHrhoO",
        "colab_type": "code",
        "colab": {}
      },
      "source": [
        ""
      ],
      "execution_count": null,
      "outputs": []
    },
    {
      "cell_type": "code",
      "metadata": {
        "id": "9hSrL5bmrhqa",
        "colab_type": "code",
        "colab": {}
      },
      "source": [
        ""
      ],
      "execution_count": null,
      "outputs": []
    },
    {
      "cell_type": "code",
      "metadata": {
        "id": "94-9V1dIrhtY",
        "colab_type": "code",
        "colab": {}
      },
      "source": [
        ""
      ],
      "execution_count": null,
      "outputs": []
    },
    {
      "cell_type": "code",
      "metadata": {
        "id": "hpmE_b_xrhkE",
        "colab_type": "code",
        "colab": {}
      },
      "source": [
        ""
      ],
      "execution_count": null,
      "outputs": []
    },
    {
      "cell_type": "code",
      "metadata": {
        "id": "rSuMMibUdOCn",
        "colab_type": "code",
        "colab": {}
      },
      "source": [
        ""
      ],
      "execution_count": null,
      "outputs": []
    }
  ]
}