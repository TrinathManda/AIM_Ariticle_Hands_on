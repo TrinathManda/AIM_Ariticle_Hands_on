{
  "nbformat": 4,
  "nbformat_minor": 0,
  "metadata": {
    "colab": {
      "name": "AIM_AutoTS: Effective Model Selection for Multiple Time Series.ipynb",
      "provenance": [],
      "collapsed_sections": []
    },
    "kernelspec": {
      "name": "python3",
      "display_name": "Python 3"
    }
  },
  "cells": [
    {
      "cell_type": "code",
      "metadata": {
        "id": "q1PwzSbg34sq",
        "colab_type": "code",
        "colab": {
          "base_uri": "https://localhost:8080/",
          "height": 268
        },
        "outputId": "00925303-cbd1-4db1-bca6-80b9c5bb46a2"
      },
      "source": [
        "#https://analyticsindiamag.com/hands-on-guide-to-autots-effective-model-selection-for-multiple-time-series/\n",
        "!pip install autots"
      ],
      "execution_count": 1,
      "outputs": [
        {
          "output_type": "stream",
          "text": [
            "Collecting autots\n",
            "\u001b[?25l  Downloading https://files.pythonhosted.org/packages/9c/f7/2435dfa22b4afc5ece7670f53ed02f2771b8827a83f90e44709e56b878d6/AutoTS-0.2.2-py3-none-any.whl (598kB)\n",
            "\u001b[K     |████████████████████████████████| 604kB 2.8MB/s \n",
            "\u001b[?25hRequirement already satisfied: scikit-learn>=0.20.* in /usr/local/lib/python3.6/dist-packages (from autots) (0.22.2.post1)\n",
            "Requirement already satisfied: pandas>=0.25.* in /usr/local/lib/python3.6/dist-packages (from autots) (1.0.5)\n",
            "Requirement already satisfied: statsmodels>=0.10.* in /usr/local/lib/python3.6/dist-packages (from autots) (0.10.2)\n",
            "Requirement already satisfied: numpy>=1.14.6 in /usr/local/lib/python3.6/dist-packages (from autots) (1.18.5)\n",
            "Requirement already satisfied: scipy>=0.17.0 in /usr/local/lib/python3.6/dist-packages (from scikit-learn>=0.20.*->autots) (1.4.1)\n",
            "Requirement already satisfied: joblib>=0.11 in /usr/local/lib/python3.6/dist-packages (from scikit-learn>=0.20.*->autots) (0.16.0)\n",
            "Requirement already satisfied: python-dateutil>=2.6.1 in /usr/local/lib/python3.6/dist-packages (from pandas>=0.25.*->autots) (2.8.1)\n",
            "Requirement already satisfied: pytz>=2017.2 in /usr/local/lib/python3.6/dist-packages (from pandas>=0.25.*->autots) (2018.9)\n",
            "Requirement already satisfied: patsy>=0.4.0 in /usr/local/lib/python3.6/dist-packages (from statsmodels>=0.10.*->autots) (0.5.1)\n",
            "Requirement already satisfied: six>=1.5 in /usr/local/lib/python3.6/dist-packages (from python-dateutil>=2.6.1->pandas>=0.25.*->autots) (1.15.0)\n",
            "Installing collected packages: autots\n",
            "Successfully installed autots-0.2.2\n"
          ],
          "name": "stdout"
        }
      ]
    },
    {
      "cell_type": "code",
      "metadata": {
        "id": "c9q4eZBL4Haw",
        "colab_type": "code",
        "colab": {}
      },
      "source": [
        "import pandas as pd\n",
        "from autots import AutoTS"
      ],
      "execution_count": 2,
      "outputs": []
    },
    {
      "cell_type": "code",
      "metadata": {
        "id": "d1FEdoS-4Hdg",
        "colab_type": "code",
        "colab": {
          "base_uri": "https://localhost:8080/",
          "height": 190
        },
        "outputId": "7bd09eef-8b51-451a-9d00-315852ee8cb5"
      },
      "source": [
        "df = pd.read_csv('BIOCON.csv')\n",
        "df.head()"
      ],
      "execution_count": 3,
      "outputs": [
        {
          "output_type": "execute_result",
          "data": {
            "text/html": [
              "<div>\n",
              "<style scoped>\n",
              "    .dataframe tbody tr th:only-of-type {\n",
              "        vertical-align: middle;\n",
              "    }\n",
              "\n",
              "    .dataframe tbody tr th {\n",
              "        vertical-align: top;\n",
              "    }\n",
              "\n",
              "    .dataframe thead th {\n",
              "        text-align: right;\n",
              "    }\n",
              "</style>\n",
              "<table border=\"1\" class=\"dataframe\">\n",
              "  <thead>\n",
              "    <tr style=\"text-align: right;\">\n",
              "      <th></th>\n",
              "      <th>Date</th>\n",
              "      <th>Open</th>\n",
              "      <th>High</th>\n",
              "      <th>Low</th>\n",
              "      <th>Close</th>\n",
              "      <th>Adj Close</th>\n",
              "      <th>Volume</th>\n",
              "    </tr>\n",
              "  </thead>\n",
              "  <tbody>\n",
              "    <tr>\n",
              "      <th>0</th>\n",
              "      <td>2019-08-30</td>\n",
              "      <td>227.949997</td>\n",
              "      <td>237.199997</td>\n",
              "      <td>224.500000</td>\n",
              "      <td>235.600006</td>\n",
              "      <td>235.600006</td>\n",
              "      <td>3564896.0</td>\n",
              "    </tr>\n",
              "    <tr>\n",
              "      <th>1</th>\n",
              "      <td>2019-09-03</td>\n",
              "      <td>226.100006</td>\n",
              "      <td>233.000000</td>\n",
              "      <td>224.149994</td>\n",
              "      <td>225.399994</td>\n",
              "      <td>225.399994</td>\n",
              "      <td>3311896.0</td>\n",
              "    </tr>\n",
              "    <tr>\n",
              "      <th>2</th>\n",
              "      <td>2019-09-04</td>\n",
              "      <td>226.899994</td>\n",
              "      <td>232.000000</td>\n",
              "      <td>223.050003</td>\n",
              "      <td>231.300003</td>\n",
              "      <td>231.300003</td>\n",
              "      <td>3538906.0</td>\n",
              "    </tr>\n",
              "    <tr>\n",
              "      <th>3</th>\n",
              "      <td>2019-09-05</td>\n",
              "      <td>232.000000</td>\n",
              "      <td>232.699997</td>\n",
              "      <td>227.699997</td>\n",
              "      <td>229.550003</td>\n",
              "      <td>229.550003</td>\n",
              "      <td>2314469.0</td>\n",
              "    </tr>\n",
              "    <tr>\n",
              "      <th>4</th>\n",
              "      <td>2019-09-06</td>\n",
              "      <td>230.550003</td>\n",
              "      <td>237.000000</td>\n",
              "      <td>229.350006</td>\n",
              "      <td>236.449997</td>\n",
              "      <td>236.449997</td>\n",
              "      <td>3702650.0</td>\n",
              "    </tr>\n",
              "  </tbody>\n",
              "</table>\n",
              "</div>"
            ],
            "text/plain": [
              "         Date        Open        High  ...       Close   Adj Close     Volume\n",
              "0  2019-08-30  227.949997  237.199997  ...  235.600006  235.600006  3564896.0\n",
              "1  2019-09-03  226.100006  233.000000  ...  225.399994  225.399994  3311896.0\n",
              "2  2019-09-04  226.899994  232.000000  ...  231.300003  231.300003  3538906.0\n",
              "3  2019-09-05  232.000000  232.699997  ...  229.550003  229.550003  2314469.0\n",
              "4  2019-09-06  230.550003  237.000000  ...  236.449997  236.449997  3702650.0\n",
              "\n",
              "[5 rows x 7 columns]"
            ]
          },
          "metadata": {
            "tags": []
          },
          "execution_count": 3
        }
      ]
    },
    {
      "cell_type": "code",
      "metadata": {
        "id": "JpyjAL6j4HgW",
        "colab_type": "code",
        "colab": {}
      },
      "source": [
        "mod =AutoTS(forecast_length=3, frequency='infer', ensemble='simple', drop_data_older_than_periods=200)"
      ],
      "execution_count": 4,
      "outputs": []
    },
    {
      "cell_type": "code",
      "metadata": {
        "id": "1ZUybnRm4HjD",
        "colab_type": "code",
        "colab": {
          "base_uri": "https://localhost:8080/",
          "height": 1000
        },
        "outputId": "29b75618-3c07-4ef5-851a-f34c24e81d1f"
      },
      "source": [
        "mod.fit(df, date_col='Date', value_col='Close', id_col=None)\n",
        "print(mod)"
      ],
      "execution_count": 6,
      "outputs": [
        {
          "output_type": "stream",
          "text": [
            "Inferred frequency is: B\n",
            "Old data dropped by `drop_data_older_than_periods`.\n",
            "Model Number: 1 with model UnobservedComponents in Validation 0 \n"
          ],
          "name": "stdout"
        },
        {
          "output_type": "stream",
          "text": [
            "/usr/local/lib/python3.6/dist-packages/statsmodels/tools/_testing.py:19: FutureWarning: pandas.util.testing is deprecated. Use the functions in the public API at pandas.testing instead.\n",
            "  import pandas.util.testing as tm\n",
            "/usr/local/lib/python3.6/dist-packages/statsmodels/base/model.py:512: ConvergenceWarning: Maximum Likelihood optimization failed to converge. Check mle_retvals\n",
            "  \"Check mle_retvals\", ConvergenceWarning)\n"
          ],
          "name": "stderr"
        },
        {
          "output_type": "stream",
          "text": [
            "Model Number: 2 with model UnobservedComponents in Validation 0 \n",
            "Model Number: 3 with model ETS in Validation 0 \n",
            "Template Eval Error: ValueError(\"Input contains NaN, infinity or a value too large for dtype('float64').\",) in model 3: ETS\n",
            "Model Number: 4 with model VECM in Validation 0 \n",
            "Transformation method not known or improperly entered, returning untransformed df\n",
            "Template Eval Error: TypeError(\"fit() missing 1 required positional argument: 'df'\",) in model 4: VECM\n",
            "Model Number: 5 with model VECM in Validation 0 \n",
            "Template Eval Error: ValueError('Only gave one variable to VECM',) in model 5: VECM\n",
            "Model Number: 6 with model FBProphet in Validation 0 \n",
            "FBProphet Initial Set\n"
          ],
          "name": "stdout"
        },
        {
          "output_type": "stream",
          "text": [
            "INFO:fbprophet:Disabling yearly seasonality. Run prophet with yearly_seasonality=True to override this.\n",
            "INFO:fbprophet:Disabling daily seasonality. Run prophet with daily_seasonality=True to override this.\n"
          ],
          "name": "stderr"
        },
        {
          "output_type": "stream",
          "text": [
            "Model Number: 7 with model AverageValueNaive in Validation 0 \n",
            "Model Number: 8 with model LastValueNaive in Validation 0 \n",
            "Model Number: 9 with model LastValueNaive in Validation 0 \n",
            "Model Number: 10 with model RollingRegression in Validation 0 \n",
            "Template Eval Error: NullFrequencyError('Cannot shift with no freq',) in model 10: RollingRegression\n",
            "Model Number: 11 with model RollingRegression in Validation 0 \n",
            "Template Eval Error: NullFrequencyError('Cannot shift with no freq',) in model 11: RollingRegression\n",
            "Model Number: 12 with model RollingRegression in Validation 0 \n"
          ],
          "name": "stdout"
        },
        {
          "output_type": "stream",
          "text": [
            "/usr/local/lib/python3.6/dist-packages/sklearn/neural_network/_multilayer_perceptron.py:1342: DataConversionWarning:\n",
            "\n",
            "A column-vector y was passed when a 1d array was expected. Please change the shape of y to (n_samples, ), for example using ravel().\n",
            "\n",
            "/usr/local/lib/python3.6/dist-packages/sklearn/neural_network/_multilayer_perceptron.py:470: ConvergenceWarning:\n",
            "\n",
            "lbfgs failed to converge (status=1):\n",
            "STOP: TOTAL NO. of ITERATIONS REACHED LIMIT.\n",
            "\n",
            "Increase the number of iterations (max_iter) or scale the data as shown in:\n",
            "    https://scikit-learn.org/stable/modules/preprocessing.html\n",
            "\n"
          ],
          "name": "stderr"
        },
        {
          "output_type": "stream",
          "text": [
            "Model Number: 13 with model RollingRegression in Validation 0 \n",
            "Model Number: 14 with model RollingRegression in Validation 0 \n",
            "Epoch 1/50\n",
            "7/7 [==============================] - 0s 3ms/step - loss: 0.7425\n",
            "Epoch 2/50\n",
            "7/7 [==============================] - 0s 3ms/step - loss: 0.7403\n",
            "Epoch 3/50\n",
            "7/7 [==============================] - 0s 3ms/step - loss: 0.7386\n",
            "Epoch 4/50\n",
            "7/7 [==============================] - 0s 3ms/step - loss: 0.7364\n",
            "Epoch 5/50\n",
            "7/7 [==============================] - 0s 3ms/step - loss: 0.7331\n",
            "Epoch 6/50\n",
            "7/7 [==============================] - 0s 3ms/step - loss: 0.7320\n",
            "Epoch 7/50\n",
            "7/7 [==============================] - 0s 3ms/step - loss: 0.7265\n",
            "Epoch 8/50\n",
            "7/7 [==============================] - 0s 3ms/step - loss: 0.7227\n",
            "Epoch 9/50\n",
            "7/7 [==============================] - 0s 3ms/step - loss: 0.7168\n",
            "Epoch 10/50\n",
            "7/7 [==============================] - 0s 3ms/step - loss: 0.7082\n",
            "Epoch 11/50\n",
            "7/7 [==============================] - 0s 3ms/step - loss: 0.6999\n",
            "Epoch 12/50\n",
            "7/7 [==============================] - 0s 3ms/step - loss: 0.6879\n",
            "Epoch 13/50\n",
            "7/7 [==============================] - 0s 3ms/step - loss: 0.6830\n",
            "Epoch 14/50\n",
            "7/7 [==============================] - 0s 3ms/step - loss: 0.6725\n",
            "Epoch 15/50\n",
            "7/7 [==============================] - 0s 3ms/step - loss: 0.6601\n",
            "Epoch 16/50\n",
            "7/7 [==============================] - 0s 3ms/step - loss: 0.6476\n",
            "Epoch 17/50\n",
            "7/7 [==============================] - 0s 3ms/step - loss: 0.6559\n",
            "Epoch 18/50\n",
            "7/7 [==============================] - 0s 3ms/step - loss: 0.6539\n",
            "Epoch 19/50\n",
            "7/7 [==============================] - 0s 3ms/step - loss: 0.6598\n",
            "Epoch 20/50\n",
            "7/7 [==============================] - 0s 3ms/step - loss: 0.6591\n",
            "Epoch 21/50\n",
            "7/7 [==============================] - 0s 3ms/step - loss: 0.6527\n",
            "Epoch 22/50\n",
            "7/7 [==============================] - 0s 3ms/step - loss: 0.6525\n",
            "Epoch 23/50\n",
            "7/7 [==============================] - 0s 3ms/step - loss: 0.6581\n",
            "Epoch 24/50\n",
            "7/7 [==============================] - 0s 3ms/step - loss: 0.6553\n",
            "Epoch 25/50\n",
            "7/7 [==============================] - 0s 3ms/step - loss: 0.6485\n",
            "Epoch 26/50\n",
            "7/7 [==============================] - 0s 3ms/step - loss: 0.6549\n",
            "Epoch 27/50\n",
            "7/7 [==============================] - 0s 3ms/step - loss: 0.6513\n",
            "Epoch 28/50\n",
            "7/7 [==============================] - 0s 3ms/step - loss: 0.6449\n",
            "Epoch 29/50\n",
            "7/7 [==============================] - 0s 3ms/step - loss: 0.6615\n",
            "Epoch 30/50\n",
            "7/7 [==============================] - 0s 3ms/step - loss: 0.6383\n",
            "Epoch 31/50\n",
            "7/7 [==============================] - 0s 3ms/step - loss: 0.6439\n",
            "Epoch 32/50\n",
            "7/7 [==============================] - 0s 3ms/step - loss: 0.6463\n",
            "Epoch 33/50\n",
            "7/7 [==============================] - 0s 3ms/step - loss: 0.6431\n",
            "Epoch 34/50\n",
            "7/7 [==============================] - 0s 3ms/step - loss: 0.6430\n",
            "Epoch 35/50\n",
            "7/7 [==============================] - 0s 3ms/step - loss: 0.6435\n",
            "Epoch 36/50\n",
            "7/7 [==============================] - 0s 3ms/step - loss: 0.6526\n",
            "Epoch 37/50\n",
            "7/7 [==============================] - 0s 3ms/step - loss: 0.6437\n",
            "Epoch 38/50\n",
            "7/7 [==============================] - 0s 3ms/step - loss: 0.6455\n",
            "Epoch 39/50\n",
            "7/7 [==============================] - 0s 3ms/step - loss: 0.6515\n",
            "Epoch 40/50\n",
            "7/7 [==============================] - 0s 3ms/step - loss: 0.6432\n",
            "Epoch 41/50\n",
            "7/7 [==============================] - 0s 3ms/step - loss: 0.6503\n",
            "Epoch 42/50\n",
            "7/7 [==============================] - 0s 3ms/step - loss: 0.6479\n",
            "Epoch 43/50\n",
            "7/7 [==============================] - 0s 3ms/step - loss: 0.6450\n",
            "Epoch 44/50\n",
            "7/7 [==============================] - 0s 3ms/step - loss: 0.6445\n",
            "Epoch 45/50\n",
            "7/7 [==============================] - 0s 3ms/step - loss: 0.6433\n",
            "Epoch 46/50\n",
            "7/7 [==============================] - 0s 3ms/step - loss: 0.6313\n",
            "Epoch 47/50\n",
            "7/7 [==============================] - 0s 3ms/step - loss: 0.6451\n",
            "Epoch 48/50\n",
            "7/7 [==============================] - 0s 3ms/step - loss: 0.6364\n",
            "Epoch 49/50\n",
            "7/7 [==============================] - 0s 3ms/step - loss: 0.6446\n",
            "Epoch 50/50\n",
            "7/7 [==============================] - 0s 3ms/step - loss: 0.6425\n",
            "Model Number: 15 with model GLM in Validation 0 \n",
            "Model Number: 16 with model GLM in Validation 0 \n",
            "Model Number: 17 with model GLS in Validation 0 \n",
            "Model Number: 18 with model ZeroesNaive in Validation 0 \n"
          ],
          "name": "stdout"
        },
        {
          "output_type": "stream",
          "text": [
            "/usr/local/lib/python3.6/dist-packages/sklearn/linear_model/_coordinate_descent.py:1790: ConvergenceWarning:\n",
            "\n",
            "Objective did not converge. You might want to increase the number of iterations. Duality gap: 0.27427916950715225, tolerance: 0.001655242695538469\n",
            "\n"
          ],
          "name": "stderr"
        },
        {
          "output_type": "stream",
          "text": [
            "Model Number: 19 with model GLS in Validation 0 \n",
            "Model Number: 20 with model VECM in Validation 0 \n",
            "Template Eval Error: ValueError('Only gave one variable to VECM',) in model 20: VECM\n",
            "Model Number: 21 with model RollingRegression in Validation 0 \n"
          ],
          "name": "stdout"
        },
        {
          "output_type": "stream",
          "text": [
            "/usr/local/lib/python3.6/dist-packages/sklearn/feature_selection/_variance_threshold.py:77: RuntimeWarning:\n",
            "\n",
            "Degrees of freedom <= 0 for slice.\n",
            "\n",
            "/usr/local/lib/python3.6/dist-packages/sklearn/feature_selection/_variance_threshold.py:85: RuntimeWarning:\n",
            "\n",
            "All-NaN slice encountered\n",
            "\n",
            "/usr/local/lib/python3.6/dist-packages/sklearn/feature_selection/_variance_threshold.py:88: RuntimeWarning:\n",
            "\n",
            "invalid value encountered in less_equal\n",
            "\n",
            "/usr/local/lib/python3.6/dist-packages/sklearn/feature_selection/_variance_threshold.py:99: RuntimeWarning:\n",
            "\n",
            "invalid value encountered in greater\n",
            "\n"
          ],
          "name": "stderr"
        },
        {
          "output_type": "stream",
          "text": [
            "Template Eval Error: ValueError('Found input variables with inconsistent numbers of samples: [10, 4]',) in model 21: RollingRegression\n",
            "Model Number: 22 with model VAR in Validation 0 \n",
            "Template Eval Error: ValueError('Unable to coerce to Series, length must be 1: given 188',) in model 22: VAR\n",
            "Model Number: 23 with model GLM in Validation 0 \n",
            "Template Eval Error: UnboundLocalError(\"local variable 'grouping_ids' referenced before assignment\",) in model 23: GLM\n",
            "Model Number: 24 with model VECM in Validation 0 \n",
            "Template Eval Error: ValueError('Only gave one variable to VECM',) in model 24: VECM\n",
            "Model Number: 25 with model RollingRegression in Validation 0 \n"
          ],
          "name": "stdout"
        },
        {
          "output_type": "stream",
          "text": [
            "/usr/local/lib/python3.6/dist-packages/lightgbm/basic.py:195: UserWarning:\n",
            "\n",
            "Usage of np.ndarray subset (sliced data) is not recommended due to it will double the peak memory cost in LightGBM.\n",
            "\n",
            "/usr/local/lib/python3.6/dist-packages/lightgbm/basic.py:195: UserWarning:\n",
            "\n",
            "Usage of np.ndarray subset (sliced data) is not recommended due to it will double the peak memory cost in LightGBM.\n",
            "\n",
            "/usr/local/lib/python3.6/dist-packages/lightgbm/basic.py:195: UserWarning:\n",
            "\n",
            "Usage of np.ndarray subset (sliced data) is not recommended due to it will double the peak memory cost in LightGBM.\n",
            "\n",
            "/usr/local/lib/python3.6/dist-packages/lightgbm/basic.py:195: UserWarning:\n",
            "\n",
            "Usage of np.ndarray subset (sliced data) is not recommended due to it will double the peak memory cost in LightGBM.\n",
            "\n",
            "/usr/local/lib/python3.6/dist-packages/lightgbm/basic.py:195: UserWarning:\n",
            "\n",
            "Usage of np.ndarray subset (sliced data) is not recommended due to it will double the peak memory cost in LightGBM.\n",
            "\n",
            "/usr/local/lib/python3.6/dist-packages/lightgbm/basic.py:195: UserWarning:\n",
            "\n",
            "Usage of np.ndarray subset (sliced data) is not recommended due to it will double the peak memory cost in LightGBM.\n",
            "\n"
          ],
          "name": "stderr"
        },
        {
          "output_type": "stream",
          "text": [
            "Model Number: 26 with model UnobservedComponents in Validation 0 \n",
            "Model Number: 27 with model VAR in Validation 0 \n",
            "Template Eval Error: UnboundLocalError(\"local variable 'grouping_ids' referenced before assignment\",) in model 27: VAR\n",
            "Model Number: 28 with model LastValueNaive in Validation 0 \n"
          ],
          "name": "stdout"
        },
        {
          "output_type": "stream",
          "text": [
            "/usr/local/lib/python3.6/dist-packages/statsmodels/tsa/statespace/structural.py:494: SpecificationWarning:\n",
            "\n",
            "Specified model does not contain a stochastic element; irregular component added.\n",
            "\n",
            "/usr/local/lib/python3.6/dist-packages/statsmodels/tsa/statespace/structural.py:494: SpecificationWarning:\n",
            "\n",
            "Specified model does not contain a stochastic element; irregular component added.\n",
            "\n"
          ],
          "name": "stderr"
        },
        {
          "output_type": "stream",
          "text": [
            "Model Number: 29 with model WindowRegression in Validation 0 \n",
            "Model Number: 30 with model ARIMA in Validation 0 \n",
            "Template Eval Error: ValueError('Length mismatch: Expected axis has 2 elements, new values have 1 elements',) in model 30: ARIMA\n",
            "Model Number: 31 with model WindowRegression in Validation 0 \n",
            "Model Number: 32 with model UnobservedComponents in Validation 0 \n",
            "Model Number: 33 with model RollingRegression in Validation 0 \n"
          ],
          "name": "stdout"
        },
        {
          "output_type": "stream",
          "text": [
            "/usr/local/lib/python3.6/dist-packages/numpy/lib/function_base.py:2526: RuntimeWarning:\n",
            "\n",
            "Degrees of freedom <= 0 for slice\n",
            "\n"
          ],
          "name": "stderr"
        },
        {
          "output_type": "stream",
          "text": [
            "Template Eval Error: ValueError(\"Input contains NaN, infinity or a value too large for dtype('float64').\",) in model 33: RollingRegression\n",
            "Model Number: 34 with model UnobservedComponents in Validation 0 \n",
            "Model Number: 35 with model ETS in Validation 0 \n"
          ],
          "name": "stdout"
        },
        {
          "output_type": "stream",
          "text": [
            "/usr/local/lib/python3.6/dist-packages/statsmodels/base/model.py:512: ConvergenceWarning:\n",
            "\n",
            "Maximum Likelihood optimization failed to converge. Check mle_retvals\n",
            "\n"
          ],
          "name": "stderr"
        },
        {
          "output_type": "stream",
          "text": [
            "Model Number: 36 with model GLS in Validation 0 \n",
            "Model Number: 37 with model LastValueNaive in Validation 0 \n",
            "Model Number: 38 with model UnobservedComponents in Validation 0 \n",
            "Model Number: 39 with model GLM in Validation 0 \n",
            "Template Eval Error: ValueError('NaN, inf or invalid value detected in weights, estimation infeasible.',) in model 39: GLM\n",
            "Model Number: 40 with model RollingRegression in Validation 0 \n",
            "Template Eval Error: LightGBMError('[gamma]: at least one target label is negative',) in model 40: RollingRegression\n",
            "Model Number: 41 with model GluonTS in Validation 0 \n",
            "Template Eval Error: NameError(\"name 'ListDataset' is not defined\",) in model 41: GluonTS\n",
            "Model Number: 42 with model VECM in Validation 0 \n",
            "Template Eval Error: ValueError('Only gave one variable to VECM',) in model 42: VECM\n",
            "Model Number: 43 with model ZeroesNaive in Validation 0 \n",
            "Template Eval Error: ValueError('Unable to coerce to Series, length must be 1: given 197',) in model 43: ZeroesNaive\n",
            "Model Number: 44 with model ARIMA in Validation 0 \n",
            "Template Eval Error: UnboundLocalError(\"local variable 'grouping_ids' referenced before assignment\",) in model 44: ARIMA\n",
            "Model Number: 45 with model GLM in Validation 0 \n",
            "Template Eval Error: ImportError(\"cannot import name 'PoissonRegressor'\",) in model 45: GLM\n",
            "Model Number: 46 with model GLM in Validation 0 \n"
          ],
          "name": "stdout"
        },
        {
          "output_type": "stream",
          "text": [
            "/usr/local/lib/python3.6/dist-packages/statsmodels/genmod/families/family.py:428: RuntimeWarning:\n",
            "\n",
            "divide by zero encountered in true_divide\n",
            "\n",
            "/usr/local/lib/python3.6/dist-packages/statsmodels/genmod/families/family.py:134: RuntimeWarning:\n",
            "\n",
            "divide by zero encountered in true_divide\n",
            "\n"
          ],
          "name": "stderr"
        },
        {
          "output_type": "stream",
          "text": [
            "Model Number: 47 with model WindowRegression in Validation 0 \n",
            "Model Number: 48 with model SeasonalNaive in Validation 0 \n",
            "Model Number: 49 with model AverageValueNaive in Validation 0 \n",
            "Model Number: 50 with model SeasonalNaive in Validation 0 \n",
            "Model Number: 51 with model ETS in Validation 0 \n",
            "Template Eval Error: ValueError('endog must be strictly positive when using multiplicative trend or seasonal components.',) in model 51: ETS\n",
            "Model Number: 52 with model UnobservedComponents in Validation 0 \n",
            "Model Number: 53 with model GLS in Validation 0 \n",
            "Model Number: 54 with model ARIMA in Validation 0 \n",
            "Template Eval Error: ValueError('Length mismatch: Expected axis has 4 elements, new values have 2 elements',) in model 54: ARIMA\n",
            "Model Number: 55 with model RollingRegression in Validation 0 \n"
          ],
          "name": "stdout"
        },
        {
          "output_type": "stream",
          "text": [
            "/usr/local/lib/python3.6/dist-packages/lightgbm/basic.py:195: UserWarning:\n",
            "\n",
            "Usage of np.ndarray subset (sliced data) is not recommended due to it will double the peak memory cost in LightGBM.\n",
            "\n",
            "/usr/local/lib/python3.6/dist-packages/lightgbm/basic.py:195: UserWarning:\n",
            "\n",
            "Usage of np.ndarray subset (sliced data) is not recommended due to it will double the peak memory cost in LightGBM.\n",
            "\n",
            "/usr/local/lib/python3.6/dist-packages/lightgbm/basic.py:195: UserWarning:\n",
            "\n",
            "Usage of np.ndarray subset (sliced data) is not recommended due to it will double the peak memory cost in LightGBM.\n",
            "\n"
          ],
          "name": "stderr"
        },
        {
          "output_type": "stream",
          "text": [
            "Model Number: 56 with model VECM in Validation 0 \n",
            "Template Eval Error: ValueError('Only gave one variable to VECM',) in model 56: VECM\n",
            "Model Number: 57 with model RollingRegression in Validation 0 \n"
          ],
          "name": "stdout"
        },
        {
          "output_type": "stream",
          "text": [
            "/usr/local/lib/python3.6/dist-packages/lightgbm/basic.py:195: UserWarning:\n",
            "\n",
            "Usage of np.ndarray subset (sliced data) is not recommended due to it will double the peak memory cost in LightGBM.\n",
            "\n",
            "/usr/local/lib/python3.6/dist-packages/lightgbm/basic.py:195: UserWarning:\n",
            "\n",
            "Usage of np.ndarray subset (sliced data) is not recommended due to it will double the peak memory cost in LightGBM.\n",
            "\n",
            "/usr/local/lib/python3.6/dist-packages/lightgbm/basic.py:195: UserWarning:\n",
            "\n",
            "Usage of np.ndarray subset (sliced data) is not recommended due to it will double the peak memory cost in LightGBM.\n",
            "\n"
          ],
          "name": "stderr"
        },
        {
          "output_type": "stream",
          "text": [
            "New Generation: 1\n",
            "Model Number: 58 with model UnobservedComponents in Validation 0 \n",
            "Model Number: 59 with model UnobservedComponents in Validation 0 \n",
            "Model Number: 60 with model UnobservedComponents in Validation 0 \n"
          ],
          "name": "stdout"
        },
        {
          "output_type": "stream",
          "text": [
            "/usr/local/lib/python3.6/dist-packages/statsmodels/tsa/statespace/structural.py:494: SpecificationWarning:\n",
            "\n",
            "Specified model does not contain a stochastic element; irregular component added.\n",
            "\n",
            "/usr/local/lib/python3.6/dist-packages/statsmodels/base/model.py:512: ConvergenceWarning:\n",
            "\n",
            "Maximum Likelihood optimization failed to converge. Check mle_retvals\n",
            "\n",
            "/usr/local/lib/python3.6/dist-packages/statsmodels/tsa/statespace/structural.py:494: SpecificationWarning:\n",
            "\n",
            "Specified model does not contain a stochastic element; irregular component added.\n",
            "\n",
            "INFO:fbprophet:Disabling yearly seasonality. Run prophet with yearly_seasonality=True to override this.\n",
            "INFO:fbprophet:Disabling daily seasonality. Run prophet with daily_seasonality=True to override this.\n"
          ],
          "name": "stderr"
        },
        {
          "output_type": "stream",
          "text": [
            "Model Number: 61 with model FBProphet in Validation 0 \n",
            "FBProphet Initial Set\n"
          ],
          "name": "stdout"
        },
        {
          "output_type": "stream",
          "text": [
            "INFO:fbprophet:Disabling yearly seasonality. Run prophet with yearly_seasonality=True to override this.\n",
            "INFO:fbprophet:Disabling daily seasonality. Run prophet with daily_seasonality=True to override this.\n"
          ],
          "name": "stderr"
        },
        {
          "output_type": "stream",
          "text": [
            "Model Number: 62 with model FBProphet in Validation 0 \n",
            "FBProphet Initial Set\n"
          ],
          "name": "stdout"
        },
        {
          "output_type": "stream",
          "text": [
            "INFO:fbprophet:Disabling yearly seasonality. Run prophet with yearly_seasonality=True to override this.\n",
            "INFO:fbprophet:Disabling daily seasonality. Run prophet with daily_seasonality=True to override this.\n"
          ],
          "name": "stderr"
        },
        {
          "output_type": "stream",
          "text": [
            "Model Number: 63 with model FBProphet in Validation 0 \n",
            "FBProphet Initial Set\n"
          ],
          "name": "stdout"
        },
        {
          "output_type": "stream",
          "text": [
            "INFO:fbprophet:Disabling yearly seasonality. Run prophet with yearly_seasonality=True to override this.\n",
            "INFO:fbprophet:Disabling daily seasonality. Run prophet with daily_seasonality=True to override this.\n"
          ],
          "name": "stderr"
        },
        {
          "output_type": "stream",
          "text": [
            "Model Number: 64 with model FBProphet in Validation 0 \n",
            "FBProphet Initial Set\n",
            "Model Number: 65 with model RollingRegression in Validation 0 \n"
          ],
          "name": "stdout"
        },
        {
          "output_type": "stream",
          "text": [
            "/usr/local/lib/python3.6/dist-packages/lightgbm/basic.py:195: UserWarning:\n",
            "\n",
            "Usage of np.ndarray subset (sliced data) is not recommended due to it will double the peak memory cost in LightGBM.\n",
            "\n",
            "/usr/local/lib/python3.6/dist-packages/lightgbm/basic.py:195: UserWarning:\n",
            "\n",
            "Usage of np.ndarray subset (sliced data) is not recommended due to it will double the peak memory cost in LightGBM.\n",
            "\n",
            "/usr/local/lib/python3.6/dist-packages/lightgbm/basic.py:195: UserWarning:\n",
            "\n",
            "Usage of np.ndarray subset (sliced data) is not recommended due to it will double the peak memory cost in LightGBM.\n",
            "\n",
            "/usr/local/lib/python3.6/dist-packages/sklearn/neural_network/_multilayer_perceptron.py:1342: DataConversionWarning:\n",
            "\n",
            "A column-vector y was passed when a 1d array was expected. Please change the shape of y to (n_samples, ), for example using ravel().\n",
            "\n"
          ],
          "name": "stderr"
        },
        {
          "output_type": "stream",
          "text": [
            "Model Number: 66 with model RollingRegression in Validation 0 \n"
          ],
          "name": "stdout"
        },
        {
          "output_type": "stream",
          "text": [
            "/usr/local/lib/python3.6/dist-packages/sklearn/neural_network/_multilayer_perceptron.py:470: ConvergenceWarning:\n",
            "\n",
            "lbfgs failed to converge (status=1):\n",
            "STOP: TOTAL NO. of ITERATIONS REACHED LIMIT.\n",
            "\n",
            "Increase the number of iterations (max_iter) or scale the data as shown in:\n",
            "    https://scikit-learn.org/stable/modules/preprocessing.html\n",
            "\n"
          ],
          "name": "stderr"
        },
        {
          "output_type": "stream",
          "text": [
            "Model Number: 67 with model RollingRegression in Validation 0 \n",
            "Epoch 1/50\n",
            "7/7 [==============================] - 0s 4ms/step - loss: 0.4878\n",
            "Epoch 2/50\n",
            "7/7 [==============================] - 0s 3ms/step - loss: 0.4573\n",
            "Epoch 3/50\n",
            "7/7 [==============================] - 0s 3ms/step - loss: 0.4260\n",
            "Epoch 4/50\n",
            "7/7 [==============================] - 0s 3ms/step - loss: 0.3887\n",
            "Epoch 5/50\n",
            "7/7 [==============================] - 0s 3ms/step - loss: 0.3429\n",
            "Epoch 6/50\n",
            "7/7 [==============================] - 0s 3ms/step - loss: 0.2942\n",
            "Epoch 7/50\n",
            "7/7 [==============================] - 0s 3ms/step - loss: 0.2524\n",
            "Epoch 8/50\n",
            "7/7 [==============================] - 0s 3ms/step - loss: 0.2374\n",
            "Epoch 9/50\n",
            "7/7 [==============================] - 0s 3ms/step - loss: 0.2302\n",
            "Epoch 10/50\n",
            "7/7 [==============================] - 0s 3ms/step - loss: 0.2306\n",
            "Epoch 11/50\n",
            "7/7 [==============================] - 0s 3ms/step - loss: 0.2313\n",
            "Epoch 12/50\n",
            "7/7 [==============================] - 0s 3ms/step - loss: 0.2338\n",
            "Epoch 13/50\n",
            "7/7 [==============================] - 0s 3ms/step - loss: 0.2334\n",
            "Epoch 14/50\n",
            "7/7 [==============================] - 0s 3ms/step - loss: 0.2319\n",
            "Epoch 15/50\n",
            "7/7 [==============================] - 0s 3ms/step - loss: 0.2253\n",
            "Epoch 16/50\n",
            "7/7 [==============================] - 0s 3ms/step - loss: 0.2280\n",
            "Epoch 17/50\n",
            "7/7 [==============================] - 0s 3ms/step - loss: 0.2288\n",
            "Epoch 18/50\n",
            "7/7 [==============================] - 0s 3ms/step - loss: 0.2244\n",
            "Epoch 19/50\n",
            "7/7 [==============================] - 0s 3ms/step - loss: 0.2256\n",
            "Epoch 20/50\n",
            "7/7 [==============================] - 0s 3ms/step - loss: 0.2223\n",
            "Epoch 21/50\n",
            "7/7 [==============================] - 0s 3ms/step - loss: 0.2261\n",
            "Epoch 22/50\n",
            "7/7 [==============================] - 0s 3ms/step - loss: 0.2285\n",
            "Epoch 23/50\n",
            "7/7 [==============================] - 0s 4ms/step - loss: 0.2212\n",
            "Epoch 24/50\n",
            "7/7 [==============================] - 0s 3ms/step - loss: 0.2213\n",
            "Epoch 25/50\n",
            "7/7 [==============================] - 0s 3ms/step - loss: 0.2190\n",
            "Epoch 26/50\n",
            "7/7 [==============================] - 0s 3ms/step - loss: 0.2185\n",
            "Epoch 27/50\n",
            "7/7 [==============================] - 0s 3ms/step - loss: 0.2190\n",
            "Epoch 28/50\n",
            "7/7 [==============================] - 0s 3ms/step - loss: 0.2114\n",
            "Epoch 29/50\n",
            "7/7 [==============================] - 0s 3ms/step - loss: 0.2142\n",
            "Epoch 30/50\n",
            "7/7 [==============================] - 0s 3ms/step - loss: 0.2151\n",
            "Epoch 31/50\n",
            "7/7 [==============================] - 0s 3ms/step - loss: 0.2162\n",
            "Epoch 32/50\n",
            "7/7 [==============================] - 0s 3ms/step - loss: 0.2238\n",
            "Epoch 33/50\n",
            "7/7 [==============================] - 0s 3ms/step - loss: 0.2215\n",
            "Epoch 34/50\n",
            "7/7 [==============================] - 0s 3ms/step - loss: 0.2240\n",
            "Epoch 35/50\n",
            "7/7 [==============================] - 0s 3ms/step - loss: 0.2209\n",
            "Epoch 36/50\n",
            "7/7 [==============================] - 0s 3ms/step - loss: 0.2173\n",
            "Epoch 37/50\n",
            "7/7 [==============================] - 0s 4ms/step - loss: 0.2170\n",
            "Epoch 38/50\n",
            "7/7 [==============================] - 0s 3ms/step - loss: 0.2234\n",
            "Epoch 39/50\n",
            "7/7 [==============================] - 0s 3ms/step - loss: 0.2235\n",
            "Epoch 40/50\n",
            "7/7 [==============================] - 0s 3ms/step - loss: 0.2159\n",
            "Epoch 41/50\n",
            "7/7 [==============================] - 0s 3ms/step - loss: 0.2190\n",
            "Epoch 42/50\n",
            "7/7 [==============================] - 0s 3ms/step - loss: 0.2258\n",
            "Epoch 43/50\n",
            "7/7 [==============================] - 0s 3ms/step - loss: 0.2162\n",
            "Epoch 44/50\n",
            "7/7 [==============================] - 0s 3ms/step - loss: 0.2128\n",
            "Epoch 45/50\n",
            "7/7 [==============================] - 0s 3ms/step - loss: 0.2192\n",
            "Epoch 46/50\n",
            "7/7 [==============================] - 0s 3ms/step - loss: 0.2164\n",
            "Epoch 47/50\n",
            "7/7 [==============================] - 0s 3ms/step - loss: 0.2191\n",
            "Epoch 48/50\n",
            "7/7 [==============================] - 0s 3ms/step - loss: 0.2102\n",
            "Epoch 49/50\n",
            "7/7 [==============================] - 0s 3ms/step - loss: 0.2176\n",
            "Epoch 50/50\n",
            "7/7 [==============================] - 0s 3ms/step - loss: 0.2144\n",
            "Model Number: 68 with model RollingRegression in Validation 0 \n"
          ],
          "name": "stdout"
        },
        {
          "output_type": "stream",
          "text": [
            "/usr/local/lib/python3.6/dist-packages/lightgbm/basic.py:195: UserWarning:\n",
            "\n",
            "Usage of np.ndarray subset (sliced data) is not recommended due to it will double the peak memory cost in LightGBM.\n",
            "\n",
            "/usr/local/lib/python3.6/dist-packages/lightgbm/basic.py:195: UserWarning:\n",
            "\n",
            "Usage of np.ndarray subset (sliced data) is not recommended due to it will double the peak memory cost in LightGBM.\n",
            "\n",
            "/usr/local/lib/python3.6/dist-packages/lightgbm/basic.py:195: UserWarning:\n",
            "\n",
            "Usage of np.ndarray subset (sliced data) is not recommended due to it will double the peak memory cost in LightGBM.\n",
            "\n"
          ],
          "name": "stderr"
        },
        {
          "output_type": "stream",
          "text": [
            "Model Number: 69 with model LastValueNaive in Validation 0 \n",
            "Model Number: 70 with model LastValueNaive in Validation 0 \n",
            "Model Number: 71 with model LastValueNaive in Validation 0 \n",
            "Model Number: 72 with model GLS in Validation 0 \n",
            "Model Number: 73 with model GLS in Validation 0 \n",
            "Model Number: 74 with model GLS in Validation 0 \n",
            "Model Number: 75 with model GLM in Validation 0 \n",
            "Model Number: 76 with model GLM in Validation 0 \n"
          ],
          "name": "stdout"
        },
        {
          "output_type": "stream",
          "text": [
            "/usr/local/lib/python3.6/dist-packages/statsmodels/genmod/generalized_linear_model.py:273: DomainWarning:\n",
            "\n",
            "The inverse_power link function does not respect the domain of the Gamma family.\n",
            "\n"
          ],
          "name": "stderr"
        },
        {
          "output_type": "stream",
          "text": [
            "Model Number: 77 with model GLM in Validation 0 \n",
            "Model Number: 78 with model GLM in Validation 0 \n"
          ],
          "name": "stdout"
        },
        {
          "output_type": "stream",
          "text": [
            "/usr/local/lib/python3.6/dist-packages/statsmodels/genmod/generalized_linear_model.py:273: DomainWarning:\n",
            "\n",
            "The inverse_power link function does not respect the domain of the Gamma family.\n",
            "\n",
            "/usr/local/lib/python3.6/dist-packages/sklearn/linear_model/_coordinate_descent.py:1790: ConvergenceWarning:\n",
            "\n",
            "Objective did not converge. You might want to increase the number of iterations. Duality gap: 37576.35037580542, tolerance: 49.270567657933654\n",
            "\n"
          ],
          "name": "stderr"
        },
        {
          "output_type": "stream",
          "text": [
            "Model Number: 79 with model SeasonalNaive in Validation 0 \n",
            "Model Number: 80 with model SeasonalNaive in Validation 0 \n",
            "Model Number: 81 with model SeasonalNaive in Validation 0 \n",
            "Model Number: 82 with model WindowRegression in Validation 0 \n",
            "Model Number: 83 with model WindowRegression in Validation 0 \n",
            "Template Eval Error: ValueError(\"Input contains NaN, infinity or a value too large for dtype('float64').\",) in model 83: WindowRegression\n",
            "Model Number: 84 with model WindowRegression in Validation 0 \n",
            "Template Eval Error: LightGBMError('Check failed: config->bagging_freq > 0 && config->bagging_fraction < 1.0f && config->bagging_fraction > 0.0f at /__w/1/s/python-package/compile/src/boosting/rf.hpp, line 28 .\\n',) in model 84: WindowRegression\n",
            "Model Number: 85 with model WindowRegression in Validation 0 \n",
            "Template Eval Error: LightGBMError('Check failed: config->bagging_freq > 0 && config->bagging_fraction < 1.0f && config->bagging_fraction > 0.0f at /__w/1/s/python-package/compile/src/boosting/rf.hpp, line 28 .\\n',) in model 85: WindowRegression\n",
            "Model Number: 86 with model ZeroesNaive in Validation 0 \n",
            "Model Number: 87 with model ZeroesNaive in Validation 0 \n",
            "Model Number: 88 with model ZeroesNaive in Validation 0 \n",
            "Model Number: 89 with model ETS in Validation 0 \n",
            "Template Eval Error: ValueError(\"Input contains NaN, infinity or a value too large for dtype('float64').\",) in model 89: ETS\n",
            "Model Number: 90 with model ETS in Validation 0 \n",
            "Template Eval Error: ValueError('endog must be strictly positive when using multiplicative trend or seasonal components.',) in model 90: ETS\n",
            "Model Number: 91 with model ETS in Validation 0 \n",
            "Template Eval Error: ValueError('endog must be strictly positive when using multiplicative trend or seasonal components.',) in model 91: ETS\n",
            "Model Number: 92 with model ETS in Validation 0 \n",
            "Template Eval Error: ValueError('endog must be strictly positive when using multiplicative trend or seasonal components.',) in model 92: ETS\n",
            "Model Number: 93 with model AverageValueNaive in Validation 0 \n",
            "Model Number: 94 with model AverageValueNaive in Validation 0 \n",
            "Template Eval Error: ImportError(\"cannot import name 'PoissonRegressor'\",) in model 94: AverageValueNaive\n",
            "Model Number: 95 with model AverageValueNaive in Validation 0 \n",
            "Template Eval Error: ImportError(\"cannot import name 'PoissonRegressor'\",) in model 95: AverageValueNaive\n",
            "Model Number: 96 with model VECM in Validation 0 \n",
            "Template Eval Error: ValueError('Only gave one variable to VECM',) in model 96: VECM\n",
            "Model Number: 97 with model VECM in Validation 0 \n",
            "Transformation method not known or improperly entered, returning untransformed df\n",
            "Template Eval Error: TypeError(\"fit() missing 1 required positional argument: 'df'\",) in model 97: VECM\n",
            "Model Number: 98 with model VECM in Validation 0 \n",
            "Template Eval Error: ValueError('Only gave one variable to VECM',) in model 98: VECM\n",
            "Model Number: 99 with model VECM in Validation 0 \n",
            "Template Eval Error: ValueError('Only gave one variable to VECM',) in model 99: VECM\n",
            "Model Number: 100 with model VAR in Validation 0 \n",
            "Template Eval Error: UnboundLocalError(\"local variable 'grouping_ids' referenced before assignment\",) in model 100: VAR\n",
            "Model Number: 101 with model VAR in Validation 0 \n",
            "Template Eval Error: ValueError('Unable to coerce to Series, length must be 1: given 188',) in model 101: VAR\n",
            "Model Number: 102 with model VAR in Validation 0 \n",
            "Template Eval Error: UnboundLocalError(\"local variable 'grouping_ids' referenced before assignment\",) in model 102: VAR\n",
            "Model Number: 103 with model VAR in Validation 0 \n",
            "Template Eval Error: ValueError('Only gave one variable to VAR',) in model 103: VAR\n",
            "Model Number: 104 with model ARIMA in Validation 0 \n"
          ],
          "name": "stdout"
        },
        {
          "output_type": "stream",
          "text": [
            "/usr/local/lib/python3.6/dist-packages/statsmodels/base/model.py:492: HessianInversionWarning:\n",
            "\n",
            "Inverting hessian failed, no bse or cov_params available\n",
            "\n",
            "/usr/local/lib/python3.6/dist-packages/statsmodels/base/model.py:512: ConvergenceWarning:\n",
            "\n",
            "Maximum Likelihood optimization failed to converge. Check mle_retvals\n",
            "\n"
          ],
          "name": "stderr"
        },
        {
          "output_type": "stream",
          "text": [
            "Model Number: 105 with model ARIMA in Validation 0 \n",
            "Model Number: 106 with model ARIMA in Validation 0 \n",
            "Template Eval Error: ValueError('Length mismatch: Expected axis has 2 elements, new values have 1 elements',) in model 106: ARIMA\n",
            "Model Number: 107 with model ARIMA in Validation 0 \n",
            "Template Eval Error: ValueError('Length mismatch: Expected axis has 2 elements, new values have 1 elements',) in model 107: ARIMA\n",
            "Model Number: 108 with model GluonTS in Validation 0 \n",
            "Template Eval Error: NameError(\"name 'ListDataset' is not defined\",) in model 108: GluonTS\n",
            "Model Number: 109 with model GluonTS in Validation 0 \n",
            "Template Eval Error: NameError(\"name 'ListDataset' is not defined\",) in model 109: GluonTS\n",
            "Model Number: 110 with model GluonTS in Validation 0 \n",
            "Template Eval Error: NameError(\"name 'ListDataset' is not defined\",) in model 110: GluonTS\n",
            "Model Number: 111 with model GluonTS in Validation 0 \n",
            "Template Eval Error: NameError(\"name 'ListDataset' is not defined\",) in model 111: GluonTS\n",
            "New Generation: 2\n",
            "Model Number: 112 with model UnobservedComponents in Validation 0 \n"
          ],
          "name": "stdout"
        },
        {
          "output_type": "stream",
          "text": [
            "/usr/local/lib/python3.6/dist-packages/statsmodels/tsa/statespace/structural.py:971: RuntimeWarning:\n",
            "\n",
            "overflow encountered in exp\n",
            "\n",
            "/usr/local/lib/python3.6/dist-packages/statsmodels/base/model.py:512: ConvergenceWarning:\n",
            "\n",
            "Maximum Likelihood optimization failed to converge. Check mle_retvals\n",
            "\n"
          ],
          "name": "stderr"
        },
        {
          "output_type": "stream",
          "text": [
            "Model Number: 113 with model UnobservedComponents in Validation 0 \n",
            "Model Number: 114 with model UnobservedComponents in Validation 0 \n",
            "Model Number: 115 with model RollingRegression in Validation 0 \n"
          ],
          "name": "stdout"
        },
        {
          "output_type": "stream",
          "text": [
            "/usr/local/lib/python3.6/dist-packages/statsmodels/tsa/statespace/structural.py:494: SpecificationWarning:\n",
            "\n",
            "Specified model does not contain a stochastic element; irregular component added.\n",
            "\n"
          ],
          "name": "stderr"
        },
        {
          "output_type": "stream",
          "text": [
            "Template Eval Error: ValueError(\"Input contains NaN, infinity or a value too large for dtype('float64').\",) in model 115: RollingRegression\n",
            "Model Number: 116 with model RollingRegression in Validation 0 \n",
            "Template Eval Error: ValueError(\"Input contains NaN, infinity or a value too large for dtype('float64').\",) in model 116: RollingRegression\n",
            "Model Number: 117 with model RollingRegression in Validation 0 \n"
          ],
          "name": "stdout"
        },
        {
          "output_type": "stream",
          "text": [
            "/usr/local/lib/python3.6/dist-packages/lightgbm/basic.py:195: UserWarning:\n",
            "\n",
            "Usage of np.ndarray subset (sliced data) is not recommended due to it will double the peak memory cost in LightGBM.\n",
            "\n",
            "/usr/local/lib/python3.6/dist-packages/lightgbm/basic.py:195: UserWarning:\n",
            "\n",
            "Usage of np.ndarray subset (sliced data) is not recommended due to it will double the peak memory cost in LightGBM.\n",
            "\n",
            "/usr/local/lib/python3.6/dist-packages/lightgbm/basic.py:195: UserWarning:\n",
            "\n",
            "Usage of np.ndarray subset (sliced data) is not recommended due to it will double the peak memory cost in LightGBM.\n",
            "\n"
          ],
          "name": "stderr"
        },
        {
          "output_type": "stream",
          "text": [
            "Model Number: 118 with model RollingRegression in Validation 0 \n"
          ],
          "name": "stdout"
        },
        {
          "output_type": "stream",
          "text": [
            "INFO:fbprophet:Disabling yearly seasonality. Run prophet with yearly_seasonality=True to override this.\n",
            "INFO:fbprophet:Disabling weekly seasonality. Run prophet with weekly_seasonality=True to override this.\n",
            "INFO:fbprophet:Disabling daily seasonality. Run prophet with daily_seasonality=True to override this.\n",
            "INFO:fbprophet:n_changepoints greater than number of observations. Using 3.\n"
          ],
          "name": "stderr"
        },
        {
          "output_type": "stream",
          "text": [
            "Template Eval Error: NullFrequencyError('Cannot shift with no freq',) in model 118: RollingRegression\n",
            "Model Number: 119 with model FBProphet in Validation 0 \n",
            "FBProphet Initial Set\n"
          ],
          "name": "stdout"
        },
        {
          "output_type": "stream",
          "text": [
            "INFO:fbprophet:Disabling yearly seasonality. Run prophet with yearly_seasonality=True to override this.\n",
            "INFO:fbprophet:Disabling daily seasonality. Run prophet with daily_seasonality=True to override this.\n"
          ],
          "name": "stderr"
        },
        {
          "output_type": "stream",
          "text": [
            "Model Number: 120 with model FBProphet in Validation 0 \n",
            "FBProphet Initial Set\n"
          ],
          "name": "stdout"
        },
        {
          "output_type": "stream",
          "text": [
            "INFO:fbprophet:Disabling yearly seasonality. Run prophet with yearly_seasonality=True to override this.\n",
            "INFO:fbprophet:Disabling daily seasonality. Run prophet with daily_seasonality=True to override this.\n"
          ],
          "name": "stderr"
        },
        {
          "output_type": "stream",
          "text": [
            "Model Number: 121 with model FBProphet in Validation 0 \n",
            "FBProphet Initial Set\n"
          ],
          "name": "stdout"
        },
        {
          "output_type": "stream",
          "text": [
            "INFO:fbprophet:Disabling yearly seasonality. Run prophet with yearly_seasonality=True to override this.\n",
            "INFO:fbprophet:Disabling weekly seasonality. Run prophet with weekly_seasonality=True to override this.\n",
            "INFO:fbprophet:Disabling daily seasonality. Run prophet with daily_seasonality=True to override this.\n",
            "INFO:fbprophet:n_changepoints greater than number of observations. Using 3.\n"
          ],
          "name": "stderr"
        },
        {
          "output_type": "stream",
          "text": [
            "Model Number: 122 with model FBProphet in Validation 0 \n",
            "FBProphet Initial Set\n",
            "Model Number: 123 with model LastValueNaive in Validation 0 \n",
            "Model Number: 124 with model LastValueNaive in Validation 0 \n",
            "Model Number: 125 with model LastValueNaive in Validation 0 \n",
            "Model Number: 126 with model GLM in Validation 0 \n",
            "Template Eval Error: ValueError('The first guess on the deviance function returned a nan.  This could be a boundary  problem and should be reported.',) in model 126: GLM\n"
          ],
          "name": "stdout"
        },
        {
          "output_type": "stream",
          "text": [
            "/usr/local/lib/python3.6/dist-packages/statsmodels/genmod/families/family.py:1227: RuntimeWarning:\n",
            "\n",
            "divide by zero encountered in log\n",
            "\n",
            "/usr/local/lib/python3.6/dist-packages/statsmodels/genmod/families/family.py:1227: RuntimeWarning:\n",
            "\n",
            "invalid value encountered in multiply\n",
            "\n",
            "/usr/local/lib/python3.6/dist-packages/statsmodels/genmod/generalized_linear_model.py:273: DomainWarning:\n",
            "\n",
            "The inverse_power link function does not respect the domain of the Gamma family.\n",
            "\n",
            "/usr/local/lib/python3.6/dist-packages/statsmodels/genmod/families/family.py:1227: RuntimeWarning:\n",
            "\n",
            "divide by zero encountered in log\n",
            "\n",
            "/usr/local/lib/python3.6/dist-packages/statsmodels/genmod/families/family.py:1227: RuntimeWarning:\n",
            "\n",
            "invalid value encountered in multiply\n",
            "\n",
            "/usr/local/lib/python3.6/dist-packages/statsmodels/genmod/generalized_linear_model.py:273: DomainWarning:\n",
            "\n",
            "The inverse_power link function does not respect the domain of the Gamma family.\n",
            "\n"
          ],
          "name": "stderr"
        },
        {
          "output_type": "stream",
          "text": [
            "Model Number: 127 with model GLM in Validation 0 \n",
            "Model Number: 128 with model GLM in Validation 0 \n",
            "Template Eval Error: ValueError('The first guess on the deviance function returned a nan.  This could be a boundary  problem and should be reported.',) in model 128: GLM\n",
            "Model Number: 129 with model GLM in Validation 0 \n",
            "Model Number: 130 with model GLS in Validation 0 \n",
            "Model Number: 131 with model GLS in Validation 0 \n",
            "Model Number: 132 with model GLS in Validation 0 \n",
            "Model Number: 133 with model WindowRegression in Validation 0 \n",
            "Template Eval Error: LightGBMError('Check failed: config->bagging_freq > 0 && config->bagging_fraction < 1.0f && config->bagging_fraction > 0.0f at /__w/1/s/python-package/compile/src/boosting/rf.hpp, line 28 .\\n',) in model 133: WindowRegression\n",
            "Model Number: 134 with model WindowRegression in Validation 0 \n",
            "Model Number: 135 with model WindowRegression in Validation 0 \n",
            "Model Number: 136 with model WindowRegression in Validation 0 \n",
            "Model Number: 137 with model SeasonalNaive in Validation 0 \n",
            "Model Number: 138 with model SeasonalNaive in Validation 0 \n",
            "Model Number: 139 with model SeasonalNaive in Validation 0 \n",
            "Model Number: 140 with model SeasonalNaive in Validation 0 \n",
            "Model Number: 141 with model ZeroesNaive in Validation 0 \n",
            "Model Number: 142 with model ZeroesNaive in Validation 0 \n",
            "Model Number: 143 with model ZeroesNaive in Validation 0 \n",
            "Model Number: 144 with model ETS in Validation 0 \n",
            "Template Eval Error: ValueError('Can only dampen the trend component',) in model 144: ETS\n",
            "Model Number: 145 with model ETS in Validation 0 \n",
            "Template Eval Error: TypeError(\"int() argument must be a string, a bytes-like object or a number, not 'NoneType'\",) in model 145: ETS\n",
            "Model Number: 146 with model ETS in Validation 0 \n",
            "Template Eval Error: ValueError('endog must be strictly positive when using multiplicative trend or seasonal components.',) in model 146: ETS\n",
            "Model Number: 147 with model ETS in Validation 0 \n",
            "Template Eval Error: ValueError('endog must be strictly positive when using multiplicative trend or seasonal components.',) in model 147: ETS\n",
            "Model Number: 148 with model AverageValueNaive in Validation 0 \n",
            "Model Number: 149 with model AverageValueNaive in Validation 0 \n",
            "Model Number: 150 with model AverageValueNaive in Validation 0 \n",
            "Model Number: 151 with model ARIMA in Validation 0 \n",
            "Template Eval Error: ValueError(\"Input contains NaN, infinity or a value too large for dtype('float64').\",) in model 151: ARIMA\n",
            "Model Number: 152 with model ARIMA in Validation 0 \n",
            "Template Eval Error: ValueError(\"Input contains NaN, infinity or a value too large for dtype('float64').\",) in model 152: ARIMA\n",
            "Model Number: 153 with model ARIMA in Validation 0 \n",
            "Model Number: 154 with model ARIMA in Validation 0 \n",
            "Model Number: 155 with model VECM in Validation 0 \n",
            "Template Eval Error: ValueError('Only gave one variable to VECM',) in model 155: VECM\n",
            "Model Number: 156 with model VECM in Validation 0 \n",
            "Template Eval Error: ValueError('Only gave one variable to VECM',) in model 156: VECM\n",
            "Model Number: 157 with model VECM in Validation 0 \n",
            "Template Eval Error: ValueError('Only gave one variable to VECM',) in model 157: VECM\n",
            "Model Number: 158 with model VECM in Validation 0 \n",
            "Template Eval Error: LinAlgError('Singular matrix',) in model 158: VECM\n",
            "Model Number: 159 with model VAR in Validation 0 \n",
            "Template Eval Error: ValueError('Unable to coerce to Series, length must be 1: given 188',) in model 159: VAR\n",
            "Model Number: 160 with model VAR in Validation 0 \n",
            "Template Eval Error: UnboundLocalError(\"local variable 'grouping_ids' referenced before assignment\",) in model 160: VAR\n",
            "Model Number: 161 with model VAR in Validation 0 \n",
            "Template Eval Error: ValueError('Only gave one variable to VAR',) in model 161: VAR\n",
            "Model Number: 162 with model VAR in Validation 0 \n",
            "Template Eval Error: ValueError('Only gave one variable to VAR',) in model 162: VAR\n",
            "Model Number: 163 with model GluonTS in Validation 0 \n",
            "Template Eval Error: ValueError('Unable to coerce to Series, length must be 1: given 197',) in model 163: GluonTS\n",
            "Model Number: 164 with model GluonTS in Validation 0 \n",
            "Template Eval Error: NameError(\"name 'ListDataset' is not defined\",) in model 164: GluonTS\n",
            "Model Number: 165 with model GluonTS in Validation 0 \n"
          ],
          "name": "stdout"
        },
        {
          "output_type": "stream",
          "text": [
            "/usr/local/lib/python3.6/dist-packages/sklearn/linear_model/_coordinate_descent.py:1790: ConvergenceWarning:\n",
            "\n",
            "Objective did not converge. You might want to increase the number of iterations. Duality gap: 36854.52271290475, tolerance: 49.856938111418664\n",
            "\n"
          ],
          "name": "stderr"
        },
        {
          "output_type": "stream",
          "text": [
            "Template Eval Error: NameError(\"name 'ListDataset' is not defined\",) in model 165: GluonTS\n",
            "Model Number: 166 with model GluonTS in Validation 0 \n",
            "Template Eval Error: NameError(\"name 'ListDataset' is not defined\",) in model 166: GluonTS\n",
            "New Generation: 3\n",
            "Model Number: 167 with model UnobservedComponents in Validation 0 \n",
            "Model Number: 168 with model UnobservedComponents in Validation 0 \n",
            "Model Number: 169 with model UnobservedComponents in Validation 0 \n"
          ],
          "name": "stdout"
        },
        {
          "output_type": "stream",
          "text": [
            "/usr/local/lib/python3.6/dist-packages/statsmodels/tsa/statespace/structural.py:494: SpecificationWarning:\n",
            "\n",
            "Specified model does not contain a stochastic element; irregular component added.\n",
            "\n"
          ],
          "name": "stderr"
        },
        {
          "output_type": "stream",
          "text": [
            "Model Number: 170 with model RollingRegression in Validation 0 \n"
          ],
          "name": "stdout"
        },
        {
          "output_type": "stream",
          "text": [
            "/usr/local/lib/python3.6/dist-packages/sklearn/neural_network/_multilayer_perceptron.py:1342: DataConversionWarning:\n",
            "\n",
            "A column-vector y was passed when a 1d array was expected. Please change the shape of y to (n_samples, ), for example using ravel().\n",
            "\n",
            "/usr/local/lib/python3.6/dist-packages/sklearn/neural_network/_multilayer_perceptron.py:470: ConvergenceWarning:\n",
            "\n",
            "lbfgs failed to converge (status=1):\n",
            "STOP: TOTAL NO. of ITERATIONS REACHED LIMIT.\n",
            "\n",
            "Increase the number of iterations (max_iter) or scale the data as shown in:\n",
            "    https://scikit-learn.org/stable/modules/preprocessing.html\n",
            "\n"
          ],
          "name": "stderr"
        },
        {
          "output_type": "stream",
          "text": [
            "Model Number: 171 with model RollingRegression in Validation 0 \n"
          ],
          "name": "stdout"
        },
        {
          "output_type": "stream",
          "text": [
            "/usr/local/lib/python3.6/dist-packages/sklearn/neural_network/_multilayer_perceptron.py:1342: DataConversionWarning:\n",
            "\n",
            "A column-vector y was passed when a 1d array was expected. Please change the shape of y to (n_samples, ), for example using ravel().\n",
            "\n",
            "/usr/local/lib/python3.6/dist-packages/sklearn/neural_network/_multilayer_perceptron.py:470: ConvergenceWarning:\n",
            "\n",
            "lbfgs failed to converge (status=1):\n",
            "STOP: TOTAL NO. of ITERATIONS REACHED LIMIT.\n",
            "\n",
            "Increase the number of iterations (max_iter) or scale the data as shown in:\n",
            "    https://scikit-learn.org/stable/modules/preprocessing.html\n",
            "\n",
            "/usr/local/lib/python3.6/dist-packages/sklearn/neural_network/_multilayer_perceptron.py:1342: DataConversionWarning:\n",
            "\n",
            "A column-vector y was passed when a 1d array was expected. Please change the shape of y to (n_samples, ), for example using ravel().\n",
            "\n"
          ],
          "name": "stderr"
        },
        {
          "output_type": "stream",
          "text": [
            "Model Number: 172 with model RollingRegression in Validation 0 \n",
            "Template Eval Error: ImportError(\"cannot import name 'GammaRegressor'\",) in model 172: RollingRegression\n",
            "Model Number: 173 with model RollingRegression in Validation 0 \n"
          ],
          "name": "stdout"
        },
        {
          "output_type": "stream",
          "text": [
            "/usr/local/lib/python3.6/dist-packages/sklearn/neural_network/_multilayer_perceptron.py:470: ConvergenceWarning:\n",
            "\n",
            "lbfgs failed to converge (status=1):\n",
            "STOP: TOTAL NO. of ITERATIONS REACHED LIMIT.\n",
            "\n",
            "Increase the number of iterations (max_iter) or scale the data as shown in:\n",
            "    https://scikit-learn.org/stable/modules/preprocessing.html\n",
            "\n",
            "INFO:fbprophet:Disabling yearly seasonality. Run prophet with yearly_seasonality=True to override this.\n",
            "INFO:fbprophet:Disabling daily seasonality. Run prophet with daily_seasonality=True to override this.\n"
          ],
          "name": "stderr"
        },
        {
          "output_type": "stream",
          "text": [
            "Model Number: 174 with model FBProphet in Validation 0 \n",
            "Template Eval Error: UnboundLocalError(\"local variable 'grouping_ids' referenced before assignment\",) in model 174: FBProphet\n",
            "Model Number: 175 with model FBProphet in Validation 0 \n",
            "FBProphet Initial Set\n"
          ],
          "name": "stdout"
        },
        {
          "output_type": "stream",
          "text": [
            "INFO:fbprophet:Disabling yearly seasonality. Run prophet with yearly_seasonality=True to override this.\n",
            "INFO:fbprophet:Disabling daily seasonality. Run prophet with daily_seasonality=True to override this.\n"
          ],
          "name": "stderr"
        },
        {
          "output_type": "stream",
          "text": [
            "Model Number: 176 with model FBProphet in Validation 0 \n",
            "FBProphet Initial Set\n"
          ],
          "name": "stdout"
        },
        {
          "output_type": "stream",
          "text": [
            "INFO:fbprophet:Disabling yearly seasonality. Run prophet with yearly_seasonality=True to override this.\n",
            "INFO:fbprophet:Disabling daily seasonality. Run prophet with daily_seasonality=True to override this.\n"
          ],
          "name": "stderr"
        },
        {
          "output_type": "stream",
          "text": [
            "Model Number: 177 with model FBProphet in Validation 0 \n",
            "FBProphet Initial Set\n",
            "Model Number: 178 with model LastValueNaive in Validation 0 \n",
            "Model Number: 179 with model LastValueNaive in Validation 0 \n",
            "Model Number: 180 with model GLM in Validation 0 \n",
            "Template Eval Error: UnboundLocalError(\"local variable 'grouping_ids' referenced before assignment\",) in model 180: GLM\n",
            "Model Number: 181 with model GLM in Validation 0 \n",
            "Template Eval Error: UnboundLocalError(\"local variable 'grouping_ids' referenced before assignment\",) in model 181: GLM\n",
            "Model Number: 182 with model GLM in Validation 0 \n",
            "Template Eval Error: UnboundLocalError(\"local variable 'grouping_ids' referenced before assignment\",) in model 182: GLM\n",
            "Model Number: 183 with model GLM in Validation 0 \n"
          ],
          "name": "stdout"
        },
        {
          "output_type": "stream",
          "text": [
            "/usr/local/lib/python3.6/dist-packages/statsmodels/genmod/families/family.py:1227: RuntimeWarning:\n",
            "\n",
            "invalid value encountered in log\n",
            "\n"
          ],
          "name": "stderr"
        },
        {
          "output_type": "stream",
          "text": [
            "Template Eval Error: ValueError('The first guess on the deviance function returned a nan.  This could be a boundary  problem and should be reported.',) in model 183: GLM\n",
            "Model Number: 184 with model GLS in Validation 0 \n",
            "Model Number: 185 with model GLS in Validation 0 \n",
            "Model Number: 186 with model GLS in Validation 0 \n",
            "Model Number: 187 with model WindowRegression in Validation 0 \n",
            "Model Number: 188 with model WindowRegression in Validation 0 \n",
            "Template Eval Error: LightGBMError('[gamma]: at least one target label is negative',) in model 188: WindowRegression\n",
            "Model Number: 189 with model WindowRegression in Validation 0 \n",
            "Template Eval Error: LightGBMError('[gamma]: at least one target label is negative',) in model 189: WindowRegression\n",
            "Model Number: 190 with model WindowRegression in Validation 0 \n",
            "Model Number: 191 with model SeasonalNaive in Validation 0 \n",
            "Model Number: 192 with model SeasonalNaive in Validation 0 \n",
            "Model Number: 193 with model SeasonalNaive in Validation 0 \n",
            "Model Number: 194 with model SeasonalNaive in Validation 0 \n",
            "Model Number: 195 with model ZeroesNaive in Validation 0 \n",
            "Model Number: 196 with model ZeroesNaive in Validation 0 \n",
            "Model Number: 197 with model ZeroesNaive in Validation 0 \n"
          ],
          "name": "stdout"
        },
        {
          "output_type": "stream",
          "text": [
            "/usr/local/lib/python3.6/dist-packages/sklearn/linear_model/_coordinate_descent.py:1790: ConvergenceWarning:\n",
            "\n",
            "Objective did not converge. You might want to increase the number of iterations. Duality gap: 0.27427916950715225, tolerance: 0.001655242695538469\n",
            "\n"
          ],
          "name": "stderr"
        },
        {
          "output_type": "stream",
          "text": [
            "Model Number: 198 with model ETS in Validation 0 \n",
            "Model Number: 199 with model ETS in Validation 0 \n",
            "Model Number: 200 with model ETS in Validation 0 \n",
            "Template Eval Error: TypeError(\"int() argument must be a string, a bytes-like object or a number, not 'NoneType'\",) in model 200: ETS\n",
            "Model Number: 201 with model ETS in Validation 0 \n",
            "One or more series have failed to optimize with ETS model\n",
            "Template Eval Error: ValueError('Model ETS returned NaN for one or more series',) in model 201: ETS\n",
            "Model Number: 202 with model AverageValueNaive in Validation 0 \n"
          ],
          "name": "stdout"
        },
        {
          "output_type": "stream",
          "text": [
            "/usr/local/lib/python3.6/dist-packages/statsmodels/tsa/holtwinters.py:939: RuntimeWarning:\n",
            "\n",
            "invalid value encountered in double_scalars\n",
            "\n"
          ],
          "name": "stderr"
        },
        {
          "output_type": "stream",
          "text": [
            "Model Number: 203 with model AverageValueNaive in Validation 0 \n",
            "Model Number: 204 with model AverageValueNaive in Validation 0 \n",
            "Model Number: 205 with model ARIMA in Validation 0 \n",
            "Model Number: 206 with model ARIMA in Validation 0 \n"
          ],
          "name": "stdout"
        },
        {
          "output_type": "stream",
          "text": [
            "/usr/local/lib/python3.6/dist-packages/statsmodels/base/model.py:492: HessianInversionWarning:\n",
            "\n",
            "Inverting hessian failed, no bse or cov_params available\n",
            "\n"
          ],
          "name": "stderr"
        },
        {
          "output_type": "stream",
          "text": [
            "Model Number: 207 with model ARIMA in Validation 0 \n",
            "Model Number: 208 with model ARIMA in Validation 0 \n",
            "Template Eval Error: ValueError('Cannot convert non-finite values (NA or inf) to integer',) in model 208: ARIMA\n",
            "Model Number: 209 with model VECM in Validation 0 \n",
            "Template Eval Error: ValueError('Only gave one variable to VECM',) in model 209: VECM\n",
            "Model Number: 210 with model VECM in Validation 0 \n",
            "Transformation method not known or improperly entered, returning untransformed df\n",
            "Template Eval Error: TypeError(\"fit() missing 1 required positional argument: 'df'\",) in model 210: VECM\n",
            "Model Number: 211 with model VECM in Validation 0 \n",
            "Template Eval Error: ValueError('Only gave one variable to VECM',) in model 211: VECM\n",
            "Model Number: 212 with model VECM in Validation 0 \n",
            "Transformation method not known or improperly entered, returning untransformed df\n",
            "Template Eval Error: TypeError(\"fit() missing 1 required positional argument: 'df'\",) in model 212: VECM\n",
            "Model Number: 213 with model VAR in Validation 0 \n",
            "Template Eval Error: ValueError('Only gave one variable to VAR',) in model 213: VAR\n",
            "Model Number: 214 with model VAR in Validation 0 \n",
            "Template Eval Error: ValueError('Only gave one variable to VAR',) in model 214: VAR\n",
            "Model Number: 215 with model VAR in Validation 0 \n",
            "Template Eval Error: ValueError('Only gave one variable to VAR',) in model 215: VAR\n",
            "Model Number: 216 with model VAR in Validation 0 \n",
            "Template Eval Error: ValueError('Only gave one variable to VAR',) in model 216: VAR\n",
            "Model Number: 217 with model GluonTS in Validation 0 \n",
            "Template Eval Error: NameError(\"name 'ListDataset' is not defined\",) in model 217: GluonTS\n",
            "Model Number: 218 with model GluonTS in Validation 0 \n",
            "Template Eval Error: NameError(\"name 'ListDataset' is not defined\",) in model 218: GluonTS\n",
            "Model Number: 219 with model GluonTS in Validation 0 \n",
            "Template Eval Error: NameError(\"name 'ListDataset' is not defined\",) in model 219: GluonTS\n",
            "Model Number: 220 with model GluonTS in Validation 0 \n",
            "Template Eval Error: NameError(\"name 'ListDataset' is not defined\",) in model 220: GluonTS\n",
            "New Generation: 4\n",
            "Model Number: 221 with model UnobservedComponents in Validation 0 \n",
            "Model Number: 222 with model UnobservedComponents in Validation 0 \n"
          ],
          "name": "stdout"
        },
        {
          "output_type": "stream",
          "text": [
            "/usr/local/lib/python3.6/dist-packages/statsmodels/tsa/statespace/structural.py:494: SpecificationWarning:\n",
            "\n",
            "Specified model does not contain a stochastic element; irregular component added.\n",
            "\n",
            "/usr/local/lib/python3.6/dist-packages/statsmodels/base/model.py:512: ConvergenceWarning:\n",
            "\n",
            "Maximum Likelihood optimization failed to converge. Check mle_retvals\n",
            "\n"
          ],
          "name": "stderr"
        },
        {
          "output_type": "stream",
          "text": [
            "Model Number: 223 with model UnobservedComponents in Validation 0 \n",
            "Model Number: 224 with model RollingRegression in Validation 0 \n",
            "Template Eval Error: UnboundLocalError(\"local variable 'grouping_ids' referenced before assignment\",) in model 224: RollingRegression\n",
            "Model Number: 225 with model RollingRegression in Validation 0 \n",
            "Template Eval Error: UnboundLocalError(\"local variable 'grouping_ids' referenced before assignment\",) in model 225: RollingRegression\n",
            "Model Number: 226 with model RollingRegression in Validation 0 \n",
            "Template Eval Error: UnboundLocalError(\"local variable 'grouping_ids' referenced before assignment\",) in model 226: RollingRegression\n",
            "Model Number: 227 with model RollingRegression in Validation 0 \n"
          ],
          "name": "stdout"
        },
        {
          "output_type": "stream",
          "text": [
            "INFO:fbprophet:Disabling yearly seasonality. Run prophet with yearly_seasonality=True to override this.\n",
            "INFO:fbprophet:Disabling daily seasonality. Run prophet with daily_seasonality=True to override this.\n"
          ],
          "name": "stderr"
        },
        {
          "output_type": "stream",
          "text": [
            "Template Eval Error: ValueError(\"Input contains NaN, infinity or a value too large for dtype('float64').\",) in model 227: RollingRegression\n",
            "Model Number: 228 with model FBProphet in Validation 0 \n",
            "FBProphet Initial Set\n"
          ],
          "name": "stdout"
        },
        {
          "output_type": "stream",
          "text": [
            "INFO:fbprophet:Disabling yearly seasonality. Run prophet with yearly_seasonality=True to override this.\n",
            "INFO:fbprophet:Disabling daily seasonality. Run prophet with daily_seasonality=True to override this.\n"
          ],
          "name": "stderr"
        },
        {
          "output_type": "stream",
          "text": [
            "Model Number: 229 with model FBProphet in Validation 0 \n",
            "FBProphet Initial Set\n"
          ],
          "name": "stdout"
        },
        {
          "output_type": "stream",
          "text": [
            "INFO:fbprophet:Disabling yearly seasonality. Run prophet with yearly_seasonality=True to override this.\n",
            "INFO:fbprophet:Disabling daily seasonality. Run prophet with daily_seasonality=True to override this.\n"
          ],
          "name": "stderr"
        },
        {
          "output_type": "stream",
          "text": [
            "Model Number: 230 with model FBProphet in Validation 0 \n",
            "FBProphet Initial Set\n"
          ],
          "name": "stdout"
        },
        {
          "output_type": "stream",
          "text": [
            "INFO:fbprophet:Disabling yearly seasonality. Run prophet with yearly_seasonality=True to override this.\n",
            "INFO:fbprophet:Disabling daily seasonality. Run prophet with daily_seasonality=True to override this.\n"
          ],
          "name": "stderr"
        },
        {
          "output_type": "stream",
          "text": [
            "Model Number: 231 with model FBProphet in Validation 0 \n",
            "FBProphet Initial Set\n",
            "Model Number: 232 with model WindowRegression in Validation 0 \n",
            "Model Number: 233 with model WindowRegression in Validation 0 \n",
            "Model Number: 234 with model WindowRegression in Validation 0 \n",
            "Model Number: 235 with model WindowRegression in Validation 0 \n",
            "Model Number: 236 with model LastValueNaive in Validation 0 \n",
            "Model Number: 237 with model LastValueNaive in Validation 0 \n",
            "Model Number: 238 with model ETS in Validation 0 \n",
            "Model Number: 239 with model ETS in Validation 0 \n",
            "Template Eval Error: ValueError('Can only dampen the trend component',) in model 239: ETS\n",
            "Model Number: 240 with model ETS in Validation 0 \n",
            "Template Eval Error: ValueError('Can only dampen the trend component',) in model 240: ETS\n",
            "Model Number: 241 with model ETS in Validation 0 \n",
            "Model Number: 242 with model GLM in Validation 0 \n",
            "Model Number: 243 with model GLM in Validation 0 \n",
            "Model Number: 244 with model GLM in Validation 0 \n"
          ],
          "name": "stdout"
        },
        {
          "output_type": "stream",
          "text": [
            "/usr/local/lib/python3.6/dist-packages/statsmodels/genmod/generalized_linear_model.py:273: DomainWarning:\n",
            "\n",
            "The inverse_power link function does not respect the domain of the Gamma family.\n",
            "\n",
            "/usr/local/lib/python3.6/dist-packages/statsmodels/genmod/generalized_linear_model.py:273: DomainWarning:\n",
            "\n",
            "The inverse_power link function does not respect the domain of the Gamma family.\n",
            "\n",
            "/usr/local/lib/python3.6/dist-packages/statsmodels/genmod/generalized_linear_model.py:273: DomainWarning:\n",
            "\n",
            "The inverse_power link function does not respect the domain of the Gamma family.\n",
            "\n"
          ],
          "name": "stderr"
        },
        {
          "output_type": "stream",
          "text": [
            "Model Number: 245 with model GLM in Validation 0 \n",
            "Model Number: 246 with model GLS in Validation 0 \n",
            "Model Number: 247 with model GLS in Validation 0 \n"
          ],
          "name": "stdout"
        },
        {
          "output_type": "stream",
          "text": [
            "/usr/local/lib/python3.6/dist-packages/statsmodels/genmod/generalized_linear_model.py:273: DomainWarning:\n",
            "\n",
            "The inverse_power link function does not respect the domain of the Gamma family.\n",
            "\n"
          ],
          "name": "stderr"
        },
        {
          "output_type": "stream",
          "text": [
            "Model Number: 248 with model GLS in Validation 0 \n",
            "Model Number: 249 with model SeasonalNaive in Validation 0 \n",
            "Model Number: 250 with model SeasonalNaive in Validation 0 \n",
            "Model Number: 251 with model SeasonalNaive in Validation 0 \n",
            "Model Number: 252 with model SeasonalNaive in Validation 0 \n",
            "Model Number: 253 with model ZeroesNaive in Validation 0 \n"
          ],
          "name": "stdout"
        },
        {
          "output_type": "stream",
          "text": [
            "/usr/local/lib/python3.6/dist-packages/sklearn/linear_model/_coordinate_descent.py:1790: ConvergenceWarning:\n",
            "\n",
            "Objective did not converge. You might want to increase the number of iterations. Duality gap: 14.952991983352508, tolerance: 0.0197\n",
            "\n",
            "/usr/local/lib/python3.6/dist-packages/sklearn/linear_model/_coordinate_descent.py:1790: ConvergenceWarning:\n",
            "\n",
            "Objective did not converge. You might want to increase the number of iterations. Duality gap: 14.952991983352508, tolerance: 0.0197\n",
            "\n"
          ],
          "name": "stderr"
        },
        {
          "output_type": "stream",
          "text": [
            "Model Number: 254 with model ZeroesNaive in Validation 0 \n",
            "Model Number: 255 with model AverageValueNaive in Validation 0 \n",
            "Model Number: 256 with model AverageValueNaive in Validation 0 \n",
            "Model Number: 257 with model AverageValueNaive in Validation 0 \n",
            "Model Number: 258 with model ARIMA in Validation 0 \n",
            "Model Number: 259 with model ARIMA in Validation 0 \n"
          ],
          "name": "stdout"
        },
        {
          "output_type": "stream",
          "text": [
            "/usr/local/lib/python3.6/dist-packages/sklearn/linear_model/_coordinate_descent.py:1790: ConvergenceWarning:\n",
            "\n",
            "Objective did not converge. You might want to increase the number of iterations. Duality gap: 39579.48477868743, tolerance: 50.65535832579402\n",
            "\n"
          ],
          "name": "stderr"
        },
        {
          "output_type": "stream",
          "text": [
            "Model Number: 260 with model ARIMA in Validation 0 \n",
            "Model Number: 261 with model ARIMA in Validation 0 \n",
            "Model Number: 262 with model VECM in Validation 0 \n",
            "Template Eval Error: ValueError('Only gave one variable to VECM',) in model 262: VECM\n",
            "Model Number: 263 with model VECM in Validation 0 \n",
            "Template Eval Error: ValueError('Only gave one variable to VECM',) in model 263: VECM\n",
            "Model Number: 264 with model VECM in Validation 0 \n",
            "Template Eval Error: ValueError('Only gave one variable to VECM',) in model 264: VECM\n",
            "Model Number: 265 with model VECM in Validation 0 \n",
            "Template Eval Error: ValueError('Only gave one variable to VECM',) in model 265: VECM\n",
            "Model Number: 266 with model VAR in Validation 0 \n",
            "Template Eval Error: ValueError('Unable to coerce to Series, length must be 1: given 188',) in model 266: VAR\n",
            "Model Number: 267 with model VAR in Validation 0 \n",
            "Template Eval Error: ValueError('Unable to coerce to Series, length must be 1: given 188',) in model 267: VAR\n",
            "Model Number: 268 with model VAR in Validation 0 \n",
            "Template Eval Error: UnboundLocalError(\"local variable 'grouping_ids' referenced before assignment\",) in model 268: VAR\n",
            "Model Number: 269 with model VAR in Validation 0 \n",
            "Template Eval Error: ValueError('Only gave one variable to VAR',) in model 269: VAR\n",
            "Model Number: 270 with model GluonTS in Validation 0 \n",
            "Template Eval Error: NameError(\"name 'ListDataset' is not defined\",) in model 270: GluonTS\n",
            "Model Number: 271 with model GluonTS in Validation 0 \n",
            "Template Eval Error: NameError(\"name 'ListDataset' is not defined\",) in model 271: GluonTS\n",
            "Model Number: 272 with model GluonTS in Validation 0 \n",
            "Template Eval Error: NameError(\"name 'ListDataset' is not defined\",) in model 272: GluonTS\n",
            "Model Number: 273 with model GluonTS in Validation 0 \n",
            "Template Eval Error: NameError(\"name 'ListDataset' is not defined\",) in model 273: GluonTS\n",
            "New Generation: 5\n",
            "Model Number: 274 with model AverageValueNaive in Validation 0 \n",
            "Model Number: 275 with model AverageValueNaive in Validation 0 \n",
            "Model Number: 276 with model AverageValueNaive in Validation 0 \n",
            "Model Number: 277 with model WindowRegression in Validation 0 \n",
            "Model Number: 278 with model WindowRegression in Validation 0 \n",
            "Model Number: 279 with model WindowRegression in Validation 0 \n",
            "Template Eval Error: ValueError('at least one array or dtype is required',) in model 279: WindowRegression\n",
            "Model Number: 280 with model WindowRegression in Validation 0 \n",
            "Template Eval Error: ValueError(\"Input contains NaN, infinity or a value too large for dtype('float64').\",) in model 280: WindowRegression\n",
            "Model Number: 281 with model UnobservedComponents in Validation 0 \n",
            "Model Number: 282 with model UnobservedComponents in Validation 0 \n",
            "Model Number: 283 with model UnobservedComponents in Validation 0 \n",
            "Model Number: 284 with model RollingRegression in Validation 0 \n",
            "Template Eval Error: ValueError(\"Input contains NaN, infinity or a value too large for dtype('float64').\",) in model 284: RollingRegression\n",
            "Model Number: 285 with model RollingRegression in Validation 0 \n",
            "Template Eval Error: ValueError(\"Input contains NaN, infinity or a value too large for dtype('float64').\",) in model 285: RollingRegression\n",
            "Model Number: 286 with model RollingRegression in Validation 0 \n",
            "Template Eval Error: LightGBMError('Check failed: label > 0 at /__w/1/s/python-package/compile/src/metric/regression_metric.hpp, line 268 .\\n',) in model 286: RollingRegression\n",
            "Model Number: 287 with model RollingRegression in Validation 0 \n"
          ],
          "name": "stdout"
        },
        {
          "output_type": "stream",
          "text": [
            "/usr/local/lib/python3.6/dist-packages/sklearn/neural_network/_multilayer_perceptron.py:1342: DataConversionWarning:\n",
            "\n",
            "A column-vector y was passed when a 1d array was expected. Please change the shape of y to (n_samples, ), for example using ravel().\n",
            "\n",
            "/usr/local/lib/python3.6/dist-packages/sklearn/neural_network/_multilayer_perceptron.py:470: ConvergenceWarning:\n",
            "\n",
            "lbfgs failed to converge (status=1):\n",
            "STOP: TOTAL NO. of ITERATIONS REACHED LIMIT.\n",
            "\n",
            "Increase the number of iterations (max_iter) or scale the data as shown in:\n",
            "    https://scikit-learn.org/stable/modules/preprocessing.html\n",
            "\n",
            "INFO:fbprophet:Disabling yearly seasonality. Run prophet with yearly_seasonality=True to override this.\n",
            "INFO:fbprophet:Disabling daily seasonality. Run prophet with daily_seasonality=True to override this.\n"
          ],
          "name": "stderr"
        },
        {
          "output_type": "stream",
          "text": [
            "Model Number: 288 with model FBProphet in Validation 0 \n",
            "FBProphet Initial Set\n"
          ],
          "name": "stdout"
        },
        {
          "output_type": "stream",
          "text": [
            "INFO:fbprophet:Disabling yearly seasonality. Run prophet with yearly_seasonality=True to override this.\n",
            "INFO:fbprophet:Disabling daily seasonality. Run prophet with daily_seasonality=True to override this.\n"
          ],
          "name": "stderr"
        },
        {
          "output_type": "stream",
          "text": [
            "Model Number: 289 with model FBProphet in Validation 0 \n",
            "FBProphet Initial Set\n"
          ],
          "name": "stdout"
        },
        {
          "output_type": "stream",
          "text": [
            "INFO:fbprophet:Disabling yearly seasonality. Run prophet with yearly_seasonality=True to override this.\n",
            "INFO:fbprophet:Disabling weekly seasonality. Run prophet with weekly_seasonality=True to override this.\n",
            "INFO:fbprophet:Disabling daily seasonality. Run prophet with daily_seasonality=True to override this.\n",
            "INFO:fbprophet:n_changepoints greater than number of observations. Using 1.\n"
          ],
          "name": "stderr"
        },
        {
          "output_type": "stream",
          "text": [
            "Model Number: 290 with model FBProphet in Validation 0 \n",
            "FBProphet Initial Set\n"
          ],
          "name": "stdout"
        },
        {
          "output_type": "stream",
          "text": [
            "INFO:fbprophet:Disabling yearly seasonality. Run prophet with yearly_seasonality=True to override this.\n",
            "INFO:fbprophet:Disabling weekly seasonality. Run prophet with weekly_seasonality=True to override this.\n",
            "INFO:fbprophet:Disabling daily seasonality. Run prophet with daily_seasonality=True to override this.\n",
            "INFO:fbprophet:n_changepoints greater than number of observations. Using 1.\n"
          ],
          "name": "stderr"
        },
        {
          "output_type": "stream",
          "text": [
            "Model Number: 291 with model FBProphet in Validation 0 \n",
            "FBProphet Initial Set\n",
            "Model Number: 292 with model LastValueNaive in Validation 0 \n",
            "Model Number: 293 with model LastValueNaive in Validation 0 \n",
            "Model Number: 294 with model LastValueNaive in Validation 0 \n",
            "Model Number: 295 with model GLM in Validation 0 \n",
            "Template Eval Error: UnboundLocalError(\"local variable 'grouping_ids' referenced before assignment\",) in model 295: GLM\n",
            "Model Number: 296 with model GLM in Validation 0 \n"
          ],
          "name": "stdout"
        },
        {
          "output_type": "stream",
          "text": [
            "/usr/local/lib/python3.6/dist-packages/statsmodels/genmod/generalized_linear_model.py:273: DomainWarning:\n",
            "\n",
            "The inverse_power link function does not respect the domain of the Gamma family.\n",
            "\n",
            "/usr/local/lib/python3.6/dist-packages/statsmodels/genmod/families/links.py:323: RuntimeWarning:\n",
            "\n",
            "divide by zero encountered in power\n",
            "\n",
            "/usr/local/lib/python3.6/dist-packages/statsmodels/genmod/families/family.py:698: RuntimeWarning:\n",
            "\n",
            "invalid value encountered in true_divide\n",
            "\n",
            "/usr/local/lib/python3.6/dist-packages/statsmodels/genmod/generalized_linear_model.py:774: RuntimeWarning:\n",
            "\n",
            "invalid value encountered in true_divide\n",
            "\n",
            "/usr/local/lib/python3.6/dist-packages/statsmodels/genmod/families/family.py:134: RuntimeWarning:\n",
            "\n",
            "invalid value encountered in multiply\n",
            "\n",
            "/usr/local/lib/python3.6/dist-packages/statsmodels/genmod/generalized_linear_model.py:1163: RuntimeWarning:\n",
            "\n",
            "invalid value encountered in multiply\n",
            "\n",
            "/usr/local/lib/python3.6/dist-packages/sklearn/linear_model/_coordinate_descent.py:1790: ConvergenceWarning:\n",
            "\n",
            "Objective did not converge. You might want to increase the number of iterations. Duality gap: 32.76886329909732, tolerance: 0.0197\n",
            "\n",
            "/usr/local/lib/python3.6/dist-packages/statsmodels/genmod/generalized_linear_model.py:273: DomainWarning:\n",
            "\n",
            "The inverse_power link function does not respect the domain of the Gamma family.\n",
            "\n"
          ],
          "name": "stderr"
        },
        {
          "output_type": "stream",
          "text": [
            "Template Eval Error: ValueError('NaN, inf or invalid value detected in weights, estimation infeasible.',) in model 296: GLM\n",
            "Model Number: 297 with model GLM in Validation 0 \n",
            "Model Number: 298 with model GLM in Validation 0 \n",
            "Template Eval Error: UnboundLocalError(\"local variable 'grouping_ids' referenced before assignment\",) in model 298: GLM\n",
            "Model Number: 299 with model ETS in Validation 0 \n"
          ],
          "name": "stdout"
        },
        {
          "output_type": "stream",
          "text": [
            "/usr/local/lib/python3.6/dist-packages/statsmodels/tsa/holtwinters.py:924: RuntimeWarning:\n",
            "\n",
            "divide by zero encountered in log\n",
            "\n",
            "/usr/local/lib/python3.6/dist-packages/statsmodels/tsa/holtwinters.py:930: RuntimeWarning:\n",
            "\n",
            "divide by zero encountered in log\n",
            "\n",
            "/usr/local/lib/python3.6/dist-packages/statsmodels/tsa/holtwinters.py:939: RuntimeWarning:\n",
            "\n",
            "invalid value encountered in double_scalars\n",
            "\n",
            "/usr/local/lib/python3.6/dist-packages/statsmodels/tsa/holtwinters.py:712: ConvergenceWarning:\n",
            "\n",
            "Optimization failed to converge. Check mle_retvals.\n",
            "\n",
            "/usr/local/lib/python3.6/dist-packages/statsmodels/tsa/holtwinters.py:924: RuntimeWarning:\n",
            "\n",
            "divide by zero encountered in log\n",
            "\n",
            "/usr/local/lib/python3.6/dist-packages/statsmodels/tsa/holtwinters.py:929: RuntimeWarning:\n",
            "\n",
            "invalid value encountered in double_scalars\n",
            "\n",
            "/usr/local/lib/python3.6/dist-packages/statsmodels/tsa/holtwinters.py:930: RuntimeWarning:\n",
            "\n",
            "divide by zero encountered in log\n",
            "\n"
          ],
          "name": "stderr"
        },
        {
          "output_type": "stream",
          "text": [
            "One or more series have failed to optimize with ETS model\n",
            "Template Eval Error: ValueError('Model ETS returned NaN for one or more series',) in model 299: ETS\n",
            "Model Number: 300 with model ETS in Validation 0 \n",
            "Model Number: 301 with model ETS in Validation 0 \n",
            "Model Number: 302 with model ETS in Validation 0 \n",
            "Model Number: 303 with model GLS in Validation 0 \n",
            "Template Eval Error: ImportError(\"cannot import name 'PoissonRegressor'\",) in model 303: GLS\n",
            "Model Number: 304 with model GLS in Validation 0 \n",
            "Template Eval Error: ImportError(\"cannot import name 'PoissonRegressor'\",) in model 304: GLS\n",
            "Model Number: 305 with model GLS in Validation 0 \n",
            "Template Eval Error: ImportError(\"cannot import name 'PoissonRegressor'\",) in model 305: GLS\n",
            "Model Number: 306 with model SeasonalNaive in Validation 0 \n",
            "Model Number: 307 with model SeasonalNaive in Validation 0 \n",
            "Model Number: 308 with model SeasonalNaive in Validation 0 \n",
            "Model Number: 309 with model SeasonalNaive in Validation 0 \n",
            "Model Number: 310 with model ZeroesNaive in Validation 0 \n"
          ],
          "name": "stdout"
        },
        {
          "output_type": "stream",
          "text": [
            "/usr/local/lib/python3.6/dist-packages/sklearn/linear_model/_coordinate_descent.py:1790: ConvergenceWarning:\n",
            "\n",
            "Objective did not converge. You might want to increase the number of iterations. Duality gap: 0.27427916950715225, tolerance: 0.001655242695538469\n",
            "\n",
            "/usr/local/lib/python3.6/dist-packages/sklearn/linear_model/_coordinate_descent.py:1790: ConvergenceWarning:\n",
            "\n",
            "Objective did not converge. You might want to increase the number of iterations. Duality gap: 1.0084914486370238, tolerance: 0.018800000000000004\n",
            "\n"
          ],
          "name": "stderr"
        },
        {
          "output_type": "stream",
          "text": [
            "Model Number: 311 with model ZeroesNaive in Validation 0 \n",
            "Model Number: 312 with model ZeroesNaive in Validation 0 \n"
          ],
          "name": "stdout"
        },
        {
          "output_type": "stream",
          "text": [
            "/usr/local/lib/python3.6/dist-packages/sklearn/linear_model/_coordinate_descent.py:1790: ConvergenceWarning:\n",
            "\n",
            "Objective did not converge. You might want to increase the number of iterations. Duality gap: 0.27427916950715225, tolerance: 0.001655242695538469\n",
            "\n"
          ],
          "name": "stderr"
        },
        {
          "output_type": "stream",
          "text": [
            "Model Number: 313 with model ARIMA in Validation 0 \n"
          ],
          "name": "stdout"
        },
        {
          "output_type": "stream",
          "text": [
            "/usr/local/lib/python3.6/dist-packages/statsmodels/tsa/tsatools.py:695: RuntimeWarning:\n",
            "\n",
            "invalid value encountered in log\n",
            "\n"
          ],
          "name": "stderr"
        },
        {
          "output_type": "stream",
          "text": [
            "Model Number: 314 with model ARIMA in Validation 0 \n"
          ],
          "name": "stdout"
        },
        {
          "output_type": "stream",
          "text": [
            "/usr/local/lib/python3.6/dist-packages/statsmodels/base/model.py:492: HessianInversionWarning:\n",
            "\n",
            "Inverting hessian failed, no bse or cov_params available\n",
            "\n",
            "/usr/local/lib/python3.6/dist-packages/statsmodels/base/model.py:512: ConvergenceWarning:\n",
            "\n",
            "Maximum Likelihood optimization failed to converge. Check mle_retvals\n",
            "\n"
          ],
          "name": "stderr"
        },
        {
          "output_type": "stream",
          "text": [
            "Template Eval Error: ValueError('Length mismatch: Expected axis has 2 elements, new values have 1 elements',) in model 314: ARIMA\n",
            "Model Number: 315 with model ARIMA in Validation 0 \n",
            "Model Number: 316 with model VECM in Validation 0 \n",
            "Template Eval Error: ValueError('Only gave one variable to VECM',) in model 316: VECM\n",
            "Model Number: 317 with model VECM in Validation 0 \n",
            "Template Eval Error: ValueError('Only gave one variable to VECM',) in model 317: VECM\n",
            "Model Number: 318 with model VECM in Validation 0 \n",
            "Template Eval Error: ValueError('Only gave one variable to VECM',) in model 318: VECM\n",
            "Model Number: 319 with model VECM in Validation 0 \n",
            "Template Eval Error: ValueError('Only gave one variable to VECM',) in model 319: VECM\n",
            "Model Number: 320 with model VAR in Validation 0 \n",
            "Template Eval Error: ValueError('Unable to coerce to Series, length must be 1: given 188',) in model 320: VAR\n",
            "Model Number: 321 with model VAR in Validation 0 \n",
            "Template Eval Error: ValueError('Only gave one variable to VAR',) in model 321: VAR\n",
            "Model Number: 322 with model VAR in Validation 0 \n",
            "Template Eval Error: ValueError('Unable to coerce to Series, length must be 1: given 188',) in model 322: VAR\n",
            "Model Number: 323 with model VAR in Validation 0 \n",
            "Template Eval Error: ValueError('Unable to coerce to Series, length must be 1: given 185',) in model 323: VAR\n",
            "Model Number: 324 with model GluonTS in Validation 0 \n",
            "Template Eval Error: NameError(\"name 'ListDataset' is not defined\",) in model 324: GluonTS\n",
            "Model Number: 325 with model GluonTS in Validation 0 \n",
            "Template Eval Error: NameError(\"name 'ListDataset' is not defined\",) in model 325: GluonTS\n",
            "Model Number: 326 with model GluonTS in Validation 0 \n",
            "Template Eval Error: NameError(\"name 'ListDataset' is not defined\",) in model 326: GluonTS\n",
            "Model Number: 327 with model Ensemble in Validation 0 \n"
          ],
          "name": "stdout"
        },
        {
          "output_type": "stream",
          "text": [
            "/usr/local/lib/python3.6/dist-packages/statsmodels/base/model.py:512: ConvergenceWarning:\n",
            "\n",
            "Maximum Likelihood optimization failed to converge. Check mle_retvals\n",
            "\n"
          ],
          "name": "stderr"
        },
        {
          "output_type": "stream",
          "text": [
            "Model Number: 328 with model Ensemble in Validation 0 \n"
          ],
          "name": "stdout"
        },
        {
          "output_type": "stream",
          "text": [
            "/usr/local/lib/python3.6/dist-packages/statsmodels/base/model.py:512: ConvergenceWarning:\n",
            "\n",
            "Maximum Likelihood optimization failed to converge. Check mle_retvals\n",
            "\n"
          ],
          "name": "stderr"
        },
        {
          "output_type": "stream",
          "text": [
            "Model Number: 329 with model Ensemble in Validation 0 \n"
          ],
          "name": "stdout"
        },
        {
          "output_type": "stream",
          "text": [
            "/usr/local/lib/python3.6/dist-packages/statsmodels/base/model.py:512: ConvergenceWarning:\n",
            "\n",
            "Maximum Likelihood optimization failed to converge. Check mle_retvals\n",
            "\n"
          ],
          "name": "stderr"
        },
        {
          "output_type": "stream",
          "text": [
            "Validation Round: 1\n",
            "Model Number: 1 with model Ensemble in Validation 1 \n",
            "Template Eval Error: ValueError('operands could not be broadcast together with shapes (5,1) (3,1) ',) in model 1: Ensemble\n",
            "Model Number: 2 with model AverageValueNaive in Validation 1 \n",
            "Model Number: 3 with model WindowRegression in Validation 1 \n",
            "Model Number: 4 with model UnobservedComponents in Validation 1 \n",
            "Model Number: 5 with model RollingRegression in Validation 1 \n"
          ],
          "name": "stdout"
        },
        {
          "output_type": "stream",
          "text": [
            "/usr/local/lib/python3.6/dist-packages/sklearn/neural_network/_multilayer_perceptron.py:1342: DataConversionWarning:\n",
            "\n",
            "A column-vector y was passed when a 1d array was expected. Please change the shape of y to (n_samples, ), for example using ravel().\n",
            "\n",
            "/usr/local/lib/python3.6/dist-packages/sklearn/neural_network/_multilayer_perceptron.py:470: ConvergenceWarning:\n",
            "\n",
            "lbfgs failed to converge (status=1):\n",
            "STOP: TOTAL NO. of ITERATIONS REACHED LIMIT.\n",
            "\n",
            "Increase the number of iterations (max_iter) or scale the data as shown in:\n",
            "    https://scikit-learn.org/stable/modules/preprocessing.html\n",
            "\n",
            "INFO:fbprophet:Disabling yearly seasonality. Run prophet with yearly_seasonality=True to override this.\n",
            "INFO:fbprophet:Disabling daily seasonality. Run prophet with daily_seasonality=True to override this.\n"
          ],
          "name": "stderr"
        },
        {
          "output_type": "stream",
          "text": [
            "Model Number: 6 with model FBProphet in Validation 1 \n",
            "FBProphet Initial Set\n"
          ],
          "name": "stdout"
        },
        {
          "output_type": "stream",
          "text": [
            "INFO:fbprophet:Disabling yearly seasonality. Run prophet with yearly_seasonality=True to override this.\n",
            "INFO:fbprophet:Disabling daily seasonality. Run prophet with daily_seasonality=True to override this.\n"
          ],
          "name": "stderr"
        },
        {
          "output_type": "stream",
          "text": [
            "Model Number: 7 with model FBProphet in Validation 1 \n",
            "FBProphet Initial Set\n",
            "Model Number: 8 with model RollingRegression in Validation 1 \n"
          ],
          "name": "stdout"
        },
        {
          "output_type": "stream",
          "text": [
            "/usr/local/lib/python3.6/dist-packages/sklearn/neural_network/_multilayer_perceptron.py:1342: DataConversionWarning:\n",
            "\n",
            "A column-vector y was passed when a 1d array was expected. Please change the shape of y to (n_samples, ), for example using ravel().\n",
            "\n",
            "/usr/local/lib/python3.6/dist-packages/sklearn/neural_network/_multilayer_perceptron.py:470: ConvergenceWarning:\n",
            "\n",
            "lbfgs failed to converge (status=1):\n",
            "STOP: TOTAL NO. of ITERATIONS REACHED LIMIT.\n",
            "\n",
            "Increase the number of iterations (max_iter) or scale the data as shown in:\n",
            "    https://scikit-learn.org/stable/modules/preprocessing.html\n",
            "\n"
          ],
          "name": "stderr"
        },
        {
          "output_type": "stream",
          "text": [
            "Model Number: 9 with model WindowRegression in Validation 1 \n",
            "Model Number: 10 with model WindowRegression in Validation 1 \n",
            "Model Number: 11 with model WindowRegression in Validation 1 \n",
            "Model Number: 12 with model WindowRegression in Validation 1 \n",
            "Model Number: 13 with model LastValueNaive in Validation 1 \n",
            "Model Number: 14 with model LastValueNaive in Validation 1 \n",
            "Model Number: 15 with model LastValueNaive in Validation 1 \n",
            "Model Number: 16 with model SeasonalNaive in Validation 1 \n",
            "Model Number: 17 with model LastValueNaive in Validation 1 \n",
            "Model Number: 18 with model UnobservedComponents in Validation 1 \n",
            "Model Number: 19 with model LastValueNaive in Validation 1 \n",
            "Model Number: 20 with model RollingRegression in Validation 1 \n"
          ],
          "name": "stdout"
        },
        {
          "output_type": "stream",
          "text": [
            "/usr/local/lib/python3.6/dist-packages/sklearn/neural_network/_multilayer_perceptron.py:1342: DataConversionWarning:\n",
            "\n",
            "A column-vector y was passed when a 1d array was expected. Please change the shape of y to (n_samples, ), for example using ravel().\n",
            "\n",
            "/usr/local/lib/python3.6/dist-packages/sklearn/neural_network/_multilayer_perceptron.py:470: ConvergenceWarning:\n",
            "\n",
            "lbfgs failed to converge (status=1):\n",
            "STOP: TOTAL NO. of ITERATIONS REACHED LIMIT.\n",
            "\n",
            "Increase the number of iterations (max_iter) or scale the data as shown in:\n",
            "    https://scikit-learn.org/stable/modules/preprocessing.html\n",
            "\n"
          ],
          "name": "stderr"
        },
        {
          "output_type": "stream",
          "text": [
            "Model Number: 21 with model RollingRegression in Validation 1 \n"
          ],
          "name": "stdout"
        },
        {
          "output_type": "stream",
          "text": [
            "/usr/local/lib/python3.6/dist-packages/sklearn/neural_network/_multilayer_perceptron.py:1342: DataConversionWarning:\n",
            "\n",
            "A column-vector y was passed when a 1d array was expected. Please change the shape of y to (n_samples, ), for example using ravel().\n",
            "\n",
            "/usr/local/lib/python3.6/dist-packages/sklearn/neural_network/_multilayer_perceptron.py:470: ConvergenceWarning:\n",
            "\n",
            "lbfgs failed to converge (status=1):\n",
            "STOP: TOTAL NO. of ITERATIONS REACHED LIMIT.\n",
            "\n",
            "Increase the number of iterations (max_iter) or scale the data as shown in:\n",
            "    https://scikit-learn.org/stable/modules/preprocessing.html\n",
            "\n"
          ],
          "name": "stderr"
        },
        {
          "output_type": "stream",
          "text": [
            "Model Number: 22 with model GLM in Validation 1 \n",
            "Model Number: 23 with model ETS in Validation 1 \n",
            "Model Number: 24 with model ETS in Validation 1 \n"
          ],
          "name": "stdout"
        },
        {
          "output_type": "stream",
          "text": [
            "/usr/local/lib/python3.6/dist-packages/statsmodels/genmod/generalized_linear_model.py:273: DomainWarning:\n",
            "\n",
            "The inverse_power link function does not respect the domain of the Gamma family.\n",
            "\n",
            "/usr/local/lib/python3.6/dist-packages/statsmodels/tsa/holtwinters.py:939: RuntimeWarning:\n",
            "\n",
            "invalid value encountered in double_scalars\n",
            "\n",
            "INFO:fbprophet:Disabling yearly seasonality. Run prophet with yearly_seasonality=True to override this.\n",
            "INFO:fbprophet:Disabling weekly seasonality. Run prophet with weekly_seasonality=True to override this.\n",
            "INFO:fbprophet:Disabling daily seasonality. Run prophet with daily_seasonality=True to override this.\n",
            "INFO:fbprophet:n_changepoints greater than number of observations. Using 3.\n"
          ],
          "name": "stderr"
        },
        {
          "output_type": "stream",
          "text": [
            "One or more series have failed to optimize with ETS model\n",
            "Template Eval Error: ValueError('Model ETS returned NaN for one or more series',) in model 24: ETS\n",
            "Model Number: 25 with model FBProphet in Validation 1 \n",
            "FBProphet Initial Set\n",
            "Model Number: 26 with model ETS in Validation 1 \n",
            "Model Number: 27 with model GLM in Validation 1 \n"
          ],
          "name": "stdout"
        },
        {
          "output_type": "stream",
          "text": [
            "/usr/local/lib/python3.6/dist-packages/statsmodels/genmod/generalized_linear_model.py:273: DomainWarning:\n",
            "\n",
            "The inverse_power link function does not respect the domain of the Gamma family.\n",
            "\n",
            "/usr/local/lib/python3.6/dist-packages/sklearn/neural_network/_multilayer_perceptron.py:1342: DataConversionWarning:\n",
            "\n",
            "A column-vector y was passed when a 1d array was expected. Please change the shape of y to (n_samples, ), for example using ravel().\n",
            "\n"
          ],
          "name": "stderr"
        },
        {
          "output_type": "stream",
          "text": [
            "Model Number: 28 with model RollingRegression in Validation 1 \n"
          ],
          "name": "stdout"
        },
        {
          "output_type": "stream",
          "text": [
            "/usr/local/lib/python3.6/dist-packages/sklearn/neural_network/_multilayer_perceptron.py:470: ConvergenceWarning:\n",
            "\n",
            "lbfgs failed to converge (status=1):\n",
            "STOP: TOTAL NO. of ITERATIONS REACHED LIMIT.\n",
            "\n",
            "Increase the number of iterations (max_iter) or scale the data as shown in:\n",
            "    https://scikit-learn.org/stable/modules/preprocessing.html\n",
            "\n",
            "INFO:fbprophet:Disabling yearly seasonality. Run prophet with yearly_seasonality=True to override this.\n",
            "INFO:fbprophet:Disabling daily seasonality. Run prophet with daily_seasonality=True to override this.\n"
          ],
          "name": "stderr"
        },
        {
          "output_type": "stream",
          "text": [
            "Model Number: 29 with model FBProphet in Validation 1 \n",
            "FBProphet Initial Set\n"
          ],
          "name": "stdout"
        },
        {
          "output_type": "stream",
          "text": [
            "INFO:fbprophet:Disabling yearly seasonality. Run prophet with yearly_seasonality=True to override this.\n",
            "INFO:fbprophet:Disabling daily seasonality. Run prophet with daily_seasonality=True to override this.\n"
          ],
          "name": "stderr"
        },
        {
          "output_type": "stream",
          "text": [
            "Model Number: 30 with model FBProphet in Validation 1 \n",
            "FBProphet Initial Set\n",
            "Model Number: 31 with model GLS in Validation 1 \n",
            "Model Number: 32 with model UnobservedComponents in Validation 1 \n",
            "Model Number: 33 with model UnobservedComponents in Validation 1 \n",
            "Model Number: 34 with model ETS in Validation 1 \n",
            "Model Number: 35 with model AverageValueNaive in Validation 1 \n",
            "Model Number: 36 with model GLS in Validation 1 \n",
            "Model Number: 37 with model GLS in Validation 1 \n",
            "Model Number: 38 with model GLS in Validation 1 \n",
            "Model Number: 39 with model GLS in Validation 1 \n",
            "Model Number: 40 with model UnobservedComponents in Validation 1 \n",
            "Model Number: 41 with model GLM in Validation 1 \n"
          ],
          "name": "stdout"
        },
        {
          "output_type": "stream",
          "text": [
            "/usr/local/lib/python3.6/dist-packages/statsmodels/genmod/generalized_linear_model.py:273: DomainWarning:\n",
            "\n",
            "The inverse_power link function does not respect the domain of the Gamma family.\n",
            "\n",
            "/usr/local/lib/python3.6/dist-packages/statsmodels/genmod/generalized_linear_model.py:273: DomainWarning:\n",
            "\n",
            "The inverse_power link function does not respect the domain of the Gamma family.\n",
            "\n"
          ],
          "name": "stderr"
        },
        {
          "output_type": "stream",
          "text": [
            "Model Number: 42 with model GLM in Validation 1 \n",
            "Model Number: 43 with model GLM in Validation 1 \n",
            "Model Number: 44 with model SeasonalNaive in Validation 1 \n",
            "Model Number: 45 with model SeasonalNaive in Validation 1 \n",
            "Model Number: 46 with model SeasonalNaive in Validation 1 \n",
            "Model Number: 47 with model SeasonalNaive in Validation 1 \n",
            "Model Number: 48 with model ZeroesNaive in Validation 1 \n",
            "Model Number: 49 with model ETS in Validation 1 \n",
            "Template Eval Error: ValueError('The given frequency argument is incompatible with the given index.',) in model 49: ETS\n",
            "Model Number: 50 with model ZeroesNaive in Validation 1 \n",
            "Validation Round: 2\n",
            "Model Number: 51 with model Ensemble in Validation 2 \n",
            "Template Eval Error: ValueError('operands could not be broadcast together with shapes (5,1) (3,1) ',) in model 51: Ensemble\n",
            "Model Number: 52 with model AverageValueNaive in Validation 2 \n",
            "Model Number: 53 with model WindowRegression in Validation 2 \n",
            "Model Number: 54 with model UnobservedComponents in Validation 2 \n",
            "Model Number: 55 with model RollingRegression in Validation 2 \n"
          ],
          "name": "stdout"
        },
        {
          "output_type": "stream",
          "text": [
            "/usr/local/lib/python3.6/dist-packages/sklearn/neural_network/_multilayer_perceptron.py:1342: DataConversionWarning:\n",
            "\n",
            "A column-vector y was passed when a 1d array was expected. Please change the shape of y to (n_samples, ), for example using ravel().\n",
            "\n",
            "/usr/local/lib/python3.6/dist-packages/sklearn/neural_network/_multilayer_perceptron.py:470: ConvergenceWarning:\n",
            "\n",
            "lbfgs failed to converge (status=1):\n",
            "STOP: TOTAL NO. of ITERATIONS REACHED LIMIT.\n",
            "\n",
            "Increase the number of iterations (max_iter) or scale the data as shown in:\n",
            "    https://scikit-learn.org/stable/modules/preprocessing.html\n",
            "\n",
            "INFO:fbprophet:Disabling yearly seasonality. Run prophet with yearly_seasonality=True to override this.\n",
            "INFO:fbprophet:Disabling daily seasonality. Run prophet with daily_seasonality=True to override this.\n"
          ],
          "name": "stderr"
        },
        {
          "output_type": "stream",
          "text": [
            "Model Number: 56 with model FBProphet in Validation 2 \n",
            "FBProphet Initial Set\n"
          ],
          "name": "stdout"
        },
        {
          "output_type": "stream",
          "text": [
            "INFO:fbprophet:Disabling yearly seasonality. Run prophet with yearly_seasonality=True to override this.\n",
            "INFO:fbprophet:Disabling daily seasonality. Run prophet with daily_seasonality=True to override this.\n"
          ],
          "name": "stderr"
        },
        {
          "output_type": "stream",
          "text": [
            "Model Number: 57 with model FBProphet in Validation 2 \n",
            "FBProphet Initial Set\n",
            "Model Number: 58 with model RollingRegression in Validation 2 \n"
          ],
          "name": "stdout"
        },
        {
          "output_type": "stream",
          "text": [
            "/usr/local/lib/python3.6/dist-packages/sklearn/neural_network/_multilayer_perceptron.py:1342: DataConversionWarning:\n",
            "\n",
            "A column-vector y was passed when a 1d array was expected. Please change the shape of y to (n_samples, ), for example using ravel().\n",
            "\n",
            "/usr/local/lib/python3.6/dist-packages/sklearn/neural_network/_multilayer_perceptron.py:470: ConvergenceWarning:\n",
            "\n",
            "lbfgs failed to converge (status=1):\n",
            "STOP: TOTAL NO. of ITERATIONS REACHED LIMIT.\n",
            "\n",
            "Increase the number of iterations (max_iter) or scale the data as shown in:\n",
            "    https://scikit-learn.org/stable/modules/preprocessing.html\n",
            "\n"
          ],
          "name": "stderr"
        },
        {
          "output_type": "stream",
          "text": [
            "Model Number: 59 with model WindowRegression in Validation 2 \n",
            "Model Number: 60 with model WindowRegression in Validation 2 \n",
            "Model Number: 61 with model WindowRegression in Validation 2 \n",
            "Model Number: 62 with model WindowRegression in Validation 2 \n",
            "Model Number: 63 with model LastValueNaive in Validation 2 \n",
            "Model Number: 64 with model LastValueNaive in Validation 2 \n",
            "Model Number: 65 with model LastValueNaive in Validation 2 \n",
            "Model Number: 66 with model SeasonalNaive in Validation 2 \n",
            "Model Number: 67 with model LastValueNaive in Validation 2 \n",
            "Model Number: 68 with model UnobservedComponents in Validation 2 \n",
            "Model Number: 69 with model LastValueNaive in Validation 2 \n",
            "Model Number: 70 with model RollingRegression in Validation 2 \n"
          ],
          "name": "stdout"
        },
        {
          "output_type": "stream",
          "text": [
            "/usr/local/lib/python3.6/dist-packages/sklearn/neural_network/_multilayer_perceptron.py:1342: DataConversionWarning:\n",
            "\n",
            "A column-vector y was passed when a 1d array was expected. Please change the shape of y to (n_samples, ), for example using ravel().\n",
            "\n",
            "/usr/local/lib/python3.6/dist-packages/sklearn/neural_network/_multilayer_perceptron.py:470: ConvergenceWarning:\n",
            "\n",
            "lbfgs failed to converge (status=1):\n",
            "STOP: TOTAL NO. of ITERATIONS REACHED LIMIT.\n",
            "\n",
            "Increase the number of iterations (max_iter) or scale the data as shown in:\n",
            "    https://scikit-learn.org/stable/modules/preprocessing.html\n",
            "\n"
          ],
          "name": "stderr"
        },
        {
          "output_type": "stream",
          "text": [
            "Model Number: 71 with model RollingRegression in Validation 2 \n"
          ],
          "name": "stdout"
        },
        {
          "output_type": "stream",
          "text": [
            "/usr/local/lib/python3.6/dist-packages/sklearn/neural_network/_multilayer_perceptron.py:1342: DataConversionWarning:\n",
            "\n",
            "A column-vector y was passed when a 1d array was expected. Please change the shape of y to (n_samples, ), for example using ravel().\n",
            "\n",
            "/usr/local/lib/python3.6/dist-packages/sklearn/neural_network/_multilayer_perceptron.py:470: ConvergenceWarning:\n",
            "\n",
            "lbfgs failed to converge (status=1):\n",
            "STOP: TOTAL NO. of ITERATIONS REACHED LIMIT.\n",
            "\n",
            "Increase the number of iterations (max_iter) or scale the data as shown in:\n",
            "    https://scikit-learn.org/stable/modules/preprocessing.html\n",
            "\n"
          ],
          "name": "stderr"
        },
        {
          "output_type": "stream",
          "text": [
            "Model Number: 72 with model GLM in Validation 2 \n",
            "Model Number: 73 with model ETS in Validation 2 \n",
            "Model Number: 74 with model ETS in Validation 2 \n"
          ],
          "name": "stdout"
        },
        {
          "output_type": "stream",
          "text": [
            "/usr/local/lib/python3.6/dist-packages/statsmodels/genmod/generalized_linear_model.py:273: DomainWarning:\n",
            "\n",
            "The inverse_power link function does not respect the domain of the Gamma family.\n",
            "\n",
            "INFO:fbprophet:Disabling yearly seasonality. Run prophet with yearly_seasonality=True to override this.\n",
            "INFO:fbprophet:Disabling weekly seasonality. Run prophet with weekly_seasonality=True to override this.\n",
            "INFO:fbprophet:Disabling daily seasonality. Run prophet with daily_seasonality=True to override this.\n",
            "INFO:fbprophet:n_changepoints greater than number of observations. Using 3.\n"
          ],
          "name": "stderr"
        },
        {
          "output_type": "stream",
          "text": [
            "Model Number: 75 with model FBProphet in Validation 2 \n",
            "FBProphet Initial Set\n",
            "Model Number: 76 with model ETS in Validation 2 \n",
            "Model Number: 77 with model GLM in Validation 2 \n"
          ],
          "name": "stdout"
        },
        {
          "output_type": "stream",
          "text": [
            "/usr/local/lib/python3.6/dist-packages/statsmodels/genmod/generalized_linear_model.py:273: DomainWarning:\n",
            "\n",
            "The inverse_power link function does not respect the domain of the Gamma family.\n",
            "\n",
            "/usr/local/lib/python3.6/dist-packages/statsmodels/genmod/families/links.py:323: RuntimeWarning:\n",
            "\n",
            "divide by zero encountered in power\n",
            "\n",
            "/usr/local/lib/python3.6/dist-packages/statsmodels/genmod/families/family.py:698: RuntimeWarning:\n",
            "\n",
            "invalid value encountered in true_divide\n",
            "\n",
            "/usr/local/lib/python3.6/dist-packages/statsmodels/genmod/generalized_linear_model.py:774: RuntimeWarning:\n",
            "\n",
            "invalid value encountered in true_divide\n",
            "\n",
            "/usr/local/lib/python3.6/dist-packages/statsmodels/genmod/families/family.py:134: RuntimeWarning:\n",
            "\n",
            "invalid value encountered in multiply\n",
            "\n",
            "/usr/local/lib/python3.6/dist-packages/statsmodels/genmod/generalized_linear_model.py:1163: RuntimeWarning:\n",
            "\n",
            "invalid value encountered in multiply\n",
            "\n",
            "/usr/local/lib/python3.6/dist-packages/sklearn/neural_network/_multilayer_perceptron.py:1342: DataConversionWarning:\n",
            "\n",
            "A column-vector y was passed when a 1d array was expected. Please change the shape of y to (n_samples, ), for example using ravel().\n",
            "\n"
          ],
          "name": "stderr"
        },
        {
          "output_type": "stream",
          "text": [
            "Template Eval Error: ValueError('NaN, inf or invalid value detected in weights, estimation infeasible.',) in model 77: GLM\n",
            "Model Number: 78 with model RollingRegression in Validation 2 \n"
          ],
          "name": "stdout"
        },
        {
          "output_type": "stream",
          "text": [
            "/usr/local/lib/python3.6/dist-packages/sklearn/neural_network/_multilayer_perceptron.py:470: ConvergenceWarning:\n",
            "\n",
            "lbfgs failed to converge (status=1):\n",
            "STOP: TOTAL NO. of ITERATIONS REACHED LIMIT.\n",
            "\n",
            "Increase the number of iterations (max_iter) or scale the data as shown in:\n",
            "    https://scikit-learn.org/stable/modules/preprocessing.html\n",
            "\n",
            "INFO:fbprophet:Disabling yearly seasonality. Run prophet with yearly_seasonality=True to override this.\n",
            "INFO:fbprophet:Disabling daily seasonality. Run prophet with daily_seasonality=True to override this.\n"
          ],
          "name": "stderr"
        },
        {
          "output_type": "stream",
          "text": [
            "Model Number: 79 with model FBProphet in Validation 2 \n",
            "FBProphet Initial Set\n"
          ],
          "name": "stdout"
        },
        {
          "output_type": "stream",
          "text": [
            "INFO:fbprophet:Disabling yearly seasonality. Run prophet with yearly_seasonality=True to override this.\n",
            "INFO:fbprophet:Disabling daily seasonality. Run prophet with daily_seasonality=True to override this.\n"
          ],
          "name": "stderr"
        },
        {
          "output_type": "stream",
          "text": [
            "Model Number: 80 with model FBProphet in Validation 2 \n",
            "FBProphet Initial Set\n",
            "Model Number: 81 with model GLS in Validation 2 \n",
            "Model Number: 82 with model UnobservedComponents in Validation 2 \n",
            "Model Number: 83 with model UnobservedComponents in Validation 2 \n",
            "Model Number: 84 with model ETS in Validation 2 \n",
            "Model Number: 85 with model AverageValueNaive in Validation 2 \n",
            "Model Number: 86 with model GLS in Validation 2 \n",
            "Model Number: 87 with model GLS in Validation 2 \n",
            "Model Number: 88 with model GLS in Validation 2 \n",
            "Model Number: 89 with model GLS in Validation 2 \n",
            "Model Number: 90 with model UnobservedComponents in Validation 2 \n",
            "Model Number: 91 with model GLM in Validation 2 \n",
            "Model Number: 92 with model GLM in Validation 2 \n"
          ],
          "name": "stdout"
        },
        {
          "output_type": "stream",
          "text": [
            "/usr/local/lib/python3.6/dist-packages/statsmodels/genmod/generalized_linear_model.py:273: DomainWarning:\n",
            "\n",
            "The inverse_power link function does not respect the domain of the Gamma family.\n",
            "\n",
            "/usr/local/lib/python3.6/dist-packages/statsmodels/genmod/generalized_linear_model.py:273: DomainWarning:\n",
            "\n",
            "The inverse_power link function does not respect the domain of the Gamma family.\n",
            "\n"
          ],
          "name": "stderr"
        },
        {
          "output_type": "stream",
          "text": [
            "Model Number: 93 with model GLM in Validation 2 \n",
            "Model Number: 94 with model SeasonalNaive in Validation 2 \n",
            "Model Number: 95 with model SeasonalNaive in Validation 2 \n",
            "Model Number: 96 with model SeasonalNaive in Validation 2 \n",
            "Model Number: 97 with model SeasonalNaive in Validation 2 \n",
            "Model Number: 98 with model ZeroesNaive in Validation 2 \n"
          ],
          "name": "stdout"
        },
        {
          "output_type": "stream",
          "text": [
            "/usr/local/lib/python3.6/dist-packages/sklearn/linear_model/_coordinate_descent.py:1790: ConvergenceWarning:\n",
            "\n",
            "Objective did not converge. You might want to increase the number of iterations. Duality gap: 0.7474064114612422, tolerance: 0.0010991186491667248\n",
            "\n",
            "/usr/local/lib/python3.6/dist-packages/sklearn/linear_model/_coordinate_descent.py:1790: ConvergenceWarning:\n",
            "\n",
            "Objective did not converge. You might want to increase the number of iterations. Duality gap: 0.7474064114612422, tolerance: 0.0010991186491667248\n",
            "\n"
          ],
          "name": "stderr"
        },
        {
          "output_type": "stream",
          "text": [
            "Model Number: 99 with model ETS in Validation 2 \n",
            "Template Eval Error: ValueError('The given frequency argument is incompatible with the given index.',) in model 99: ETS\n",
            "Model Number: 100 with model ZeroesNaive in Validation 2 \n",
            "Initiated AutoTS object with best model: \n",
            "WindowRegression\n",
            "{\"outlier_method\": \"remove\", \"outlier_threshold\": 6, \"outlier_position\": \"first;middle\", \"fillna\": \"rolling mean\", \"transformation\": \"PowerTransformer\", \"second_transformation\": null, \"transformation_param\": null, \"detrend\": null, \"third_transformation\": null, \"transformation_param2\": null, \"fourth_transformation\": null, \"discretization\": null, \"n_bins\": null, \"coerce_integer\": false, \"context_slicer\": null, \"grouping\": null, \"reconciliation\": null}\n",
            "{\"window_size\": 5, \"regression_model\": {\"model\": \"LightGBM\", \"model_params\": {\"objective\": \"regression_l1\", \"learning_rate\": 0.1, \"num_leaves\": 31, \"max_depth\": 10, \"boosting_type\": \"goss\", \"n_estimators\": 100}}, \"input_dim\": \"multivariate\", \"output_dim\": \"1step\", \"normalize_window\": false, \"shuffle\": true, \"max_windows\": 5000}\n"
          ],
          "name": "stdout"
        }
      ]
    },
    {
      "cell_type": "code",
      "metadata": {
        "id": "ddnx6EbA4Hl9",
        "colab_type": "code",
        "colab": {}
      },
      "source": [
        "prediction = mod.predict()"
      ],
      "execution_count": 7,
      "outputs": []
    },
    {
      "cell_type": "code",
      "metadata": {
        "id": "vhrUwdxE4Hop",
        "colab_type": "code",
        "colab": {}
      },
      "source": [
        "forcast = prediction.forecast "
      ],
      "execution_count": 8,
      "outputs": []
    },
    {
      "cell_type": "code",
      "metadata": {
        "id": "e7FW2fQr4HrR",
        "colab_type": "code",
        "colab": {}
      },
      "source": [
        "model_results = mod.results()"
      ],
      "execution_count": 10,
      "outputs": []
    },
    {
      "cell_type": "code",
      "metadata": {
        "id": "zn59tn4d4HuC",
        "colab_type": "code",
        "colab": {}
      },
      "source": [
        "validation = mod.results(\"validation\")"
      ],
      "execution_count": 12,
      "outputs": []
    },
    {
      "cell_type": "code",
      "metadata": {
        "id": "Sf7BIp0L4Hww",
        "colab_type": "code",
        "colab": {
          "base_uri": "https://localhost:8080/",
          "height": 84
        },
        "outputId": "f4607e40-d28a-4579-fede-c280f3a2ecb5"
      },
      "source": [
        "print(forcast)"
      ],
      "execution_count": 14,
      "outputs": [
        {
          "output_type": "stream",
          "text": [
            "                 Close\n",
            "2020-08-31  392.740993\n",
            "2020-09-01  389.106055\n",
            "2020-09-02  391.693426\n"
          ],
          "name": "stdout"
        }
      ]
    },
    {
      "cell_type": "code",
      "metadata": {
        "id": "AN6Wo3uq75D7",
        "colab_type": "code",
        "colab": {
          "base_uri": "https://localhost:8080/",
          "height": 133
        },
        "outputId": "2626f7ca-ca4b-456c-9a00-e9fb30e08ce7"
      },
      "source": [
        "forcast.head()"
      ],
      "execution_count": 17,
      "outputs": [
        {
          "output_type": "execute_result",
          "data": {
            "text/html": [
              "<div>\n",
              "<style scoped>\n",
              "    .dataframe tbody tr th:only-of-type {\n",
              "        vertical-align: middle;\n",
              "    }\n",
              "\n",
              "    .dataframe tbody tr th {\n",
              "        vertical-align: top;\n",
              "    }\n",
              "\n",
              "    .dataframe thead th {\n",
              "        text-align: right;\n",
              "    }\n",
              "</style>\n",
              "<table border=\"1\" class=\"dataframe\">\n",
              "  <thead>\n",
              "    <tr style=\"text-align: right;\">\n",
              "      <th></th>\n",
              "      <th>Close</th>\n",
              "    </tr>\n",
              "  </thead>\n",
              "  <tbody>\n",
              "    <tr>\n",
              "      <th>2020-08-31</th>\n",
              "      <td>392.740993</td>\n",
              "    </tr>\n",
              "    <tr>\n",
              "      <th>2020-09-01</th>\n",
              "      <td>389.106055</td>\n",
              "    </tr>\n",
              "    <tr>\n",
              "      <th>2020-09-02</th>\n",
              "      <td>391.693426</td>\n",
              "    </tr>\n",
              "  </tbody>\n",
              "</table>\n",
              "</div>"
            ],
            "text/plain": [
              "                 Close\n",
              "2020-08-31  392.740993\n",
              "2020-09-01  389.106055\n",
              "2020-09-02  391.693426"
            ]
          },
          "metadata": {
            "tags": []
          },
          "execution_count": 17
        }
      ]
    },
    {
      "cell_type": "code",
      "metadata": {
        "id": "-HaVRX3B4HzX",
        "colab_type": "code",
        "colab": {
          "base_uri": "https://localhost:8080/",
          "height": 252
        },
        "outputId": "04bfa99a-fb38-4b01-a01c-6e20a0fe9c42"
      },
      "source": [
        "print(validation)"
      ],
      "execution_count": 15,
      "outputs": [
        {
          "output_type": "stream",
          "text": [
            "                                   ID  ...       Score\n",
            "0    005cbd741e1ceb756901d69a757ff18d  ...   12.030508\n",
            "1    008817f3fa0371cc0a04b372ed6e1627  ...   53.480479\n",
            "2    01f618a3c18bb48e18fef971762368cd  ...  178.665380\n",
            "3    02a48467af6e4c576569daf23bc3536b  ...   17.455068\n",
            "4    035d7a87e364f983e24c86ad67f4fb42  ...   31.453950\n",
            "..                                ...  ...         ...\n",
            "187  fb9f70ab96d9c614fe9bc085a64b987f  ...   42.927564\n",
            "188  fc13f2996b07c50631db05af063d32d8  ...   93.210048\n",
            "189  fefc9b5c7db8efd25c918d49b13ffbbf  ...   18.961261\n",
            "190  ff0365db81ba466de11e4ca5fa4057cb  ...   22.395962\n",
            "191  ff0dea249094c02ee40eee8a11140471  ...   19.544146\n",
            "\n",
            "[192 rows x 20 columns]\n"
          ],
          "name": "stdout"
        }
      ]
    },
    {
      "cell_type": "code",
      "metadata": {
        "id": "ZBryzYm_36g8",
        "colab_type": "code",
        "colab": {
          "base_uri": "https://localhost:8080/",
          "height": 362
        },
        "outputId": "2231a943-a7e0-4524-d5a3-6750ca2de496"
      },
      "source": [
        "validation.head()"
      ],
      "execution_count": 16,
      "outputs": [
        {
          "output_type": "execute_result",
          "data": {
            "text/html": [
              "<div>\n",
              "<style scoped>\n",
              "    .dataframe tbody tr th:only-of-type {\n",
              "        vertical-align: middle;\n",
              "    }\n",
              "\n",
              "    .dataframe tbody tr th {\n",
              "        vertical-align: top;\n",
              "    }\n",
              "\n",
              "    .dataframe thead th {\n",
              "        text-align: right;\n",
              "    }\n",
              "</style>\n",
              "<table border=\"1\" class=\"dataframe\">\n",
              "  <thead>\n",
              "    <tr style=\"text-align: right;\">\n",
              "      <th></th>\n",
              "      <th>ID</th>\n",
              "      <th>Model</th>\n",
              "      <th>ModelParameters</th>\n",
              "      <th>TransformationParameters</th>\n",
              "      <th>Ensemble</th>\n",
              "      <th>Runs</th>\n",
              "      <th>smape</th>\n",
              "      <th>mae</th>\n",
              "      <th>rmse</th>\n",
              "      <th>containment</th>\n",
              "      <th>spl</th>\n",
              "      <th>contour</th>\n",
              "      <th>smape_weighted</th>\n",
              "      <th>mae_weighted</th>\n",
              "      <th>rmse_weighted</th>\n",
              "      <th>containment_weighted</th>\n",
              "      <th>contour_weighted</th>\n",
              "      <th>spl_weighted</th>\n",
              "      <th>TotalRuntimeSeconds</th>\n",
              "      <th>Score</th>\n",
              "    </tr>\n",
              "  </thead>\n",
              "  <tbody>\n",
              "    <tr>\n",
              "      <th>0</th>\n",
              "      <td>005cbd741e1ceb756901d69a757ff18d</td>\n",
              "      <td>RollingRegression</td>\n",
              "      <td>{\"regression_model\": {\"model\": \"LightGBM\", \"mo...</td>\n",
              "      <td>{\"outlier_method\": null, \"outlier_threshold\": ...</td>\n",
              "      <td>0</td>\n",
              "      <td>1</td>\n",
              "      <td>1.169940</td>\n",
              "      <td>4.556657</td>\n",
              "      <td>4.616936</td>\n",
              "      <td>1.000000</td>\n",
              "      <td>NaN</td>\n",
              "      <td>0.500000</td>\n",
              "      <td>1.169940</td>\n",
              "      <td>4.556657</td>\n",
              "      <td>4.616936</td>\n",
              "      <td>1.000000</td>\n",
              "      <td>0.500000</td>\n",
              "      <td>0.0</td>\n",
              "      <td>1.0</td>\n",
              "      <td>12.030508</td>\n",
              "    </tr>\n",
              "    <tr>\n",
              "      <th>1</th>\n",
              "      <td>008817f3fa0371cc0a04b372ed6e1627</td>\n",
              "      <td>FBProphet</td>\n",
              "      <td>{\"holiday\": false, \"regression_type\": null}</td>\n",
              "      <td>{\"outlier_method\": \"clip\", \"outlier_threshold\"...</td>\n",
              "      <td>0</td>\n",
              "      <td>1</td>\n",
              "      <td>5.180864</td>\n",
              "      <td>20.836070</td>\n",
              "      <td>20.861376</td>\n",
              "      <td>1.000000</td>\n",
              "      <td>NaN</td>\n",
              "      <td>0.500000</td>\n",
              "      <td>5.180864</td>\n",
              "      <td>20.836070</td>\n",
              "      <td>20.861376</td>\n",
              "      <td>1.000000</td>\n",
              "      <td>0.500000</td>\n",
              "      <td>0.0</td>\n",
              "      <td>3.0</td>\n",
              "      <td>53.480479</td>\n",
              "    </tr>\n",
              "    <tr>\n",
              "      <th>2</th>\n",
              "      <td>01f618a3c18bb48e18fef971762368cd</td>\n",
              "      <td>ARIMA</td>\n",
              "      <td>{\"p\": 12, \"d\": 0, \"q\": 4, \"regression_type\": n...</td>\n",
              "      <td>{\"outlier_method\": \"clip\", \"outlier_threshold\"...</td>\n",
              "      <td>0</td>\n",
              "      <td>1</td>\n",
              "      <td>17.581140</td>\n",
              "      <td>63.309121</td>\n",
              "      <td>63.310595</td>\n",
              "      <td>0.000000</td>\n",
              "      <td>NaN</td>\n",
              "      <td>0.500000</td>\n",
              "      <td>17.581140</td>\n",
              "      <td>63.309121</td>\n",
              "      <td>63.310595</td>\n",
              "      <td>0.000000</td>\n",
              "      <td>0.500000</td>\n",
              "      <td>0.0</td>\n",
              "      <td>33.0</td>\n",
              "      <td>178.665380</td>\n",
              "    </tr>\n",
              "    <tr>\n",
              "      <th>3</th>\n",
              "      <td>02a48467af6e4c576569daf23bc3536b</td>\n",
              "      <td>UnobservedComponents</td>\n",
              "      <td>{\"level\": true, \"trend\": true, \"cycle\": false,...</td>\n",
              "      <td>{\"outlier_method\": \"clip\", \"outlier_threshold\"...</td>\n",
              "      <td>0</td>\n",
              "      <td>3</td>\n",
              "      <td>1.723762</td>\n",
              "      <td>5.978157</td>\n",
              "      <td>6.113453</td>\n",
              "      <td>0.222222</td>\n",
              "      <td>NaN</td>\n",
              "      <td>1.000000</td>\n",
              "      <td>1.723762</td>\n",
              "      <td>5.978157</td>\n",
              "      <td>6.113453</td>\n",
              "      <td>0.222222</td>\n",
              "      <td>1.000000</td>\n",
              "      <td>0.0</td>\n",
              "      <td>1.0</td>\n",
              "      <td>17.455068</td>\n",
              "    </tr>\n",
              "    <tr>\n",
              "      <th>4</th>\n",
              "      <td>035d7a87e364f983e24c86ad67f4fb42</td>\n",
              "      <td>RollingRegression</td>\n",
              "      <td>{\"regression_model\": {\"model\": \"MLP\", \"model_p...</td>\n",
              "      <td>{\"outlier_method\": null, \"outlier_threshold\": ...</td>\n",
              "      <td>0</td>\n",
              "      <td>3</td>\n",
              "      <td>3.110881</td>\n",
              "      <td>10.642922</td>\n",
              "      <td>10.931330</td>\n",
              "      <td>0.888889</td>\n",
              "      <td>NaN</td>\n",
              "      <td>0.666667</td>\n",
              "      <td>3.110881</td>\n",
              "      <td>10.642922</td>\n",
              "      <td>10.931330</td>\n",
              "      <td>0.888889</td>\n",
              "      <td>0.666667</td>\n",
              "      <td>0.0</td>\n",
              "      <td>1.0</td>\n",
              "      <td>31.453950</td>\n",
              "    </tr>\n",
              "  </tbody>\n",
              "</table>\n",
              "</div>"
            ],
            "text/plain": [
              "                                 ID  ...       Score\n",
              "0  005cbd741e1ceb756901d69a757ff18d  ...   12.030508\n",
              "1  008817f3fa0371cc0a04b372ed6e1627  ...   53.480479\n",
              "2  01f618a3c18bb48e18fef971762368cd  ...  178.665380\n",
              "3  02a48467af6e4c576569daf23bc3536b  ...   17.455068\n",
              "4  035d7a87e364f983e24c86ad67f4fb42  ...   31.453950\n",
              "\n",
              "[5 rows x 20 columns]"
            ]
          },
          "metadata": {
            "tags": []
          },
          "execution_count": 16
        }
      ]
    }
  ]
}