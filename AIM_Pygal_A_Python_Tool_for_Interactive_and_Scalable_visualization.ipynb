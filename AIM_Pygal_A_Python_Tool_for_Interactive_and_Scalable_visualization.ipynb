{
  "nbformat": 4,
  "nbformat_minor": 0,
  "metadata": {
    "colab": {
      "name": "AIM_Pygal: A Python Tool for Interactive and Scalable visualization",
      "provenance": [],
      "collapsed_sections": []
    },
    "kernelspec": {
      "name": "python3",
      "display_name": "Python 3"
    }
  },
  "cells": [
    {
      "cell_type": "code",
      "metadata": {
        "id": "6_2QZTVxMPeV",
        "colab_type": "code",
        "colab": {
          "base_uri": "https://localhost:8080/",
          "height": 100
        },
        "outputId": "78f51d96-d974-4d84-e332-c227309f9831"
      },
      "source": [
        "#https://analyticsindiamag.com/complete-tutorial-on-pygal-a-python-tool-for-interactive-and-scalable-visualization/\n",
        "!pip install pygal"
      ],
      "execution_count": 12,
      "outputs": [
        {
          "output_type": "stream",
          "text": [
            "Collecting pygal\n",
            "\u001b[?25l  Downloading https://files.pythonhosted.org/packages/5f/b7/201c9254ac0d2b8ffa3bb2d528d23a4130876d9ba90bc28e99633f323f17/pygal-2.4.0-py2.py3-none-any.whl (127kB)\n",
            "\r\u001b[K     |██▋                             | 10kB 13.8MB/s eta 0:00:01\r\u001b[K     |█████▏                          | 20kB 1.8MB/s eta 0:00:01\r\u001b[K     |███████▊                        | 30kB 2.2MB/s eta 0:00:01\r\u001b[K     |██████████▎                     | 40kB 2.5MB/s eta 0:00:01\r\u001b[K     |████████████▉                   | 51kB 2.0MB/s eta 0:00:01\r\u001b[K     |███████████████▍                | 61kB 2.3MB/s eta 0:00:01\r\u001b[K     |██████████████████              | 71kB 2.4MB/s eta 0:00:01\r\u001b[K     |████████████████████▌           | 81kB 2.7MB/s eta 0:00:01\r\u001b[K     |███████████████████████▏        | 92kB 2.9MB/s eta 0:00:01\r\u001b[K     |█████████████████████████▊      | 102kB 2.8MB/s eta 0:00:01\r\u001b[K     |████████████████████████████▎   | 112kB 2.8MB/s eta 0:00:01\r\u001b[K     |██████████████████████████████▉ | 122kB 2.8MB/s eta 0:00:01\r\u001b[K     |████████████████████████████████| 133kB 2.8MB/s \n",
            "\u001b[?25hInstalling collected packages: pygal\n",
            "Successfully installed pygal-2.4.0\n"
          ],
          "name": "stdout"
        }
      ]
    },
    {
      "cell_type": "code",
      "metadata": {
        "id": "O0pFnuLYdOEX",
        "colab_type": "code",
        "colab": {
          "base_uri": "https://localhost:8080/",
          "height": 190
        },
        "outputId": "08111668-49e9-47c5-97ce-6af354e74ffa"
      },
      "source": [
        "import pandas as pd\n",
        "import pygal\n",
        "df = pd.read_csv('Advertising.csv')\n",
        "df.head()"
      ],
      "execution_count": 13,
      "outputs": [
        {
          "output_type": "execute_result",
          "data": {
            "text/html": [
              "<div>\n",
              "<style scoped>\n",
              "    .dataframe tbody tr th:only-of-type {\n",
              "        vertical-align: middle;\n",
              "    }\n",
              "\n",
              "    .dataframe tbody tr th {\n",
              "        vertical-align: top;\n",
              "    }\n",
              "\n",
              "    .dataframe thead th {\n",
              "        text-align: right;\n",
              "    }\n",
              "</style>\n",
              "<table border=\"1\" class=\"dataframe\">\n",
              "  <thead>\n",
              "    <tr style=\"text-align: right;\">\n",
              "      <th></th>\n",
              "      <th>Unnamed: 0</th>\n",
              "      <th>TV</th>\n",
              "      <th>radio</th>\n",
              "      <th>newspaper</th>\n",
              "      <th>sales</th>\n",
              "    </tr>\n",
              "  </thead>\n",
              "  <tbody>\n",
              "    <tr>\n",
              "      <th>0</th>\n",
              "      <td>1</td>\n",
              "      <td>230.1</td>\n",
              "      <td>37.8</td>\n",
              "      <td>69.2</td>\n",
              "      <td>22.1</td>\n",
              "    </tr>\n",
              "    <tr>\n",
              "      <th>1</th>\n",
              "      <td>2</td>\n",
              "      <td>44.5</td>\n",
              "      <td>39.3</td>\n",
              "      <td>45.1</td>\n",
              "      <td>10.4</td>\n",
              "    </tr>\n",
              "    <tr>\n",
              "      <th>2</th>\n",
              "      <td>3</td>\n",
              "      <td>17.2</td>\n",
              "      <td>45.9</td>\n",
              "      <td>69.3</td>\n",
              "      <td>9.3</td>\n",
              "    </tr>\n",
              "    <tr>\n",
              "      <th>3</th>\n",
              "      <td>4</td>\n",
              "      <td>151.5</td>\n",
              "      <td>41.3</td>\n",
              "      <td>58.5</td>\n",
              "      <td>18.5</td>\n",
              "    </tr>\n",
              "    <tr>\n",
              "      <th>4</th>\n",
              "      <td>5</td>\n",
              "      <td>180.8</td>\n",
              "      <td>10.8</td>\n",
              "      <td>58.4</td>\n",
              "      <td>12.9</td>\n",
              "    </tr>\n",
              "  </tbody>\n",
              "</table>\n",
              "</div>"
            ],
            "text/plain": [
              "   Unnamed: 0     TV  radio  newspaper  sales\n",
              "0           1  230.1   37.8       69.2   22.1\n",
              "1           2   44.5   39.3       45.1   10.4\n",
              "2           3   17.2   45.9       69.3    9.3\n",
              "3           4  151.5   41.3       58.5   18.5\n",
              "4           5  180.8   10.8       58.4   12.9"
            ]
          },
          "metadata": {
            "tags": []
          },
          "execution_count": 13
        }
      ]
    },
    {
      "cell_type": "code",
      "metadata": {
        "id": "AjFhJLXHrhoO",
        "colab_type": "code",
        "colab": {}
      },
      "source": [
        "df.drop('Unnamed: 0', inplace=True, axis=1 )"
      ],
      "execution_count": 14,
      "outputs": []
    },
    {
      "cell_type": "code",
      "metadata": {
        "id": "9hSrL5bmrhqa",
        "colab_type": "code",
        "colab": {}
      },
      "source": [
        "bar_graphs = pygal.Bar()\n",
        "bar_graphs.add('sales', df['sales'][:5])\n",
        "bar_graphs.render_to_file('bar1.svg')\n",
        "\n",
        "bar_graphs.add('sales', df['sales'][:5])\n",
        "bar_graphs.add('TV', df['TV'][:5])\n",
        "bar_graphs.render_to_file('bar2.svg')\n"
      ],
      "execution_count": 16,
      "outputs": []
    },
    {
      "cell_type": "code",
      "metadata": {
        "id": "94-9V1dIrhtY",
        "colab_type": "code",
        "colab": {
          "base_uri": "https://localhost:8080/",
          "height": 1000
        },
        "outputId": "daa0954c-9564-4734-906d-5256e2657295"
      },
      "source": [
        "line_chart = pygal.Line()\n",
        "line_chart.add('sales', df['sales'][:15])\n",
        "line_chart"
      ],
      "execution_count": 19,
      "outputs": [
        {
          "output_type": "error",
          "ename": "ModuleNotFoundError",
          "evalue": "ignored",
          "traceback": [
            "\u001b[0;31m---------------------------------------------------------------------------\u001b[0m",
            "\u001b[0;31mModuleNotFoundError\u001b[0m                       Traceback (most recent call last)",
            "\u001b[0;32m/usr/local/lib/python3.6/dist-packages/IPython/core/formatters.py\u001b[0m in \u001b[0;36m__call__\u001b[0;34m(self, obj)\u001b[0m\n\u001b[1;32m    336\u001b[0m             \u001b[0mmethod\u001b[0m \u001b[0;34m=\u001b[0m \u001b[0mget_real_method\u001b[0m\u001b[0;34m(\u001b[0m\u001b[0mobj\u001b[0m\u001b[0;34m,\u001b[0m \u001b[0mself\u001b[0m\u001b[0;34m.\u001b[0m\u001b[0mprint_method\u001b[0m\u001b[0;34m)\u001b[0m\u001b[0;34m\u001b[0m\u001b[0;34m\u001b[0m\u001b[0m\n\u001b[1;32m    337\u001b[0m             \u001b[0;32mif\u001b[0m \u001b[0mmethod\u001b[0m \u001b[0;32mis\u001b[0m \u001b[0;32mnot\u001b[0m \u001b[0;32mNone\u001b[0m\u001b[0;34m:\u001b[0m\u001b[0;34m\u001b[0m\u001b[0;34m\u001b[0m\u001b[0m\n\u001b[0;32m--> 338\u001b[0;31m                 \u001b[0;32mreturn\u001b[0m \u001b[0mmethod\u001b[0m\u001b[0;34m(\u001b[0m\u001b[0;34m)\u001b[0m\u001b[0;34m\u001b[0m\u001b[0;34m\u001b[0m\u001b[0m\n\u001b[0m\u001b[1;32m    339\u001b[0m             \u001b[0;32mreturn\u001b[0m \u001b[0;32mNone\u001b[0m\u001b[0;34m\u001b[0m\u001b[0;34m\u001b[0m\u001b[0m\n\u001b[1;32m    340\u001b[0m         \u001b[0;32melse\u001b[0m\u001b[0;34m:\u001b[0m\u001b[0;34m\u001b[0m\u001b[0;34m\u001b[0m\u001b[0m\n",
            "\u001b[0;32m/usr/local/lib/python3.6/dist-packages/pygal/graph/base.py\u001b[0m in \u001b[0;36m_repr_png_\u001b[0;34m(self)\u001b[0m\n\u001b[1;32m    232\u001b[0m     \u001b[0;32mdef\u001b[0m \u001b[0m_repr_png_\u001b[0m\u001b[0;34m(\u001b[0m\u001b[0mself\u001b[0m\u001b[0;34m)\u001b[0m\u001b[0;34m:\u001b[0m\u001b[0;34m\u001b[0m\u001b[0;34m\u001b[0m\u001b[0m\n\u001b[1;32m    233\u001b[0m         \u001b[0;34m\"\"\"Display png in IPython notebook\"\"\"\u001b[0m\u001b[0;34m\u001b[0m\u001b[0;34m\u001b[0m\u001b[0m\n\u001b[0;32m--> 234\u001b[0;31m         \u001b[0;32mreturn\u001b[0m \u001b[0mself\u001b[0m\u001b[0;34m.\u001b[0m\u001b[0mrender_to_png\u001b[0m\u001b[0;34m(\u001b[0m\u001b[0;34m)\u001b[0m\u001b[0;34m\u001b[0m\u001b[0;34m\u001b[0m\u001b[0m\n\u001b[0m",
            "\u001b[0;32m/usr/local/lib/python3.6/dist-packages/pygal/graph/public.py\u001b[0m in \u001b[0;36mrender_to_png\u001b[0;34m(self, filename, dpi, **kwargs)\u001b[0m\n\u001b[1;32m    116\u001b[0m     \u001b[0;32mdef\u001b[0m \u001b[0mrender_to_png\u001b[0m\u001b[0;34m(\u001b[0m\u001b[0mself\u001b[0m\u001b[0;34m,\u001b[0m \u001b[0mfilename\u001b[0m\u001b[0;34m=\u001b[0m\u001b[0;32mNone\u001b[0m\u001b[0;34m,\u001b[0m \u001b[0mdpi\u001b[0m\u001b[0;34m=\u001b[0m\u001b[0;36m72\u001b[0m\u001b[0;34m,\u001b[0m \u001b[0;34m**\u001b[0m\u001b[0mkwargs\u001b[0m\u001b[0;34m)\u001b[0m\u001b[0;34m:\u001b[0m\u001b[0;34m\u001b[0m\u001b[0;34m\u001b[0m\u001b[0m\n\u001b[1;32m    117\u001b[0m         \u001b[0;34m\"\"\"Render the graph, convert it to png and write it to filename\"\"\"\u001b[0m\u001b[0;34m\u001b[0m\u001b[0;34m\u001b[0m\u001b[0m\n\u001b[0;32m--> 118\u001b[0;31m         \u001b[0;32mimport\u001b[0m \u001b[0mcairosvg\u001b[0m\u001b[0;34m\u001b[0m\u001b[0;34m\u001b[0m\u001b[0m\n\u001b[0m\u001b[1;32m    119\u001b[0m         return cairosvg.svg2png(\n\u001b[1;32m    120\u001b[0m             bytestring=self.render(**kwargs), write_to=filename, dpi=dpi)\n",
            "\u001b[0;31mModuleNotFoundError\u001b[0m: No module named 'cairosvg'"
          ]
        },
        {
          "output_type": "execute_result",
          "data": {
            "text/plain": [
              "<pygal.graph.line.Line at 0x7fb3c326e208>"
            ],
            "image/svg+xml": "<svg xmlns:xlink=\"http://www.w3.org/1999/xlink\" xmlns=\"http://www.w3.org/2000/svg\" id=\"chart-eac38970-e964-4704-91e7-b506f4d843ad\" class=\"pygal-chart\" viewBox=\"0 0 800 600\"><!--Generated with pygal 2.4.0 (lxml) ©Kozea 2012-2016 on 2020-09-06--><!--http://pygal.org--><!--http://github.com/Kozea/pygal--><defs><style type=\"text/css\">#chart-eac38970-e964-4704-91e7-b506f4d843ad{-webkit-user-select:none;-webkit-font-smoothing:antialiased;font-family:Consolas,\"Liberation Mono\",Menlo,Courier,monospace}#chart-eac38970-e964-4704-91e7-b506f4d843ad .title{font-family:Consolas,\"Liberation Mono\",Menlo,Courier,monospace;font-size:16px}#chart-eac38970-e964-4704-91e7-b506f4d843ad .legends .legend text{font-family:Consolas,\"Liberation Mono\",Menlo,Courier,monospace;font-size:14px}#chart-eac38970-e964-4704-91e7-b506f4d843ad .axis text{font-family:Consolas,\"Liberation Mono\",Menlo,Courier,monospace;font-size:10px}#chart-eac38970-e964-4704-91e7-b506f4d843ad .axis text.major{font-family:Consolas,\"Liberation Mono\",Menlo,Courier,monospace;font-size:10px}#chart-eac38970-e964-4704-91e7-b506f4d843ad .text-overlay text.value{font-family:Consolas,\"Liberation Mono\",Menlo,Courier,monospace;font-size:16px}#chart-eac38970-e964-4704-91e7-b506f4d843ad .text-overlay text.label{font-family:Consolas,\"Liberation Mono\",Menlo,Courier,monospace;font-size:10px}#chart-eac38970-e964-4704-91e7-b506f4d843ad .tooltip{font-family:Consolas,\"Liberation Mono\",Menlo,Courier,monospace;font-size:14px}#chart-eac38970-e964-4704-91e7-b506f4d843ad text.no_data{font-family:Consolas,\"Liberation Mono\",Menlo,Courier,monospace;font-size:64px}\n#chart-eac38970-e964-4704-91e7-b506f4d843ad{background-color:rgba(249,249,249,1)}#chart-eac38970-e964-4704-91e7-b506f4d843ad path,#chart-eac38970-e964-4704-91e7-b506f4d843ad line,#chart-eac38970-e964-4704-91e7-b506f4d843ad rect,#chart-eac38970-e964-4704-91e7-b506f4d843ad circle{-webkit-transition:150ms;-moz-transition:150ms;transition:150ms}#chart-eac38970-e964-4704-91e7-b506f4d843ad .graph &gt; .background{fill:rgba(249,249,249,1)}#chart-eac38970-e964-4704-91e7-b506f4d843ad .plot &gt; .background{fill:rgba(255,255,255,1)}#chart-eac38970-e964-4704-91e7-b506f4d843ad .graph{fill:rgba(0,0,0,.87)}#chart-eac38970-e964-4704-91e7-b506f4d843ad text.no_data{fill:rgba(0,0,0,1)}#chart-eac38970-e964-4704-91e7-b506f4d843ad .title{fill:rgba(0,0,0,1)}#chart-eac38970-e964-4704-91e7-b506f4d843ad .legends .legend text{fill:rgba(0,0,0,.87)}#chart-eac38970-e964-4704-91e7-b506f4d843ad .legends .legend:hover text{fill:rgba(0,0,0,1)}#chart-eac38970-e964-4704-91e7-b506f4d843ad .axis .line{stroke:rgba(0,0,0,1)}#chart-eac38970-e964-4704-91e7-b506f4d843ad .axis .guide.line{stroke:rgba(0,0,0,.54)}#chart-eac38970-e964-4704-91e7-b506f4d843ad .axis .major.line{stroke:rgba(0,0,0,.87)}#chart-eac38970-e964-4704-91e7-b506f4d843ad .axis text.major{fill:rgba(0,0,0,1)}#chart-eac38970-e964-4704-91e7-b506f4d843ad .axis.y .guides:hover .guide.line,#chart-eac38970-e964-4704-91e7-b506f4d843ad .line-graph .axis.x .guides:hover .guide.line,#chart-eac38970-e964-4704-91e7-b506f4d843ad .stackedline-graph .axis.x .guides:hover .guide.line,#chart-eac38970-e964-4704-91e7-b506f4d843ad .xy-graph .axis.x .guides:hover .guide.line{stroke:rgba(0,0,0,1)}#chart-eac38970-e964-4704-91e7-b506f4d843ad .axis .guides:hover text{fill:rgba(0,0,0,1)}#chart-eac38970-e964-4704-91e7-b506f4d843ad .reactive{fill-opacity:.7;stroke-opacity:.8}#chart-eac38970-e964-4704-91e7-b506f4d843ad .ci{stroke:rgba(0,0,0,.87)}#chart-eac38970-e964-4704-91e7-b506f4d843ad .reactive.active,#chart-eac38970-e964-4704-91e7-b506f4d843ad .active .reactive{fill-opacity:.8;stroke-opacity:.9;stroke-width:4}#chart-eac38970-e964-4704-91e7-b506f4d843ad .ci .reactive.active{stroke-width:1.5}#chart-eac38970-e964-4704-91e7-b506f4d843ad .series text{fill:rgba(0,0,0,1)}#chart-eac38970-e964-4704-91e7-b506f4d843ad .tooltip rect{fill:rgba(255,255,255,1);stroke:rgba(0,0,0,1);-webkit-transition:opacity 150ms;-moz-transition:opacity 150ms;transition:opacity 150ms}#chart-eac38970-e964-4704-91e7-b506f4d843ad .tooltip .label{fill:rgba(0,0,0,.87)}#chart-eac38970-e964-4704-91e7-b506f4d843ad .tooltip .label{fill:rgba(0,0,0,.87)}#chart-eac38970-e964-4704-91e7-b506f4d843ad .tooltip .legend{font-size:.8em;fill:rgba(0,0,0,.54)}#chart-eac38970-e964-4704-91e7-b506f4d843ad .tooltip .x_label{font-size:.6em;fill:rgba(0,0,0,1)}#chart-eac38970-e964-4704-91e7-b506f4d843ad .tooltip .xlink{font-size:.5em;text-decoration:underline}#chart-eac38970-e964-4704-91e7-b506f4d843ad .tooltip .value{font-size:1.5em}#chart-eac38970-e964-4704-91e7-b506f4d843ad .bound{font-size:.5em}#chart-eac38970-e964-4704-91e7-b506f4d843ad .max-value{font-size:.75em;fill:rgba(0,0,0,.54)}#chart-eac38970-e964-4704-91e7-b506f4d843ad .map-element{fill:rgba(255,255,255,1);stroke:rgba(0,0,0,.54) !important}#chart-eac38970-e964-4704-91e7-b506f4d843ad .map-element .reactive{fill-opacity:inherit;stroke-opacity:inherit}#chart-eac38970-e964-4704-91e7-b506f4d843ad .color-0,#chart-eac38970-e964-4704-91e7-b506f4d843ad .color-0 a:visited{stroke:#F44336;fill:#F44336}#chart-eac38970-e964-4704-91e7-b506f4d843ad .text-overlay .color-0 text{fill:black}\n#chart-eac38970-e964-4704-91e7-b506f4d843ad text.no_data{text-anchor:middle}#chart-eac38970-e964-4704-91e7-b506f4d843ad .guide.line{fill:none}#chart-eac38970-e964-4704-91e7-b506f4d843ad .centered{text-anchor:middle}#chart-eac38970-e964-4704-91e7-b506f4d843ad .title{text-anchor:middle}#chart-eac38970-e964-4704-91e7-b506f4d843ad .legends .legend text{fill-opacity:1}#chart-eac38970-e964-4704-91e7-b506f4d843ad .axis.x text{text-anchor:middle}#chart-eac38970-e964-4704-91e7-b506f4d843ad .axis.x:not(.web) text[transform]{text-anchor:start}#chart-eac38970-e964-4704-91e7-b506f4d843ad .axis.x:not(.web) text[transform].backwards{text-anchor:end}#chart-eac38970-e964-4704-91e7-b506f4d843ad .axis.y text{text-anchor:end}#chart-eac38970-e964-4704-91e7-b506f4d843ad .axis.y text[transform].backwards{text-anchor:start}#chart-eac38970-e964-4704-91e7-b506f4d843ad .axis.y2 text{text-anchor:start}#chart-eac38970-e964-4704-91e7-b506f4d843ad .axis.y2 text[transform].backwards{text-anchor:end}#chart-eac38970-e964-4704-91e7-b506f4d843ad .axis .guide.line{stroke-dasharray:4,4}#chart-eac38970-e964-4704-91e7-b506f4d843ad .axis .major.guide.line{stroke-dasharray:6,6}#chart-eac38970-e964-4704-91e7-b506f4d843ad .horizontal .axis.y .guide.line,#chart-eac38970-e964-4704-91e7-b506f4d843ad .horizontal .axis.y2 .guide.line,#chart-eac38970-e964-4704-91e7-b506f4d843ad .vertical .axis.x .guide.line{opacity:0}#chart-eac38970-e964-4704-91e7-b506f4d843ad .horizontal .axis.always_show .guide.line,#chart-eac38970-e964-4704-91e7-b506f4d843ad .vertical .axis.always_show .guide.line{opacity:1 !important}#chart-eac38970-e964-4704-91e7-b506f4d843ad .axis.y .guides:hover .guide.line,#chart-eac38970-e964-4704-91e7-b506f4d843ad .axis.y2 .guides:hover .guide.line,#chart-eac38970-e964-4704-91e7-b506f4d843ad .axis.x .guides:hover .guide.line{opacity:1}#chart-eac38970-e964-4704-91e7-b506f4d843ad .axis .guides:hover text{opacity:1}#chart-eac38970-e964-4704-91e7-b506f4d843ad .nofill{fill:none}#chart-eac38970-e964-4704-91e7-b506f4d843ad .subtle-fill{fill-opacity:.2}#chart-eac38970-e964-4704-91e7-b506f4d843ad .dot{stroke-width:1px;fill-opacity:1}#chart-eac38970-e964-4704-91e7-b506f4d843ad .dot.active{stroke-width:5px}#chart-eac38970-e964-4704-91e7-b506f4d843ad .dot.negative{fill:transparent}#chart-eac38970-e964-4704-91e7-b506f4d843ad text,#chart-eac38970-e964-4704-91e7-b506f4d843ad tspan{stroke:none !important}#chart-eac38970-e964-4704-91e7-b506f4d843ad .series text.active{opacity:1}#chart-eac38970-e964-4704-91e7-b506f4d843ad .tooltip rect{fill-opacity:.95;stroke-width:.5}#chart-eac38970-e964-4704-91e7-b506f4d843ad .tooltip text{fill-opacity:1}#chart-eac38970-e964-4704-91e7-b506f4d843ad .showable{visibility:hidden}#chart-eac38970-e964-4704-91e7-b506f4d843ad .showable.shown{visibility:visible}#chart-eac38970-e964-4704-91e7-b506f4d843ad .gauge-background{fill:rgba(229,229,229,1);stroke:none}#chart-eac38970-e964-4704-91e7-b506f4d843ad .bg-lines{stroke:rgba(249,249,249,1);stroke-width:2px}</style><script type=\"text/javascript\">window.pygal = window.pygal || {};window.pygal.config = window.pygal.config || {};window.pygal.config['eac38970-e964-4704-91e7-b506f4d843ad'] = {\"allow_interruptions\": false, \"box_mode\": \"extremes\", \"classes\": [\"pygal-chart\"], \"css\": [\"file://style.css\", \"file://graph.css\"], \"defs\": [], \"disable_xml_declaration\": true, \"dots_size\": 2.5, \"dynamic_print_values\": false, \"explicit_size\": false, \"fill\": false, \"force_uri_protocol\": \"https\", \"formatter\": null, \"half_pie\": false, \"height\": 600, \"include_x_axis\": false, \"inner_radius\": 0, \"interpolate\": null, \"interpolation_parameters\": {}, \"interpolation_precision\": 250, \"inverse_y_axis\": false, \"js\": [\"//kozea.github.io/pygal.js/2.0.x/pygal-tooltips.min.js\"], \"legend_at_bottom\": false, \"legend_at_bottom_columns\": null, \"legend_box_size\": 12, \"logarithmic\": false, \"margin\": 20, \"margin_bottom\": null, \"margin_left\": null, \"margin_right\": null, \"margin_top\": null, \"max_scale\": 16, \"min_scale\": 4, \"missing_value_fill_truncation\": \"x\", \"no_data_text\": \"No data\", \"no_prefix\": false, \"order_min\": null, \"pretty_print\": false, \"print_labels\": false, \"print_values\": false, \"print_values_position\": \"center\", \"print_zeroes\": true, \"range\": null, \"rounded_bars\": null, \"secondary_range\": null, \"show_dots\": true, \"show_legend\": true, \"show_minor_x_labels\": true, \"show_minor_y_labels\": true, \"show_only_major_dots\": false, \"show_x_guides\": false, \"show_x_labels\": true, \"show_y_guides\": true, \"show_y_labels\": true, \"spacing\": 10, \"stack_from_top\": false, \"strict\": false, \"stroke\": true, \"stroke_style\": null, \"style\": {\"background\": \"rgba(249, 249, 249, 1)\", \"ci_colors\": [], \"colors\": [\"#F44336\", \"#3F51B5\", \"#009688\", \"#FFC107\", \"#FF5722\", \"#9C27B0\", \"#03A9F4\", \"#8BC34A\", \"#FF9800\", \"#E91E63\", \"#2196F3\", \"#4CAF50\", \"#FFEB3B\", \"#673AB7\", \"#00BCD4\", \"#CDDC39\", \"#9E9E9E\", \"#607D8B\"], \"font_family\": \"Consolas, \\\"Liberation Mono\\\", Menlo, Courier, monospace\", \"foreground\": \"rgba(0, 0, 0, .87)\", \"foreground_strong\": \"rgba(0, 0, 0, 1)\", \"foreground_subtle\": \"rgba(0, 0, 0, .54)\", \"guide_stroke_dasharray\": \"4,4\", \"label_font_family\": \"Consolas, \\\"Liberation Mono\\\", Menlo, Courier, monospace\", \"label_font_size\": 10, \"legend_font_family\": \"Consolas, \\\"Liberation Mono\\\", Menlo, Courier, monospace\", \"legend_font_size\": 14, \"major_guide_stroke_dasharray\": \"6,6\", \"major_label_font_family\": \"Consolas, \\\"Liberation Mono\\\", Menlo, Courier, monospace\", \"major_label_font_size\": 10, \"no_data_font_family\": \"Consolas, \\\"Liberation Mono\\\", Menlo, Courier, monospace\", \"no_data_font_size\": 64, \"opacity\": \".7\", \"opacity_hover\": \".8\", \"plot_background\": \"rgba(255, 255, 255, 1)\", \"stroke_opacity\": \".8\", \"stroke_opacity_hover\": \".9\", \"title_font_family\": \"Consolas, \\\"Liberation Mono\\\", Menlo, Courier, monospace\", \"title_font_size\": 16, \"tooltip_font_family\": \"Consolas, \\\"Liberation Mono\\\", Menlo, Courier, monospace\", \"tooltip_font_size\": 14, \"transition\": \"150ms\", \"value_background\": \"rgba(229, 229, 229, 1)\", \"value_colors\": [], \"value_font_family\": \"Consolas, \\\"Liberation Mono\\\", Menlo, Courier, monospace\", \"value_font_size\": 16, \"value_label_font_family\": \"Consolas, \\\"Liberation Mono\\\", Menlo, Courier, monospace\", \"value_label_font_size\": 10}, \"title\": null, \"tooltip_border_radius\": 0, \"tooltip_fancy_mode\": true, \"truncate_label\": null, \"truncate_legend\": null, \"width\": 800, \"x_label_rotation\": 0, \"x_labels\": null, \"x_labels_major\": null, \"x_labels_major_count\": null, \"x_labels_major_every\": null, \"x_title\": null, \"xrange\": null, \"y_label_rotation\": 0, \"y_labels\": null, \"y_labels_major\": null, \"y_labels_major_count\": null, \"y_labels_major_every\": null, \"y_title\": null, \"zero\": 0, \"legends\": [\"sales\"]}</script><script type=\"text/javascript\" xlink:href=\"https://kozea.github.io/pygal.js/2.0.x/pygal-tooltips.min.js\"/></defs><title>Pygal</title><g class=\"graph line-graph vertical\"><rect class=\"background\" height=\"600\" width=\"800\" x=\"0\" y=\"0\"/><g class=\"plot\" transform=\"translate(106, 20)\"><rect class=\"background\" height=\"560\" width=\"674.0\" x=\"0\" y=\"0\"/><g class=\"axis y always_show\"><path class=\"line\" d=\"M0.000000 560.000000 h674.000000\"/><g class=\"guides\"><path class=\"guide line\" d=\"M0.000000 511.880836 h674.000000\"/><text class=\"\" x=\"-5\" y=\"515.3808359270787\">6</text><title>6</title></g><g class=\"guides\"><path class=\"guide line\" d=\"M0.000000 449.630947 h674.000000\"/><text class=\"\" x=\"-5\" y=\"453.13094708759445\">8</text><title>8</title></g><g class=\"guides\"><path class=\"major guide line\" d=\"M0.000000 387.381058 h674.000000\"/><text class=\"major\" x=\"-5\" y=\"390.88105824811026\">10</text><title>10</title></g><g class=\"guides\"><path class=\"guide line\" d=\"M0.000000 325.131169 h674.000000\"/><text class=\"\" x=\"-5\" y=\"328.6311694086261\">12</text><title>12</title></g><g class=\"guides\"><path class=\"guide line\" d=\"M0.000000 262.881281 h674.000000\"/><text class=\"\" x=\"-5\" y=\"266.3812805691419\">14</text><title>14</title></g><g class=\"guides\"><path class=\"guide line\" d=\"M0.000000 200.631392 h674.000000\"/><text class=\"\" x=\"-5\" y=\"204.1313917296577\">16</text><title>16</title></g><g class=\"guides\"><path class=\"guide line\" d=\"M0.000000 138.381503 h674.000000\"/><text class=\"\" x=\"-5\" y=\"141.88150289017346\">18</text><title>18</title></g><g class=\"guides\"><path class=\"major guide line\" d=\"M0.000000 76.131614 h674.000000\"/><text class=\"major\" x=\"-5\" y=\"79.63161405068922\">20</text><title>20</title></g><g class=\"guides\"><path class=\"guide line\" d=\"M0.000000 13.881725 h674.000000\"/><text class=\"\" x=\"-5\" y=\"17.38172521120498\">22</text><title>22</title></g></g><g class=\"series serie-0 color-0\"><path class=\"line reactive nofill\" d=\"M12.961538 10.769231 L59.252747 374.931080 105.543956 409.168519 151.835165 122.819031 198.126374 297.118719 244.417582 474.530903 290.708791 331.356158 337.000000 287.781236 383.291209 549.230769 429.582418 368.706092 475.873626 430.955980 522.164835 157.056470 568.456044 412.281014 614.747253 396.718542 661.038462 107.256558\"/></g></g><g class=\"titles\"/><g class=\"plot overlay\" transform=\"translate(106, 20)\"><g class=\"series serie-0 color-0\"><g class=\"dots\"><circle class=\"dot reactive tooltip-trigger\" cx=\"12.961538461538462\" cy=\"10.76923076923083\" r=\"2.5\"/><desc class=\"value\">22.1</desc><desc class=\"x \">12.961538461538462</desc><desc class=\"y \">10.76923076923083</desc></g><g class=\"dots\"><circle class=\"dot reactive tooltip-trigger\" cx=\"59.25274725274725\" cy=\"374.93108048021344\" r=\"2.5\"/><desc class=\"value\">10.4</desc><desc class=\"x top\">59.25274725274725</desc><desc class=\"y top\">374.93108048021344</desc></g><g class=\"dots\"><circle class=\"dot reactive tooltip-trigger\" cx=\"105.54395604395603\" cy=\"409.1685193419297\" r=\"2.5\"/><desc class=\"value\">9.3</desc><desc class=\"x top\">105.54395604395603</desc><desc class=\"y top\">409.1685193419297</desc></g><g class=\"dots\"><circle class=\"dot reactive tooltip-trigger\" cx=\"151.83516483516482\" cy=\"122.81903068030243\" r=\"2.5\"/><desc class=\"value\">18.5</desc><desc class=\"x \">151.83516483516482</desc><desc class=\"y \">122.81903068030243</desc></g><g class=\"dots\"><circle class=\"dot reactive tooltip-trigger\" cx=\"198.12637362637363\" cy=\"297.1187194308581\" r=\"2.5\"/><desc class=\"value\">12.9</desc><desc class=\"x top\">198.12637362637363</desc><desc class=\"y top\">297.1187194308581</desc></g><g class=\"dots\"><circle class=\"dot reactive tooltip-trigger\" cx=\"244.41758241758242\" cy=\"474.53090262338816\" r=\"2.5\"/><desc class=\"value\">7.2</desc><desc class=\"x top\">244.41758241758242</desc><desc class=\"y top\">474.53090262338816</desc></g><g class=\"dots\"><circle class=\"dot reactive tooltip-trigger\" cx=\"290.7087912087912\" cy=\"331.3561582925745\" r=\"2.5\"/><desc class=\"value\">11.8</desc><desc class=\"x top\">290.7087912087912</desc><desc class=\"y top\">331.3561582925745</desc></g><g class=\"dots\"><circle class=\"dot reactive tooltip-trigger\" cx=\"337.0\" cy=\"287.7812361049356\" r=\"2.5\"/><desc class=\"value\">13.2</desc><desc class=\"x top\">337.0</desc><desc class=\"y top\">287.7812361049356</desc></g><g class=\"dots\"><circle class=\"dot reactive tooltip-trigger\" cx=\"383.29120879120876\" cy=\"549.2307692307693\" r=\"2.5\"/><desc class=\"value\">4.8</desc><desc class=\"x left top\">383.29120879120876</desc><desc class=\"y left top\">549.2307692307693</desc></g><g class=\"dots\"><circle class=\"dot reactive tooltip-trigger\" cx=\"429.58241758241763\" cy=\"368.706091596265\" r=\"2.5\"/><desc class=\"value\">10.6</desc><desc class=\"x left top\">429.58241758241763</desc><desc class=\"y left top\">368.706091596265</desc></g><g class=\"dots\"><circle class=\"dot reactive tooltip-trigger\" cx=\"475.8736263736264\" cy=\"430.9559804357492\" r=\"2.5\"/><desc class=\"value\">8.6</desc><desc class=\"x left top\">475.8736263736264</desc><desc class=\"y left top\">430.9559804357492</desc></g><g class=\"dots\"><circle class=\"dot reactive tooltip-trigger\" cx=\"522.1648351648352\" cy=\"157.05646954201876\" r=\"2.5\"/><desc class=\"value\">17.4</desc><desc class=\"x left\">522.1648351648352</desc><desc class=\"y left\">157.05646954201876</desc></g><g class=\"dots\"><circle class=\"dot reactive tooltip-trigger\" cx=\"568.4560439560439\" cy=\"412.281013783904\" r=\"2.5\"/><desc class=\"value\">9.2</desc><desc class=\"x left top\">568.4560439560439</desc><desc class=\"y left top\">412.281013783904</desc></g><g class=\"dots\"><circle class=\"dot reactive tooltip-trigger\" cx=\"614.7472527472528\" cy=\"396.7185415740329\" r=\"2.5\"/><desc class=\"value\">9.7</desc><desc class=\"x left top\">614.7472527472528</desc><desc class=\"y left top\">396.7185415740329</desc></g><g class=\"dots\"><circle class=\"dot reactive tooltip-trigger\" cx=\"661.0384615384615\" cy=\"107.25655847043134\" r=\"2.5\"/><desc class=\"value\">19</desc><desc class=\"x left\">661.0384615384615</desc><desc class=\"y left\">107.25655847043134</desc></g></g></g><g class=\"plot text-overlay\" transform=\"translate(106, 20)\"><g class=\"series serie-0 color-0\"/></g><g class=\"plot tooltip-overlay\" transform=\"translate(106, 20)\"><g class=\"tooltip\" style=\"opacity: 0\" transform=\"translate(0 0)\"><rect class=\"tooltip-box\" height=\"0\" rx=\"0\" ry=\"0\" width=\"0\"/><g class=\"text\"/></g></g><g class=\"legends\" transform=\"translate(10, 30)\"><g class=\"legend reactive activate-serie\" id=\"activate-serie-0\"><rect class=\"color-0 reactive\" height=\"12\" width=\"12\" x=\"0.0\" y=\"1.0\"/><text x=\"17.0\" y=\"11.2\">sales</text></g></g><g class=\"legends\" transform=\"translate(790, 30)\"/></g></svg>"
          },
          "metadata": {
            "tags": []
          },
          "execution_count": 19
        }
      ]
    },
    {
      "cell_type": "code",
      "metadata": {
        "id": "H1mXx7Kmsjcx",
        "colab_type": "code",
        "colab": {
          "base_uri": "https://localhost:8080/",
          "height": 1000
        },
        "outputId": "7633965a-0faa-45f0-c6cb-ca1af5da063e"
      },
      "source": [
        "line_chart.add('sales', df['sales'][:15])\n",
        "line_chart.add('TV', df['TV'][:15])\n",
        "line_chart.add('newspaper', df['newspaper'][:15])\n",
        "line_chart.add('radio', df['radio'][:15])\n",
        "line_chart"
      ],
      "execution_count": 20,
      "outputs": [
        {
          "output_type": "error",
          "ename": "ModuleNotFoundError",
          "evalue": "ignored",
          "traceback": [
            "\u001b[0;31m---------------------------------------------------------------------------\u001b[0m",
            "\u001b[0;31mModuleNotFoundError\u001b[0m                       Traceback (most recent call last)",
            "\u001b[0;32m/usr/local/lib/python3.6/dist-packages/IPython/core/formatters.py\u001b[0m in \u001b[0;36m__call__\u001b[0;34m(self, obj)\u001b[0m\n\u001b[1;32m    336\u001b[0m             \u001b[0mmethod\u001b[0m \u001b[0;34m=\u001b[0m \u001b[0mget_real_method\u001b[0m\u001b[0;34m(\u001b[0m\u001b[0mobj\u001b[0m\u001b[0;34m,\u001b[0m \u001b[0mself\u001b[0m\u001b[0;34m.\u001b[0m\u001b[0mprint_method\u001b[0m\u001b[0;34m)\u001b[0m\u001b[0;34m\u001b[0m\u001b[0;34m\u001b[0m\u001b[0m\n\u001b[1;32m    337\u001b[0m             \u001b[0;32mif\u001b[0m \u001b[0mmethod\u001b[0m \u001b[0;32mis\u001b[0m \u001b[0;32mnot\u001b[0m \u001b[0;32mNone\u001b[0m\u001b[0;34m:\u001b[0m\u001b[0;34m\u001b[0m\u001b[0;34m\u001b[0m\u001b[0m\n\u001b[0;32m--> 338\u001b[0;31m                 \u001b[0;32mreturn\u001b[0m \u001b[0mmethod\u001b[0m\u001b[0;34m(\u001b[0m\u001b[0;34m)\u001b[0m\u001b[0;34m\u001b[0m\u001b[0;34m\u001b[0m\u001b[0m\n\u001b[0m\u001b[1;32m    339\u001b[0m             \u001b[0;32mreturn\u001b[0m \u001b[0;32mNone\u001b[0m\u001b[0;34m\u001b[0m\u001b[0;34m\u001b[0m\u001b[0m\n\u001b[1;32m    340\u001b[0m         \u001b[0;32melse\u001b[0m\u001b[0;34m:\u001b[0m\u001b[0;34m\u001b[0m\u001b[0;34m\u001b[0m\u001b[0m\n",
            "\u001b[0;32m/usr/local/lib/python3.6/dist-packages/pygal/graph/base.py\u001b[0m in \u001b[0;36m_repr_png_\u001b[0;34m(self)\u001b[0m\n\u001b[1;32m    232\u001b[0m     \u001b[0;32mdef\u001b[0m \u001b[0m_repr_png_\u001b[0m\u001b[0;34m(\u001b[0m\u001b[0mself\u001b[0m\u001b[0;34m)\u001b[0m\u001b[0;34m:\u001b[0m\u001b[0;34m\u001b[0m\u001b[0;34m\u001b[0m\u001b[0m\n\u001b[1;32m    233\u001b[0m         \u001b[0;34m\"\"\"Display png in IPython notebook\"\"\"\u001b[0m\u001b[0;34m\u001b[0m\u001b[0;34m\u001b[0m\u001b[0m\n\u001b[0;32m--> 234\u001b[0;31m         \u001b[0;32mreturn\u001b[0m \u001b[0mself\u001b[0m\u001b[0;34m.\u001b[0m\u001b[0mrender_to_png\u001b[0m\u001b[0;34m(\u001b[0m\u001b[0;34m)\u001b[0m\u001b[0;34m\u001b[0m\u001b[0;34m\u001b[0m\u001b[0m\n\u001b[0m",
            "\u001b[0;32m/usr/local/lib/python3.6/dist-packages/pygal/graph/public.py\u001b[0m in \u001b[0;36mrender_to_png\u001b[0;34m(self, filename, dpi, **kwargs)\u001b[0m\n\u001b[1;32m    116\u001b[0m     \u001b[0;32mdef\u001b[0m \u001b[0mrender_to_png\u001b[0m\u001b[0;34m(\u001b[0m\u001b[0mself\u001b[0m\u001b[0;34m,\u001b[0m \u001b[0mfilename\u001b[0m\u001b[0;34m=\u001b[0m\u001b[0;32mNone\u001b[0m\u001b[0;34m,\u001b[0m \u001b[0mdpi\u001b[0m\u001b[0;34m=\u001b[0m\u001b[0;36m72\u001b[0m\u001b[0;34m,\u001b[0m \u001b[0;34m**\u001b[0m\u001b[0mkwargs\u001b[0m\u001b[0;34m)\u001b[0m\u001b[0;34m:\u001b[0m\u001b[0;34m\u001b[0m\u001b[0;34m\u001b[0m\u001b[0m\n\u001b[1;32m    117\u001b[0m         \u001b[0;34m\"\"\"Render the graph, convert it to png and write it to filename\"\"\"\u001b[0m\u001b[0;34m\u001b[0m\u001b[0;34m\u001b[0m\u001b[0m\n\u001b[0;32m--> 118\u001b[0;31m         \u001b[0;32mimport\u001b[0m \u001b[0mcairosvg\u001b[0m\u001b[0;34m\u001b[0m\u001b[0;34m\u001b[0m\u001b[0m\n\u001b[0m\u001b[1;32m    119\u001b[0m         return cairosvg.svg2png(\n\u001b[1;32m    120\u001b[0m             bytestring=self.render(**kwargs), write_to=filename, dpi=dpi)\n",
            "\u001b[0;31mModuleNotFoundError\u001b[0m: No module named 'cairosvg'"
          ]
        },
        {
          "output_type": "execute_result",
          "data": {
            "text/plain": [
              "<pygal.graph.line.Line at 0x7fb3c326e208>"
            ],
            "image/svg+xml": "<svg xmlns:xlink=\"http://www.w3.org/1999/xlink\" xmlns=\"http://www.w3.org/2000/svg\" id=\"chart-eac38970-e964-4704-91e7-b506f4d843ad\" class=\"pygal-chart\" viewBox=\"0 0 800 600\"><!--Generated with pygal 2.4.0 (lxml) ©Kozea 2012-2016 on 2020-09-06--><!--http://pygal.org--><!--http://github.com/Kozea/pygal--><defs><style type=\"text/css\">#chart-eac38970-e964-4704-91e7-b506f4d843ad{-webkit-user-select:none;-webkit-font-smoothing:antialiased;font-family:Consolas,\"Liberation Mono\",Menlo,Courier,monospace}#chart-eac38970-e964-4704-91e7-b506f4d843ad .title{font-family:Consolas,\"Liberation Mono\",Menlo,Courier,monospace;font-size:16px}#chart-eac38970-e964-4704-91e7-b506f4d843ad .legends .legend text{font-family:Consolas,\"Liberation Mono\",Menlo,Courier,monospace;font-size:14px}#chart-eac38970-e964-4704-91e7-b506f4d843ad .axis text{font-family:Consolas,\"Liberation Mono\",Menlo,Courier,monospace;font-size:10px}#chart-eac38970-e964-4704-91e7-b506f4d843ad .axis text.major{font-family:Consolas,\"Liberation Mono\",Menlo,Courier,monospace;font-size:10px}#chart-eac38970-e964-4704-91e7-b506f4d843ad .text-overlay text.value{font-family:Consolas,\"Liberation Mono\",Menlo,Courier,monospace;font-size:16px}#chart-eac38970-e964-4704-91e7-b506f4d843ad .text-overlay text.label{font-family:Consolas,\"Liberation Mono\",Menlo,Courier,monospace;font-size:10px}#chart-eac38970-e964-4704-91e7-b506f4d843ad .tooltip{font-family:Consolas,\"Liberation Mono\",Menlo,Courier,monospace;font-size:14px}#chart-eac38970-e964-4704-91e7-b506f4d843ad text.no_data{font-family:Consolas,\"Liberation Mono\",Menlo,Courier,monospace;font-size:64px}\n#chart-eac38970-e964-4704-91e7-b506f4d843ad{background-color:rgba(249,249,249,1)}#chart-eac38970-e964-4704-91e7-b506f4d843ad path,#chart-eac38970-e964-4704-91e7-b506f4d843ad line,#chart-eac38970-e964-4704-91e7-b506f4d843ad rect,#chart-eac38970-e964-4704-91e7-b506f4d843ad circle{-webkit-transition:150ms;-moz-transition:150ms;transition:150ms}#chart-eac38970-e964-4704-91e7-b506f4d843ad .graph &gt; .background{fill:rgba(249,249,249,1)}#chart-eac38970-e964-4704-91e7-b506f4d843ad .plot &gt; .background{fill:rgba(255,255,255,1)}#chart-eac38970-e964-4704-91e7-b506f4d843ad .graph{fill:rgba(0,0,0,.87)}#chart-eac38970-e964-4704-91e7-b506f4d843ad text.no_data{fill:rgba(0,0,0,1)}#chart-eac38970-e964-4704-91e7-b506f4d843ad .title{fill:rgba(0,0,0,1)}#chart-eac38970-e964-4704-91e7-b506f4d843ad .legends .legend text{fill:rgba(0,0,0,.87)}#chart-eac38970-e964-4704-91e7-b506f4d843ad .legends .legend:hover text{fill:rgba(0,0,0,1)}#chart-eac38970-e964-4704-91e7-b506f4d843ad .axis .line{stroke:rgba(0,0,0,1)}#chart-eac38970-e964-4704-91e7-b506f4d843ad .axis .guide.line{stroke:rgba(0,0,0,.54)}#chart-eac38970-e964-4704-91e7-b506f4d843ad .axis .major.line{stroke:rgba(0,0,0,.87)}#chart-eac38970-e964-4704-91e7-b506f4d843ad .axis text.major{fill:rgba(0,0,0,1)}#chart-eac38970-e964-4704-91e7-b506f4d843ad .axis.y .guides:hover .guide.line,#chart-eac38970-e964-4704-91e7-b506f4d843ad .line-graph .axis.x .guides:hover .guide.line,#chart-eac38970-e964-4704-91e7-b506f4d843ad .stackedline-graph .axis.x .guides:hover .guide.line,#chart-eac38970-e964-4704-91e7-b506f4d843ad .xy-graph .axis.x .guides:hover .guide.line{stroke:rgba(0,0,0,1)}#chart-eac38970-e964-4704-91e7-b506f4d843ad .axis .guides:hover text{fill:rgba(0,0,0,1)}#chart-eac38970-e964-4704-91e7-b506f4d843ad .reactive{fill-opacity:.7;stroke-opacity:.8}#chart-eac38970-e964-4704-91e7-b506f4d843ad .ci{stroke:rgba(0,0,0,.87)}#chart-eac38970-e964-4704-91e7-b506f4d843ad .reactive.active,#chart-eac38970-e964-4704-91e7-b506f4d843ad .active .reactive{fill-opacity:.8;stroke-opacity:.9;stroke-width:4}#chart-eac38970-e964-4704-91e7-b506f4d843ad .ci .reactive.active{stroke-width:1.5}#chart-eac38970-e964-4704-91e7-b506f4d843ad .series text{fill:rgba(0,0,0,1)}#chart-eac38970-e964-4704-91e7-b506f4d843ad .tooltip rect{fill:rgba(255,255,255,1);stroke:rgba(0,0,0,1);-webkit-transition:opacity 150ms;-moz-transition:opacity 150ms;transition:opacity 150ms}#chart-eac38970-e964-4704-91e7-b506f4d843ad .tooltip .label{fill:rgba(0,0,0,.87)}#chart-eac38970-e964-4704-91e7-b506f4d843ad .tooltip .label{fill:rgba(0,0,0,.87)}#chart-eac38970-e964-4704-91e7-b506f4d843ad .tooltip .legend{font-size:.8em;fill:rgba(0,0,0,.54)}#chart-eac38970-e964-4704-91e7-b506f4d843ad .tooltip .x_label{font-size:.6em;fill:rgba(0,0,0,1)}#chart-eac38970-e964-4704-91e7-b506f4d843ad .tooltip .xlink{font-size:.5em;text-decoration:underline}#chart-eac38970-e964-4704-91e7-b506f4d843ad .tooltip .value{font-size:1.5em}#chart-eac38970-e964-4704-91e7-b506f4d843ad .bound{font-size:.5em}#chart-eac38970-e964-4704-91e7-b506f4d843ad .max-value{font-size:.75em;fill:rgba(0,0,0,.54)}#chart-eac38970-e964-4704-91e7-b506f4d843ad .map-element{fill:rgba(255,255,255,1);stroke:rgba(0,0,0,.54) !important}#chart-eac38970-e964-4704-91e7-b506f4d843ad .map-element .reactive{fill-opacity:inherit;stroke-opacity:inherit}#chart-eac38970-e964-4704-91e7-b506f4d843ad .color-0,#chart-eac38970-e964-4704-91e7-b506f4d843ad .color-0 a:visited{stroke:#F44336;fill:#F44336}#chart-eac38970-e964-4704-91e7-b506f4d843ad .color-1,#chart-eac38970-e964-4704-91e7-b506f4d843ad .color-1 a:visited{stroke:#3F51B5;fill:#3F51B5}#chart-eac38970-e964-4704-91e7-b506f4d843ad .color-2,#chart-eac38970-e964-4704-91e7-b506f4d843ad .color-2 a:visited{stroke:#009688;fill:#009688}#chart-eac38970-e964-4704-91e7-b506f4d843ad .color-3,#chart-eac38970-e964-4704-91e7-b506f4d843ad .color-3 a:visited{stroke:#FFC107;fill:#FFC107}#chart-eac38970-e964-4704-91e7-b506f4d843ad .color-4,#chart-eac38970-e964-4704-91e7-b506f4d843ad .color-4 a:visited{stroke:#FF5722;fill:#FF5722}#chart-eac38970-e964-4704-91e7-b506f4d843ad .text-overlay .color-0 text{fill:black}#chart-eac38970-e964-4704-91e7-b506f4d843ad .text-overlay .color-1 text{fill:black}#chart-eac38970-e964-4704-91e7-b506f4d843ad .text-overlay .color-2 text{fill:black}#chart-eac38970-e964-4704-91e7-b506f4d843ad .text-overlay .color-3 text{fill:black}#chart-eac38970-e964-4704-91e7-b506f4d843ad .text-overlay .color-4 text{fill:black}\n#chart-eac38970-e964-4704-91e7-b506f4d843ad text.no_data{text-anchor:middle}#chart-eac38970-e964-4704-91e7-b506f4d843ad .guide.line{fill:none}#chart-eac38970-e964-4704-91e7-b506f4d843ad .centered{text-anchor:middle}#chart-eac38970-e964-4704-91e7-b506f4d843ad .title{text-anchor:middle}#chart-eac38970-e964-4704-91e7-b506f4d843ad .legends .legend text{fill-opacity:1}#chart-eac38970-e964-4704-91e7-b506f4d843ad .axis.x text{text-anchor:middle}#chart-eac38970-e964-4704-91e7-b506f4d843ad .axis.x:not(.web) text[transform]{text-anchor:start}#chart-eac38970-e964-4704-91e7-b506f4d843ad .axis.x:not(.web) text[transform].backwards{text-anchor:end}#chart-eac38970-e964-4704-91e7-b506f4d843ad .axis.y text{text-anchor:end}#chart-eac38970-e964-4704-91e7-b506f4d843ad .axis.y text[transform].backwards{text-anchor:start}#chart-eac38970-e964-4704-91e7-b506f4d843ad .axis.y2 text{text-anchor:start}#chart-eac38970-e964-4704-91e7-b506f4d843ad .axis.y2 text[transform].backwards{text-anchor:end}#chart-eac38970-e964-4704-91e7-b506f4d843ad .axis .guide.line{stroke-dasharray:4,4}#chart-eac38970-e964-4704-91e7-b506f4d843ad .axis .major.guide.line{stroke-dasharray:6,6}#chart-eac38970-e964-4704-91e7-b506f4d843ad .horizontal .axis.y .guide.line,#chart-eac38970-e964-4704-91e7-b506f4d843ad .horizontal .axis.y2 .guide.line,#chart-eac38970-e964-4704-91e7-b506f4d843ad .vertical .axis.x .guide.line{opacity:0}#chart-eac38970-e964-4704-91e7-b506f4d843ad .horizontal .axis.always_show .guide.line,#chart-eac38970-e964-4704-91e7-b506f4d843ad .vertical .axis.always_show .guide.line{opacity:1 !important}#chart-eac38970-e964-4704-91e7-b506f4d843ad .axis.y .guides:hover .guide.line,#chart-eac38970-e964-4704-91e7-b506f4d843ad .axis.y2 .guides:hover .guide.line,#chart-eac38970-e964-4704-91e7-b506f4d843ad .axis.x .guides:hover .guide.line{opacity:1}#chart-eac38970-e964-4704-91e7-b506f4d843ad .axis .guides:hover text{opacity:1}#chart-eac38970-e964-4704-91e7-b506f4d843ad .nofill{fill:none}#chart-eac38970-e964-4704-91e7-b506f4d843ad .subtle-fill{fill-opacity:.2}#chart-eac38970-e964-4704-91e7-b506f4d843ad .dot{stroke-width:1px;fill-opacity:1}#chart-eac38970-e964-4704-91e7-b506f4d843ad .dot.active{stroke-width:5px}#chart-eac38970-e964-4704-91e7-b506f4d843ad .dot.negative{fill:transparent}#chart-eac38970-e964-4704-91e7-b506f4d843ad text,#chart-eac38970-e964-4704-91e7-b506f4d843ad tspan{stroke:none !important}#chart-eac38970-e964-4704-91e7-b506f4d843ad .series text.active{opacity:1}#chart-eac38970-e964-4704-91e7-b506f4d843ad .tooltip rect{fill-opacity:.95;stroke-width:.5}#chart-eac38970-e964-4704-91e7-b506f4d843ad .tooltip text{fill-opacity:1}#chart-eac38970-e964-4704-91e7-b506f4d843ad .showable{visibility:hidden}#chart-eac38970-e964-4704-91e7-b506f4d843ad .showable.shown{visibility:visible}#chart-eac38970-e964-4704-91e7-b506f4d843ad .gauge-background{fill:rgba(229,229,229,1);stroke:none}#chart-eac38970-e964-4704-91e7-b506f4d843ad .bg-lines{stroke:rgba(249,249,249,1);stroke-width:2px}</style><script type=\"text/javascript\">window.pygal = window.pygal || {};window.pygal.config = window.pygal.config || {};window.pygal.config['eac38970-e964-4704-91e7-b506f4d843ad'] = {\"allow_interruptions\": false, \"box_mode\": \"extremes\", \"classes\": [\"pygal-chart\"], \"css\": [\"file://style.css\", \"file://graph.css\"], \"defs\": [], \"disable_xml_declaration\": true, \"dots_size\": 2.5, \"dynamic_print_values\": false, \"explicit_size\": false, \"fill\": false, \"force_uri_protocol\": \"https\", \"formatter\": null, \"half_pie\": false, \"height\": 600, \"include_x_axis\": false, \"inner_radius\": 0, \"interpolate\": null, \"interpolation_parameters\": {}, \"interpolation_precision\": 250, \"inverse_y_axis\": false, \"js\": [\"//kozea.github.io/pygal.js/2.0.x/pygal-tooltips.min.js\"], \"legend_at_bottom\": false, \"legend_at_bottom_columns\": null, \"legend_box_size\": 12, \"logarithmic\": false, \"margin\": 20, \"margin_bottom\": null, \"margin_left\": null, \"margin_right\": null, \"margin_top\": null, \"max_scale\": 16, \"min_scale\": 4, \"missing_value_fill_truncation\": \"x\", \"no_data_text\": \"No data\", \"no_prefix\": false, \"order_min\": null, \"pretty_print\": false, \"print_labels\": false, \"print_values\": false, \"print_values_position\": \"center\", \"print_zeroes\": true, \"range\": null, \"rounded_bars\": null, \"secondary_range\": null, \"show_dots\": true, \"show_legend\": true, \"show_minor_x_labels\": true, \"show_minor_y_labels\": true, \"show_only_major_dots\": false, \"show_x_guides\": false, \"show_x_labels\": true, \"show_y_guides\": true, \"show_y_labels\": true, \"spacing\": 10, \"stack_from_top\": false, \"strict\": false, \"stroke\": true, \"stroke_style\": null, \"style\": {\"background\": \"rgba(249, 249, 249, 1)\", \"ci_colors\": [], \"colors\": [\"#F44336\", \"#3F51B5\", \"#009688\", \"#FFC107\", \"#FF5722\", \"#9C27B0\", \"#03A9F4\", \"#8BC34A\", \"#FF9800\", \"#E91E63\", \"#2196F3\", \"#4CAF50\", \"#FFEB3B\", \"#673AB7\", \"#00BCD4\", \"#CDDC39\", \"#9E9E9E\", \"#607D8B\"], \"font_family\": \"Consolas, \\\"Liberation Mono\\\", Menlo, Courier, monospace\", \"foreground\": \"rgba(0, 0, 0, .87)\", \"foreground_strong\": \"rgba(0, 0, 0, 1)\", \"foreground_subtle\": \"rgba(0, 0, 0, .54)\", \"guide_stroke_dasharray\": \"4,4\", \"label_font_family\": \"Consolas, \\\"Liberation Mono\\\", Menlo, Courier, monospace\", \"label_font_size\": 10, \"legend_font_family\": \"Consolas, \\\"Liberation Mono\\\", Menlo, Courier, monospace\", \"legend_font_size\": 14, \"major_guide_stroke_dasharray\": \"6,6\", \"major_label_font_family\": \"Consolas, \\\"Liberation Mono\\\", Menlo, Courier, monospace\", \"major_label_font_size\": 10, \"no_data_font_family\": \"Consolas, \\\"Liberation Mono\\\", Menlo, Courier, monospace\", \"no_data_font_size\": 64, \"opacity\": \".7\", \"opacity_hover\": \".8\", \"plot_background\": \"rgba(255, 255, 255, 1)\", \"stroke_opacity\": \".8\", \"stroke_opacity_hover\": \".9\", \"title_font_family\": \"Consolas, \\\"Liberation Mono\\\", Menlo, Courier, monospace\", \"title_font_size\": 16, \"tooltip_font_family\": \"Consolas, \\\"Liberation Mono\\\", Menlo, Courier, monospace\", \"tooltip_font_size\": 14, \"transition\": \"150ms\", \"value_background\": \"rgba(229, 229, 229, 1)\", \"value_colors\": [], \"value_font_family\": \"Consolas, \\\"Liberation Mono\\\", Menlo, Courier, monospace\", \"value_font_size\": 16, \"value_label_font_family\": \"Consolas, \\\"Liberation Mono\\\", Menlo, Courier, monospace\", \"value_label_font_size\": 10}, \"title\": null, \"tooltip_border_radius\": 0, \"tooltip_fancy_mode\": true, \"truncate_label\": null, \"truncate_legend\": null, \"width\": 800, \"x_label_rotation\": 0, \"x_labels\": null, \"x_labels_major\": null, \"x_labels_major_count\": null, \"x_labels_major_every\": null, \"x_title\": null, \"xrange\": null, \"y_label_rotation\": 0, \"y_labels\": null, \"y_labels_major\": null, \"y_labels_major_count\": null, \"y_labels_major_every\": null, \"y_title\": null, \"zero\": 0, \"legends\": [\"sales\", \"sales\", \"TV\", \"newspaper\", \"radio\"]}</script><script type=\"text/javascript\" xlink:href=\"https://kozea.github.io/pygal.js/2.0.x/pygal-tooltips.min.js\"/></defs><title>Pygal</title><g class=\"graph line-graph vertical\"><rect class=\"background\" height=\"600\" width=\"800\" x=\"0\" y=\"0\"/><g class=\"plot\" transform=\"translate(145, 20)\"><rect class=\"background\" height=\"560\" width=\"634.4\" x=\"0\" y=\"0\"/><g class=\"axis y always_show\"><path class=\"line\" d=\"M0.000000 560.000000 h634.400000\"/><g class=\"guides\"><path class=\"guide line\" d=\"M0.000000 504.574422 h634.400000\"/><text class=\"\" x=\"-5\" y=\"508.0744216499345\">20</text><title>20</title></g><g class=\"guides\"><path class=\"guide line\" d=\"M0.000000 457.567740 h634.400000\"/><text class=\"\" x=\"-5\" y=\"461.06773998589796\">40</text><title>40</title></g><g class=\"guides\"><path class=\"guide line\" d=\"M0.000000 410.561058 h634.400000\"/><text class=\"\" x=\"-5\" y=\"414.0610583218614\">60</text><title>60</title></g><g class=\"guides\"><path class=\"guide line\" d=\"M0.000000 363.554377 h634.400000\"/><text class=\"\" x=\"-5\" y=\"367.05437665782495\">80</text><title>80</title></g><g class=\"guides\"><path class=\"major guide line\" d=\"M0.000000 316.547695 h634.400000\"/><text class=\"major\" x=\"-5\" y=\"320.04769499378835\">100</text><title>100</title></g><g class=\"guides\"><path class=\"guide line\" d=\"M0.000000 269.541013 h634.400000\"/><text class=\"\" x=\"-5\" y=\"273.0410133297519\">120</text><title>120</title></g><g class=\"guides\"><path class=\"guide line\" d=\"M0.000000 222.534332 h634.400000\"/><text class=\"\" x=\"-5\" y=\"226.03433166571534\">140</text><title>140</title></g><g class=\"guides\"><path class=\"guide line\" d=\"M0.000000 175.527650 h634.400000\"/><text class=\"\" x=\"-5\" y=\"179.0276500016788\">160</text><title>160</title></g><g class=\"guides\"><path class=\"guide line\" d=\"M0.000000 128.520968 h634.400000\"/><text class=\"\" x=\"-5\" y=\"132.02096833764227\">180</text><title>180</title></g><g class=\"guides\"><path class=\"major guide line\" d=\"M0.000000 81.514287 h634.400000\"/><text class=\"major\" x=\"-5\" y=\"85.01428667360574\">200</text><title>200</title></g><g class=\"guides\"><path class=\"guide line\" d=\"M0.000000 34.507605 h634.400000\"/><text class=\"\" x=\"-5\" y=\"38.00760500956915\">220</text><title>220</title></g></g><g class=\"series serie-0 color-0\"><path class=\"line reactive nofill\" d=\"M12.200000 499.638720 L55.771429 527.137629 99.342857 529.722996 142.914286 508.099923 186.485714 521.261794 230.057143 534.658698 273.628571 523.847161 317.200000 520.556693 360.771429 540.299500 404.342857 526.667562 447.914286 531.368230 491.485714 510.685290 535.057143 529.958030 578.628571 528.782863 622.200000 506.924756\"/></g><g class=\"series serie-1 color-1\"><path class=\"line reactive nofill\" d=\"M12.200000 499.638720 L55.771429 527.137629 99.342857 529.722996 142.914286 508.099923 186.485714 521.261794 230.057143 534.658698 273.628571 523.847161 317.200000 520.556693 360.771429 540.299500 404.342857 526.667562 447.914286 531.368230 491.485714 510.685290 535.057143 529.958030 578.628571 528.782863 622.200000 506.924756\"/></g><g class=\"series serie-2 color-2\"><path class=\"line reactive nofill\" d=\"M12.200000 10.769231 L55.771429 446.991237 99.342857 511.155357 142.914286 195.505490 186.485714 126.640701 230.057143 531.133197 273.628571 416.436894 317.200000 269.070947 360.771429 531.368230 404.342857 81.984353 447.914286 396.224020 491.485714 46.964376 535.057143 495.643152 578.628571 322.423530 622.200000 71.877917\"/></g><g class=\"series serie-3 color-3\"><path class=\"line reactive nofill\" d=\"M12.200000 388.937985 L55.771429 445.581036 99.342857 388.702951 142.914286 414.086559 186.485714 414.321593 230.057143 375.306047 273.628571 496.348252 317.200000 524.317228 360.771429 549.230769 404.342857 501.754021 447.914286 494.703019 491.485714 542.179767 535.057143 396.694087 578.628571 534.658698 622.200000 443.465735\"/></g><g class=\"series serie-4 color-4\"><path class=\"line reactive nofill\" d=\"M12.200000 462.738475 L55.771429 459.212974 99.342857 443.700769 142.914286 454.512306 186.485714 526.197495 230.057143 436.649767 273.628571 474.490145 317.200000 505.514555 360.771429 546.645402 404.342857 545.470235 447.914286 537.949166 491.485714 495.173085 535.057143 469.084377 578.628571 533.718564 622.200000 474.255112\"/></g></g><g class=\"titles\"/><g class=\"plot overlay\" transform=\"translate(145, 20)\"><g class=\"series serie-0 color-0\"><g class=\"dots\"><circle class=\"dot reactive tooltip-trigger\" cx=\"12.2\" cy=\"499.6387200752107\" r=\"2.5\"/><desc class=\"value\">22.1</desc><desc class=\"x top\">12.2</desc><desc class=\"y top\">499.6387200752107</desc></g><g class=\"dots\"><circle class=\"dot reactive tooltip-trigger\" cx=\"55.771428571428565\" cy=\"527.1376288486721\" r=\"2.5\"/><desc class=\"value\">10.4</desc><desc class=\"x top\">55.771428571428565</desc><desc class=\"y top\">527.1376288486721</desc></g><g class=\"dots\"><circle class=\"dot reactive tooltip-trigger\" cx=\"99.34285714285711\" cy=\"529.7229963401941\" r=\"2.5\"/><desc class=\"value\">9.3</desc><desc class=\"x top\">99.34285714285711</desc><desc class=\"y top\">529.7229963401941</desc></g><g class=\"dots\"><circle class=\"dot reactive tooltip-trigger\" cx=\"142.91428571428568\" cy=\"508.09992277473725\" r=\"2.5\"/><desc class=\"value\">18.5</desc><desc class=\"x top\">142.91428571428568</desc><desc class=\"y top\">508.09992277473725</desc></g><g class=\"dots\"><circle class=\"dot reactive tooltip-trigger\" cx=\"186.48571428571427\" cy=\"521.2617936406675\" r=\"2.5\"/><desc class=\"value\">12.9</desc><desc class=\"x top\">186.48571428571427</desc><desc class=\"y top\">521.2617936406675</desc></g><g class=\"dots\"><circle class=\"dot reactive tooltip-trigger\" cx=\"230.05714285714285\" cy=\"534.6586979149179\" r=\"2.5\"/><desc class=\"value\">7.2</desc><desc class=\"x top\">230.05714285714285</desc><desc class=\"y top\">534.6586979149179</desc></g><g class=\"dots\"><circle class=\"dot reactive tooltip-trigger\" cx=\"273.62857142857143\" cy=\"523.8471611321895\" r=\"2.5\"/><desc class=\"value\">11.8</desc><desc class=\"x top\">273.62857142857143</desc><desc class=\"y top\">523.8471611321895</desc></g><g class=\"dots\"><circle class=\"dot reactive tooltip-trigger\" cx=\"317.2\" cy=\"520.556693415707\" r=\"2.5\"/><desc class=\"value\">13.2</desc><desc class=\"x top\">317.2</desc><desc class=\"y top\">520.556693415707</desc></g><g class=\"dots\"><circle class=\"dot reactive tooltip-trigger\" cx=\"360.7714285714285\" cy=\"540.2994997146022\" r=\"2.5\"/><desc class=\"value\">4.8</desc><desc class=\"x left top\">360.7714285714285</desc><desc class=\"y left top\">540.2994997146022</desc></g><g class=\"dots\"><circle class=\"dot reactive tooltip-trigger\" cx=\"404.34285714285716\" cy=\"526.6675620320317\" r=\"2.5\"/><desc class=\"value\">10.6</desc><desc class=\"x left top\">404.34285714285716</desc><desc class=\"y left top\">526.6675620320317</desc></g><g class=\"dots\"><circle class=\"dot reactive tooltip-trigger\" cx=\"447.9142857142857\" cy=\"531.3682301984353\" r=\"2.5\"/><desc class=\"value\">8.6</desc><desc class=\"x left top\">447.9142857142857</desc><desc class=\"y left top\">531.3682301984353</desc></g><g class=\"dots\"><circle class=\"dot reactive tooltip-trigger\" cx=\"491.48571428571427\" cy=\"510.68529026625924\" r=\"2.5\"/><desc class=\"value\">17.4</desc><desc class=\"x left top\">491.48571428571427</desc><desc class=\"y left top\">510.68529026625924</desc></g><g class=\"dots\"><circle class=\"dot reactive tooltip-trigger\" cx=\"535.0571428571428\" cy=\"529.9580297485143\" r=\"2.5\"/><desc class=\"value\">9.2</desc><desc class=\"x left top\">535.0571428571428</desc><desc class=\"y left top\">529.9580297485143</desc></g><g class=\"dots\"><circle class=\"dot reactive tooltip-trigger\" cx=\"578.6285714285714\" cy=\"528.7828627069133\" r=\"2.5\"/><desc class=\"value\">9.7</desc><desc class=\"x left top\">578.6285714285714</desc><desc class=\"y left top\">528.7828627069133</desc></g><g class=\"dots\"><circle class=\"dot reactive tooltip-trigger\" cx=\"622.1999999999999\" cy=\"506.92475573313635\" r=\"2.5\"/><desc class=\"value\">19</desc><desc class=\"x left top\">622.1999999999999</desc><desc class=\"y left top\">506.92475573313635</desc></g></g><g class=\"series serie-1 color-1\"><g class=\"dots\"><circle class=\"dot reactive tooltip-trigger\" cx=\"12.2\" cy=\"499.6387200752107\" r=\"2.5\"/><desc class=\"value\">22.1</desc><desc class=\"x top\">12.2</desc><desc class=\"y top\">499.6387200752107</desc></g><g class=\"dots\"><circle class=\"dot reactive tooltip-trigger\" cx=\"55.771428571428565\" cy=\"527.1376288486721\" r=\"2.5\"/><desc class=\"value\">10.4</desc><desc class=\"x top\">55.771428571428565</desc><desc class=\"y top\">527.1376288486721</desc></g><g class=\"dots\"><circle class=\"dot reactive tooltip-trigger\" cx=\"99.34285714285711\" cy=\"529.7229963401941\" r=\"2.5\"/><desc class=\"value\">9.3</desc><desc class=\"x top\">99.34285714285711</desc><desc class=\"y top\">529.7229963401941</desc></g><g class=\"dots\"><circle class=\"dot reactive tooltip-trigger\" cx=\"142.91428571428568\" cy=\"508.09992277473725\" r=\"2.5\"/><desc class=\"value\">18.5</desc><desc class=\"x top\">142.91428571428568</desc><desc class=\"y top\">508.09992277473725</desc></g><g class=\"dots\"><circle class=\"dot reactive tooltip-trigger\" cx=\"186.48571428571427\" cy=\"521.2617936406675\" r=\"2.5\"/><desc class=\"value\">12.9</desc><desc class=\"x top\">186.48571428571427</desc><desc class=\"y top\">521.2617936406675</desc></g><g class=\"dots\"><circle class=\"dot reactive tooltip-trigger\" cx=\"230.05714285714285\" cy=\"534.6586979149179\" r=\"2.5\"/><desc class=\"value\">7.2</desc><desc class=\"x top\">230.05714285714285</desc><desc class=\"y top\">534.6586979149179</desc></g><g class=\"dots\"><circle class=\"dot reactive tooltip-trigger\" cx=\"273.62857142857143\" cy=\"523.8471611321895\" r=\"2.5\"/><desc class=\"value\">11.8</desc><desc class=\"x top\">273.62857142857143</desc><desc class=\"y top\">523.8471611321895</desc></g><g class=\"dots\"><circle class=\"dot reactive tooltip-trigger\" cx=\"317.2\" cy=\"520.556693415707\" r=\"2.5\"/><desc class=\"value\">13.2</desc><desc class=\"x top\">317.2</desc><desc class=\"y top\">520.556693415707</desc></g><g class=\"dots\"><circle class=\"dot reactive tooltip-trigger\" cx=\"360.7714285714285\" cy=\"540.2994997146022\" r=\"2.5\"/><desc class=\"value\">4.8</desc><desc class=\"x left top\">360.7714285714285</desc><desc class=\"y left top\">540.2994997146022</desc></g><g class=\"dots\"><circle class=\"dot reactive tooltip-trigger\" cx=\"404.34285714285716\" cy=\"526.6675620320317\" r=\"2.5\"/><desc class=\"value\">10.6</desc><desc class=\"x left top\">404.34285714285716</desc><desc class=\"y left top\">526.6675620320317</desc></g><g class=\"dots\"><circle class=\"dot reactive tooltip-trigger\" cx=\"447.9142857142857\" cy=\"531.3682301984353\" r=\"2.5\"/><desc class=\"value\">8.6</desc><desc class=\"x left top\">447.9142857142857</desc><desc class=\"y left top\">531.3682301984353</desc></g><g class=\"dots\"><circle class=\"dot reactive tooltip-trigger\" cx=\"491.48571428571427\" cy=\"510.68529026625924\" r=\"2.5\"/><desc class=\"value\">17.4</desc><desc class=\"x left top\">491.48571428571427</desc><desc class=\"y left top\">510.68529026625924</desc></g><g class=\"dots\"><circle class=\"dot reactive tooltip-trigger\" cx=\"535.0571428571428\" cy=\"529.9580297485143\" r=\"2.5\"/><desc class=\"value\">9.2</desc><desc class=\"x left top\">535.0571428571428</desc><desc class=\"y left top\">529.9580297485143</desc></g><g class=\"dots\"><circle class=\"dot reactive tooltip-trigger\" cx=\"578.6285714285714\" cy=\"528.7828627069133\" r=\"2.5\"/><desc class=\"value\">9.7</desc><desc class=\"x left top\">578.6285714285714</desc><desc class=\"y left top\">528.7828627069133</desc></g><g class=\"dots\"><circle class=\"dot reactive tooltip-trigger\" cx=\"622.1999999999999\" cy=\"506.92475573313635\" r=\"2.5\"/><desc class=\"value\">19</desc><desc class=\"x left top\">622.1999999999999</desc><desc class=\"y left top\">506.92475573313635</desc></g></g><g class=\"series serie-2 color-2\"><g class=\"dots\"><circle class=\"dot reactive tooltip-trigger\" cx=\"12.2\" cy=\"10.769230769230717\" r=\"2.5\"/><desc class=\"value\">230.1</desc><desc class=\"x \">12.2</desc><desc class=\"y \">10.769230769230717</desc></g><g class=\"dots\"><circle class=\"dot reactive tooltip-trigger\" cx=\"55.771428571428565\" cy=\"446.99123661148974\" r=\"2.5\"/><desc class=\"value\">44.5</desc><desc class=\"x top\">55.771428571428565</desc><desc class=\"y top\">446.99123661148974</desc></g><g class=\"dots\"><circle class=\"dot reactive tooltip-trigger\" cx=\"99.34285714285711\" cy=\"511.1553570828996\" r=\"2.5\"/><desc class=\"value\">17.2</desc><desc class=\"x top\">99.34285714285711</desc><desc class=\"y top\">511.1553570828996</desc></g><g class=\"dots\"><circle class=\"dot reactive tooltip-trigger\" cx=\"142.91428571428568\" cy=\"195.5054897088943\" r=\"2.5\"/><desc class=\"value\">151.5</desc><desc class=\"x \">142.91428571428568</desc><desc class=\"y \">195.5054897088943</desc></g><g class=\"dots\"><circle class=\"dot reactive tooltip-trigger\" cx=\"186.48571428571427\" cy=\"126.6407010710808\" r=\"2.5\"/><desc class=\"value\">180.8</desc><desc class=\"x \">186.48571428571427</desc><desc class=\"y \">126.6407010710808</desc></g><g class=\"dots\"><circle class=\"dot reactive tooltip-trigger\" cx=\"230.05714285714285\" cy=\"531.1331967901151\" r=\"2.5\"/><desc class=\"value\">8.7</desc><desc class=\"x top\">230.05714285714285</desc><desc class=\"y top\">531.1331967901151</desc></g><g class=\"dots\"><circle class=\"dot reactive tooltip-trigger\" cx=\"273.62857142857143\" cy=\"416.43689352986604\" r=\"2.5\"/><desc class=\"value\">57.5</desc><desc class=\"x top\">273.62857142857143</desc><desc class=\"y top\">416.43689352986604</desc></g><g class=\"dots\"><circle class=\"dot reactive tooltip-trigger\" cx=\"317.2\" cy=\"269.0709465131115\" r=\"2.5\"/><desc class=\"value\">120.2</desc><desc class=\"x \">317.2</desc><desc class=\"y \">269.0709465131115</desc></g><g class=\"dots\"><circle class=\"dot reactive tooltip-trigger\" cx=\"360.7714285714285\" cy=\"531.3682301984353\" r=\"2.5\"/><desc class=\"value\">8.6</desc><desc class=\"x left top\">360.7714285714285</desc><desc class=\"y left top\">531.3682301984353</desc></g><g class=\"dots\"><circle class=\"dot reactive tooltip-trigger\" cx=\"404.34285714285716\" cy=\"81.98435349024606\" r=\"2.5\"/><desc class=\"value\">199.8</desc><desc class=\"x left\">404.34285714285716</desc><desc class=\"y left\">81.98435349024606</desc></g><g class=\"dots\"><circle class=\"dot reactive tooltip-trigger\" cx=\"447.9142857142857\" cy=\"396.2240204143303\" r=\"2.5\"/><desc class=\"value\">66.1</desc><desc class=\"x left top\">447.9142857142857</desc><desc class=\"y left top\">396.2240204143303</desc></g><g class=\"dots\"><circle class=\"dot reactive tooltip-trigger\" cx=\"491.48571428571427\" cy=\"46.964375650538955\" r=\"2.5\"/><desc class=\"value\">214.7</desc><desc class=\"x left\">491.48571428571427</desc><desc class=\"y left\">46.964375650538955</desc></g><g class=\"dots\"><circle class=\"dot reactive tooltip-trigger\" cx=\"535.0571428571428\" cy=\"495.64315213376756\" r=\"2.5\"/><desc class=\"value\">23.8</desc><desc class=\"x left top\">535.0571428571428</desc><desc class=\"y left top\">495.64315213376756</desc></g><g class=\"dots\"><circle class=\"dot reactive tooltip-trigger\" cx=\"578.6285714285714\" cy=\"322.42353020179297\" r=\"2.5\"/><desc class=\"value\">97.5</desc><desc class=\"x left top\">578.6285714285714</desc><desc class=\"y left top\">322.42353020179297</desc></g><g class=\"dots\"><circle class=\"dot reactive tooltip-trigger\" cx=\"622.1999999999999\" cy=\"71.87791693247823\" r=\"2.5\"/><desc class=\"value\">204.1</desc><desc class=\"x left\">622.1999999999999</desc><desc class=\"y left\">71.87791693247823</desc></g></g><g class=\"series serie-3 color-3\"><g class=\"dots\"><circle class=\"dot reactive tooltip-trigger\" cx=\"12.2\" cy=\"388.93798475640466\" r=\"2.5\"/><desc class=\"value\">69.2</desc><desc class=\"x top\">12.2</desc><desc class=\"y top\">388.93798475640466</desc></g><g class=\"dots\"><circle class=\"dot reactive tooltip-trigger\" cx=\"55.771428571428565\" cy=\"445.58103616156865\" r=\"2.5\"/><desc class=\"value\">45.1</desc><desc class=\"x top\">55.771428571428565</desc><desc class=\"y top\">445.58103616156865</desc></g><g class=\"dots\"><circle class=\"dot reactive tooltip-trigger\" cx=\"99.34285714285711\" cy=\"388.70295134808447\" r=\"2.5\"/><desc class=\"value\">69.3</desc><desc class=\"x top\">99.34285714285711</desc><desc class=\"y top\">388.70295134808447</desc></g><g class=\"dots\"><circle class=\"dot reactive tooltip-trigger\" cx=\"142.91428571428568\" cy=\"414.0865594466642\" r=\"2.5\"/><desc class=\"value\">58.5</desc><desc class=\"x top\">142.91428571428568</desc><desc class=\"y top\">414.0865594466642</desc></g><g class=\"dots\"><circle class=\"dot reactive tooltip-trigger\" cx=\"186.48571428571427\" cy=\"414.3215928549844\" r=\"2.5\"/><desc class=\"value\">58.4</desc><desc class=\"x top\">186.48571428571427</desc><desc class=\"y top\">414.3215928549844</desc></g><g class=\"dots\"><circle class=\"dot reactive tooltip-trigger\" cx=\"230.05714285714285\" cy=\"375.30604707383407\" r=\"2.5\"/><desc class=\"value\">75</desc><desc class=\"x top\">230.05714285714285</desc><desc class=\"y top\">375.30604707383407</desc></g><g class=\"dots\"><circle class=\"dot reactive tooltip-trigger\" cx=\"273.62857142857143\" cy=\"496.34825235872813\" r=\"2.5\"/><desc class=\"value\">23.5</desc><desc class=\"x top\">273.62857142857143</desc><desc class=\"y top\">496.34825235872813</desc></g><g class=\"dots\"><circle class=\"dot reactive tooltip-trigger\" cx=\"317.2\" cy=\"524.3172279488299\" r=\"2.5\"/><desc class=\"value\">11.6</desc><desc class=\"x top\">317.2</desc><desc class=\"y top\">524.3172279488299</desc></g><g class=\"dots\"><circle class=\"dot reactive tooltip-trigger\" cx=\"360.7714285714285\" cy=\"549.2307692307693\" r=\"2.5\"/><desc class=\"value\">1</desc><desc class=\"x left top\">360.7714285714285</desc><desc class=\"y left top\">549.2307692307693</desc></g><g class=\"dots\"><circle class=\"dot reactive tooltip-trigger\" cx=\"404.34285714285716\" cy=\"501.7540207500923\" r=\"2.5\"/><desc class=\"value\">21.2</desc><desc class=\"x left top\">404.34285714285716</desc><desc class=\"y left top\">501.7540207500923</desc></g><g class=\"dots\"><circle class=\"dot reactive tooltip-trigger\" cx=\"447.9142857142857\" cy=\"494.70301850048685\" r=\"2.5\"/><desc class=\"value\">24.2</desc><desc class=\"x left top\">447.9142857142857</desc><desc class=\"y left top\">494.70301850048685</desc></g><g class=\"dots\"><circle class=\"dot reactive tooltip-trigger\" cx=\"491.48571428571427\" cy=\"542.1797669811638\" r=\"2.5\"/><desc class=\"value\">4</desc><desc class=\"x left top\">491.48571428571427</desc><desc class=\"y left top\">542.1797669811638</desc></g><g class=\"dots\"><circle class=\"dot reactive tooltip-trigger\" cx=\"535.0571428571428\" cy=\"396.6940872309707\" r=\"2.5\"/><desc class=\"value\">65.9</desc><desc class=\"x left top\">535.0571428571428</desc><desc class=\"y left top\">396.6940872309707</desc></g><g class=\"dots\"><circle class=\"dot reactive tooltip-trigger\" cx=\"578.6285714285714\" cy=\"534.6586979149179\" r=\"2.5\"/><desc class=\"value\">7.2</desc><desc class=\"x left top\">578.6285714285714</desc><desc class=\"y left top\">534.6586979149179</desc></g><g class=\"dots\"><circle class=\"dot reactive tooltip-trigger\" cx=\"622.1999999999999\" cy=\"443.46573548668704\" r=\"2.5\"/><desc class=\"value\">46</desc><desc class=\"x left top\">622.1999999999999</desc><desc class=\"y left top\">443.46573548668704</desc></g></g><g class=\"series serie-4 color-4\"><g class=\"dots\"><circle class=\"dot reactive tooltip-trigger\" cx=\"12.2\" cy=\"462.738474968942\" r=\"2.5\"/><desc class=\"value\">37.8</desc><desc class=\"x top\">12.2</desc><desc class=\"y top\">462.738474968942</desc></g><g class=\"dots\"><circle class=\"dot reactive tooltip-trigger\" cx=\"55.771428571428565\" cy=\"459.21297384413924\" r=\"2.5\"/><desc class=\"value\">39.3</desc><desc class=\"x top\">55.771428571428565</desc><desc class=\"y top\">459.21297384413924</desc></g><g class=\"dots\"><circle class=\"dot reactive tooltip-trigger\" cx=\"99.34285714285711\" cy=\"443.70076889500723\" r=\"2.5\"/><desc class=\"value\">45.9</desc><desc class=\"x top\">99.34285714285711</desc><desc class=\"y top\">443.70076889500723</desc></g><g class=\"dots\"><circle class=\"dot reactive tooltip-trigger\" cx=\"142.91428571428568\" cy=\"454.51230567773564\" r=\"2.5\"/><desc class=\"value\">41.3</desc><desc class=\"x top\">142.91428571428568</desc><desc class=\"y top\">454.51230567773564</desc></g><g class=\"dots\"><circle class=\"dot reactive tooltip-trigger\" cx=\"186.48571428571427\" cy=\"526.1974952153913\" r=\"2.5\"/><desc class=\"value\">10.8</desc><desc class=\"x top\">186.48571428571427</desc><desc class=\"y top\">526.1974952153913</desc></g><g class=\"dots\"><circle class=\"dot reactive tooltip-trigger\" cx=\"230.05714285714285\" cy=\"436.64976664540177\" r=\"2.5\"/><desc class=\"value\">48.9</desc><desc class=\"x top\">230.05714285714285</desc><desc class=\"y top\">436.64976664540177</desc></g><g class=\"dots\"><circle class=\"dot reactive tooltip-trigger\" cx=\"273.62857142857143\" cy=\"474.4901453849511\" r=\"2.5\"/><desc class=\"value\">32.8</desc><desc class=\"x top\">273.62857142857143</desc><desc class=\"y top\">474.4901453849511</desc></g><g class=\"dots\"><circle class=\"dot reactive tooltip-trigger\" cx=\"317.2\" cy=\"505.51455528321526\" r=\"2.5\"/><desc class=\"value\">19.6</desc><desc class=\"x top\">317.2</desc><desc class=\"y top\">505.51455528321526</desc></g><g class=\"dots\"><circle class=\"dot reactive tooltip-trigger\" cx=\"360.7714285714285\" cy=\"546.6454017392472\" r=\"2.5\"/><desc class=\"value\">2.1</desc><desc class=\"x left top\">360.7714285714285</desc><desc class=\"y left top\">546.6454017392472</desc></g><g class=\"dots\"><circle class=\"dot reactive tooltip-trigger\" cx=\"404.34285714285716\" cy=\"545.4702346976463\" r=\"2.5\"/><desc class=\"value\">2.6</desc><desc class=\"x left top\">404.34285714285716</desc><desc class=\"y left top\">545.4702346976463</desc></g><g class=\"dots\"><circle class=\"dot reactive tooltip-trigger\" cx=\"447.9142857142857\" cy=\"537.9491656314004\" r=\"2.5\"/><desc class=\"value\">5.8</desc><desc class=\"x left top\">447.9142857142857</desc><desc class=\"y left top\">537.9491656314004</desc></g><g class=\"dots\"><circle class=\"dot reactive tooltip-trigger\" cx=\"491.48571428571427\" cy=\"495.17308531712723\" r=\"2.5\"/><desc class=\"value\">24</desc><desc class=\"x left top\">491.48571428571427</desc><desc class=\"y left top\">495.17308531712723</desc></g><g class=\"dots\"><circle class=\"dot reactive tooltip-trigger\" cx=\"535.0571428571428\" cy=\"469.08437699358694\" r=\"2.5\"/><desc class=\"value\">35.1</desc><desc class=\"x left top\">535.0571428571428</desc><desc class=\"y left top\">469.08437699358694</desc></g><g class=\"dots\"><circle class=\"dot reactive tooltip-trigger\" cx=\"578.6285714285714\" cy=\"533.7185642816372\" r=\"2.5\"/><desc class=\"value\">7.6</desc><desc class=\"x left top\">578.6285714285714</desc><desc class=\"y left top\">533.7185642816372</desc></g><g class=\"dots\"><circle class=\"dot reactive tooltip-trigger\" cx=\"622.1999999999999\" cy=\"474.255111976631\" r=\"2.5\"/><desc class=\"value\">32.9</desc><desc class=\"x left top\">622.1999999999999</desc><desc class=\"y left top\">474.255111976631</desc></g></g></g><g class=\"plot text-overlay\" transform=\"translate(145, 20)\"><g class=\"series serie-0 color-0\"/><g class=\"series serie-1 color-1\"/><g class=\"series serie-2 color-2\"/><g class=\"series serie-3 color-3\"/><g class=\"series serie-4 color-4\"/></g><g class=\"plot tooltip-overlay\" transform=\"translate(145, 20)\"><g class=\"tooltip\" style=\"opacity: 0\" transform=\"translate(0 0)\"><rect class=\"tooltip-box\" height=\"0\" rx=\"0\" ry=\"0\" width=\"0\"/><g class=\"text\"/></g></g><g class=\"legends\" transform=\"translate(10, 30)\"><g class=\"legend reactive activate-serie\" id=\"activate-serie-0\"><rect class=\"color-0 reactive\" height=\"12\" width=\"12\" x=\"0.0\" y=\"1.0\"/><text x=\"17.0\" y=\"11.2\">sales</text></g><g class=\"legend reactive activate-serie\" id=\"activate-serie-1\"><rect class=\"color-1 reactive\" height=\"12\" width=\"12\" x=\"0.0\" y=\"22.0\"/><text x=\"17.0\" y=\"32.2\">sales</text></g><g class=\"legend reactive activate-serie\" id=\"activate-serie-2\"><rect class=\"color-2 reactive\" height=\"12\" width=\"12\" x=\"0.0\" y=\"43.0\"/><text x=\"17.0\" y=\"53.2\">TV</text></g><g class=\"legend reactive activate-serie\" id=\"activate-serie-3\"><rect class=\"color-3 reactive\" height=\"12\" width=\"12\" x=\"0.0\" y=\"64.0\"/><text x=\"17.0\" y=\"74.2\">newspaper</text></g><g class=\"legend reactive activate-serie\" id=\"activate-serie-4\"><rect class=\"color-4 reactive\" height=\"12\" width=\"12\" x=\"0.0\" y=\"85.0\"/><text x=\"17.0\" y=\"95.2\">radio</text></g></g><g class=\"legends\" transform=\"translate(790, 30)\"/></g></svg>"
          },
          "metadata": {
            "tags": []
          },
          "execution_count": 20
        }
      ]
    },
    {
      "cell_type": "code",
      "metadata": {
        "id": "AXhToe7Ssjfe",
        "colab_type": "code",
        "colab": {}
      },
      "source": [
        "box_plot = pygal.Box()\n",
        "box_plot.title = 'Advertising'\n",
        "box_plot.add('TV', df['TV'])\n",
        "box_plot.add('Radio', df['Radio'])\n",
        "box_plot.add('Newspaper', df['Newspaper'])"
      ],
      "execution_count": null,
      "outputs": []
    },
    {
      "cell_type": "code",
      "metadata": {
        "id": "nMAuaFigsjkm",
        "colab_type": "code",
        "colab": {}
      },
      "source": [
        "dot_chart = pygal.Dot()\n",
        "dot_chart.title = 'Advertising'\n",
        "dot_chart.add('Sales', df['Sales'][:5])\n",
        "dot_chart.add('TV', df['TV'][:5])\n",
        "dot_chart.add('Radio', df['Radio'][:5])\n",
        "dot_chart.add('Newspaper', df['Newspaper'][:5])\n",
        "dot_chart.render_to_file('dot1.svg')"
      ],
      "execution_count": null,
      "outputs": []
    },
    {
      "cell_type": "code",
      "metadata": {
        "id": "h2CZnt4Lsjm7",
        "colab_type": "code",
        "colab": {}
      },
      "source": [
        "funnel_chart = pygal.Funnel()\n",
        "funnel_chart.title = 'Advrtising\n",
        "funnel_chart.add('TV', df['TV'][:15])\n",
        "funnel_chart.add('Radio', df['Radio'][:15])\n",
        "funnel_chart.add('Newspaper', df['Newspaper'][:15])\n",
        "funnel_chart.render_to_file('funnel1.svg')"
      ],
      "execution_count": null,
      "outputs": []
    },
    {
      "cell_type": "code",
      "metadata": {
        "id": "bT1cQ6Wasjph",
        "colab_type": "code",
        "colab": {}
      },
      "source": [
        "gauge_chart = pygal.Gauge(human_readable=True)\n",
        "gauge_chart.title = 'Advertising'\n",
        "gauge_chart.range = [0, 500]\n",
        "gauge_chart.add('Sales', df['Sales'][:1])\n",
        "gauge_chart.add('TV', df['TV'][:1])\n",
        "gauge_chart.add('Radio', df['Radio'][:1])\n",
        "gauge_chart.add('Newspaper', df['Newspaper'][:1])\n",
        "gauge_chart.render_to_file('gauge.svg')"
      ],
      "execution_count": null,
      "outputs": []
    },
    {
      "cell_type": "code",
      "metadata": {
        "id": "tMb8wqIlsjuQ",
        "colab_type": "code",
        "colab": {}
      },
      "source": [
        "treemap = pygal.Treemap()\n",
        "treemap.title = 'Advertisement TreeMap'\n",
        "treemap.add('Sales', df['Sales'][:10])\n",
        "treemap.add('TV', df['TV'][:10])\n",
        "treemap.add('Radio', df['Radio'][:10])\n",
        "treemap.add('Newspaper', df['Newspaper'][:10])\n",
        "treemap.render_to_file('treemap1.svg')"
      ],
      "execution_count": null,
      "outputs": []
    },
    {
      "cell_type": "code",
      "metadata": {
        "id": "e9l1uqmysjyI",
        "colab_type": "code",
        "colab": {}
      },
      "source": [
        ""
      ],
      "execution_count": null,
      "outputs": []
    },
    {
      "cell_type": "code",
      "metadata": {
        "id": "y-t8VFxqsj0_",
        "colab_type": "code",
        "colab": {}
      },
      "source": [
        ""
      ],
      "execution_count": null,
      "outputs": []
    },
    {
      "cell_type": "code",
      "metadata": {
        "id": "S7dNRsqnsj3o",
        "colab_type": "code",
        "colab": {}
      },
      "source": [
        ""
      ],
      "execution_count": null,
      "outputs": []
    },
    {
      "cell_type": "code",
      "metadata": {
        "id": "ubxY78spsj55",
        "colab_type": "code",
        "colab": {}
      },
      "source": [
        ""
      ],
      "execution_count": null,
      "outputs": []
    },
    {
      "cell_type": "code",
      "metadata": {
        "id": "_PmAfbCzsjse",
        "colab_type": "code",
        "colab": {}
      },
      "source": [
        ""
      ],
      "execution_count": null,
      "outputs": []
    },
    {
      "cell_type": "code",
      "metadata": {
        "id": "1Wj5cIHCsjiO",
        "colab_type": "code",
        "colab": {}
      },
      "source": [
        ""
      ],
      "execution_count": null,
      "outputs": []
    }
  ]
}