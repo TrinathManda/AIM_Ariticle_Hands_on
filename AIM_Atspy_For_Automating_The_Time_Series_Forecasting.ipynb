{
  "nbformat": 4,
  "nbformat_minor": 0,
  "metadata": {
    "colab": {
      "name": "AIM_Atspy For Automating The Time-Series Forecasting",
      "provenance": [],
      "collapsed_sections": []
    },
    "kernelspec": {
      "name": "python3",
      "display_name": "Python 3"
    }
  },
  "cells": [
    {
      "cell_type": "code",
      "metadata": {
        "id": "kkcAbJRINnt4",
        "colab_type": "code",
        "colab": {
          "base_uri": "https://localhost:8080/",
          "height": 1000
        },
        "outputId": "27b2361f-8d02-40db-a01e-43e9ff48cc67"
      },
      "source": [
        "#https://analyticsindiamag.com/hands-on-guide-to-atspy-for-automating-the-time-series-forecasting/\n",
        "!pip install atspy\n"
      ],
      "execution_count": 1,
      "outputs": [
        {
          "output_type": "stream",
          "text": [
            "Collecting atspy\n",
            "  Downloading https://files.pythonhosted.org/packages/cc/71/5f16915ea3b37fae4b3057df965e628b5a1dbfe552a6ddf8b14a64a111d6/atspy-0.2.8.tar.gz\n",
            "Collecting cachetools==4.0.0\n",
            "  Downloading https://files.pythonhosted.org/packages/08/6a/abf83cb951617793fd49c98cb9456860f5df66ff89883c8660aa0672d425/cachetools-4.0.0-py3-none-any.whl\n",
            "Collecting Cython==0.29.14\n",
            "\u001b[?25l  Downloading https://files.pythonhosted.org/packages/df/d1/4d3f8a7a920e805488a966cc6ab55c978a712240f584445d703c08b9f405/Cython-0.29.14-cp36-cp36m-manylinux1_x86_64.whl (2.1MB)\n",
            "\u001b[K     |████████████████████████████████| 2.1MB 4.0MB/s \n",
            "\u001b[?25hRequirement already satisfied: dataclasses in /usr/local/lib/python3.6/dist-packages (from atspy) (0.7)\n",
            "Collecting DateTime==4.3\n",
            "\u001b[?25l  Downloading https://files.pythonhosted.org/packages/73/22/a5297f3a1f92468cc737f8ce7ba6e5f245fcfafeae810ba37bd1039ea01c/DateTime-4.3-py2.py3-none-any.whl (60kB)\n",
            "\u001b[K     |████████████████████████████████| 61kB 6.1MB/s \n",
            "\u001b[?25hCollecting decorator==4.4.1\n",
            "  Downloading https://files.pythonhosted.org/packages/8f/b7/f329cfdc75f3d28d12c65980e4469e2fa373f1953f5df6e370e84ea2e875/decorator-4.4.1-py2.py3-none-any.whl\n",
            "Requirement already satisfied: easydict==1.9 in /usr/local/lib/python3.6/dist-packages (from atspy) (1.9)\n",
            "Collecting fbprophet==0.5\n",
            "\u001b[?25l  Downloading https://files.pythonhosted.org/packages/33/fb/ad98d46773929079657706e6b2b6e366ba6c282bc2397d8f9b0ea8e5614c/fbprophet-0.5.tar.gz (49kB)\n",
            "\u001b[K     |████████████████████████████████| 51kB 4.8MB/s \n",
            "\u001b[?25hCollecting gluonts==0.4.2\n",
            "\u001b[?25l  Downloading https://files.pythonhosted.org/packages/98/c8/113009b077ca127308470dcd4851e53a6b4ad905fe61f36f28d22ff3a4a5/gluonts-0.4.2-py3-none-any.whl (323kB)\n",
            "\u001b[K     |████████████████████████████████| 327kB 21.5MB/s \n",
            "\u001b[?25hCollecting gunicorn==20.0.4\n",
            "\u001b[?25l  Downloading https://files.pythonhosted.org/packages/69/ca/926f7cd3a2014b16870086b2d0fdc84a9e49473c68a8dff8b57f7c156f43/gunicorn-20.0.4-py2.py3-none-any.whl (77kB)\n",
            "\u001b[K     |████████████████████████████████| 81kB 7.4MB/s \n",
            "\u001b[?25hCollecting Keras==2.2.5\n",
            "\u001b[?25l  Downloading https://files.pythonhosted.org/packages/f8/ba/2d058dcf1b85b9c212cc58264c98a4a7dd92c989b798823cc5690d062bb2/Keras-2.2.5-py2.py3-none-any.whl (336kB)\n",
            "\u001b[K     |████████████████████████████████| 337kB 22.2MB/s \n",
            "\u001b[?25hRequirement already satisfied: lightgbm==2.2.3 in /usr/local/lib/python3.6/dist-packages (from atspy) (2.2.3)\n",
            "Collecting matplotlib==3.1.2\n",
            "\u001b[?25l  Downloading https://files.pythonhosted.org/packages/4e/11/06958a2b895a3853206dea1fb2a5b11bf044f626f90745987612af9c8f2c/matplotlib-3.1.2-cp36-cp36m-manylinux1_x86_64.whl (13.1MB)\n",
            "\u001b[K     |████████████████████████████████| 13.1MB 304kB/s \n",
            "\u001b[?25hCollecting mxnet-cu100==1.4.1\n",
            "\u001b[?25l  Downloading https://files.pythonhosted.org/packages/19/91/b5c2692297aa5b8c383e0da18f9208fc6d5519d981c03266abfbde897c41/mxnet_cu100-1.4.1-py2.py3-none-manylinux1_x86_64.whl (488.3MB)\n",
            "\u001b[K     |████████████████████████████████| 488.3MB 17kB/s \n",
            "\u001b[?25hCollecting numba==0.47.0\n",
            "\u001b[?25l  Downloading https://files.pythonhosted.org/packages/f8/7d/f2b5ea8d5952115351e303d1aadbdd1c5b08f479d76456d43a5d7a3a8c88/numba-0.47.0-cp36-cp36m-manylinux1_x86_64.whl (3.7MB)\n",
            "\u001b[K     |████████████████████████████████| 3.7MB 37.8MB/s \n",
            "\u001b[?25hRequirement already satisfied: numexpr==2.7.1 in /usr/local/lib/python3.6/dist-packages (from atspy) (2.7.1)\n",
            "Collecting pandas==0.25.3\n",
            "\u001b[?25l  Downloading https://files.pythonhosted.org/packages/52/3f/f6a428599e0d4497e1595030965b5ba455fd8ade6e977e3c819973c4b41d/pandas-0.25.3-cp36-cp36m-manylinux1_x86_64.whl (10.4MB)\n",
            "\u001b[K     |████████████████████████████████| 10.4MB 38.0MB/s \n",
            "\u001b[?25hCollecting pip-tools==4.2.0\n",
            "\u001b[?25l  Downloading https://files.pythonhosted.org/packages/53/aa/d0a0ae1e73eae5662be9df49468f1124f7f3229368a40619ab69eeb54f35/pip_tools-4.2.0-py2.py3-none-any.whl (40kB)\n",
            "\u001b[K     |████████████████████████████████| 40kB 4.5MB/s \n",
            "\u001b[?25hCollecting pmdarima==1.5.2\n",
            "\u001b[?25l  Downloading https://files.pythonhosted.org/packages/4a/1a/32945c19306212fd08547369f40c8965bbc9e18652bb241766dfab398710/pmdarima-1.5.2-cp36-cp36m-manylinux1_x86_64.whl (1.4MB)\n",
            "\u001b[K     |████████████████████████████████| 1.5MB 41.8MB/s \n",
            "\u001b[?25hRequirement already satisfied: psutil==5.4.8 in /usr/local/lib/python3.6/dist-packages (from atspy) (5.4.8)\n",
            "Requirement already satisfied: psycopg2==2.7.6.1 in /usr/local/lib/python3.6/dist-packages (from atspy) (2.7.6.1)\n",
            "Collecting scikit-learn==0.22.1\n",
            "\u001b[?25l  Downloading https://files.pythonhosted.org/packages/d1/48/e9fa9e252abcd1447eff6f9257636af31758a6e46fd5ce5d3c879f6907cb/scikit_learn-0.22.1-cp36-cp36m-manylinux1_x86_64.whl (7.0MB)\n",
            "\u001b[K     |████████████████████████████████| 7.1MB 42.9MB/s \n",
            "\u001b[?25hRequirement already satisfied: scipy==1.4.1 in /usr/local/lib/python3.6/dist-packages (from atspy) (1.4.1)\n",
            "Collecting seaborn==0.9.1\n",
            "\u001b[?25l  Downloading https://files.pythonhosted.org/packages/b2/86/43b8c9138ef4c2a1c492fee92792c83c13799d0e2061ff810d3826d06cd1/seaborn-0.9.1-py2.py3-none-any.whl (216kB)\n",
            "\u001b[K     |████████████████████████████████| 225kB 41.9MB/s \n",
            "\u001b[?25hRequirement already satisfied: sklearn==0.0 in /usr/local/lib/python3.6/dist-packages (from atspy) (0.0)\n",
            "Requirement already satisfied: statsmodels==0.10.2 in /usr/local/lib/python3.6/dist-packages (from atspy) (0.10.2)\n",
            "Requirement already satisfied: sympy==1.1.1 in /usr/local/lib/python3.6/dist-packages (from atspy) (1.1.1)\n",
            "Collecting tbats==1.0.9\n",
            "\u001b[?25l  Downloading https://files.pythonhosted.org/packages/5e/f2/04545b598030cd72807847d9230a5db619658be3a650e112ed18acb3a122/tbats-1.0.9-py3-none-any.whl (43kB)\n",
            "\u001b[K     |████████████████████████████████| 51kB 6.0MB/s \n",
            "\u001b[?25hCollecting tblib==1.6.0\n",
            "  Downloading https://files.pythonhosted.org/packages/0d/de/dca3e651ca62e59c08d324f4a51467fa4b8cbeaafb883b5e83720b4d4a47/tblib-1.6.0-py2.py3-none-any.whl\n",
            "Collecting tensorflow==1.15.0\n",
            "\u001b[?25l  Downloading https://files.pythonhosted.org/packages/3f/98/5a99af92fb911d7a88a0005ad55005f35b4c1ba8d75fba02df726cd936e6/tensorflow-1.15.0-cp36-cp36m-manylinux2010_x86_64.whl (412.3MB)\n",
            "\u001b[K     |████████████████████████████████| 412.3MB 41kB/s \n",
            "\u001b[?25hCollecting tflearn==0.3.2\n",
            "\u001b[?25l  Downloading https://files.pythonhosted.org/packages/16/ec/e9ce1b52e71f6dff3bd944f020cef7140779e783ab27512ea7c7275ddee5/tflearn-0.3.2.tar.gz (98kB)\n",
            "\u001b[K     |████████████████████████████████| 102kB 7.8MB/s \n",
            "\u001b[?25hCollecting torch==1.4.0\n",
            "\u001b[?25l  Downloading https://files.pythonhosted.org/packages/24/19/4804aea17cd136f1705a5e98a00618cb8f6ccc375ad8bfa437408e09d058/torch-1.4.0-cp36-cp36m-manylinux1_x86_64.whl (753.4MB)\n",
            "\u001b[K     |████████████████████████████████| 753.4MB 20kB/s \n",
            "\u001b[?25hCollecting tqdm==4.28.1\n",
            "\u001b[?25l  Downloading https://files.pythonhosted.org/packages/91/55/8cb23a97301b177e9c8e3226dba45bb454411de2cbd25746763267f226c2/tqdm-4.28.1-py2.py3-none-any.whl (45kB)\n",
            "\u001b[K     |████████████████████████████████| 51kB 4.4MB/s \n",
            "\u001b[?25hCollecting tsfresh==0.14.1\n",
            "\u001b[?25l  Downloading https://files.pythonhosted.org/packages/bc/a0/14bc9fbc3391536965305a3c3697b23bb7a5d52c0d49d5e4a7ad54d534cc/tsfresh-0.14.1-py2.py3-none-any.whl (77kB)\n",
            "\u001b[K     |████████████████████████████████| 81kB 7.8MB/s \n",
            "\u001b[?25hRequirement already satisfied: tweepy==3.6.0 in /usr/local/lib/python3.6/dist-packages (from atspy) (3.6.0)\n",
            "Collecting typing==3.6.6\n",
            "  Downloading https://files.pythonhosted.org/packages/4a/bd/eee1157fc2d8514970b345d69cb9975dcd1e42cd7e61146ed841f6e68309/typing-3.6.6-py3-none-any.whl\n",
            "Collecting typing-extensions==3.6.6\n",
            "  Downloading https://files.pythonhosted.org/packages/62/4f/392a1fa2873e646f5990eb6f956e662d8a235ab474450c72487745f67276/typing_extensions-3.6.6-py3-none-any.whl\n",
            "Requirement already satisfied: xlrd==1.1.0 in /usr/local/lib/python3.6/dist-packages (from atspy) (1.1.0)\n",
            "Collecting seasonal==0.3.1\n",
            "  Downloading https://files.pythonhosted.org/packages/74/ec/1d6053a5bb05bf72a720772575b85a0a1599314e1ca2d6eba9000d75f4b8/seasonal-0.3.1-py2.py3-none-any.whl\n",
            "Collecting nbeats-pytorch==1.3.0\n",
            "  Downloading https://files.pythonhosted.org/packages/5c/b1/8718eb745b993d00f176d736e3aeb6850aa97eb6e279ff13493f9e4f3b93/nbeats_pytorch-1.3.0-py3-none-any.whl\n",
            "Collecting numpy==1.17.4\n",
            "\u001b[?25l  Downloading https://files.pythonhosted.org/packages/d2/ab/43e678759326f728de861edbef34b8e2ad1b1490505f20e0d1f0716c3bf4/numpy-1.17.4-cp36-cp36m-manylinux1_x86_64.whl (20.0MB)\n",
            "\u001b[K     |████████████████████████████████| 20.0MB 1.2MB/s \n",
            "\u001b[?25hCollecting pydantic==1.4\n",
            "\u001b[?25l  Downloading https://files.pythonhosted.org/packages/be/9a/a2d9613a70051615a84df6e9d697aad9787ba978bdeb4ad46c754457b3e1/pydantic-1.4-cp36-cp36m-manylinux2010_x86_64.whl (7.5MB)\n",
            "\u001b[K     |████████████████████████████████| 7.5MB 37.2MB/s \n",
            "\u001b[?25hRequirement already satisfied: pytz in /usr/local/lib/python3.6/dist-packages (from DateTime==4.3->atspy) (2018.9)\n",
            "Collecting zope.interface\n",
            "\u001b[?25l  Downloading https://files.pythonhosted.org/packages/57/33/565274c28a11af60b7cfc0519d46bde4125fcd7d32ebc0a81b480d0e8da6/zope.interface-5.1.0-cp36-cp36m-manylinux2010_x86_64.whl (234kB)\n",
            "\u001b[K     |████████████████████████████████| 235kB 45.3MB/s \n",
            "\u001b[?25hRequirement already satisfied: pystan>=2.14 in /usr/local/lib/python3.6/dist-packages (from fbprophet==0.5->atspy) (2.19.1.1)\n",
            "Collecting lunardate>=0.1.5\n",
            "  Downloading https://files.pythonhosted.org/packages/4e/7e/377a3cbba646ec0cf79433ef858881d809a3b87eb887b0901cb83c66a758/lunardate-0.2.0-py3-none-any.whl\n",
            "Requirement already satisfied: convertdate>=2.1.2 in /usr/local/lib/python3.6/dist-packages (from fbprophet==0.5->atspy) (2.2.1)\n",
            "Requirement already satisfied: holidays>=0.9.5 in /usr/local/lib/python3.6/dist-packages (from fbprophet==0.5->atspy) (0.9.12)\n",
            "Requirement already satisfied: setuptools-git>=1.2 in /usr/local/lib/python3.6/dist-packages (from fbprophet==0.5->atspy) (1.2)\n",
            "Collecting ujson~=1.35\n",
            "\u001b[?25l  Downloading https://files.pythonhosted.org/packages/16/c4/79f3409bc710559015464e5f49b9879430d8f87498ecdc335899732e5377/ujson-1.35.tar.gz (192kB)\n",
            "\u001b[K     |████████████████████████████████| 194kB 35.5MB/s \n",
            "\u001b[?25hRequirement already satisfied: boto3~=1.0 in /usr/local/lib/python3.6/dist-packages (from gluonts==0.4.2->atspy) (1.14.48)\n",
            "Collecting python-dateutil==2.8.0\n",
            "\u001b[?25l  Downloading https://files.pythonhosted.org/packages/41/17/c62faccbfbd163c7f57f3844689e3a78bae1f403648a6afb1d0866d87fbb/python_dateutil-2.8.0-py2.py3-none-any.whl (226kB)\n",
            "\u001b[K     |████████████████████████████████| 235kB 41.0MB/s \n",
            "\u001b[?25hRequirement already satisfied: setuptools>=3.0 in /usr/local/lib/python3.6/dist-packages (from gunicorn==20.0.4->atspy) (49.6.0)\n",
            "Requirement already satisfied: six>=1.9.0 in /usr/local/lib/python3.6/dist-packages (from Keras==2.2.5->atspy) (1.15.0)\n",
            "Collecting keras-applications>=1.0.8\n",
            "\u001b[?25l  Downloading https://files.pythonhosted.org/packages/71/e3/19762fdfc62877ae9102edf6342d71b28fbfd9dea3d2f96a882ce099b03f/Keras_Applications-1.0.8-py3-none-any.whl (50kB)\n",
            "\u001b[K     |████████████████████████████████| 51kB 5.5MB/s \n",
            "\u001b[?25hRequirement already satisfied: pyyaml in /usr/local/lib/python3.6/dist-packages (from Keras==2.2.5->atspy) (3.13)\n",
            "Requirement already satisfied: h5py in /usr/local/lib/python3.6/dist-packages (from Keras==2.2.5->atspy) (2.10.0)\n",
            "Requirement already satisfied: keras-preprocessing>=1.1.0 in /usr/local/lib/python3.6/dist-packages (from Keras==2.2.5->atspy) (1.1.2)\n",
            "Requirement already satisfied: kiwisolver>=1.0.1 in /usr/local/lib/python3.6/dist-packages (from matplotlib==3.1.2->atspy) (1.2.0)\n",
            "Requirement already satisfied: cycler>=0.10 in /usr/local/lib/python3.6/dist-packages (from matplotlib==3.1.2->atspy) (0.10.0)\n",
            "Requirement already satisfied: pyparsing!=2.0.4,!=2.1.2,!=2.1.6,>=2.0.1 in /usr/local/lib/python3.6/dist-packages (from matplotlib==3.1.2->atspy) (2.4.7)\n",
            "Collecting graphviz<0.9.0,>=0.8.1\n",
            "  Downloading https://files.pythonhosted.org/packages/53/39/4ab213673844e0c004bed8a0781a0721a3f6bb23eb8854ee75c236428892/graphviz-0.8.4-py2.py3-none-any.whl\n",
            "Requirement already satisfied: requests>=2.20.0 in /usr/local/lib/python3.6/dist-packages (from mxnet-cu100==1.4.1->atspy) (2.23.0)\n",
            "Requirement already satisfied: llvmlite>=0.31.0dev0 in /usr/local/lib/python3.6/dist-packages (from numba==0.47.0->atspy) (0.31.0)\n",
            "Requirement already satisfied: click>=6 in /usr/local/lib/python3.6/dist-packages (from pip-tools==4.2.0->atspy) (7.1.2)\n",
            "Requirement already satisfied: joblib>=0.11 in /usr/local/lib/python3.6/dist-packages (from pmdarima==1.5.2->atspy) (0.16.0)\n",
            "Requirement already satisfied: patsy>=0.4.0 in /usr/local/lib/python3.6/dist-packages (from statsmodels==0.10.2->atspy) (0.5.1)\n",
            "Requirement already satisfied: mpmath>=0.19 in /usr/local/lib/python3.6/dist-packages (from sympy==1.1.1->atspy) (1.1.0)\n",
            "Requirement already satisfied: astor>=0.6.0 in /usr/local/lib/python3.6/dist-packages (from tensorflow==1.15.0->atspy) (0.8.1)\n",
            "Requirement already satisfied: wrapt>=1.11.1 in /usr/local/lib/python3.6/dist-packages (from tensorflow==1.15.0->atspy) (1.12.1)\n",
            "Collecting tensorboard<1.16.0,>=1.15.0\n",
            "\u001b[?25l  Downloading https://files.pythonhosted.org/packages/1e/e9/d3d747a97f7188f48aa5eda486907f3b345cd409f0a0850468ba867db246/tensorboard-1.15.0-py3-none-any.whl (3.8MB)\n",
            "\u001b[K     |████████████████████████████████| 3.8MB 37.2MB/s \n",
            "\u001b[?25hCollecting gast==0.2.2\n",
            "  Downloading https://files.pythonhosted.org/packages/4e/35/11749bf99b2d4e3cceb4d55ca22590b0d7c2c62b9de38ac4a4a7f4687421/gast-0.2.2.tar.gz\n",
            "Requirement already satisfied: wheel>=0.26 in /usr/local/lib/python3.6/dist-packages (from tensorflow==1.15.0->atspy) (0.35.1)\n",
            "Requirement already satisfied: grpcio>=1.8.6 in /usr/local/lib/python3.6/dist-packages (from tensorflow==1.15.0->atspy) (1.31.0)\n",
            "Requirement already satisfied: opt-einsum>=2.3.2 in /usr/local/lib/python3.6/dist-packages (from tensorflow==1.15.0->atspy) (3.3.0)\n",
            "Requirement already satisfied: google-pasta>=0.1.6 in /usr/local/lib/python3.6/dist-packages (from tensorflow==1.15.0->atspy) (0.2.0)\n",
            "Collecting tensorflow-estimator==1.15.1\n",
            "\u001b[?25l  Downloading https://files.pythonhosted.org/packages/de/62/2ee9cd74c9fa2fa450877847ba560b260f5d0fb70ee0595203082dafcc9d/tensorflow_estimator-1.15.1-py2.py3-none-any.whl (503kB)\n",
            "\u001b[K     |████████████████████████████████| 512kB 41.4MB/s \n",
            "\u001b[?25hRequirement already satisfied: termcolor>=1.1.0 in /usr/local/lib/python3.6/dist-packages (from tensorflow==1.15.0->atspy) (1.1.0)\n",
            "Requirement already satisfied: protobuf>=3.6.1 in /usr/local/lib/python3.6/dist-packages (from tensorflow==1.15.0->atspy) (3.12.4)\n",
            "Requirement already satisfied: absl-py>=0.7.0 in /usr/local/lib/python3.6/dist-packages (from tensorflow==1.15.0->atspy) (0.8.1)\n",
            "Requirement already satisfied: Pillow in /usr/local/lib/python3.6/dist-packages (from tflearn==0.3.2->atspy) (7.0.0)\n",
            "Requirement already satisfied: distributed>=1.18.3 in /usr/local/lib/python3.6/dist-packages (from tsfresh==0.14.1->atspy) (1.25.3)\n",
            "Requirement already satisfied: dask[dataframe]>=0.15.2 in /usr/local/lib/python3.6/dist-packages (from tsfresh==0.14.1->atspy) (2.12.0)\n",
            "Requirement already satisfied: requests-oauthlib>=0.7.0 in /usr/local/lib/python3.6/dist-packages (from tweepy==3.6.0->atspy) (1.3.0)\n",
            "Requirement already satisfied: PySocks>=1.5.7 in /usr/local/lib/python3.6/dist-packages (from tweepy==3.6.0->atspy) (1.7.1)\n",
            "Requirement already satisfied: torchvision in /usr/local/lib/python3.6/dist-packages (from nbeats-pytorch==1.3.0->atspy) (0.7.0+cu101)\n",
            "Requirement already satisfied: pymeeus<=1,>=0.3.6 in /usr/local/lib/python3.6/dist-packages (from convertdate>=2.1.2->fbprophet==0.5->atspy) (0.3.7)\n",
            "Requirement already satisfied: botocore<1.18.0,>=1.17.48 in /usr/local/lib/python3.6/dist-packages (from boto3~=1.0->gluonts==0.4.2->atspy) (1.17.48)\n",
            "Requirement already satisfied: jmespath<1.0.0,>=0.7.1 in /usr/local/lib/python3.6/dist-packages (from boto3~=1.0->gluonts==0.4.2->atspy) (0.10.0)\n",
            "Requirement already satisfied: s3transfer<0.4.0,>=0.3.0 in /usr/local/lib/python3.6/dist-packages (from boto3~=1.0->gluonts==0.4.2->atspy) (0.3.3)\n",
            "Requirement already satisfied: urllib3!=1.25.0,!=1.25.1,<1.26,>=1.21.1 in /usr/local/lib/python3.6/dist-packages (from requests>=2.20.0->mxnet-cu100==1.4.1->atspy) (1.24.3)\n",
            "Requirement already satisfied: chardet<4,>=3.0.2 in /usr/local/lib/python3.6/dist-packages (from requests>=2.20.0->mxnet-cu100==1.4.1->atspy) (3.0.4)\n",
            "Requirement already satisfied: idna<3,>=2.5 in /usr/local/lib/python3.6/dist-packages (from requests>=2.20.0->mxnet-cu100==1.4.1->atspy) (2.10)\n",
            "Requirement already satisfied: certifi>=2017.4.17 in /usr/local/lib/python3.6/dist-packages (from requests>=2.20.0->mxnet-cu100==1.4.1->atspy) (2020.6.20)\n",
            "Requirement already satisfied: werkzeug>=0.11.15 in /usr/local/lib/python3.6/dist-packages (from tensorboard<1.16.0,>=1.15.0->tensorflow==1.15.0->atspy) (1.0.1)\n",
            "Requirement already satisfied: markdown>=2.6.8 in /usr/local/lib/python3.6/dist-packages (from tensorboard<1.16.0,>=1.15.0->tensorflow==1.15.0->atspy) (3.2.2)\n",
            "Requirement already satisfied: tornado>=4.5.1 in /usr/local/lib/python3.6/dist-packages (from distributed>=1.18.3->tsfresh==0.14.1->atspy) (5.1.1)\n",
            "Requirement already satisfied: cloudpickle>=0.2.2 in /usr/local/lib/python3.6/dist-packages (from distributed>=1.18.3->tsfresh==0.14.1->atspy) (1.3.0)\n",
            "Requirement already satisfied: sortedcontainers!=2.0.0,!=2.0.1 in /usr/local/lib/python3.6/dist-packages (from distributed>=1.18.3->tsfresh==0.14.1->atspy) (2.2.2)\n",
            "Requirement already satisfied: msgpack in /usr/local/lib/python3.6/dist-packages (from distributed>=1.18.3->tsfresh==0.14.1->atspy) (1.0.0)\n",
            "Requirement already satisfied: toolz>=0.7.4 in /usr/local/lib/python3.6/dist-packages (from distributed>=1.18.3->tsfresh==0.14.1->atspy) (0.10.0)\n",
            "Requirement already satisfied: zict>=0.1.3 in /usr/local/lib/python3.6/dist-packages (from distributed>=1.18.3->tsfresh==0.14.1->atspy) (2.0.0)\n",
            "Collecting partd>=0.3.10; extra == \"dataframe\"\n",
            "  Downloading https://files.pythonhosted.org/packages/44/e1/68dbe731c9c067655bff1eca5b7d40c20ca4b23fd5ec9f3d17e201a6f36b/partd-1.1.0-py3-none-any.whl\n",
            "Collecting fsspec>=0.6.0; extra == \"dataframe\"\n",
            "\u001b[?25l  Downloading https://files.pythonhosted.org/packages/d3/66/974e01194980d9780cc09724315111f9cccba26b4351552fdb4d97eb842e/fsspec-0.8.0-py3-none-any.whl (85kB)\n",
            "\u001b[K     |████████████████████████████████| 92kB 8.6MB/s \n",
            "\u001b[?25hRequirement already satisfied: oauthlib>=3.0.0 in /usr/local/lib/python3.6/dist-packages (from requests-oauthlib>=0.7.0->tweepy==3.6.0->atspy) (3.1.0)\n",
            "Requirement already satisfied: docutils<0.16,>=0.10 in /usr/local/lib/python3.6/dist-packages (from botocore<1.18.0,>=1.17.48->boto3~=1.0->gluonts==0.4.2->atspy) (0.15.2)\n",
            "Requirement already satisfied: importlib-metadata; python_version < \"3.8\" in /usr/local/lib/python3.6/dist-packages (from markdown>=2.6.8->tensorboard<1.16.0,>=1.15.0->tensorflow==1.15.0->atspy) (1.7.0)\n",
            "Requirement already satisfied: heapdict in /usr/local/lib/python3.6/dist-packages (from zict>=0.1.3->distributed>=1.18.3->tsfresh==0.14.1->atspy) (1.0.1)\n",
            "Collecting locket\n",
            "  Downloading https://files.pythonhosted.org/packages/d0/22/3c0f97614e0be8386542facb3a7dcfc2584f7b83608c02333bced641281c/locket-0.2.0.tar.gz\n",
            "Requirement already satisfied: zipp>=0.5 in /usr/local/lib/python3.6/dist-packages (from importlib-metadata; python_version < \"3.8\"->markdown>=2.6.8->tensorboard<1.16.0,>=1.15.0->tensorflow==1.15.0->atspy) (3.1.0)\n",
            "Building wheels for collected packages: atspy, fbprophet, tflearn, ujson, gast, locket\n",
            "  Building wheel for atspy (setup.py) ... \u001b[?25l\u001b[?25hdone\n",
            "  Created wheel for atspy: filename=atspy-0.2.8-cp36-none-any.whl size=16422 sha256=946c696c0a679cf14ea3f79b1381259a8da079c10b94e7af16ac20c7a096a4c6\n",
            "  Stored in directory: /root/.cache/pip/wheels/ac/2e/4b/114d30f1e5e8763c05a3a6964efc758b07ab2dc26530bec443\n",
            "  Building wheel for fbprophet (setup.py) ... \u001b[?25l\u001b[?25hdone\n",
            "  Created wheel for fbprophet: filename=fbprophet-0.5-cp36-none-any.whl size=6613583 sha256=2a2e2ca59c51c64bd0c795a656ac7b4a9d72ed70427c0ef96b0ef066fb08776b\n",
            "  Stored in directory: /root/.cache/pip/wheels/16/61/45/2dce71b1055b65f28a8b75702664adee6c645e3e294178a202\n",
            "  Building wheel for tflearn (setup.py) ... \u001b[?25l\u001b[?25hdone\n",
            "  Created wheel for tflearn: filename=tflearn-0.3.2-cp36-none-any.whl size=128207 sha256=1752183d0d5d8d035a871b754e23e9e837a65f6c57e794074eda9ac80fb87764\n",
            "  Stored in directory: /root/.cache/pip/wheels/d0/f6/69/0ef3ee395aac2e5d15d89efd29a9a216f3c27767b43b72c006\n",
            "  Building wheel for ujson (setup.py) ... \u001b[?25l\u001b[?25hdone\n",
            "  Created wheel for ujson: filename=ujson-1.35-cp36-cp36m-linux_x86_64.whl size=68014 sha256=3ea85312d714ffb350cea646c4fa21732e50aae458a5d35b6da69d81c9d56241\n",
            "  Stored in directory: /root/.cache/pip/wheels/28/77/e4/0311145b9c2e2f01470e744855131f9e34d6919687550f87d1\n",
            "  Building wheel for gast (setup.py) ... \u001b[?25l\u001b[?25hdone\n",
            "  Created wheel for gast: filename=gast-0.2.2-cp36-none-any.whl size=7542 sha256=e949bbad2b329ed7601192d695590c5036f1cdbe56a7036acafae9b7a649514b\n",
            "  Stored in directory: /root/.cache/pip/wheels/5c/2e/7e/a1d4d4fcebe6c381f378ce7743a3ced3699feb89bcfbdadadd\n",
            "  Building wheel for locket (setup.py) ... \u001b[?25l\u001b[?25hdone\n",
            "  Created wheel for locket: filename=locket-0.2.0-cp36-none-any.whl size=4040 sha256=b4ae9f9f68f7fffda17ef8258e8e04edd5cf9e02d401458e1bb0d8d9923da0ce\n",
            "  Stored in directory: /root/.cache/pip/wheels/26/1e/e8/4fa236ec931b1a0cdd61578e20d4934d7bf188858723b84698\n",
            "Successfully built atspy fbprophet tflearn ujson gast locket\n",
            "\u001b[31mERROR: umap-learn 0.4.6 has requirement numba!=0.47,>=0.46, but you'll have numba 0.47.0 which is incompatible.\u001b[0m\n",
            "\u001b[31mERROR: torchvision 0.7.0+cu101 has requirement torch==1.6.0, but you'll have torch 1.4.0 which is incompatible.\u001b[0m\n",
            "\u001b[31mERROR: tensorflow-probability 0.11.0 has requirement gast>=0.3.2, but you'll have gast 0.2.2 which is incompatible.\u001b[0m\n",
            "\u001b[31mERROR: spacy 2.2.4 has requirement tqdm<5.0.0,>=4.38.0, but you'll have tqdm 4.28.1 which is incompatible.\u001b[0m\n",
            "\u001b[31mERROR: google-colab 1.0.0 has requirement pandas~=1.0.0; python_version >= \"3.0\", but you'll have pandas 0.25.3 which is incompatible.\u001b[0m\n",
            "\u001b[31mERROR: datascience 0.10.6 has requirement folium==0.2.1, but you'll have folium 0.8.3 which is incompatible.\u001b[0m\n",
            "\u001b[31mERROR: bokeh 2.1.1 has requirement typing-extensions>=3.7.4, but you'll have typing-extensions 3.6.6 which is incompatible.\u001b[0m\n",
            "\u001b[31mERROR: albumentations 0.1.12 has requirement imgaug<0.2.7,>=0.2.5, but you'll have imgaug 0.2.9 which is incompatible.\u001b[0m\n",
            "\u001b[31mERROR: mxnet-cu100 1.4.1 has requirement numpy<1.15.0,>=1.8.2, but you'll have numpy 1.17.4 which is incompatible.\u001b[0m\n",
            "\u001b[31mERROR: nbeats-pytorch 1.3.0 has requirement numpy==1.16.2, but you'll have numpy 1.17.4 which is incompatible.\u001b[0m\n",
            "Installing collected packages: cachetools, Cython, zope.interface, DateTime, decorator, numpy, python-dateutil, pandas, matplotlib, lunardate, fbprophet, ujson, tqdm, pydantic, gluonts, gunicorn, keras-applications, Keras, graphviz, mxnet-cu100, numba, pip-tools, scikit-learn, pmdarima, seaborn, tbats, tblib, tensorboard, gast, tensorflow-estimator, tensorflow, tflearn, torch, tsfresh, typing, typing-extensions, seasonal, nbeats-pytorch, atspy, locket, partd, fsspec\n",
            "  Found existing installation: cachetools 4.1.1\n",
            "    Uninstalling cachetools-4.1.1:\n",
            "      Successfully uninstalled cachetools-4.1.1\n",
            "  Found existing installation: Cython 0.29.21\n",
            "    Uninstalling Cython-0.29.21:\n",
            "      Successfully uninstalled Cython-0.29.21\n",
            "  Found existing installation: decorator 4.4.2\n",
            "    Uninstalling decorator-4.4.2:\n",
            "      Successfully uninstalled decorator-4.4.2\n",
            "  Found existing installation: numpy 1.18.5\n",
            "    Uninstalling numpy-1.18.5:\n",
            "      Successfully uninstalled numpy-1.18.5\n",
            "  Found existing installation: python-dateutil 2.8.1\n",
            "    Uninstalling python-dateutil-2.8.1:\n",
            "      Successfully uninstalled python-dateutil-2.8.1\n",
            "  Found existing installation: pandas 1.0.5\n",
            "    Uninstalling pandas-1.0.5:\n",
            "      Successfully uninstalled pandas-1.0.5\n",
            "  Found existing installation: matplotlib 3.2.2\n",
            "    Uninstalling matplotlib-3.2.2:\n",
            "      Successfully uninstalled matplotlib-3.2.2\n",
            "  Found existing installation: fbprophet 0.6\n",
            "    Uninstalling fbprophet-0.6:\n",
            "      Successfully uninstalled fbprophet-0.6\n",
            "  Found existing installation: tqdm 4.41.1\n",
            "    Uninstalling tqdm-4.41.1:\n",
            "      Successfully uninstalled tqdm-4.41.1\n",
            "  Found existing installation: Keras 2.4.3\n",
            "    Uninstalling Keras-2.4.3:\n",
            "      Successfully uninstalled Keras-2.4.3\n",
            "  Found existing installation: graphviz 0.10.1\n",
            "    Uninstalling graphviz-0.10.1:\n",
            "      Successfully uninstalled graphviz-0.10.1\n",
            "  Found existing installation: numba 0.48.0\n",
            "    Uninstalling numba-0.48.0:\n",
            "      Successfully uninstalled numba-0.48.0\n",
            "  Found existing installation: pip-tools 4.5.1\n",
            "    Uninstalling pip-tools-4.5.1:\n",
            "      Successfully uninstalled pip-tools-4.5.1\n",
            "  Found existing installation: scikit-learn 0.22.2.post1\n",
            "    Uninstalling scikit-learn-0.22.2.post1:\n",
            "      Successfully uninstalled scikit-learn-0.22.2.post1\n",
            "  Found existing installation: seaborn 0.10.1\n",
            "    Uninstalling seaborn-0.10.1:\n",
            "      Successfully uninstalled seaborn-0.10.1\n",
            "  Found existing installation: tblib 1.7.0\n",
            "    Uninstalling tblib-1.7.0:\n",
            "      Successfully uninstalled tblib-1.7.0\n",
            "  Found existing installation: tensorboard 2.3.0\n",
            "    Uninstalling tensorboard-2.3.0:\n",
            "      Successfully uninstalled tensorboard-2.3.0\n",
            "  Found existing installation: gast 0.3.3\n",
            "    Uninstalling gast-0.3.3:\n",
            "      Successfully uninstalled gast-0.3.3\n",
            "  Found existing installation: tensorflow-estimator 2.3.0\n",
            "    Uninstalling tensorflow-estimator-2.3.0:\n",
            "      Successfully uninstalled tensorflow-estimator-2.3.0\n",
            "  Found existing installation: tensorflow 2.3.0\n",
            "    Uninstalling tensorflow-2.3.0:\n",
            "      Successfully uninstalled tensorflow-2.3.0\n",
            "  Found existing installation: torch 1.6.0+cu101\n",
            "    Uninstalling torch-1.6.0+cu101:\n",
            "      Successfully uninstalled torch-1.6.0+cu101\n",
            "  Found existing installation: typing-extensions 3.7.4.3\n",
            "    Uninstalling typing-extensions-3.7.4.3:\n",
            "      Successfully uninstalled typing-extensions-3.7.4.3\n",
            "Successfully installed Cython-0.29.14 DateTime-4.3 Keras-2.2.5 atspy-0.2.8 cachetools-4.0.0 decorator-4.4.1 fbprophet-0.5 fsspec-0.8.0 gast-0.2.2 gluonts-0.4.2 graphviz-0.8.4 gunicorn-20.0.4 keras-applications-1.0.8 locket-0.2.0 lunardate-0.2.0 matplotlib-3.1.2 mxnet-cu100-1.4.1 nbeats-pytorch-1.3.0 numba-0.47.0 numpy-1.17.4 pandas-0.25.3 partd-1.1.0 pip-tools-4.2.0 pmdarima-1.5.2 pydantic-1.4 python-dateutil-2.8.0 scikit-learn-0.22.1 seaborn-0.9.1 seasonal-0.3.1 tbats-1.0.9 tblib-1.6.0 tensorboard-1.15.0 tensorflow-1.15.0 tensorflow-estimator-1.15.1 tflearn-0.3.2 torch-1.4.0 tqdm-4.28.1 tsfresh-0.14.1 typing-3.6.6 typing-extensions-3.6.6 ujson-1.35 zope.interface-5.1.0\n"
          ],
          "name": "stdout"
        },
        {
          "output_type": "display_data",
          "data": {
            "application/vnd.colab-display-data+json": {
              "pip_warning": {
                "packages": [
                  "dateutil",
                  "decorator",
                  "matplotlib",
                  "mpl_toolkits",
                  "numpy",
                  "pandas",
                  "typing"
                ]
              }
            }
          },
          "metadata": {
            "tags": []
          }
        }
      ]
    },
    {
      "cell_type": "code",
      "metadata": {
        "id": "_nzjo6Otb6lw",
        "colab_type": "code",
        "colab": {}
      },
      "source": [
        "import pandas as pd"
      ],
      "execution_count": 2,
      "outputs": []
    },
    {
      "cell_type": "code",
      "metadata": {
        "id": "BLA8pdqUb6ou",
        "colab_type": "code",
        "colab": {
          "base_uri": "https://localhost:8080/",
          "height": 219
        },
        "outputId": "33bcf549-ee42-4c9c-ba26-9668fdc65f79"
      },
      "source": [
        "df = pd.read_csv(\"https://raw.githubusercontent.com/firmai/random-assets-two/master/ts/monthly-beer-australia.csv\")\n",
        "df.Month = pd.to_datetime(df.Month)\n",
        "df = df.set_index(\"Month\")\n",
        "df.head()"
      ],
      "execution_count": 3,
      "outputs": [
        {
          "output_type": "execute_result",
          "data": {
            "text/html": [
              "<div>\n",
              "<style scoped>\n",
              "    .dataframe tbody tr th:only-of-type {\n",
              "        vertical-align: middle;\n",
              "    }\n",
              "\n",
              "    .dataframe tbody tr th {\n",
              "        vertical-align: top;\n",
              "    }\n",
              "\n",
              "    .dataframe thead th {\n",
              "        text-align: right;\n",
              "    }\n",
              "</style>\n",
              "<table border=\"1\" class=\"dataframe\">\n",
              "  <thead>\n",
              "    <tr style=\"text-align: right;\">\n",
              "      <th></th>\n",
              "      <th>Megaliters</th>\n",
              "    </tr>\n",
              "    <tr>\n",
              "      <th>Month</th>\n",
              "      <th></th>\n",
              "    </tr>\n",
              "  </thead>\n",
              "  <tbody>\n",
              "    <tr>\n",
              "      <th>1956-01-01</th>\n",
              "      <td>93.2</td>\n",
              "    </tr>\n",
              "    <tr>\n",
              "      <th>1956-02-01</th>\n",
              "      <td>96.0</td>\n",
              "    </tr>\n",
              "    <tr>\n",
              "      <th>1956-03-01</th>\n",
              "      <td>95.2</td>\n",
              "    </tr>\n",
              "    <tr>\n",
              "      <th>1956-04-01</th>\n",
              "      <td>77.1</td>\n",
              "    </tr>\n",
              "    <tr>\n",
              "      <th>1956-05-01</th>\n",
              "      <td>70.9</td>\n",
              "    </tr>\n",
              "  </tbody>\n",
              "</table>\n",
              "</div>"
            ],
            "text/plain": [
              "            Megaliters\n",
              "Month                 \n",
              "1956-01-01        93.2\n",
              "1956-02-01        96.0\n",
              "1956-03-01        95.2\n",
              "1956-04-01        77.1\n",
              "1956-05-01        70.9"
            ]
          },
          "metadata": {
            "tags": []
          },
          "execution_count": 3
        }
      ]
    },
    {
      "cell_type": "code",
      "metadata": {
        "id": "BW4i-caQb6rY",
        "colab_type": "code",
        "colab": {
          "base_uri": "https://localhost:8080/",
          "height": 33
        },
        "outputId": "3e3ae071-7f22-484e-def1-2d69a31a7b92"
      },
      "source": [
        "from atspy import AutomatedModel"
      ],
      "execution_count": 4,
      "outputs": [
        {
          "output_type": "stream",
          "text": [
            "INFO:root:Using CPU\n"
          ],
          "name": "stderr"
        }
      ]
    },
    {
      "cell_type": "markdown",
      "metadata": {
        "id": "LXxa-4BCj5XT",
        "colab_type": "text"
      },
      "source": [
        "\n",
        "1. ARIMA - Automated ARIMA Modelling\n",
        "1. Prophet - Modeling Multiple Seasonality With Linear or Non-linear Growth\n",
        "1. HWAAS - Exponential Smoothing With Additive Trend and Additive Seasonality\n",
        "1. HWAMS - Exponential Smoothing with Additive Trend and Multiplicative Seasonality\n",
        "1. PYAF - Feature Generating Model (slow and underforms)\n",
        "1. NBEATS -  Neural basis expansion analysis (now fixed at 20 Epochs)\n",
        "1. Gluonts - RNN-based Model (now fixed at 20 Epochs)\n",
        "1. TATS - Seasonal and Trend no Box Cox\n",
        "1. TBAT - Trend and Box Cox\n",
        "1. TBATS1 - Trend, Seasonal (one), and Box Cox\n",
        "1. TBATP1 - TBATS1 but Seasonal Inference is Hardcoded by Periodicity\n",
        "1. TBATS2 - TBATS1 With Two Seasonal Periods\n",
        "\n",
        "https://github.com/firmai/atspy/blob/master/atspy_files/AtsPy_Feb_2020.ipynb"
      ]
    },
    {
      "cell_type": "code",
      "metadata": {
        "id": "eLZ3PjzWb6wR",
        "colab_type": "code",
        "colab": {}
      },
      "source": [
        "model_list=[\"ARIMA\", \"HWAMS\",\"HWAAS\",\"TBAT\"]"
      ],
      "execution_count": 6,
      "outputs": []
    },
    {
      "cell_type": "code",
      "metadata": {
        "id": "35KVgu2Ub6yV",
        "colab_type": "code",
        "colab": {
          "base_uri": "https://localhost:8080/",
          "height": 554
        },
        "outputId": "0d487ab4-62c1-4ab4-a242-37b1322a59e9"
      },
      "source": [
        "am = AutomatedModel(df = df , model_list=model_list, season=\"infer_from_data\",forecast_len=60 )\n",
        "forecast_in, performance = am.forecast_insample()\n",
        "forecast_out = am.forecast_outsample()\n",
        "all_ensemble_in, all_ensemble_out, all_performance = am.ensemble(forecast_in, forecast_out)"
      ],
      "execution_count": 7,
      "outputs": [
        {
          "output_type": "stream",
          "text": [
            "<class 'pandas.core.frame.DataFrame'>\n",
            "The data has been successfully parsed by infering a frequency, and establishing a 'Date' index and 'Target' column.\n",
            "357\n",
            "An insample split of training size 357 and testing size 119 has been constructed\n",
            "Model ARIMA is being trained for in sample prediction\n",
            "Model HWAMS is being trained for in sample prediction\n",
            "Model HWAAS is being trained for in sample prediction\n",
            "Model TBAT is being trained for in sample prediction\n",
            "Model ARIMA is being used to forcast in sample\n",
            "Model HWAMS is being used to forcast in sample\n",
            "Model HWAAS is being used to forcast in sample\n",
            "Model TBAT is being used to forcast in sample\n",
            "Successfully finished in sample forecast\n",
            "<class 'pandas.core.frame.DataFrame'>\n",
            "The data has been successfully parsed by infering a frequency, and establishing a 'Date' index and 'Target' column.\n",
            "Model ARIMA is being trained for out of sample prediction\n",
            "Model HWAMS is being trained for out of sample prediction\n",
            "Model HWAAS is being trained for out of sample prediction\n",
            "Model TBAT is being trained for out of sample prediction\n",
            "Model ARIMA is being used to forcast out of sample\n",
            "Model HWAMS is being used to forcast out of sample\n",
            "Model HWAAS is being used to forcast out of sample\n",
            "Model TBAT is being used to forcast out of sample\n",
            "Successfully finished out of sample forecast\n",
            "Building LightGBM Ensemble from TS data (ensemble_lgb)\n",
            "Building LightGBM Ensemble from PCA reduced TSFresh Features (ensemble_ts). This can take a long time.\n",
            "LightGBM ensemble have been successfully built\n"
          ],
          "name": "stdout"
        },
        {
          "output_type": "stream",
          "text": [
            "INFO:numexpr.utils:NumExpr defaulting to 2 threads.\n"
          ],
          "name": "stderr"
        },
        {
          "output_type": "stream",
          "text": [
            "390  variables are found to be almost constant\n",
            "LightGBM ensemble have been successfully built\n",
            "Building Standard First Level Ensemble\n",
            "Building Final Multi-level Ensemble\n"
          ],
          "name": "stdout"
        }
      ]
    },
    {
      "cell_type": "code",
      "metadata": {
        "id": "5h4TA3lYb60p",
        "colab_type": "code",
        "colab": {
          "base_uri": "https://localhost:8080/",
          "height": 219
        },
        "outputId": "566a98fa-d68e-4fb1-9e41-ac7173796d08"
      },
      "source": [
        "forecast_in.head()"
      ],
      "execution_count": 8,
      "outputs": [
        {
          "output_type": "execute_result",
          "data": {
            "text/html": [
              "<div>\n",
              "<style scoped>\n",
              "    .dataframe tbody tr th:only-of-type {\n",
              "        vertical-align: middle;\n",
              "    }\n",
              "\n",
              "    .dataframe tbody tr th {\n",
              "        vertical-align: top;\n",
              "    }\n",
              "\n",
              "    .dataframe thead th {\n",
              "        text-align: right;\n",
              "    }\n",
              "</style>\n",
              "<table border=\"1\" class=\"dataframe\">\n",
              "  <thead>\n",
              "    <tr style=\"text-align: right;\">\n",
              "      <th></th>\n",
              "      <th>Target</th>\n",
              "      <th>ARIMA</th>\n",
              "      <th>HWAMS</th>\n",
              "      <th>HWAAS</th>\n",
              "      <th>TBAT</th>\n",
              "    </tr>\n",
              "    <tr>\n",
              "      <th>Date</th>\n",
              "      <th></th>\n",
              "      <th></th>\n",
              "      <th></th>\n",
              "      <th></th>\n",
              "      <th></th>\n",
              "    </tr>\n",
              "  </thead>\n",
              "  <tbody>\n",
              "    <tr>\n",
              "      <th>1985-10-01</th>\n",
              "      <td>181.6</td>\n",
              "      <td>167.613026</td>\n",
              "      <td>161.962148</td>\n",
              "      <td>162.391653</td>\n",
              "      <td>148.410071</td>\n",
              "    </tr>\n",
              "    <tr>\n",
              "      <th>1985-11-01</th>\n",
              "      <td>182.0</td>\n",
              "      <td>171.457109</td>\n",
              "      <td>174.688055</td>\n",
              "      <td>173.191756</td>\n",
              "      <td>147.999237</td>\n",
              "    </tr>\n",
              "    <tr>\n",
              "      <th>1985-12-01</th>\n",
              "      <td>190.0</td>\n",
              "      <td>193.393543</td>\n",
              "      <td>189.728744</td>\n",
              "      <td>187.649575</td>\n",
              "      <td>147.589541</td>\n",
              "    </tr>\n",
              "    <tr>\n",
              "      <th>1986-01-01</th>\n",
              "      <td>161.2</td>\n",
              "      <td>160.233186</td>\n",
              "      <td>155.077205</td>\n",
              "      <td>154.817215</td>\n",
              "      <td>147.180980</td>\n",
              "    </tr>\n",
              "    <tr>\n",
              "      <th>1986-02-01</th>\n",
              "      <td>155.5</td>\n",
              "      <td>144.353390</td>\n",
              "      <td>148.054292</td>\n",
              "      <td>147.477692</td>\n",
              "      <td>146.773549</td>\n",
              "    </tr>\n",
              "  </tbody>\n",
              "</table>\n",
              "</div>"
            ],
            "text/plain": [
              "            Target       ARIMA       HWAMS       HWAAS        TBAT\n",
              "Date                                                              \n",
              "1985-10-01   181.6  167.613026  161.962148  162.391653  148.410071\n",
              "1985-11-01   182.0  171.457109  174.688055  173.191756  147.999237\n",
              "1985-12-01   190.0  193.393543  189.728744  187.649575  147.589541\n",
              "1986-01-01   161.2  160.233186  155.077205  154.817215  147.180980\n",
              "1986-02-01   155.5  144.353390  148.054292  147.477692  146.773549"
            ]
          },
          "metadata": {
            "tags": []
          },
          "execution_count": 8
        }
      ]
    },
    {
      "cell_type": "code",
      "metadata": {
        "id": "SjbE0cj8r7N-",
        "colab_type": "code",
        "colab": {
          "base_uri": "https://localhost:8080/",
          "height": 219
        },
        "outputId": "135a65d0-1707-46d1-b131-c86f1d772eee"
      },
      "source": [
        "\n",
        "forecast_out.head()"
      ],
      "execution_count": 9,
      "outputs": [
        {
          "output_type": "execute_result",
          "data": {
            "text/html": [
              "<div>\n",
              "<style scoped>\n",
              "    .dataframe tbody tr th:only-of-type {\n",
              "        vertical-align: middle;\n",
              "    }\n",
              "\n",
              "    .dataframe tbody tr th {\n",
              "        vertical-align: top;\n",
              "    }\n",
              "\n",
              "    .dataframe thead th {\n",
              "        text-align: right;\n",
              "    }\n",
              "</style>\n",
              "<table border=\"1\" class=\"dataframe\">\n",
              "  <thead>\n",
              "    <tr style=\"text-align: right;\">\n",
              "      <th></th>\n",
              "      <th>ARIMA</th>\n",
              "      <th>HWAMS</th>\n",
              "      <th>HWAAS</th>\n",
              "      <th>TBAT</th>\n",
              "    </tr>\n",
              "    <tr>\n",
              "      <th>Date</th>\n",
              "      <th></th>\n",
              "      <th></th>\n",
              "      <th></th>\n",
              "      <th></th>\n",
              "    </tr>\n",
              "  </thead>\n",
              "  <tbody>\n",
              "    <tr>\n",
              "      <th>1995-09-01</th>\n",
              "      <td>131.212115</td>\n",
              "      <td>137.518755</td>\n",
              "      <td>137.133938</td>\n",
              "      <td>142.906275</td>\n",
              "    </tr>\n",
              "    <tr>\n",
              "      <th>1995-10-01</th>\n",
              "      <td>162.521890</td>\n",
              "      <td>164.136220</td>\n",
              "      <td>165.079612</td>\n",
              "      <td>142.865575</td>\n",
              "    </tr>\n",
              "    <tr>\n",
              "      <th>1995-11-01</th>\n",
              "      <td>184.214121</td>\n",
              "      <td>178.671684</td>\n",
              "      <td>180.009560</td>\n",
              "      <td>142.827110</td>\n",
              "    </tr>\n",
              "    <tr>\n",
              "      <th>1995-12-01</th>\n",
              "      <td>180.196305</td>\n",
              "      <td>184.175954</td>\n",
              "      <td>185.715043</td>\n",
              "      <td>142.790757</td>\n",
              "    </tr>\n",
              "    <tr>\n",
              "      <th>1996-01-01</th>\n",
              "      <td>149.062585</td>\n",
              "      <td>147.166448</td>\n",
              "      <td>147.440026</td>\n",
              "      <td>142.756399</td>\n",
              "    </tr>\n",
              "  </tbody>\n",
              "</table>\n",
              "</div>"
            ],
            "text/plain": [
              "                 ARIMA       HWAMS       HWAAS        TBAT\n",
              "Date                                                      \n",
              "1995-09-01  131.212115  137.518755  137.133938  142.906275\n",
              "1995-10-01  162.521890  164.136220  165.079612  142.865575\n",
              "1995-11-01  184.214121  178.671684  180.009560  142.827110\n",
              "1995-12-01  180.196305  184.175954  185.715043  142.790757\n",
              "1996-01-01  149.062585  147.166448  147.440026  142.756399"
            ]
          },
          "metadata": {
            "tags": []
          },
          "execution_count": 9
        }
      ]
    },
    {
      "cell_type": "code",
      "metadata": {
        "id": "OPDAPjFAr7Qx",
        "colab_type": "code",
        "colab": {
          "base_uri": "https://localhost:8080/",
          "height": 133
        },
        "outputId": "d006f214-9520-45b7-fb97-d65d9a9be61c"
      },
      "source": [
        "performance"
      ],
      "execution_count": 10,
      "outputs": [
        {
          "output_type": "execute_result",
          "data": {
            "text/html": [
              "<div>\n",
              "<style scoped>\n",
              "    .dataframe tbody tr th:only-of-type {\n",
              "        vertical-align: middle;\n",
              "    }\n",
              "\n",
              "    .dataframe tbody tr th {\n",
              "        vertical-align: top;\n",
              "    }\n",
              "\n",
              "    .dataframe thead th {\n",
              "        text-align: right;\n",
              "    }\n",
              "</style>\n",
              "<table border=\"1\" class=\"dataframe\">\n",
              "  <thead>\n",
              "    <tr style=\"text-align: right;\">\n",
              "      <th></th>\n",
              "      <th>Target</th>\n",
              "      <th>ARIMA</th>\n",
              "      <th>HWAMS</th>\n",
              "      <th>HWAAS</th>\n",
              "      <th>TBAT</th>\n",
              "    </tr>\n",
              "  </thead>\n",
              "  <tbody>\n",
              "    <tr>\n",
              "      <th>rmse</th>\n",
              "      <td>0.000000</td>\n",
              "      <td>13.098059</td>\n",
              "      <td>17.599400</td>\n",
              "      <td>18.993827</td>\n",
              "      <td>36.538009</td>\n",
              "    </tr>\n",
              "    <tr>\n",
              "      <th>mse</th>\n",
              "      <td>0.000000</td>\n",
              "      <td>171.559145</td>\n",
              "      <td>309.738878</td>\n",
              "      <td>360.765452</td>\n",
              "      <td>1335.026136</td>\n",
              "    </tr>\n",
              "    <tr>\n",
              "      <th>mean</th>\n",
              "      <td>155.293277</td>\n",
              "      <td>148.256628</td>\n",
              "      <td>142.399639</td>\n",
              "      <td>140.577496</td>\n",
              "      <td>126.590412</td>\n",
              "    </tr>\n",
              "  </tbody>\n",
              "</table>\n",
              "</div>"
            ],
            "text/plain": [
              "          Target       ARIMA       HWAMS       HWAAS         TBAT\n",
              "rmse    0.000000   13.098059   17.599400   18.993827    36.538009\n",
              "mse     0.000000  171.559145  309.738878  360.765452  1335.026136\n",
              "mean  155.293277  148.256628  142.399639  140.577496   126.590412"
            ]
          },
          "metadata": {
            "tags": []
          },
          "execution_count": 10
        }
      ]
    },
    {
      "cell_type": "code",
      "metadata": {
        "id": "lGYsscmWr7Ti",
        "colab_type": "code",
        "colab": {
          "base_uri": "https://localhost:8080/",
          "height": 421
        },
        "outputId": "15d24156-d138-4878-a0b5-276d4ac2ca52"
      },
      "source": [
        "all_performance"
      ],
      "execution_count": 11,
      "outputs": [
        {
          "output_type": "execute_result",
          "data": {
            "text/html": [
              "<div>\n",
              "<style scoped>\n",
              "    .dataframe tbody tr th:only-of-type {\n",
              "        vertical-align: middle;\n",
              "    }\n",
              "\n",
              "    .dataframe tbody tr th {\n",
              "        vertical-align: top;\n",
              "    }\n",
              "\n",
              "    .dataframe thead th {\n",
              "        text-align: right;\n",
              "    }\n",
              "</style>\n",
              "<table border=\"1\" class=\"dataframe\">\n",
              "  <thead>\n",
              "    <tr style=\"text-align: right;\">\n",
              "      <th></th>\n",
              "      <th>rmse</th>\n",
              "      <th>mse</th>\n",
              "      <th>mean</th>\n",
              "    </tr>\n",
              "  </thead>\n",
              "  <tbody>\n",
              "    <tr>\n",
              "      <th>ARIMA__X__ARIMA_HWAMS__X__ensemble_lgb__X__ensemble_ts__X__ARIMA_HWAMS_HWAAS</th>\n",
              "      <td>8.811177</td>\n",
              "      <td>77.636843</td>\n",
              "      <td>148.046434</td>\n",
              "    </tr>\n",
              "    <tr>\n",
              "      <th>ARIMA__X__ARIMA_HWAMS__X__ensemble_lgb</th>\n",
              "      <td>8.815072</td>\n",
              "      <td>77.705489</td>\n",
              "      <td>147.746169</td>\n",
              "    </tr>\n",
              "    <tr>\n",
              "      <th>ARIMA__X__ARIMA_HWAMS__X__ensemble_lgb__X__ensemble_ts__X__ARIMA_HWAMS_HWAAS__X__HWAMS__X__HWAAS</th>\n",
              "      <td>10.040673</td>\n",
              "      <td>100.815118</td>\n",
              "      <td>144.474396</td>\n",
              "    </tr>\n",
              "    <tr>\n",
              "      <th>ARIMA</th>\n",
              "      <td>10.381734</td>\n",
              "      <td>107.780399</td>\n",
              "      <td>144.484899</td>\n",
              "    </tr>\n",
              "    <tr>\n",
              "      <th>ARIMA__X__ARIMA_HWAMS</th>\n",
              "      <td>11.387933</td>\n",
              "      <td>129.685008</td>\n",
              "      <td>142.601578</td>\n",
              "    </tr>\n",
              "    <tr>\n",
              "      <th>ARIMA_HWAMS</th>\n",
              "      <td>12.626022</td>\n",
              "      <td>159.416421</td>\n",
              "      <td>140.718257</td>\n",
              "    </tr>\n",
              "    <tr>\n",
              "      <th>ensemble_lgb</th>\n",
              "      <td>13.006581</td>\n",
              "      <td>169.171151</td>\n",
              "      <td>158.035352</td>\n",
              "    </tr>\n",
              "    <tr>\n",
              "      <th>ensemble_ts</th>\n",
              "      <td>13.809845</td>\n",
              "      <td>190.711817</td>\n",
              "      <td>158.469164</td>\n",
              "    </tr>\n",
              "    <tr>\n",
              "      <th>ARIMA_HWAMS_HWAAS</th>\n",
              "      <td>14.198530</td>\n",
              "      <td>201.598242</td>\n",
              "      <td>138.524499</td>\n",
              "    </tr>\n",
              "    <tr>\n",
              "      <th>HWAMS</th>\n",
              "      <td>15.567905</td>\n",
              "      <td>242.359663</td>\n",
              "      <td>136.951615</td>\n",
              "    </tr>\n",
              "    <tr>\n",
              "      <th>HWAAS</th>\n",
              "      <td>17.804066</td>\n",
              "      <td>316.984751</td>\n",
              "      <td>134.136983</td>\n",
              "    </tr>\n",
              "    <tr>\n",
              "      <th>ARIMA_HWAMS_HWAAS_TBAT</th>\n",
              "      <td>19.548394</td>\n",
              "      <td>382.139727</td>\n",
              "      <td>132.710609</td>\n",
              "    </tr>\n",
              "    <tr>\n",
              "      <th>TBAT</th>\n",
              "      <td>39.003864</td>\n",
              "      <td>1521.301380</td>\n",
              "      <td>115.268940</td>\n",
              "    </tr>\n",
              "  </tbody>\n",
              "</table>\n",
              "</div>"
            ],
            "text/plain": [
              "                                                         rmse  ...        mean\n",
              "ARIMA__X__ARIMA_HWAMS__X__ensemble_lgb__X__ense...   8.811177  ...  148.046434\n",
              "ARIMA__X__ARIMA_HWAMS__X__ensemble_lgb               8.815072  ...  147.746169\n",
              "ARIMA__X__ARIMA_HWAMS__X__ensemble_lgb__X__ense...  10.040673  ...  144.474396\n",
              "ARIMA                                               10.381734  ...  144.484899\n",
              "ARIMA__X__ARIMA_HWAMS                               11.387933  ...  142.601578\n",
              "ARIMA_HWAMS                                         12.626022  ...  140.718257\n",
              "ensemble_lgb                                        13.006581  ...  158.035352\n",
              "ensemble_ts                                         13.809845  ...  158.469164\n",
              "ARIMA_HWAMS_HWAAS                                   14.198530  ...  138.524499\n",
              "HWAMS                                               15.567905  ...  136.951615\n",
              "HWAAS                                               17.804066  ...  134.136983\n",
              "ARIMA_HWAMS_HWAAS_TBAT                              19.548394  ...  132.710609\n",
              "TBAT                                                39.003864  ...  115.268940\n",
              "\n",
              "[13 rows x 3 columns]"
            ]
          },
          "metadata": {
            "tags": []
          },
          "execution_count": 11
        }
      ]
    },
    {
      "cell_type": "code",
      "metadata": {
        "id": "dB29uZG_r7WZ",
        "colab_type": "code",
        "colab": {
          "base_uri": "https://localhost:8080/",
          "height": 295
        },
        "outputId": "934cc471-6cd8-451c-c73b-addecd5f36ee"
      },
      "source": [
        "all_ensemble_in[[\"Target\",\"ARIMA__X__ARIMA_HWAMS__X__ensemble_lgb\",\"ARIMA\",\"TBAT\"]].plot()"
      ],
      "execution_count": 14,
      "outputs": [
        {
          "output_type": "execute_result",
          "data": {
            "text/plain": [
              "<matplotlib.axes._subplots.AxesSubplot at 0x7fbf938a3dd8>"
            ]
          },
          "metadata": {
            "tags": []
          },
          "execution_count": 14
        },
        {
          "output_type": "display_data",
          "data": {
            "image/png": "[encoded data removed]",
            "text/plain": [
              "<Figure size 792x288 with 1 Axes>"
            ]
          },
          "metadata": {
            "tags": [],
            "needs_background": "light"
          }
        }
      ]
    },
    {
      "cell_type": "code",
      "metadata": {
        "id": "_d8GtmRNr7ZQ",
        "colab_type": "code",
        "colab": {
          "base_uri": "https://localhost:8080/",
          "height": 134
        },
        "outputId": "30b9a5f0-bf65-47f0-c1c9-bc3fdc59c912"
      },
      "source": [
        "am.models_dict_in"
      ],
      "execution_count": 15,
      "outputs": [
        {
          "output_type": "execute_result",
          "data": {
            "text/plain": [
              "{'ARIMA': ARIMA(maxiter=50, method='lbfgs', order=(2, 1, 3), out_of_sample_size=0,\n",
              "       scoring='mse', scoring_args=None, seasonal_order=(1, 0, 1, 12),\n",
              "       start_params=None, suppress_warnings=False, trend=None,\n",
              "       with_intercept=True),\n",
              " 'HWAAS': <statsmodels.tsa.holtwinters.HoltWintersResultsWrapper at 0x7fbf96c97e10>,\n",
              " 'HWAMS': <statsmodels.tsa.holtwinters.HoltWintersResultsWrapper at 0x7fbf96c97978>,\n",
              " 'TBAT': <tbats.tbats.Model.Model at 0x7fbf968bfeb8>}"
            ]
          },
          "metadata": {
            "tags": []
          },
          "execution_count": 15
        }
      ]
    },
    {
      "cell_type": "code",
      "metadata": {
        "id": "OdrlOVTWr7bw",
        "colab_type": "code",
        "colab": {
          "base_uri": "https://localhost:8080/",
          "height": 134
        },
        "outputId": "55b9df29-f8a2-48b7-fcdf-411e55c7d677"
      },
      "source": [
        "am.models_dict_out"
      ],
      "execution_count": 16,
      "outputs": [
        {
          "output_type": "execute_result",
          "data": {
            "text/plain": [
              "{'ARIMA': ARIMA(maxiter=50, method='lbfgs', order=(3, 1, 4), out_of_sample_size=0,\n",
              "       scoring='mse', scoring_args=None, seasonal_order=(2, 0, 2, 12),\n",
              "       start_params=None, suppress_warnings=False, trend=None,\n",
              "       with_intercept=True),\n",
              " 'HWAAS': <statsmodels.tsa.holtwinters.HoltWintersResultsWrapper at 0x7fbf969620f0>,\n",
              " 'HWAMS': <statsmodels.tsa.holtwinters.HoltWintersResultsWrapper at 0x7fbf969afc18>,\n",
              " 'TBAT': <tbats.tbats.Model.Model at 0x7fbf969628d0>}"
            ]
          },
          "metadata": {
            "tags": []
          },
          "execution_count": 16
        }
      ]
    },
    {
      "cell_type": "code",
      "metadata": {
        "id": "3j-aS_1ar7hK",
        "colab_type": "code",
        "colab": {}
      },
      "source": [
        ""
      ],
      "execution_count": null,
      "outputs": []
    },
    {
      "cell_type": "code",
      "metadata": {
        "id": "o2bfhe3Lr7kc",
        "colab_type": "code",
        "colab": {}
      },
      "source": [
        ""
      ],
      "execution_count": null,
      "outputs": []
    },
    {
      "cell_type": "code",
      "metadata": {
        "id": "sJzn67aSr7e0",
        "colab_type": "code",
        "colab": {}
      },
      "source": [
        ""
      ],
      "execution_count": null,
      "outputs": []
    }
  ]
}