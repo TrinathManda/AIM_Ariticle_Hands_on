{
  "nbformat": 4,
  "nbformat_minor": 0,
  "metadata": {
    "colab": {
      "name": "AIM LSTM Recurrent Neural Network For Stock Market Prediction .ipynb",
      "provenance": [],
      "collapsed_sections": []
    },
    "kernelspec": {
      "name": "python3",
      "display_name": "Python 3"
    }
  },
  "cells": [
    {
      "cell_type": "code",
      "metadata": {
        "id": "K0OYuWt_k9Je",
        "colab_type": "code",
        "colab": {
          "base_uri": "https://localhost:8080/",
          "height": 386
        },
        "outputId": "e7e7c681-cf5e-48c7-955a-e3199799aea6"
      },
      "source": [
        "#https://analyticsindiamag.com/hands-on-guide-to-lstm-recurrent-neural-network-for-stock-market-prediction/\n",
        "#Library to download financial data in pandas dataframe\n",
        "!pip install nsepy"
      ],
      "execution_count": null,
      "outputs": [
        {
          "output_type": "stream",
          "text": [
            "Collecting nsepy\n",
            "  Downloading https://files.pythonhosted.org/packages/89/52/2e9f0de0c687ad181f17e0783319d31d66869c410793c5b94dc6cd4b3db2/nsepy-0.8.tar.gz\n",
            "Requirement already satisfied: beautifulsoup4 in /usr/local/lib/python3.6/dist-packages (from nsepy) (4.6.3)\n",
            "Requirement already satisfied: requests in /usr/local/lib/python3.6/dist-packages (from nsepy) (2.23.0)\n",
            "Requirement already satisfied: numpy in /usr/local/lib/python3.6/dist-packages (from nsepy) (1.18.5)\n",
            "Requirement already satisfied: pandas in /usr/local/lib/python3.6/dist-packages (from nsepy) (1.0.5)\n",
            "Requirement already satisfied: six in /usr/local/lib/python3.6/dist-packages (from nsepy) (1.15.0)\n",
            "Requirement already satisfied: click in /usr/local/lib/python3.6/dist-packages (from nsepy) (7.1.2)\n",
            "Requirement already satisfied: lxml in /usr/local/lib/python3.6/dist-packages (from nsepy) (4.2.6)\n",
            "Requirement already satisfied: certifi>=2017.4.17 in /usr/local/lib/python3.6/dist-packages (from requests->nsepy) (2020.6.20)\n",
            "Requirement already satisfied: idna<3,>=2.5 in /usr/local/lib/python3.6/dist-packages (from requests->nsepy) (2.10)\n",
            "Requirement already satisfied: chardet<4,>=3.0.2 in /usr/local/lib/python3.6/dist-packages (from requests->nsepy) (3.0.4)\n",
            "Requirement already satisfied: urllib3!=1.25.0,!=1.25.1,<1.26,>=1.21.1 in /usr/local/lib/python3.6/dist-packages (from requests->nsepy) (1.24.3)\n",
            "Requirement already satisfied: python-dateutil>=2.6.1 in /usr/local/lib/python3.6/dist-packages (from pandas->nsepy) (2.8.1)\n",
            "Requirement already satisfied: pytz>=2017.2 in /usr/local/lib/python3.6/dist-packages (from pandas->nsepy) (2018.9)\n",
            "Building wheels for collected packages: nsepy\n",
            "  Building wheel for nsepy (setup.py) ... \u001b[?25l\u001b[?25hdone\n",
            "  Created wheel for nsepy: filename=nsepy-0.8-cp36-none-any.whl size=36084 sha256=24c65e5ed52a23392f5fce798062864513aa41585186a4264d712bdfef259969\n",
            "  Stored in directory: /root/.cache/pip/wheels/05/2c/72/5324e267426eea65dec0c21a12a48b15887c0cf686c7a8fe11\n",
            "Successfully built nsepy\n",
            "Installing collected packages: nsepy\n",
            "Successfully installed nsepy-0.8\n"
          ],
          "name": "stdout"
        }
      ]
    },
    {
      "cell_type": "code",
      "metadata": {
        "id": "R1BxFNzcLju_",
        "colab_type": "code",
        "colab": {}
      },
      "source": [
        "#Import the required libraries\n",
        "from nsepy import get_history as gh\n",
        "import datetime as dt\n",
        "from matplotlib import pyplot as plt\n",
        "from sklearn import model_selection\n",
        "from sklearn.metrics import confusion_matrix\n",
        "from sklearn.preprocessing import StandardScaler, MinMaxScaler\n",
        "from sklearn.model_selection import train_test_split\n",
        "import numpy as np\n",
        "import pandas as pd\n",
        "\n",
        "from keras.models import Sequential\n",
        "from keras.layers import Dense,LSTM,Dropout\n"
      ],
      "execution_count": 7,
      "outputs": []
    },
    {
      "cell_type": "code",
      "metadata": {
        "id": "FcAj9RKvkWHu",
        "colab_type": "code",
        "colab": {}
      },
      "source": [
        "#We will fetch 6 years of historical prices of SBIN from 01.01.2013 to 31.12.2018\n",
        "start = dt.datetime(2013,1,1)\n",
        "end = dt.datetime(2013,12,31)\n",
        "stk_data = gh(symbol='SBIN', start=start, end=end)"
      ],
      "execution_count": null,
      "outputs": []
    },
    {
      "cell_type": "code",
      "metadata": {
        "id": "OrBuTGFBmCfF",
        "colab_type": "code",
        "colab": {}
      },
      "source": [
        "#We can visualise the fetched data\n",
        "plt.figure(figsize=(14,14))\n",
        "plt.plot(stk_data(['Close']))\n",
        "plt.title('Historical Stock Value')\n",
        "plt.xlabel('Date')\n",
        "plt.ylabel('Stock Price')\n",
        "plt.show()"
      ],
      "execution_count": null,
      "outputs": []
    },
    {
      "cell_type": "code",
      "metadata": {
        "id": "PyNHP2wcmChy",
        "colab_type": "code",
        "colab": {}
      },
      "source": [
        "stk_data['Date'] = stk_data.index\n",
        "data2 = pd.DataFrame(columns = ['Date', 'Open', 'High', 'Low', 'Close'])\n",
        "data2['Date'] = stk_data['Date']\n",
        "data2['Open'] = stk_data['Open']\n",
        "data2['High'] = stk_data['High']\n",
        "data2['Low'] = stk_data['Low']\n",
        "data2['Close'] = stk_data['Close']"
      ],
      "execution_count": null,
      "outputs": []
    },
    {
      "cell_type": "code",
      "metadata": {
        "id": "r_NwtwvzkWKl",
        "colab_type": "code",
        "colab": {}
      },
      "source": [
        "#. Preprocess the data in order to prepare it for the LSTM model.\n",
        "train_set = data2.iloc[:, 1:2].values\n",
        "sc = MinMaxScaler(feature_range = (0, 1))\n",
        "training_set_scaled = sc.fit_transform(train_set)\n",
        "X_train = []\n",
        "y_train = []\n",
        "for i in range(60, 1482):\n",
        "    X_train.append(training_set_scaled[i-60:i, 0])\n",
        "    y_train.append(training_set_scaled[i, 0]) \n",
        "X_train, y_train = np.array(X_train), np.array(y_train)\n",
        "X_train = np.reshape(X_train, (X_train.shape[0], X_train.shape[1], 1))"
      ],
      "execution_count": null,
      "outputs": []
    },
    {
      "cell_type": "code",
      "metadata": {
        "id": "LifO7aNsMvcG",
        "colab_type": "code",
        "colab": {}
      },
      "source": [
        "regressor = Sequential()\n",
        "regressor.add(LSTM(units = 50, return_sequences = True, input_shape = (X_train.shape[1], 1)))\n",
        "regressor.add(Dropout(0.2))\n",
        "regressor.add(LSTM(units = 50, return_sequences = True))\n",
        "regressor.add(Dropout(0.2))\n",
        "regressor.add(LSTM(units = 50, return_sequences = True))\n",
        "regressor.add(Dropout(0.2))\n",
        "regressor.add(LSTM(units = 50))\n",
        "regressor.add(Dropout(0.2))\n",
        "regressor.add(Dense(units = 1))"
      ],
      "execution_count": null,
      "outputs": []
    },
    {
      "cell_type": "code",
      "metadata": {
        "id": "HAnCSaRlMves",
        "colab_type": "code",
        "colab": {}
      },
      "source": [
        "regressor.compile(optimizer = 'adam', loss = 'mean_squared_error')\n",
        "regressor.fit(X_train, y_train, epochs = 15, batch_size = 32)"
      ],
      "execution_count": null,
      "outputs": []
    },
    {
      "cell_type": "code",
      "metadata": {
        "id": "WngnhdPKMvhc",
        "colab_type": "code",
        "colab": {}
      },
      "source": [
        "testdataframe= gh(symbol='SBIN',start=dt.datetime(2019,1,1),end=dt.datetime(2019,9,18))\n",
        "testdataframe['Date'] = testdataframe.index\n",
        "testdata = pd.DataFrame(columns = ['Date', 'Open', 'High', 'Low', 'Close'])\n",
        "testdata['Date'] = testdataframe['Date']\n",
        "testdata['Open'] = testdataframe['Open']\n",
        "testdata['High'] = testdataframe['High']\n",
        "testdata['Low'] = testdataframe['Low']\n",
        "testdata['Close'] = testdataframe['Close']\n",
        "real_stock_price = testdata.iloc[:, 1:2].values\n",
        "dataset_total = pd.concat((data2['Open'], testdata['Open']), axis = 0)\n",
        "inputs = dataset_total[len(dataset_total) - len(testdata) - 60:].values\n",
        "inputs = inputs.reshape(-1,1)\n",
        "inputs = sc.transform(inputs)\n",
        "X_test = []\n",
        "for i in range(60, 235):\n",
        "    X_test.append(inputs[i-60:i, 0])\n",
        "X_test = np.array(X_test)\n",
        "X_test = np.reshape(X_test, (X_test.shape[0], X_test.shape[1], 1))\n",
        "\n"
      ],
      "execution_count": null,
      "outputs": []
    },
    {
      "cell_type": "code",
      "metadata": {
        "id": "Pp4289WlMvj4",
        "colab_type": "code",
        "colab": {}
      },
      "source": [
        "predicted_stock_price = regressor.predict(X_test)\n",
        "predicted_stock_price = sc.inverse_transform(predicted_stock_price)"
      ],
      "execution_count": null,
      "outputs": []
    },
    {
      "cell_type": "code",
      "metadata": {
        "id": "6BS2lhNfMvmg",
        "colab_type": "code",
        "colab": {}
      },
      "source": [
        "plt.figure(figsize=(20,10))\n",
        "plt.plot(real_stock_price, color = 'green', label = 'SBI Stock Price')\n",
        "plt.plot(predicted_stock_price, color = 'red', label = 'Predicted SBI Stock Price')\n",
        "plt.title('SBI Stock Price Prediction')\n",
        "plt.xlabel('Trading Day')\n",
        "plt.ylabel('SBI Stock Price')\n",
        "plt.legend()\n",
        "plt.show()"
      ],
      "execution_count": null,
      "outputs": []
    },
    {
      "cell_type": "code",
      "metadata": {
        "id": "awhPRXTpMvpG",
        "colab_type": "code",
        "colab": {}
      },
      "source": [
        "#Binding all the above steps\n",
        "\n",
        "#Importing the libraries\n",
        "from nsepy import get_history as gh\n",
        "import datetime as dt\n",
        "from matplotlib import pyplot as plt\n",
        "from sklearn import model_selection\n",
        "from sklearn.metrics import confusion_matrix\n",
        "from sklearn.preprocessing import StandardScaler\n",
        "from sklearn.model_selection import train_test_split\n",
        "import numpy as np\n",
        "import pandas as pd\n",
        "from sklearn.preprocessing import MinMaxScaler\n",
        "from keras.models import Sequential\n",
        "from keras.layers import Dense\n",
        "from keras.layers import LSTM\n",
        "from keras.layers import Dropout\n",
        "\n",
        "#Setting start and end dates and fetching the historical data\n",
        "start = dt.datetime(2013,1,1)\n",
        "end = dt.datetime(2018,12,31)\n",
        "stk_data = gh(symbol='SBIN',start=start,end=end)\n",
        "\n",
        "#Visualizing the fetched data\n",
        "plt.figure(figsize=(14,14))\n",
        "plt.plot(stk_data['Close'])\n",
        "plt.title('Historical Stock Value')\n",
        "plt.xlabel('Date')\n",
        "plt.ylabel('Stock Price')\n",
        "plt.show()\n",
        "\n",
        "#Data Preprocessing\n",
        "stk_data['Date'] = stk_data.index\n",
        "data2 = pd.DataFrame(columns = ['Date', 'Open', 'High', 'Low', 'Close'])\n",
        "data2['Date'] = stk_data['Date']\n",
        "data2['Open'] = stk_data['Open']\n",
        "data2['High'] = stk_data['High']\n",
        "data2['Low'] = stk_data['Low']\n",
        "data2['Close'] = stk_data['Close']\n",
        "train_set = data2.iloc[:, 1:2].values\n",
        "sc = MinMaxScaler(feature_range = (0, 1))\n",
        "training_set_scaled = sc.fit_transform(train_set)\n",
        "X_train = []\n",
        "y_train = []\n",
        "for i in range(60, 1482):\n",
        "X_train.append(training_set_scaled[i-60:i, 0])\n",
        "y_train.append(training_set_scaled[i, 0]) \n",
        "X_train, y_train = np.array(X_train), np.array(y_train)\n",
        "X_train = np.reshape(X_train, (X_train.shape[0], X_train.shape[1], 1))\n",
        "\n",
        "\n",
        "#Defining the LSTM Recurrent Model\n",
        "regressor = Sequential()\n",
        "regressor.add(LSTM(units = 50, return_sequences = True, input_shape = (X_train.shape[1], 1)))\n",
        "regressor.add(Dropout(0.2))\n",
        "regressor.add(LSTM(units = 50, return_sequences = True))\n",
        "regressor.add(Dropout(0.2))\n",
        "regressor.add(LSTM(units = 50, return_sequences = True))\n",
        "regressor.add(Dropout(0.2))\n",
        "regressor.add(LSTM(units = 50))\n",
        "regressor.add(Dropout(0.2))\n",
        "regressor.add(Dense(units = 1))\n",
        "\n",
        "#Compiling and fitting the model\n",
        "regressor.compile(optimizer = 'adam', loss = 'mean_squared_error')\n",
        "regressor.fit(X_train, y_train, epochs = 15, batch_size = 32)\n",
        "\n",
        "\n",
        "#Fetching the test data and preprocessing\n",
        "testdataframe = gh(symbol='SBIN',start=dt.datetime(2019,1,1),end=dt.datetime(2019,9,18))\n",
        "testdataframe['Date'] = testdataframe.index\n",
        "testdata = pd.DataFrame(columns = ['Date', 'Open', 'High', 'Low', 'Close'])\n",
        "testdata['Date'] = testdataframe['Date']\n",
        "testdata['Open'] = testdataframe['Open']\n",
        "testdata['High'] = testdataframe['High']\n",
        "testdata['Low'] = testdataframe['Low']\n",
        "testdata['Close'] = testdataframe['Close']\n",
        "real_stock_price = testdata.iloc[:, 1:2].values\n",
        "dataset_total = pd.concat((data2['Open'], testdata['Open']), axis = 0)\n",
        "inputs = dataset_total[len(dataset_total) - len(testdata) - 60:].values\n",
        "inputs = inputs.reshape(-1,1)\n",
        "inputs = sc.transform(inputs)\n",
        "X_test = []\n",
        "for i in range(60, 235):\n",
        "X_test.append(inputs[i-60:i, 0])\n",
        "X_test = np.array(X_test)\n",
        "X_test = np.reshape(X_test, (X_test.shape[0], X_test.shape[1], 1))\n",
        "\n",
        "#Making predictions on the test data\n",
        "predicted_stock_price = regressor.predict(X_test)\n",
        "predicted_stock_price = sc.inverse_transform(predicted_stock_price)\n",
        "\n",
        "#Visualizing the prediction\n",
        "plt.figure(figsize=(20,10))\n",
        "plt.plot(real_stock_price, color = 'green', label = 'SBI Stock Price')\n",
        "plt.plot(predicted_stock_price, color = 'red', label = 'Predicted SBI Stock Price')\n",
        "plt.title('SBI Stock Price Prediction')\n",
        "plt.xlabel('Trading Day')\n",
        "plt.ylabel('SBI Stock Price')\n",
        "plt.legend()\n",
        "plt.show()"
      ],
      "execution_count": null,
      "outputs": []
    },
    {
      "cell_type": "code",
      "metadata": {
        "id": "HJf6qXsZMvro",
        "colab_type": "code",
        "colab": {}
      },
      "source": [
        ""
      ],
      "execution_count": null,
      "outputs": []
    },
    {
      "cell_type": "code",
      "metadata": {
        "id": "_X5FTqXWMvuL",
        "colab_type": "code",
        "colab": {}
      },
      "source": [
        ""
      ],
      "execution_count": null,
      "outputs": []
    },
    {
      "cell_type": "code",
      "metadata": {
        "id": "RCBuHlceMvwn",
        "colab_type": "code",
        "colab": {}
      },
      "source": [
        ""
      ],
      "execution_count": null,
      "outputs": []
    },
    {
      "cell_type": "code",
      "metadata": {
        "id": "rt5r69zzMvzF",
        "colab_type": "code",
        "colab": {}
      },
      "source": [
        ""
      ],
      "execution_count": null,
      "outputs": []
    },
    {
      "cell_type": "code",
      "metadata": {
        "id": "1u5RGN_6Mv1r",
        "colab_type": "code",
        "colab": {}
      },
      "source": [
        ""
      ],
      "execution_count": null,
      "outputs": []
    },
    {
      "cell_type": "code",
      "metadata": {
        "id": "0SWGiVCXMv4V",
        "colab_type": "code",
        "colab": {}
      },
      "source": [
        ""
      ],
      "execution_count": null,
      "outputs": []
    },
    {
      "cell_type": "code",
      "metadata": {
        "id": "KM4a0ufNMv69",
        "colab_type": "code",
        "colab": {}
      },
      "source": [
        ""
      ],
      "execution_count": null,
      "outputs": []
    },
    {
      "cell_type": "code",
      "metadata": {
        "id": "Ktp_2kZQMv9l",
        "colab_type": "code",
        "colab": {}
      },
      "source": [
        ""
      ],
      "execution_count": null,
      "outputs": []
    },
    {
      "cell_type": "code",
      "metadata": {
        "id": "TRVdNupoMwAM",
        "colab_type": "code",
        "colab": {}
      },
      "source": [
        ""
      ],
      "execution_count": null,
      "outputs": []
    }
  ]
}