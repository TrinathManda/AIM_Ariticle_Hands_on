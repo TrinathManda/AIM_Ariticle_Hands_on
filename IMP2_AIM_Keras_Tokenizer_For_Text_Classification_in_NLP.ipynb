{
  "nbformat": 4,
  "nbformat_minor": 0,
  "metadata": {
    "colab": {
      "name": "AIM_Keras Tokenizer For Text Classification in NLP.ipynb",
      "provenance": [],
      "collapsed_sections": []
    },
    "kernelspec": {
      "name": "python3",
      "display_name": "Python 3"
    }
  },
  "cells": [
    {
      "cell_type": "code",
      "metadata": {
        "id": "jtRtzRfUS2k2",
        "colab_type": "code",
        "colab": {}
      },
      "source": [
        "#https://analyticsindiamag.com/tutorial-on-keras-tokenizer-for-text-classification-in-nlp/\n",
        "import keras \n",
        "from keras.datasets import reuters\n",
        "from keras.models import Sequential \n",
        "from keras.layers import Dense, Dropout, Activation\n",
        "from keras.preprocessing.text import Tokenizer\n",
        "import tensorflow as tf\n",
        "(X_train,y_train),(X_test,y_test) = reuters.load_data()"
      ],
      "execution_count": 9,
      "outputs": []
    },
    {
      "cell_type": "code",
      "metadata": {
        "id": "b7NEkQ6gS70M",
        "colab_type": "code",
        "colab": {
          "base_uri": "https://localhost:8080/",
          "height": 33
        },
        "outputId": "940cb739-5277-4753-d921-cdd31fa2d0b6"
      },
      "source": [
        "print(X_train.shape)"
      ],
      "execution_count": 10,
      "outputs": [
        {
          "output_type": "stream",
          "text": [
            "(8982,)\n"
          ],
          "name": "stdout"
        }
      ]
    },
    {
      "cell_type": "code",
      "metadata": {
        "id": "jgNTxJA4S727",
        "colab_type": "code",
        "colab": {}
      },
      "source": [
        "tokenizer = Tokenizer(num_words=50000)\n",
        "X_train = tokenizer.sequences_to_matrix(X_train, mode='binary')\n",
        "X_test = tokenizer.sequences_to_matrix(X_test, mode='binary')\n",
        "y_train = keras.utils.to_categorical(y_train,num_classes=46)\n",
        "y_test = keras.utils.to_categorical(y_test,num_classes=46)"
      ],
      "execution_count": 11,
      "outputs": []
    },
    {
      "cell_type": "code",
      "metadata": {
        "id": "Vjl-dOmES75v",
        "colab_type": "code",
        "colab": {}
      },
      "source": [
        "model = Sequential()\n",
        "model.add(tf.keras.layers.Dense(128,input_shape=(X_train[0].shape)))\n",
        "model.add(tf.keras.layers.Dense(512, activation='relu'))\n",
        "model.add(tf.keras.layers.BatchNormalization())\n",
        "model.add(tf.keras.layers.Dense(128, activation='relu'))\n",
        "model.add(tf.keras.layers.Dense(512, activation='relu'))\n",
        "model.add(Dropout(0.25))\n",
        "model.add(tf.keras.layers.Dense(46, activation='softmax'))"
      ],
      "execution_count": 5,
      "outputs": []
    },
    {
      "cell_type": "code",
      "metadata": {
        "id": "V8QXJ-d9S78m",
        "colab_type": "code",
        "colab": {
          "base_uri": "https://localhost:8080/",
          "height": 403
        },
        "outputId": "017c1db7-0234-4474-831f-5683c8004421"
      },
      "source": [
        "print(model.summary())\n"
      ],
      "execution_count": 7,
      "outputs": [
        {
          "output_type": "stream",
          "text": [
            "Model: \"sequential\"\n",
            "_________________________________________________________________\n",
            "Layer (type)                 Output Shape              Param #   \n",
            "=================================================================\n",
            "dense (Dense)                (None, 128)               6400128   \n",
            "_________________________________________________________________\n",
            "dense_1 (Dense)              (None, 512)               66048     \n",
            "_________________________________________________________________\n",
            "batch_normalization (BatchNo (None, 512)               2048      \n",
            "_________________________________________________________________\n",
            "dense_2 (Dense)              (None, 128)               65664     \n",
            "_________________________________________________________________\n",
            "dense_3 (Dense)              (None, 512)               66048     \n",
            "_________________________________________________________________\n",
            "dropout (Dropout)            (None, 512)               0         \n",
            "_________________________________________________________________\n",
            "dense_4 (Dense)              (None, 46)                23598     \n",
            "=================================================================\n",
            "Total params: 6,623,534\n",
            "Trainable params: 6,622,510\n",
            "Non-trainable params: 1,024\n",
            "_________________________________________________________________\n",
            "None\n"
          ],
          "name": "stdout"
        }
      ]
    },
    {
      "cell_type": "code",
      "metadata": {
        "id": "L3_8ENlTS8B2",
        "colab_type": "code",
        "colab": {}
      },
      "source": [
        "model.compile(optimizer='sgd',loss='categorical_crossentropy',metrics=['accuracy'])"
      ],
      "execution_count": 9,
      "outputs": []
    },
    {
      "cell_type": "code",
      "metadata": {
        "id": "fAoZ2C-LS8G6",
        "colab_type": "code",
        "colab": {
          "base_uri": "https://localhost:8080/",
          "height": 389
        },
        "outputId": "7212a55f-c77e-46c5-b43c-7f22cba3593e"
      },
      "source": [
        "model.fit(X_train,y_train,validation_data=(X_test,y_test),batch_size=64,epochs=10)"
      ],
      "execution_count": 10,
      "outputs": [
        {
          "output_type": "stream",
          "text": [
            "Epoch 1/10\n",
            "141/141 [==============================] - 8s 56ms/step - loss: 1.8551 - accuracy: 0.5875 - val_loss: 3.2153 - val_accuracy: 0.6799\n",
            "Epoch 2/10\n",
            "141/141 [==============================] - 7s 52ms/step - loss: 1.1358 - accuracy: 0.7393 - val_loss: 2.6023 - val_accuracy: 0.7168\n",
            "Epoch 3/10\n",
            "141/141 [==============================] - 7s 52ms/step - loss: 0.8755 - accuracy: 0.7980 - val_loss: 1.7242 - val_accuracy: 0.7467\n",
            "Epoch 4/10\n",
            "141/141 [==============================] - 7s 52ms/step - loss: 0.6929 - accuracy: 0.8333 - val_loss: 1.1714 - val_accuracy: 0.7573\n",
            "Epoch 5/10\n",
            "141/141 [==============================] - 7s 51ms/step - loss: 0.5529 - accuracy: 0.8723 - val_loss: 1.0072 - val_accuracy: 0.7752\n",
            "Epoch 6/10\n",
            "141/141 [==============================] - 7s 52ms/step - loss: 0.4466 - accuracy: 0.9000 - val_loss: 0.9959 - val_accuracy: 0.7783\n",
            "Epoch 7/10\n",
            "141/141 [==============================] - 7s 52ms/step - loss: 0.3754 - accuracy: 0.9145 - val_loss: 0.9828 - val_accuracy: 0.7845\n",
            "Epoch 8/10\n",
            "141/141 [==============================] - 7s 53ms/step - loss: 0.3232 - accuracy: 0.9271 - val_loss: 0.9960 - val_accuracy: 0.7863\n",
            "Epoch 9/10\n",
            "141/141 [==============================] - 7s 52ms/step - loss: 0.2728 - accuracy: 0.9371 - val_loss: 1.0098 - val_accuracy: 0.7881\n",
            "Epoch 10/10\n",
            "141/141 [==============================] - 7s 52ms/step - loss: 0.2464 - accuracy: 0.9419 - val_loss: 1.0208 - val_accuracy: 0.7916\n"
          ],
          "name": "stdout"
        },
        {
          "output_type": "execute_result",
          "data": {
            "text/plain": [
              "<tensorflow.python.keras.callbacks.History at 0x7f0e8f6a7f98>"
            ]
          },
          "metadata": {
            "tags": []
          },
          "execution_count": 10
        }
      ]
    },
    {
      "cell_type": "code",
      "metadata": {
        "id": "UHJDRG4CS8Jm",
        "colab_type": "code",
        "colab": {
          "base_uri": "https://localhost:8080/",
          "height": 50
        },
        "outputId": "3bb41bbe-4b2b-4a16-a7b7-3c50505d0b0f"
      },
      "source": [
        "model.evaluate(X_test,y_test)"
      ],
      "execution_count": 11,
      "outputs": [
        {
          "output_type": "stream",
          "text": [
            "71/71 [==============================] - 1s 11ms/step - loss: 1.0208 - accuracy: 0.7916\n"
          ],
          "name": "stdout"
        },
        {
          "output_type": "execute_result",
          "data": {
            "text/plain": [
              "[1.0208332538604736, 0.7916295528411865]"
            ]
          },
          "metadata": {
            "tags": []
          },
          "execution_count": 11
        }
      ]
    },
    {
      "cell_type": "code",
      "metadata": {
        "id": "b00jQhjJS8E-",
        "colab_type": "code",
        "colab": {}
      },
      "source": [
        ""
      ],
      "execution_count": null,
      "outputs": []
    },
    {
      "cell_type": "code",
      "metadata": {
        "id": "XUnBrgH6S7_n",
        "colab_type": "code",
        "colab": {}
      },
      "source": [
        "(X_train,y_train),(X_test,y_test) = reuters.load_data()"
      ],
      "execution_count": 12,
      "outputs": []
    },
    {
      "cell_type": "code",
      "metadata": {
        "id": "gQ8E3gFeVFoi",
        "colab_type": "code",
        "colab": {
          "base_uri": "https://localhost:8080/",
          "height": 171
        },
        "outputId": "b7596006-4ab3-4626-b160-f59e82fdec2e"
      },
      "source": [
        "X_train"
      ],
      "execution_count": 15,
      "outputs": [
        {
          "output_type": "execute_result",
          "data": {
            "text/plain": [
              "array([list([1, 27595, 28842, 8, 43, 10, 447, 5, 25, 207, 270, 5, 3095, 111, 16, 369, 186, 90, 67, 7, 89, 5, 19, 102, 6, 19, 124, 15, 90, 67, 84, 22, 482, 26, 7, 48, 4, 49, 8, 864, 39, 209, 154, 6, 151, 6, 83, 11, 15, 22, 155, 11, 15, 7, 48, 9, 4579, 1005, 504, 6, 258, 6, 272, 11, 15, 22, 134, 44, 11, 15, 16, 8, 197, 1245, 90, 67, 52, 29, 209, 30, 32, 132, 6, 109, 15, 17, 12]),\n",
              "       list([1, 3267, 699, 3434, 2295, 56, 16784, 7511, 9, 56, 3906, 1073, 81, 5, 1198, 57, 366, 737, 132, 20, 4093, 7, 19261, 49, 2295, 13415, 1037, 3267, 699, 3434, 8, 7, 10, 241, 16, 855, 129, 231, 783, 5, 4, 587, 2295, 13415, 30625, 775, 7, 48, 34, 191, 44, 35, 1795, 505, 17, 12]),\n",
              "       list([1, 53, 12, 284, 15, 14, 272, 26, 53, 959, 32, 818, 15, 14, 272, 26, 39, 684, 70, 11, 14, 12, 3886, 18, 180, 183, 187, 70, 11, 14, 102, 32, 11, 29, 53, 44, 704, 15, 14, 19, 758, 15, 53, 959, 47, 1013, 15, 14, 19, 132, 15, 39, 965, 32, 11, 14, 147, 72, 11, 180, 183, 187, 44, 11, 14, 102, 19, 11, 123, 186, 90, 67, 960, 4, 78, 13, 68, 467, 511, 110, 59, 89, 90, 67, 1390, 55, 2678, 92, 617, 80, 1274, 46, 905, 220, 13, 4, 346, 48, 235, 629, 5, 211, 5, 1118, 7, 11733, 81, 5, 187, 11, 15, 9, 1709, 201, 5, 47, 3615, 18, 478, 4514, 5, 1118, 7, 232, 13051, 71, 5, 160, 63, 11, 9, 26503, 81, 5, 102, 59, 11, 17, 12]),\n",
              "       ...,\n",
              "       list([1, 141, 3890, 387, 81, 8, 16, 1629, 10, 340, 1241, 850, 31, 56, 3890, 691, 9, 1241, 71, 9, 5985, 16338, 19170, 699, 19886, 13441, 18064, 699, 244, 5945, 4, 49, 8, 4, 656, 850, 33, 2993, 9, 2139, 340, 3371, 1493, 9, 17870, 22, 16964, 1094, 687, 83, 35, 15, 257, 6, 57, 9190, 7, 4, 5956, 654, 5, 17822, 6191, 1371, 4, 49, 8, 16, 369, 646, 6, 1076, 7, 124, 407, 17, 12]),\n",
              "       list([1, 53, 46, 957, 26, 14, 74, 132, 26, 39, 46, 258, 3614, 18, 14, 74, 134, 5131, 18, 88, 2321, 72, 11, 14, 1842, 32, 11, 123, 383, 89, 39, 46, 235, 10, 864, 728, 5, 258, 44, 11, 15, 22, 753, 9, 42, 92, 131, 728, 5, 69, 312, 11, 15, 22, 222, 10964, 3237, 383, 48, 39, 74, 235, 10, 864, 276, 5, 61, 32, 11, 15, 21, 4, 211, 5, 126, 1072, 42, 92, 131, 46, 19, 352, 11, 15, 22, 710, 220, 9, 42, 92, 131, 276, 5, 59, 61, 11, 15, 22, 10, 455, 7, 1172, 137, 336, 1325, 6, 1532, 142, 971, 6463, 43, 359, 5, 4, 326, 753, 364, 17, 12]),\n",
              "       list([1, 227, 2406, 91, 21969, 125, 2855, 21, 4, 3976, 76, 7, 4, 757, 481, 3976, 790, 5259, 5654, 9, 111, 149, 8, 7, 10, 76, 223, 51, 4, 417, 8, 1047, 91, 6917, 1688, 340, 7, 194, 9411, 6, 1894, 21, 127, 2151, 2394, 1456, 6, 3034, 4, 329, 433, 7, 65, 87, 1127, 10, 8219, 1475, 290, 9, 21, 567, 16, 1926, 24, 4, 76, 209, 30, 4033, 6655, 5654, 8, 4, 60, 8, 4, 966, 308, 40, 2575, 129, 15562, 295, 277, 1071, 9, 24, 286, 2114, 234, 222, 9, 4, 906, 3994, 8519, 114, 5758, 1752, 7, 4, 113, 17, 12])],\n",
              "      dtype=object)"
            ]
          },
          "metadata": {
            "tags": []
          },
          "execution_count": 15
        }
      ]
    },
    {
      "cell_type": "code",
      "metadata": {
        "id": "q56-xshUVFrj",
        "colab_type": "code",
        "colab": {}
      },
      "source": [
        "X_train = tokenizer.sequences_to_matrix(X_train, mode='count')\n",
        "X_test = tokenizer.sequences_to_matrix(X_test, mode='count')"
      ],
      "execution_count": 16,
      "outputs": []
    },
    {
      "cell_type": "code",
      "metadata": {
        "id": "QDiziuOEVFuY",
        "colab_type": "code",
        "colab": {}
      },
      "source": [
        "y_train = keras.utils.to_categorical(y_train,num_classes=46)\n",
        "y_test = keras.utils.to_categorical(y_test,num_classes=46)"
      ],
      "execution_count": 19,
      "outputs": []
    },
    {
      "cell_type": "code",
      "metadata": {
        "id": "_8NM8NDDVFxT",
        "colab_type": "code",
        "colab": {}
      },
      "source": [
        "model = Sequential()\n",
        "model.add(tf.keras.layers.Dense(128,input_shape=(X_train[0].shape)))\n",
        "model.add(tf.keras.layers.Dense(512, activation='relu'))\n",
        "model.add(tf.keras.layers.BatchNormalization())\n",
        "model.add(tf.keras.layers.Dense(128, activation='relu'))\n",
        "model.add(tf.keras.layers.Dense(512, activation='relu'))\n",
        "model.add(Dropout(0.25))\n",
        "model.add(tf.keras.layers.Dense(46, activation='softmax'))"
      ],
      "execution_count": 21,
      "outputs": []
    },
    {
      "cell_type": "code",
      "metadata": {
        "id": "PdDc3viuVFz6",
        "colab_type": "code",
        "colab": {}
      },
      "source": [
        "model.compile(optimizer='sgd',loss='categorical_crossentropy',metrics=['accuracy'])"
      ],
      "execution_count": 23,
      "outputs": []
    },
    {
      "cell_type": "code",
      "metadata": {
        "id": "TjNv5d7rVF2V",
        "colab_type": "code",
        "colab": {
          "base_uri": "https://localhost:8080/",
          "height": 389
        },
        "outputId": "00ba4108-20af-426a-dfc8-6cfcf65aee06"
      },
      "source": [
        "model.fit(X_train,y_train,validation_data=(X_test,y_test),batch_size=64,epochs=10)"
      ],
      "execution_count": 24,
      "outputs": [
        {
          "output_type": "stream",
          "text": [
            "Epoch 1/10\n",
            "141/141 [==============================] - 8s 58ms/step - loss: 1.8615 - accuracy: 0.5753 - val_loss: 2.8194 - val_accuracy: 0.6456\n",
            "Epoch 2/10\n",
            "141/141 [==============================] - 7s 53ms/step - loss: 1.1945 - accuracy: 0.7265 - val_loss: 1.9307 - val_accuracy: 0.7088\n",
            "Epoch 3/10\n",
            "141/141 [==============================] - 7s 52ms/step - loss: 0.9692 - accuracy: 0.7809 - val_loss: 1.3525 - val_accuracy: 0.7021\n",
            "Epoch 4/10\n",
            "141/141 [==============================] - 7s 52ms/step - loss: 0.8221 - accuracy: 0.8101 - val_loss: 1.1450 - val_accuracy: 0.7324\n",
            "Epoch 5/10\n",
            "141/141 [==============================] - 7s 52ms/step - loss: 0.6879 - accuracy: 0.8385 - val_loss: 0.9875 - val_accuracy: 0.7707\n",
            "Epoch 6/10\n",
            "141/141 [==============================] - 7s 53ms/step - loss: 0.6007 - accuracy: 0.8643 - val_loss: 1.0099 - val_accuracy: 0.7654\n",
            "Epoch 7/10\n",
            "141/141 [==============================] - 7s 52ms/step - loss: 0.5113 - accuracy: 0.8810 - val_loss: 1.2697 - val_accuracy: 0.7257\n",
            "Epoch 8/10\n",
            "141/141 [==============================] - 7s 52ms/step - loss: 0.4442 - accuracy: 0.8971 - val_loss: 0.9526 - val_accuracy: 0.7907\n",
            "Epoch 9/10\n",
            "141/141 [==============================] - 7s 53ms/step - loss: 0.3858 - accuracy: 0.9080 - val_loss: 0.9617 - val_accuracy: 0.7939\n",
            "Epoch 10/10\n",
            "141/141 [==============================] - 7s 52ms/step - loss: 0.3381 - accuracy: 0.9182 - val_loss: 1.0024 - val_accuracy: 0.7801\n"
          ],
          "name": "stdout"
        },
        {
          "output_type": "execute_result",
          "data": {
            "text/plain": [
              "<tensorflow.python.keras.callbacks.History at 0x7f0e907cd1d0>"
            ]
          },
          "metadata": {
            "tags": []
          },
          "execution_count": 24
        }
      ]
    },
    {
      "cell_type": "code",
      "metadata": {
        "id": "ngkhfWy8VF4x",
        "colab_type": "code",
        "colab": {
          "base_uri": "https://localhost:8080/",
          "height": 50
        },
        "outputId": "c25555f0-8d2f-4ebf-e034-5eb74d13608d"
      },
      "source": [
        "model.evaluate(X_test,y_test)"
      ],
      "execution_count": 25,
      "outputs": [
        {
          "output_type": "stream",
          "text": [
            "71/71 [==============================] - 1s 11ms/step - loss: 1.0024 - accuracy: 0.7801\n"
          ],
          "name": "stdout"
        },
        {
          "output_type": "execute_result",
          "data": {
            "text/plain": [
              "[1.0024369955062866, 0.780053436756134]"
            ]
          },
          "metadata": {
            "tags": []
          },
          "execution_count": 25
        }
      ]
    },
    {
      "cell_type": "code",
      "metadata": {
        "id": "GL14HCrhVF7Q",
        "colab_type": "code",
        "colab": {
          "base_uri": "https://localhost:8080/",
          "height": 406
        },
        "outputId": "7fad0981-dfa5-4af4-dde0-c37863115685"
      },
      "source": [
        "(X_train,y_train),(X_test,y_test) = reuters.load_data()\n",
        "tokenizer = Tokenizer(num_words=50000)\n",
        "X_train = tokenizer.sequences_to_matrix(X_train, mode='freq')\n",
        "X_test = tokenizer.sequences_to_matrix(X_test, mode='freq')\n",
        " \n",
        "y_train = keras.utils.to_categorical(y_train,num_classes=46)\n",
        "y_test = keras.utils.to_categorical(y_test,num_classes=46)\n",
        " \n",
        "model = Sequential()\n",
        "model.add(tf.keras.layers.Dense(128,input_shape=(X_train[0].shape)))\n",
        "model.add(tf.keras.layers.Dense(512, activation='relu'))\n",
        "model.add(tf.keras.layers.BatchNormalization())\n",
        "model.add(tf.keras.layers.Dense(128, activation='relu'))\n",
        "model.add(tf.keras.layers.Dense(512, activation='relu'))\n",
        "model.add(Dropout(0.25))\n",
        "model.add(tf.keras.layers.Dense(46, activation='softmax'))\n",
        "\n",
        "\n",
        "model.compile(optimizer='sgd',loss='categorical_crossentropy',metrics=['accuracy'])\n",
        "model.fit(X_train,y_train,validation_data=(X_test,y_test),batch_size=64,epochs=10)\n",
        "model.evaluate(X_test,y_test)"
      ],
      "execution_count": 12,
      "outputs": [
        {
          "output_type": "stream",
          "text": [
            "Epoch 1/10\n",
            "141/141 [==============================] - 8s 54ms/step - loss: 3.4360 - accuracy: 0.3540 - val_loss: 3.1874 - val_accuracy: 0.3620\n",
            "Epoch 2/10\n",
            "141/141 [==============================] - 7s 52ms/step - loss: 2.4483 - accuracy: 0.4522 - val_loss: 2.5594 - val_accuracy: 0.3620\n",
            "Epoch 3/10\n",
            "141/141 [==============================] - 7s 52ms/step - loss: 2.1507 - accuracy: 0.4851 - val_loss: 2.3215 - val_accuracy: 0.3678\n",
            "Epoch 4/10\n",
            "141/141 [==============================] - 7s 52ms/step - loss: 2.0259 - accuracy: 0.4932 - val_loss: 2.1857 - val_accuracy: 0.3771\n",
            "Epoch 5/10\n",
            "141/141 [==============================] - 7s 51ms/step - loss: 1.9249 - accuracy: 0.5023 - val_loss: 2.0055 - val_accuracy: 0.4630\n",
            "Epoch 6/10\n",
            "141/141 [==============================] - 7s 51ms/step - loss: 1.8447 - accuracy: 0.5143 - val_loss: 2.2537 - val_accuracy: 0.3620\n",
            "Epoch 7/10\n",
            "141/141 [==============================] - 7s 52ms/step - loss: 1.7798 - accuracy: 0.5392 - val_loss: 1.8090 - val_accuracy: 0.5548\n",
            "Epoch 8/10\n",
            "141/141 [==============================] - 7s 52ms/step - loss: 1.7218 - accuracy: 0.5651 - val_loss: 1.8868 - val_accuracy: 0.5187\n",
            "Epoch 9/10\n",
            "141/141 [==============================] - 7s 52ms/step - loss: 1.6823 - accuracy: 0.5731 - val_loss: 1.8654 - val_accuracy: 0.4688\n",
            "Epoch 10/10\n",
            "141/141 [==============================] - 7s 53ms/step - loss: 1.6474 - accuracy: 0.5821 - val_loss: 1.6901 - val_accuracy: 0.5864\n",
            "71/71 [==============================] - 1s 11ms/step - loss: 1.6901 - accuracy: 0.5864\n"
          ],
          "name": "stdout"
        },
        {
          "output_type": "execute_result",
          "data": {
            "text/plain": [
              "[1.690072774887085, 0.5863757729530334]"
            ]
          },
          "metadata": {
            "tags": []
          },
          "execution_count": 12
        }
      ]
    },
    {
      "cell_type": "code",
      "metadata": {
        "id": "614OFM_wWT9l",
        "colab_type": "code",
        "colab": {
          "base_uri": "https://localhost:8080/",
          "height": 406
        },
        "outputId": "7d42a579-5ed1-420b-a3c9-5cc2f182c3b1"
      },
      "source": [
        "(X_train,y_train),(X_test,y_test) = reuters.load_data()\n",
        "\n",
        "tokenizer = Tokenizer(num_words=50000)\n",
        "\n",
        "tokenizer.fit_on_sequences(X_train)\n",
        "\n",
        "X_train = tokenizer.sequences_to_matrix(X_train, mode='tfidf')\n",
        "X_test = tokenizer.sequences_to_matrix(X_test, mode='tfidf')\n",
        " \n",
        "y_train = keras.utils.to_categorical(y_train,num_classes=46)\n",
        "y_test = keras.utils.to_categorical(y_test,num_classes=46)\n",
        " \n",
        "model = Sequential()\n",
        "model.add(tf.keras.layers.Dense(128,input_shape=(X_train[0].shape)))\n",
        "model.add(tf.keras.layers.Dense(512, activation='relu'))\n",
        "model.add(tf.keras.layers.BatchNormalization())\n",
        "model.add(tf.keras.layers.Dense(128, activation='relu'))\n",
        "model.add(tf.keras.layers.Dense(512, activation='relu'))\n",
        "model.add(Dropout(0.25))\n",
        "model.add(tf.keras.layers.Dense(46, activation='softmax'))\n",
        "\n",
        "\n",
        "model.compile(optimizer='sgd',loss='categorical_crossentropy',metrics=['accuracy'])\n",
        "model.fit(X_train,y_train,validation_data=(X_test,y_test),batch_size=64,epochs=10)\n",
        "model.evaluate(X_test,y_test)"
      ],
      "execution_count": 16,
      "outputs": [
        {
          "output_type": "stream",
          "text": [
            "Epoch 1/10\n",
            "141/141 [==============================] - 8s 54ms/step - loss: 1.7217 - accuracy: 0.6155 - val_loss: 2.3798 - val_accuracy: 0.7222\n",
            "Epoch 2/10\n",
            "141/141 [==============================] - 7s 50ms/step - loss: 0.8753 - accuracy: 0.7955 - val_loss: 1.4069 - val_accuracy: 0.7649\n",
            "Epoch 3/10\n",
            "141/141 [==============================] - 7s 50ms/step - loss: 0.5877 - accuracy: 0.8686 - val_loss: 1.0330 - val_accuracy: 0.7792\n",
            "Epoch 4/10\n",
            "141/141 [==============================] - 7s 50ms/step - loss: 0.4273 - accuracy: 0.9048 - val_loss: 0.9459 - val_accuracy: 0.7930\n",
            "Epoch 5/10\n",
            "141/141 [==============================] - 7s 50ms/step - loss: 0.3274 - accuracy: 0.9290 - val_loss: 0.9381 - val_accuracy: 0.7996\n",
            "Epoch 6/10\n",
            "141/141 [==============================] - 7s 50ms/step - loss: 0.2624 - accuracy: 0.9411 - val_loss: 0.9534 - val_accuracy: 0.8032\n",
            "Epoch 7/10\n",
            "141/141 [==============================] - 7s 51ms/step - loss: 0.2252 - accuracy: 0.9446 - val_loss: 0.9355 - val_accuracy: 0.8032\n",
            "Epoch 8/10\n",
            "141/141 [==============================] - 7s 50ms/step - loss: 0.1936 - accuracy: 0.9483 - val_loss: 0.9523 - val_accuracy: 0.8068\n",
            "Epoch 9/10\n",
            "141/141 [==============================] - 7s 50ms/step - loss: 0.1714 - accuracy: 0.9544 - val_loss: 0.9573 - val_accuracy: 0.8041\n",
            "Epoch 10/10\n",
            "141/141 [==============================] - 7s 50ms/step - loss: 0.1581 - accuracy: 0.9536 - val_loss: 0.9738 - val_accuracy: 0.8041\n",
            "71/71 [==============================] - 1s 11ms/step - loss: 0.9738 - accuracy: 0.8041\n"
          ],
          "name": "stdout"
        },
        {
          "output_type": "execute_result",
          "data": {
            "text/plain": [
              "[0.9737550020217896, 0.8040961623191833]"
            ]
          },
          "metadata": {
            "tags": []
          },
          "execution_count": 16
        }
      ]
    },
    {
      "cell_type": "code",
      "metadata": {
        "id": "E3vu8tbfWUAl",
        "colab_type": "code",
        "colab": {}
      },
      "source": [
        ""
      ],
      "execution_count": null,
      "outputs": []
    },
    {
      "cell_type": "code",
      "metadata": {
        "id": "3YIwMA-gWUDi",
        "colab_type": "code",
        "colab": {}
      },
      "source": [
        ""
      ],
      "execution_count": null,
      "outputs": []
    },
    {
      "cell_type": "code",
      "metadata": {
        "id": "SEURYV6XWUGp",
        "colab_type": "code",
        "colab": {}
      },
      "source": [
        ""
      ],
      "execution_count": null,
      "outputs": []
    },
    {
      "cell_type": "code",
      "metadata": {
        "id": "rTcVC4ZsWUJU",
        "colab_type": "code",
        "colab": {}
      },
      "source": [
        ""
      ],
      "execution_count": null,
      "outputs": []
    },
    {
      "cell_type": "code",
      "metadata": {
        "id": "bzDHCvTqWUL6",
        "colab_type": "code",
        "colab": {}
      },
      "source": [
        ""
      ],
      "execution_count": null,
      "outputs": []
    },
    {
      "cell_type": "code",
      "metadata": {
        "id": "NauPRGLbWUOl",
        "colab_type": "code",
        "colab": {}
      },
      "source": [
        ""
      ],
      "execution_count": null,
      "outputs": []
    },
    {
      "cell_type": "code",
      "metadata": {
        "id": "o4c0mvLqVF-T",
        "colab_type": "code",
        "colab": {}
      },
      "source": [
        ""
      ],
      "execution_count": null,
      "outputs": []
    }
  ]
}