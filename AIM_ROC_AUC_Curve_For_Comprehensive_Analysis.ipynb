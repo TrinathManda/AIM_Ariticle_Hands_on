{
  "nbformat": 4,
  "nbformat_minor": 0,
  "metadata": {
    "colab": {
      "name": "AIM_ROC-AUC Curve For Comprehensive Analysis.ipynb",
      "provenance": [],
      "collapsed_sections": []
    },
    "kernelspec": {
      "name": "python3",
      "display_name": "Python 3"
    }
  },
  "cells": [
    {
      "cell_type": "code",
      "metadata": {
        "id": "q1PwzSbg34sq",
        "colab_type": "code",
        "colab": {}
      },
      "source": [
        "#https://analyticsindiamag.com/roc-auc-curve-for-comprehensive-analysis-of-machine-learning-models/"
      ],
      "execution_count": 1,
      "outputs": []
    },
    {
      "cell_type": "code",
      "metadata": {
        "id": "36eUphOA3Qpa",
        "colab_type": "code",
        "colab": {}
      },
      "source": [
        "import pandas as pd\n",
        "import numpy as np\n",
        "from sklearn import svm\n",
        "from sklearn.model_selection import train_test_split\n",
        "from sklearn.linear_model import LogisticRegression\n",
        "from sklearn.ensemble import RandomForestClassifier\n",
        "from sklearn.tree import DecisionTreeClassifier\n",
        "from sklearn.metrics import roc_curve, auc\n"
      ],
      "execution_count": 9,
      "outputs": []
    },
    {
      "cell_type": "code",
      "metadata": {
        "id": "Xafa56B13QsB",
        "colab_type": "code",
        "colab": {
          "base_uri": "https://localhost:8080/",
          "height": 252
        },
        "outputId": "60886fe7-07b2-4733-e20a-ed2014b68ca6"
      },
      "source": [
        "df = pd.read_csv('diabetes.csv')\n",
        "print(df)"
      ],
      "execution_count": 10,
      "outputs": [
        {
          "output_type": "stream",
          "text": [
            "      Pregnancies  Glucose  ...  Age  Outcome\n",
            "0               2      138  ...   47        1\n",
            "1               0       84  ...   23        0\n",
            "2               0      145  ...   31        1\n",
            "3               0      135  ...   24        1\n",
            "4               1      139  ...   21        0\n",
            "...           ...      ...  ...  ...      ...\n",
            "1995            2       75  ...   33        0\n",
            "1996            8      179  ...   36        1\n",
            "1997            6       85  ...   42        0\n",
            "1998            0      129  ...   26        1\n",
            "1999            2       81  ...   25        0\n",
            "\n",
            "[2000 rows x 9 columns]\n"
          ],
          "name": "stdout"
        }
      ]
    },
    {
      "cell_type": "code",
      "metadata": {
        "id": "IEIM5UdP3Quz",
        "colab_type": "code",
        "colab": {}
      },
      "source": [
        "#df.columns\n",
        "df.columns=['Preg', 'Plas', 'Pres', 'skin', 'test', 'mass', 'pedi', 'age', 'class']"
      ],
      "execution_count": 11,
      "outputs": []
    },
    {
      "cell_type": "code",
      "metadata": {
        "id": "LEAX4rcA3Q0A",
        "colab_type": "code",
        "colab": {
          "base_uri": "https://localhost:8080/",
          "height": 190
        },
        "outputId": "ffe4cd20-0624-4ae1-a4d0-5ad42838fb8b"
      },
      "source": [
        "df.head()"
      ],
      "execution_count": 12,
      "outputs": [
        {
          "output_type": "execute_result",
          "data": {
            "text/html": [
              "<div>\n",
              "<style scoped>\n",
              "    .dataframe tbody tr th:only-of-type {\n",
              "        vertical-align: middle;\n",
              "    }\n",
              "\n",
              "    .dataframe tbody tr th {\n",
              "        vertical-align: top;\n",
              "    }\n",
              "\n",
              "    .dataframe thead th {\n",
              "        text-align: right;\n",
              "    }\n",
              "</style>\n",
              "<table border=\"1\" class=\"dataframe\">\n",
              "  <thead>\n",
              "    <tr style=\"text-align: right;\">\n",
              "      <th></th>\n",
              "      <th>Preg</th>\n",
              "      <th>Plas</th>\n",
              "      <th>Pres</th>\n",
              "      <th>skin</th>\n",
              "      <th>test</th>\n",
              "      <th>mass</th>\n",
              "      <th>pedi</th>\n",
              "      <th>age</th>\n",
              "      <th>class</th>\n",
              "    </tr>\n",
              "  </thead>\n",
              "  <tbody>\n",
              "    <tr>\n",
              "      <th>0</th>\n",
              "      <td>2</td>\n",
              "      <td>138</td>\n",
              "      <td>62</td>\n",
              "      <td>35</td>\n",
              "      <td>0</td>\n",
              "      <td>33.6</td>\n",
              "      <td>0.127</td>\n",
              "      <td>47</td>\n",
              "      <td>1</td>\n",
              "    </tr>\n",
              "    <tr>\n",
              "      <th>1</th>\n",
              "      <td>0</td>\n",
              "      <td>84</td>\n",
              "      <td>82</td>\n",
              "      <td>31</td>\n",
              "      <td>125</td>\n",
              "      <td>38.2</td>\n",
              "      <td>0.233</td>\n",
              "      <td>23</td>\n",
              "      <td>0</td>\n",
              "    </tr>\n",
              "    <tr>\n",
              "      <th>2</th>\n",
              "      <td>0</td>\n",
              "      <td>145</td>\n",
              "      <td>0</td>\n",
              "      <td>0</td>\n",
              "      <td>0</td>\n",
              "      <td>44.2</td>\n",
              "      <td>0.630</td>\n",
              "      <td>31</td>\n",
              "      <td>1</td>\n",
              "    </tr>\n",
              "    <tr>\n",
              "      <th>3</th>\n",
              "      <td>0</td>\n",
              "      <td>135</td>\n",
              "      <td>68</td>\n",
              "      <td>42</td>\n",
              "      <td>250</td>\n",
              "      <td>42.3</td>\n",
              "      <td>0.365</td>\n",
              "      <td>24</td>\n",
              "      <td>1</td>\n",
              "    </tr>\n",
              "    <tr>\n",
              "      <th>4</th>\n",
              "      <td>1</td>\n",
              "      <td>139</td>\n",
              "      <td>62</td>\n",
              "      <td>41</td>\n",
              "      <td>480</td>\n",
              "      <td>40.7</td>\n",
              "      <td>0.536</td>\n",
              "      <td>21</td>\n",
              "      <td>0</td>\n",
              "    </tr>\n",
              "  </tbody>\n",
              "</table>\n",
              "</div>"
            ],
            "text/plain": [
              "   Preg  Plas  Pres  skin  test  mass   pedi  age  class\n",
              "0     2   138    62    35     0  33.6  0.127   47      1\n",
              "1     0    84    82    31   125  38.2  0.233   23      0\n",
              "2     0   145     0     0     0  44.2  0.630   31      1\n",
              "3     0   135    68    42   250  42.3  0.365   24      1\n",
              "4     1   139    62    41   480  40.7  0.536   21      0"
            ]
          },
          "metadata": {
            "tags": []
          },
          "execution_count": 12
        }
      ]
    },
    {
      "cell_type": "code",
      "metadata": {
        "id": "60FllFEG3Q2w",
        "colab_type": "code",
        "colab": {}
      },
      "source": [
        "X = df.values[:,0:8]\n",
        "Y = df.values[:,8]\n",
        "X_train, X_test, y_train, y_test = train_test_split(X, Y, test_size=0.50, random_state=1)"
      ],
      "execution_count": 13,
      "outputs": []
    },
    {
      "cell_type": "code",
      "metadata": {
        "id": "FdyK44O33Q5R",
        "colab_type": "code",
        "colab": {}
      },
      "source": [
        "clf1 = LogisticRegression()\n",
        "clf2 = svm.SVC(kernel='linear', probability=True)\n",
        "clf3 = RandomForestClassifier()\n",
        "clf4 = DecisionTreeClassifier()"
      ],
      "execution_count": 14,
      "outputs": []
    },
    {
      "cell_type": "code",
      "metadata": {
        "id": "izozf-HY3Q72",
        "colab_type": "code",
        "colab": {
          "base_uri": "https://localhost:8080/",
          "height": 151
        },
        "outputId": "8191a86d-487c-458c-a036-cd724db4fbde"
      },
      "source": [
        "probas_1 = clf1.fit(X_train,y_train).predict_proba(X_test)\n",
        "probas_2 = clf2.fit(X_train,y_train).predict_proba(X_test)\n",
        "probas_3 = clf3.fit(X_train,y_train).predict_proba(X_test)\n",
        "probas_4 = clf4.fit(X_train,y_train).predict_proba(X_test)"
      ],
      "execution_count": 16,
      "outputs": [
        {
          "output_type": "stream",
          "text": [
            "/usr/local/lib/python3.6/dist-packages/sklearn/linear_model/_logistic.py:940: ConvergenceWarning: lbfgs failed to converge (status=1):\n",
            "STOP: TOTAL NO. of ITERATIONS REACHED LIMIT.\n",
            "\n",
            "Increase the number of iterations (max_iter) or scale the data as shown in:\n",
            "    https://scikit-learn.org/stable/modules/preprocessing.html\n",
            "Please also refer to the documentation for alternative solver options:\n",
            "    https://scikit-learn.org/stable/modules/linear_model.html#logistic-regression\n",
            "  extra_warning_msg=_LOGISTIC_SOLVER_CONVERGENCE_MSG)\n"
          ],
          "name": "stderr"
        }
      ]
    },
    {
      "cell_type": "code",
      "metadata": {
        "id": "jS1Qxnin5z3E",
        "colab_type": "code",
        "colab": {
          "base_uri": "https://localhost:8080/",
          "height": 134
        },
        "outputId": "5edb8d58-c431-453a-87a7-ef5d8e1e0597"
      },
      "source": [
        "probas_1"
      ],
      "execution_count": 17,
      "outputs": [
        {
          "output_type": "execute_result",
          "data": {
            "text/plain": [
              "array([[0.69854241, 0.30145759],\n",
              "       [0.23357812, 0.76642188],\n",
              "       [0.85677654, 0.14322346],\n",
              "       ...,\n",
              "       [0.9022557 , 0.0977443 ],\n",
              "       [0.91052095, 0.08947905],\n",
              "       [0.9456594 , 0.0543406 ]])"
            ]
          },
          "metadata": {
            "tags": []
          },
          "execution_count": 17
        }
      ]
    },
    {
      "cell_type": "code",
      "metadata": {
        "id": "QCbF49fu3Q-M",
        "colab_type": "code",
        "colab": {
          "base_uri": "https://localhost:8080/",
          "height": 84
        },
        "outputId": "ad69651a-f69e-4079-9390-c11e22e7c2de"
      },
      "source": [
        "fp1, tp1, thresholds1 = roc_curve(y_test, probas_1[:, 1])\n",
        "roc_auc_model1 = auc(fp1, tp1)\n",
        "\n",
        "fp2, tp2, thresholds2 = roc_curve(y_test, probas_2[:, 1])\n",
        "roc_auc_model2 = auc(fp2, tp2)\n",
        "\n",
        "fp3, tp3, thresholds3 = roc_curve(y_test, probas_3[:, 1])\n",
        "roc_auc_model3 = auc(fp3, tp3)\n",
        "\n",
        "fp4, tp4, thresholds4 = roc_curve(y_test, probas_4[:, 1])\n",
        "roc_auc_model4 = auc(fp4, tp4)\n",
        "\n",
        "print(\"AUC for Logistic Regression Model : \",roc_auc_model1)\n",
        "print(\"AUC for SVM Model:\", roc_auc_model2)\n",
        "print(\"AUC for Random Forest Model :\" ,roc_auc_model3)\n",
        "print(\"AUC for Decision Tree model :\", roc_auc_model4)"
      ],
      "execution_count": 19,
      "outputs": [
        {
          "output_type": "stream",
          "text": [
            "AUC for Logistic Regression Model :  0.8297607952780367\n",
            "AUC for SVM Model: 0.8248668458563511\n",
            "AUC for Random Forest Model : 0.9655847751799777\n",
            "AUC for Decision Tree model : 0.8746977862420141\n"
          ],
          "name": "stdout"
        }
      ]
    },
    {
      "cell_type": "code",
      "metadata": {
        "id": "-f5ice0v3RAo",
        "colab_type": "code",
        "colab": {
          "base_uri": "https://localhost:8080/",
          "height": 295
        },
        "outputId": "806c9254-13e9-490d-c170-624846b4b624"
      },
      "source": [
        "import matplotlib.pyplot as pl\n",
        "pl.clf()\n",
        "pl.plot(fp1, tp1, label='Logistic Model (area = %0.2f)' % roc_auc_model1)\n",
        "pl.plot(fp2, tp2, label='SVC Model (area = %0.2f)' % roc_auc_model2)\n",
        "pl.plot(fp3, tp3, label='Random Forest Model (area = %0.2f)' % roc_auc_model3)\n",
        "pl.plot(fp4, tp4, label='Decision Tree Model (area = %0.2f)' % roc_auc_model4)\n",
        "pl.plot([0, 1], [0, 1], 'k--')\n",
        "pl.xlim([0.0, 1.0])\n",
        "pl.ylim([0.0, 1.0])\n",
        "pl.xlabel('False Positive Rate')\n",
        "pl.ylabel('True Positive Rate')\n",
        "pl.title('Receiverrating characteristic example')\n",
        "pl.legend(loc=\"lower right\")\n",
        "pl.show()"
      ],
      "execution_count": 23,
      "outputs": [
        {
          "output_type": "display_data",
          "data": {
            "image/png": "[encoded data removed]",
            "text/plain": [
              "<Figure size 432x288 with 1 Axes>"
            ]
          },
          "metadata": {
            "tags": [],
            "needs_background": "light"
          }
        }
      ]
    },
    {
      "cell_type": "code",
      "metadata": {
        "id": "5u_AqlDbCguP",
        "colab_type": "code",
        "colab": {}
      },
      "source": [
        ""
      ],
      "execution_count": null,
      "outputs": []
    }
  ]
}